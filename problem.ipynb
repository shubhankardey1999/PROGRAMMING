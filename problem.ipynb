{
  "nbformat": 4,
  "nbformat_minor": 0,
  "metadata": {
    "colab": {
      "name": "problem.ipynb",
      "provenance": [],
      "authorship_tag": "ABX9TyM2O3v/lOBsSGDoB7zZf6qm",
      "include_colab_link": true
    },
    "kernelspec": {
      "name": "python3",
      "display_name": "Python 3"
    },
    "language_info": {
      "name": "python"
    }
  },
  "cells": [
    {
      "cell_type": "markdown",
      "metadata": {
        "id": "view-in-github",
        "colab_type": "text"
      },
      "source": [
        "<a href=\"https://colab.research.google.com/github/shubhankardey1999/PROGRAMMING/blob/main/problem.ipynb\" target=\"_parent\"><img src=\"https://colab.research.google.com/assets/colab-badge.svg\" alt=\"Open In Colab\"/></a>"
      ]
    },
    {
      "cell_type": "markdown",
      "metadata": {
        "id": "_QJjAsrxbhnQ"
      },
      "source": [
        "##PROBLEM 1: Create a dictionary and take input from the user and return the meaning of the word from the dictionary  (MIN 4 WORD)"
      ]
    },
    {
      "cell_type": "code",
      "metadata": {
        "id": "0TZvZm0obg_J"
      },
      "source": [
        "d1={\"A\":\"a\",\"B\":\"b\",\"C\":\"3\",\"D\":\"4\",\"E\":\"5\",\"F\":\"6\",\"G\":\"7\",\"H\":\"8\",\"I\":\"9\",\"J\":\"10\"}\n",
        "n=input(\"ENTER THE WORD \")\n",
        "print(\"THE MEANING OF THE WORD IS :\", d1.get(n))\n"
      ],
      "execution_count": null,
      "outputs": []
    },
    {
      "cell_type": "markdown",
      "metadata": {
        "id": "quVM4mVZc15m"
      },
      "source": [
        "##PROBLEM : Design a calculator which will correctly solve all the problems except the following ones: 45 * 3 = 555, 56+9 = 77, 56/6 = 4 . Your program should take operator and the two numbers as input from the user and then return the result"
      ]
    },
    {
      "cell_type": "code",
      "metadata": {
        "id": "M5h4TybYc2bP",
        "colab": {
          "base_uri": "https://localhost:8080/"
        },
        "outputId": "e2412406-3499-4f21-e367-c5d2bae7bdf1"
      },
      "source": [
        "print(\"\\t\\tWELCOME TO CALCULATOR. THIS IS DEVELOPED BY SHUBHANKAR DEY\")\n",
        "a=int(input(\"\\t\\tENTER THE FIRST NUMBER :\"))\n",
        "b=int(input(\"\\t\\tENTER THE SECOND NUMBER :\"))\n",
        "c=input(\"\\n\\t\\tENTER THE OPERATOR(*,/,+,-)\")\n",
        "if c==\"*\":\n",
        "  if (a==45 and b==3) or (a==3 and b==45):\n",
        "    print(\"the multiplication is: 555\")\n",
        "  else:\n",
        "    print(\"the multiplication is: \",a*b)\n",
        "elif c==\"+\":\n",
        "  if (a==56 and b==9) or (a==9 and b==56):\n",
        "    print(\"the sum is: 77\")\n",
        "  else:\n",
        "    print(\"the sum is: \",a+b)\n",
        "elif c==\"/\":\n",
        "  if (a==56 and b==6):\n",
        "    print(\"the division is: 4\")\n",
        "  else:\n",
        "    print(\"the division is: \",a/b)\n",
        "else:\n",
        "  print(\"the substraction is: \",a-b)"
      ],
      "execution_count": 5,
      "outputs": [
        {
          "output_type": "stream",
          "name": "stdout",
          "text": [
            "\t\tWELCOME TO CALCULATOR. THIS IS DEVELOPED BY SHUBHANKAR DEY\n",
            "\t\tENTER THE FIRST NUMBER :12\n",
            "\t\tENTER THE SECOND NUMBER :30\n",
            "\n",
            "\t\tENTER THE OPERATOR(*,/,+,-)+\n",
            "the sum is:  42\n"
          ]
        }
      ]
    },
    {
      "cell_type": "markdown",
      "metadata": {
        "id": "y8tyGo4h8DpA"
      },
      "source": [
        "##Write a program to build a calculator. Following requirements have to be taken care of\n",
        "1. The calculator should support basic operations\n",
        "like:\n",
        "\n",
        "  a) Add b) Sub c) Mul d) Div\n",
        "2. The calculator should support the Scientific\n",
        "operations like:\n",
        "\n",
        "  a) Square root b) cube root c) Mod d) Power/exp\n",
        "\n",
        "3. The calculator should support operations for\n",
        "programmers like:\n",
        "  a) Binary to decimal conversion b) Decimal to Binary conversion\n"
      ]
    },
    {
      "cell_type": "code",
      "metadata": {
        "colab": {
          "base_uri": "https://localhost:8080/"
        },
        "id": "IEd8BpFR8EQP",
        "outputId": "ed406ce0-b6e5-4ee5-fce2-1ea9c36fffc0"
      },
      "source": [
        "print(\"\\t\\tWELCOME TO CALCULATOR. THIS IS DEVELOPED BY SHUBHANKAR DEY\")\n",
        "X=int(input(\"If you want to calculate add,sub,div,mul,mod then press 1\\nIf you want to convet decimal to binary then press 2\\nIf you want to convert binery to decimal then press 3\\nIf you want to calculate power then press 4:\\n\\t\\t \"))\n",
        "if X==1:\n",
        "  a=int(input(\"\\t\\tENTER THE FIRST NUMBER :\"))\n",
        "  b=int(input(\"\\t\\tENTER THE SECOND NUMBER :\"))\n",
        "  c=input(\"\\n\\t\\tENTER THE OPERATOR(*,/,+,-,%,^): \")\n",
        "  if c==\"*\":\n",
        "    print(\"the multiplication is: \",a*b)\n",
        "  elif c==\"+\":\n",
        "    print(\"the sum is: \",a+b)\n",
        "  elif c==\"/\":\n",
        "    print(\"the division is: \",a/b)\n",
        "  elif c==\"-\":\n",
        "    print(\"the substraction is: \",a-b)\n",
        "  elif c==\"%\":\n",
        "    print(\"the modulo is: \",a%b)\n",
        "\n",
        "elif X==2:\n",
        "  def dec2bin():\n",
        "    n=int(input(\"ENYER THE NUMBER TO CONVERT :\"))\n",
        "    p=1\n",
        "    r=0\n",
        "    while n>0:\n",
        "      r +=(n%2)*p\n",
        "      n=int(n/2)\n",
        "      p=p*10\n",
        "    print(\"BINARY NO. :\",r)\n",
        "  dec2bin()\n",
        "elif X==3:\n",
        "  def bin2dec():\n",
        "    n=int(input(\"ENYER THE NUMBER TO CONVERT :\"))\n",
        "    p=O\n",
        "    r=0\n",
        "    while n>0:\n",
        "      r +=(n%10)*(2**p)\n",
        "      p=p+1\n",
        "      n=int(n/10)\n",
        "    print(\"DECIMAL NO. :\",r)\n",
        "  bin2dec()\n",
        "elif X==4:\n",
        "  a=int(input(\"\\t\\tENTER THE NUMBER :\"))\n",
        "  b=int(input(\"\\t\\tENTER THE POWER :\"))\n",
        "  #c=input(\"\\n\\t\\tENTER THE OPERATOR(^): \")\n",
        "  #if c==\"^\":\n",
        "  print(a,\"to the power\",b,\"is: \",a**b)"
      ],
      "execution_count": 4,
      "outputs": [
        {
          "output_type": "stream",
          "name": "stdout",
          "text": [
            "\t\tWELCOME TO CALCULATOR. THIS IS DEVELOPED BY SHUBHANKAR DEY\n",
            "If you want to calculate add,sub,div,mul,mod then press 1\n",
            "If you want to convet decimal to binary then press 2\n",
            "If you want to convert binery to decimal then press 3\n",
            "If you want to calculate power then press 4:\n",
            "\t\t 4\n",
            "\t\tENTER THE NUMBER :2\n",
            "\t\tENTER THE POWER :5\n",
            "2 to the power 5 is:  32\n"
          ]
        }
      ]
    },
    {
      "cell_type": "markdown",
      "metadata": {
        "id": "eHpOLiLbx4bH"
      },
      "source": [
        "##GAME: GUESS A NUMBER"
      ]
    },
    {
      "cell_type": "code",
      "metadata": {
        "id": "85dAIeNpuVR1",
        "colab": {
          "base_uri": "https://localhost:8080/"
        },
        "outputId": "e3ef4003-fdd7-4db4-8844-a9cd2bf55713"
      },
      "source": [
        "print(\"\\t\\t\\t\\t HELLO, WELCOME TO THE GAME\\tDEVELOPED BY SHUBHANKAR DEY\\n\")\n",
        "X=input(\"\\t\\t\\t\\tENTER YOUR NAME \")\n",
        "print (\"\\t\\t (HI\",X,\", NUMBER TO GUESS IS LIMITED ITS ONLY 4 TIMES)\\n\")\n",
        "n=1\n",
        "while(n<=4):\n",
        "  a=int(input(\"Guess a number upto 50 : \"))\n",
        "  if a>13:\n",
        "    print(\"\\t\\t\\tOOPS! This is a too large!!\\nplease try again!!\\n\")\n",
        "  elif a<13:\n",
        "    print(\"\\t\\t\\tOOPS! This is a too small!!\\nplease try again!!\\n\")\n",
        "  else:\n",
        "    print(\"\\n\\t \\t CONGRATULATION!!\",X,\"YOU WON THE GAME\")\n",
        "    break\n",
        "  print(\"Only \",4-n,\" chance left\")\n",
        "\n",
        "  n=n+1\n",
        "if n>4:\n",
        "  print(\"\\t\\t\\tGAME OVER!! \\n\\t\\tBETTER LUCK NEXT TIME!!!\")"
      ],
      "execution_count": null,
      "outputs": [
        {
          "output_type": "stream",
          "name": "stdout",
          "text": [
            "\t\t\t\t HELLO, WELCOME TO THE GAME\tDEVELOPED BY SHUBHANKAR DEY\n",
            "\n",
            "\t\t\t\tENTER YOUR NAME swarnali\n",
            "\t\t (HI swarnali , NUMBER TO GUESS IS LIMITED ITS ONLY 4 TIMES)\n",
            "\n",
            "Guess a number upto 50 : 25\n",
            "\t\t\tOOPS! This is a too large!!\n",
            "please try again!!\n",
            "\n",
            "Only  3  chance left\n",
            "Guess a number upto 50 : 22\n",
            "\t\t\tOOPS! This is a too large!!\n",
            "please try again!!\n",
            "\n",
            "Only  2  chance left\n",
            "Guess a number upto 50 : 31\n",
            "\t\t\tOOPS! This is a too large!!\n",
            "please try again!!\n",
            "\n",
            "Only  1  chance left\n",
            "Guess a number upto 50 : 50\n",
            "\t\t\tOOPS! This is a too large!!\n",
            "please try again!!\n",
            "\n",
            "Only  0  chance left\n",
            "\t\t\tGAME OVER!! \n",
            "\t\tBETTER LUCK NEXT TIME!!!\n"
          ]
        }
      ]
    }
  ]
}