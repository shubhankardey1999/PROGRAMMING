{
  "nbformat": 4,
  "nbformat_minor": 0,
  "metadata": {
    "colab": {
      "name": "2 PYTHON PROGGRAMING &  OOPS .ipynb",
      "provenance": [],
      "collapsed_sections": [
        "yP2FBJ49PsNy",
        "vIpWa5eTjn3Q",
        "UIL0vcK9X4RV",
        "hVT2B9A_jEsx"
      ],
      "authorship_tag": "ABX9TyNMhOTQHOKP6GTHZK4k5dSA",
      "include_colab_link": true
    },
    "kernelspec": {
      "display_name": "Python 3",
      "name": "python3"
    },
    "language_info": {
      "name": "python"
    }
  },
  "cells": [
    {
      "cell_type": "markdown",
      "metadata": {
        "id": "view-in-github",
        "colab_type": "text"
      },
      "source": [
        "<a href=\"https://colab.research.google.com/github/shubhankardey1999/PROGRAMMING/blob/main/2_PYTHON_PROGGRAMING_%26_OOPS_.ipynb\" target=\"_parent\"><img src=\"https://colab.research.google.com/assets/colab-badge.svg\" alt=\"Open In Colab\"/></a>"
      ]
    },
    {
      "cell_type": "markdown",
      "metadata": {
        "id": "Eap7YgEipQFx"
      },
      "source": [
        "##SCOPE, GLOBAL VARIABLES AND GLOBAL KEYWORD"
      ]
    },
    {
      "cell_type": "code",
      "metadata": {
        "colab": {
          "base_uri": "https://localhost:8080/"
        },
        "id": "W1DL3Stbo54x",
        "outputId": "36ec033d-8388-49f2-c585-558058096cba"
      },
      "source": [
        "l=10              # global\n",
        "def f(n):\n",
        "  global l        # global keyword. can change the global \n",
        "  #l=5            # local\n",
        "  m=8\n",
        "  l=l+50\n",
        "  print(l,m)\n",
        "  print(n,\"I have printed\")\n",
        "\n",
        "f(\"this is me\")\n",
        "print(\"\\n\")\n",
        "\n",
        "def harry():\n",
        "  x=20\n",
        "  def rohan():\n",
        "    global x\n",
        "    x=80\n",
        "  print(\"before calling rohan\", x)\n",
        "  rohan()\n",
        "  print(\"after calling rohan\", x)\n",
        "harry()\n",
        "print(x)"
      ],
      "execution_count": null,
      "outputs": [
        {
          "output_type": "stream",
          "name": "stdout",
          "text": [
            "60 8\n",
            "this is me I have printed\n",
            "\n",
            "\n",
            "before calling rohan 20\n",
            "after calling rohan 20\n",
            "80\n"
          ]
        }
      ]
    },
    {
      "cell_type": "markdown",
      "metadata": {
        "id": "UR-zAXpHxm-F"
      },
      "source": [
        "##Recursions: Recursive Vs Iterative Approach\n"
      ]
    },
    {
      "cell_type": "markdown",
      "metadata": {
        "id": "TtGDe8ZR5omz"
      },
      "source": [
        "FACTORIAL"
      ]
    },
    {
      "cell_type": "code",
      "metadata": {
        "colab": {
          "base_uri": "https://localhost:8080/"
        },
        "id": "f_FlkcSGxlqd",
        "outputId": "ba655e8f-d4ad-4967-a015-4184c342cab3"
      },
      "source": [
        "# FACTORIAL ITERATIVE\n",
        "def f_iterative(n):\n",
        "  fac=1\n",
        "  for i in range (n):\n",
        "    fac=fac*(i+1)\n",
        "  return fac\n",
        "\n",
        "number=int(input(\"enter the no. \"))\n",
        "print(\"factorial using iterative method \",f_iterative(number))\n",
        "\n",
        "#FACTORIAL RECURSIVE\n",
        "def f_recursion(n):\n",
        "  if n==1 or n==0:\n",
        "    return 1\n",
        "  else:\n",
        "    return n * f_recursion(n-1)\n",
        "number=int(input(\"enter the no. \"))\n",
        "print(\"factorial using recursive method \",f_recursion(number))"
      ],
      "execution_count": null,
      "outputs": [
        {
          "output_type": "stream",
          "name": "stdout",
          "text": [
            "enter the no. 5\n",
            "factorial using iterative method  120\n",
            "enter the no. 4\n",
            "factorial using recursive method  24\n"
          ]
        }
      ]
    },
    {
      "cell_type": "markdown",
      "metadata": {
        "id": "7VPUCFyP5wFK"
      },
      "source": [
        "FIBONACCI SERIES"
      ]
    },
    {
      "cell_type": "code",
      "metadata": {
        "colab": {
          "base_uri": "https://localhost:8080/"
        },
        "id": "mWMfxsD15w6S",
        "outputId": "869824bb-1e37-4396-d669-a3bf5f3f8abc"
      },
      "source": [
        "def f(n):\n",
        "  if n==0:\n",
        "    return 0\n",
        "  elif n==1:\n",
        "    return 1\n",
        "  else:\n",
        "    return f(n-2) + f(n-1)\n",
        "number=int(input(\"enter the no. of terms \"))\n",
        "print(\"the fibonacci series is \")\n",
        "for i in range (number):\n",
        "  print(f(i))"
      ],
      "execution_count": null,
      "outputs": [
        {
          "output_type": "stream",
          "name": "stdout",
          "text": [
            "enter the no. of terms 5\n",
            "the fibonacci series is \n",
            "0\n",
            "1\n",
            "1\n",
            "2\n",
            "3\n"
          ]
        }
      ]
    },
    {
      "cell_type": "markdown",
      "metadata": {
        "id": "K5EVcNu-IUNC"
      },
      "source": [
        "##Anonymous/Lambda Function"
      ]
    },
    {
      "cell_type": "code",
      "metadata": {
        "colab": {
          "base_uri": "https://localhost:8080/"
        },
        "id": "5GW697BTIUxA",
        "outputId": "335dbe0b-9092-4879-c6af-46ff8abd68f8"
      },
      "source": [
        "minus = lambda x,y: x-y\n",
        "        #   BOTH ARE SAME\n",
        "def minus(x,y):\n",
        "  return x-y\n",
        "\n",
        "print(minus(9,4))"
      ],
      "execution_count": null,
      "outputs": [
        {
          "output_type": "stream",
          "name": "stdout",
          "text": [
            "5\n"
          ]
        }
      ]
    },
    {
      "cell_type": "code",
      "metadata": {
        "colab": {
          "base_uri": "https://localhost:8080/"
        },
        "id": "ytLSfsiiM2-_",
        "outputId": "0b4f5f7d-826c-497b-b668-d26fe46b4d56"
      },
      "source": [
        "def f(a):\n",
        "  return a[1]\n",
        "a=[[10,5], [2,3],[50,7]]\n",
        "a.sort(key=f)\n",
        "print(a)\n",
        "\n",
        "      # OR\n",
        "a=[[10,5], [2,3],[50,7]]\n",
        "a.sort(key=lambda a:a[1])\n",
        "print(a)"
      ],
      "execution_count": null,
      "outputs": [
        {
          "output_type": "stream",
          "name": "stdout",
          "text": [
            "[[2, 3], [10, 5], [50, 7]]\n",
            "[[2, 3], [10, 5], [50, 7]]\n"
          ]
        }
      ]
    },
    {
      "cell_type": "markdown",
      "metadata": {
        "id": "K4hYAnLRSILb"
      },
      "source": [
        "##External & Built in Modules"
      ]
    },
    {
      "cell_type": "code",
      "metadata": {
        "colab": {
          "base_uri": "https://localhost:8080/"
        },
        "id": "Ac62yr5NJwFs",
        "outputId": "d27f7697-cf8c-4904-91f6-14ca82818b07"
      },
      "source": [
        "import random\n",
        "random_number = random.randint(0,5)         # choose randon any number\n",
        "print(random_number)\n",
        "\n",
        "rand = random.random() * 1000\n",
        "print(rand)\n",
        "\n",
        "lst = [\"A\" , \"B\" , \"C\" , \"D\"]\n",
        "c = random.choice(lst)\n",
        "print(c)"
      ],
      "execution_count": null,
      "outputs": [
        {
          "output_type": "stream",
          "name": "stdout",
          "text": [
            "3\n",
            "496.34170073732207\n",
            "A\n"
          ]
        }
      ]
    },
    {
      "cell_type": "markdown",
      "metadata": {
        "id": "BI0Oi0KnU3Bq"
      },
      "source": [
        "##F-String & String Formatting"
      ]
    },
    {
      "cell_type": "code",
      "metadata": {
        "colab": {
          "base_uri": "https://localhost:8080/"
        },
        "id": "LiC0SlFGJwCV",
        "outputId": "9624463b-6a6e-42bf-d92c-d912a47407f7"
      },
      "source": [
        "# F strings\n",
        "me = \"Shubhankar\"\n",
        "a = \"This is %s\"%me\n",
        "print (a)\n",
        "\n",
        "me = \"Shubhankar\"\n",
        "a1 = 10\n",
        "a = \"This is %s  %s\" %(me, a1)\n",
        "print (a)\n",
        "\n",
        "me = \"Shubhankar\"\n",
        "a1 = 10\n",
        "a = \"This is {} {}\"       # blank means 0,1.  We can write 1,0\n",
        "b = a.format(me,a1)\n",
        "print (b)\n",
        "\n",
        "# F string concept\n",
        "import math\n",
        "me = \"Shubhankar\"\n",
        "a1 = 10\n",
        "a = f\"this is {me} {a1} {3*10} {math.cos(60)}\"\n",
        "print(a)"
      ],
      "execution_count": null,
      "outputs": [
        {
          "output_type": "stream",
          "name": "stdout",
          "text": [
            "This is Shubhankar\n",
            "This is Shubhankar  10\n",
            "This is Shubhankar 10\n",
            "this is Shubhankar 10 30 -0.9524129804151563\n"
          ]
        }
      ]
    },
    {
      "cell_type": "markdown",
      "metadata": {
        "id": "vonVGiQwbqso"
      },
      "source": [
        "##***args and *Kwargs in python**"
      ]
    },
    {
      "cell_type": "code",
      "metadata": {
        "colab": {
          "base_uri": "https://localhost:8080/"
        },
        "id": "jJq3GcedJv90",
        "outputId": "2754904f-aac6-44c4-c7e3-42b95b0454fd"
      },
      "source": [
        "# *args\n",
        "def function_name_print(a,b,c,d):       # ALWAYS NOT POSSIBLE\n",
        "  print(a,b,c,d)\n",
        "function_name_print(\"A\",\"B\",\"C\",\"D\")\n",
        "\n",
        "def function_name_print(*args):\n",
        "  print(args[3])\n",
        "suvo = (\"A\",\"B\",\"C\",\"D\")           # we can use [], replace of (). its a tuple\n",
        "function_name_print(*suvo)\n",
        "        \n",
        "def function_name_print(normal, *args):\n",
        "  print(normal)\n",
        "  for item in args:\n",
        "    print(item)\n",
        "suvo = (\"1\",\"2\",\"C\",\"D\")         \n",
        "normal = \"this is a normal\"\n",
        "function_name_print(normal,*suvo)\n",
        "print(\"\\n\")\n",
        "\n",
        "# Kwargs\n",
        "def function_name_print(normal,**kwargs):\n",
        "  print(normal)\n",
        "  for item in kwargs:\n",
        "    print(item)\n",
        "  print(\"\\nNow i am indroduce some of our heroes :\")\n",
        "  for key,value in kwargs.items():\n",
        "    print(f\"{key} is a {value}\")\n",
        "#suvo = (\"1\",\"2\",\"C\",\"D\")         \n",
        "normal = \"this is a normal\"\n",
        "kw = {\"shubhankar\":\"mutton\",\"swarnali\":\"chicken\",\"anjali\":\"egg\",\"keshab\":\"fish\"}\n",
        "function_name_print(normal,**kw)"
      ],
      "execution_count": null,
      "outputs": [
        {
          "output_type": "stream",
          "name": "stdout",
          "text": [
            "A B C D\n",
            "D\n",
            "this is a normal\n",
            "1\n",
            "2\n",
            "C\n",
            "D\n",
            "\n",
            "\n",
            "this is a normal\n",
            "shubhankar\n",
            "swarnali\n",
            "anjali\n",
            "keshab\n",
            "\n",
            "Now i am indroduce some of our heroes :\n",
            "shubhankar is a mutton\n",
            "swarnali is a chicken\n",
            "anjali is a egg\n",
            "keshab is a fish\n"
          ]
        }
      ]
    },
    {
      "cell_type": "markdown",
      "metadata": {
        "id": "0xgZHH4Z77_W"
      },
      "source": [
        "##Time module"
      ]
    },
    {
      "cell_type": "code",
      "metadata": {
        "colab": {
          "base_uri": "https://localhost:8080/"
        },
        "id": "2HDqiLEcJv1o",
        "outputId": "202681c7-2af9-4900-f47a-c7ace1849682"
      },
      "source": [
        "import time\n",
        "\n",
        "initial = time.time()\n",
        "k = 0\n",
        "while(k<5):\n",
        "  time.sleep(2)           # it print after 2 min\n",
        "  print(\"this is shubhankar\")\n",
        "  k+=1\n",
        "print(\"while loop run in\",time.time() - initial,\"seconds\")\n",
        "\n",
        "initial2 = time.time()\n",
        "for i in range (5):\n",
        "  print(\"this is shubhankar\")\n",
        "print(\"for loop run in\",time.time() - initial2,\"seconds\")\n",
        "\n",
        "localtime = time.asctime(time.localtime(time.time())) # print time\n",
        "print(localtime)"
      ],
      "execution_count": null,
      "outputs": [
        {
          "output_type": "stream",
          "name": "stdout",
          "text": [
            "this is shubhankar\n",
            "this is shubhankar\n",
            "this is shubhankar\n",
            "this is shubhankar\n",
            "this is shubhankar\n",
            "while loop run in 10.011647939682007 seconds\n",
            "this is shubhankar\n",
            "this is shubhankar\n",
            "this is shubhankar\n",
            "this is shubhankar\n",
            "this is shubhankar\n",
            "for loop run in 0.00020742416381835938 seconds\n",
            "Wed Oct 13 12:20:52 2021\n"
          ]
        }
      ]
    },
    {
      "cell_type": "markdown",
      "metadata": {
        "id": "1-cdGMB0FXqR"
      },
      "source": [
        "##Virtual Environment & Requirement.txt"
      ]
    },
    {
      "cell_type": "code",
      "metadata": {
        "id": "Pdpf--XAJvwV"
      },
      "source": [
        ""
      ],
      "execution_count": null,
      "outputs": []
    },
    {
      "cell_type": "markdown",
      "metadata": {
        "id": "ArubcfuTIuTE"
      },
      "source": [
        "##Enumerate function"
      ]
    },
    {
      "cell_type": "code",
      "metadata": {
        "colab": {
          "base_uri": "https://localhost:8080/"
        },
        "id": "69oXf7saJvoE",
        "outputId": "3d9df9ee-0ae7-4275-8773-99ad4b23738c"
      },
      "source": [
        "l1 = [\"shubhankar\",\"swarnali\",\"anjali\",\"keshab\"]\n",
        "i = 0\n",
        "for item in l1:\n",
        "  if i%2 is not 0:\n",
        "    print(f\"My name is :{item}\")\n",
        "  i +=1\n",
        "# OR\n",
        "l1 = [\"shubhankar\",\"swarnali\",\"anjali\",\"keshab\"]\n",
        "for index, item in enumerate(l1):     # index always start 0\n",
        "  if index % 2 == 0:\n",
        "    print(f\"My name is :{item}\")"
      ],
      "execution_count": null,
      "outputs": [
        {
          "output_type": "stream",
          "name": "stdout",
          "text": [
            "My name is :swarnali\n",
            "My name is :keshab\n",
            "My name is :shubhankar\n",
            "My name is :anjali\n"
          ]
        }
      ]
    },
    {
      "cell_type": "markdown",
      "metadata": {
        "id": "Ez3db7IjCmwg"
      },
      "source": [
        "##How import works in python"
      ]
    },
    {
      "cell_type": "code",
      "metadata": {
        "colab": {
          "base_uri": "https://localhost:8080/"
        },
        "id": "UbRO_qE3JvV1",
        "outputId": "40b78a39-39c5-4c77-d67c-7813802afb6d"
      },
      "source": [
        "import sys\n",
        "print(sys.path)"
      ],
      "execution_count": null,
      "outputs": [
        {
          "output_type": "stream",
          "name": "stdout",
          "text": [
            "['', '/content', '/env/python', '/usr/lib/python37.zip', '/usr/lib/python3.7', '/usr/lib/python3.7/lib-dynload', '/usr/local/lib/python3.7/dist-packages', '/usr/lib/python3/dist-packages', '/usr/local/lib/python3.7/dist-packages/IPython/extensions', '/root/.ipython']\n"
          ]
        }
      ]
    },
    {
      "cell_type": "markdown",
      "metadata": {
        "id": "2Ohvp0wmKmUM"
      },
      "source": [
        "##if_name_==_main_usage & necessity"
      ]
    },
    {
      "cell_type": "code",
      "metadata": {
        "id": "PBEgf1ABK6kK"
      },
      "source": [
        ""
      ],
      "execution_count": null,
      "outputs": []
    },
    {
      "cell_type": "markdown",
      "metadata": {
        "id": "yP2FBJ49PsNy"
      },
      "source": [
        "##join function in python"
      ]
    },
    {
      "cell_type": "code",
      "metadata": {
        "colab": {
          "base_uri": "https://localhost:8080/"
        },
        "id": "IYA4vt4BPtB6",
        "outputId": "bb30d8fd-052d-412e-b81f-cba3608f0447"
      },
      "source": [
        "lis = [\"shubhankar\",\"swarnali\",\"anjali\",\"keshab\"]\n",
        "for item in lis:\n",
        "  print(item, \"and\", end=\" \")\n",
        "print(\"other are superstar\")\n",
        "\n",
        "a = \" and \".join(lis)     # join function\n",
        "print(a ,\"other are superstar\")"
      ],
      "execution_count": null,
      "outputs": [
        {
          "output_type": "stream",
          "name": "stdout",
          "text": [
            "shubhankar and swarnali and anjali and keshab and other are superstar\n",
            "shubhankar and swarnali and anjali and keshab other are superstar\n"
          ]
        }
      ]
    },
    {
      "cell_type": "markdown",
      "metadata": {
        "id": "rgTl7awzTWCS"
      },
      "source": [
        "##Map , Filter & Reduce"
      ]
    },
    {
      "cell_type": "code",
      "metadata": {
        "colab": {
          "base_uri": "https://localhost:8080/"
        },
        "id": "ck4NnkHxTWgB",
        "outputId": "a53663cb-b227-4b6c-a344-ea1ffda89e02"
      },
      "source": [
        "#------------MAP FUNCTION---------------\n",
        "numbers = [\"3\" , \"34\" , \"64\"]\n",
        "for i in range(len(numbers)):     # always not possible for loop\n",
        "  numbers[i] = int(numbers[i])\n",
        "numbers[2] += 1\n",
        "print(numbers[2])\n",
        "#------OR--------\n",
        "numbers = list(map(int , numbers))    # MAP \n",
        "numbers[2] += 1\n",
        "print(numbers[2])\n",
        "\n",
        "def sq(a):\n",
        "  return a*a\n",
        "num = [2,3,4,5,6]\n",
        "square = list(map(sq,num))\n",
        "print(square)\n",
        "#------OR--------\n",
        "num = [2,3,4,5,6]\n",
        "square = list(map(lambda x: x*x,num))\n",
        "print(square)\n",
        "\n",
        "def square(a):\n",
        "  return a*a\n",
        "def cube(a):\n",
        "  return a*a*a\n",
        "func = [square, cube]\n",
        "for i in range(5):\n",
        "  val = list(map(lambda x:x(i) , func))\n",
        "  print(val)"
      ],
      "execution_count": null,
      "outputs": [
        {
          "output_type": "stream",
          "name": "stdout",
          "text": [
            "65\n",
            "66\n",
            "[4, 9, 16, 25, 36]\n",
            "[4, 9, 16, 25, 36]\n",
            "[0, 0]\n",
            "[1, 1]\n",
            "[4, 8]\n",
            "[9, 27]\n",
            "[16, 64]\n"
          ]
        }
      ]
    },
    {
      "cell_type": "code",
      "metadata": {
        "colab": {
          "base_uri": "https://localhost:8080/"
        },
        "id": "uyMNr2isqqfX",
        "outputId": "89b9f311-a0bc-435c-f9f6-4d0181b97b61"
      },
      "source": [
        "#--------FILTER FUNCTION-----------#\n",
        "lis = [1,2,3,4,5,6,7,8,9]\n",
        "def is_greater_5(num):\n",
        "  return num > 5\n",
        "gr_than_5 = list(filter(is_greater_5 , lis))\n",
        "print(gr_than_5)"
      ],
      "execution_count": null,
      "outputs": [
        {
          "output_type": "stream",
          "name": "stdout",
          "text": [
            "[6, 7, 8, 9]\n"
          ]
        }
      ]
    },
    {
      "cell_type": "code",
      "metadata": {
        "colab": {
          "base_uri": "https://localhost:8080/"
        },
        "id": "BJTRkV1VzGak",
        "outputId": "4476fd9e-22cf-48c8-d8dd-71fb203729c6"
      },
      "source": [
        "#--------------REDUCE---------------#\n",
        "from functools import reduce\n",
        "list = [1,2,3,4,5,6]\n",
        "num = reduce\n",
        "(lambda x,y:x*y, list)   # 1-2-3-4-5-6\n",
        "print(num)"
      ],
      "execution_count": null,
      "outputs": [
        {
          "output_type": "stream",
          "name": "stdout",
          "text": [
            "<built-in function reduce>\n"
          ]
        }
      ]
    },
    {
      "cell_type": "markdown",
      "metadata": {
        "id": "aYKq_LD0FzVB"
      },
      "source": [
        "## Decorators in python"
      ]
    },
    {
      "cell_type": "code",
      "metadata": {
        "colab": {
          "base_uri": "https://localhost:8080/"
        },
        "id": "xPgQLxfVF36W",
        "outputId": "9660b7b6-4857-4e66-c354-6ee88a578125"
      },
      "source": [
        "def function1():\n",
        "  print(\"Subscribe now\")\n",
        "func2 = function1\n",
        "del function1\n",
        "func2()\n",
        "\n",
        "#--------funcret----------#\n",
        "def funcret(num):     \n",
        "  if num == 0:\n",
        "    return print\n",
        "  if num == 1:\n",
        "    return int\n",
        "a = funcret(1)\n",
        "print(a)\n",
        "\n",
        "#-------executor----------#\n",
        "def executor(func):     \n",
        "  func(\"this is shubhankar\")\n",
        "executor(print)\n"
      ],
      "execution_count": null,
      "outputs": [
        {
          "output_type": "stream",
          "name": "stdout",
          "text": [
            "Subscribe now\n",
            "<class 'int'>\n",
            "this is shubhankar\n"
          ]
        }
      ]
    },
    {
      "cell_type": "code",
      "metadata": {
        "colab": {
          "base_uri": "https://localhost:8080/"
        },
        "id": "rOr1oExyaI3j",
        "outputId": "27ded449-6008-4d2a-87f6-de470b760a3a"
      },
      "source": [
        "#---------DECORATORS----------#\n",
        "def dec1(func1):\n",
        "  def nowexec():\n",
        "    print(\"Executing now\")\n",
        "    func1()\n",
        "    print(\"Executed\")\n",
        "  return nowexec\n",
        "\n",
        "@dec1\n",
        "def who_is_shubhankar():\n",
        "  print(\"shubhankar is a good boy\")\n",
        "\n",
        "# who_is_shubhankar = dec1(who_is_shubhankar)     # replace by @dec1\n",
        "who_is_shubhankar()"
      ],
      "execution_count": null,
      "outputs": [
        {
          "output_type": "stream",
          "name": "stdout",
          "text": [
            "Executing now\n",
            "shubhankar is a good boy\n",
            "Executed\n"
          ]
        }
      ]
    },
    {
      "cell_type": "markdown",
      "metadata": {
        "id": "vIpWa5eTjn3Q"
      },
      "source": [
        "##-------------------CLASSES & OBJECTS (OOPS)--------------------\n"
      ]
    },
    {
      "cell_type": "markdown",
      "metadata": {
        "id": "7aWwxzy-og--"
      },
      "source": [
        "##Creating our first class"
      ]
    },
    {
      "cell_type": "code",
      "metadata": {
        "colab": {
          "base_uri": "https://localhost:8080/"
        },
        "id": "qQK5iCpMov6_",
        "outputId": "74eb3deb-9b46-4f20-94a7-02c08bcbba6b"
      },
      "source": [
        "class Student:\n",
        "    pass\n",
        "\n",
        "harry = Student ()\n",
        "larry = Student ()\n",
        "\n",
        "harry.name = \"Harry\"\n",
        "harry.std = 12\n",
        "harry.section = 1\n",
        "larry.std = 9\n",
        "larry.subjects = [\"hindi\", \"physics\"]\n",
        "print (harry.section, larry.subjects)"
      ],
      "execution_count": null,
      "outputs": [
        {
          "output_type": "stream",
          "name": "stdout",
          "text": [
            "1 ['hindi', 'physics']\n"
          ]
        }
      ]
    },
    {
      "cell_type": "markdown",
      "metadata": {
        "id": "RADnyWyqplVV"
      },
      "source": [
        "##Instance & Class Variables"
      ]
    },
    {
      "cell_type": "code",
      "metadata": {
        "colab": {
          "base_uri": "https://localhost:8080/"
        },
        "id": "IP9E4uUqpj62",
        "outputId": "75c02711-b9fd-4da1-b4a1-26804ebfd785"
      },
      "source": [
        "class Employee:\n",
        "    no_of_leaves = 8\n",
        "    pass\n",
        "\n",
        "harry = Employee()\n",
        "rohan = Employee()\n",
        "\n",
        "harry.name = \"Harry\"\n",
        "harry.salary = 455\n",
        "harry.role = \"Instructor\"\n",
        "\n",
        "rohan.name = \"Rohan\"\n",
        "rohan.salary = 4554\n",
        "rohan.role = \"Student\"\n",
        "\n",
        "print(Employee.no_of_leaves)\n",
        "print(Employee.__dict__)\n",
        "Employee.no_of_leaves = 9\n",
        "print(Employee.__dict__)\n",
        "print(Employee.no_of_leaves)"
      ],
      "execution_count": null,
      "outputs": [
        {
          "output_type": "stream",
          "name": "stdout",
          "text": [
            "8\n",
            "{'__module__': '__main__', 'no_of_leaves': 8, '__dict__': <attribute '__dict__' of 'Employee' objects>, '__weakref__': <attribute '__weakref__' of 'Employee' objects>, '__doc__': None}\n",
            "{'__module__': '__main__', 'no_of_leaves': 9, '__dict__': <attribute '__dict__' of 'Employee' objects>, '__weakref__': <attribute '__weakref__' of 'Employee' objects>, '__doc__': None}\n",
            "9\n"
          ]
        }
      ]
    },
    {
      "cell_type": "markdown",
      "metadata": {
        "id": "YCMzn7EunSGQ"
      },
      "source": [
        "##self &  __ init __() (constructors)"
      ]
    },
    {
      "cell_type": "code",
      "metadata": {
        "colab": {
          "base_uri": "https://localhost:8080/"
        },
        "id": "R5ClaKa-nS7S",
        "outputId": "4c2a8d46-0906-4240-df32-dfd25ba3804f"
      },
      "source": [
        "#-----------SELF------------#\n",
        "class Employee:\n",
        "    no_of_leaves = 8\n",
        "    \n",
        "    def printdetails(self):\n",
        "      return f\"Name is {self.name}. salary is {self.salary} and role is {self.role}\"\n",
        "\n",
        "harry = Employee()\n",
        "rohan = Employee()\n",
        "\n",
        "harry.name = \"Harry\"\n",
        "harry.salary = 455\n",
        "harry.role = \"Instructor\"\n",
        "\n",
        "rohan.name = \"Rohan\"\n",
        "rohan.salary = 4554\n",
        "rohan.role = \"Student\"\n",
        "\n",
        "print(harry.printdetails())"
      ],
      "execution_count": null,
      "outputs": [
        {
          "output_type": "stream",
          "name": "stdout",
          "text": [
            "Name is Harry. salary is 455 and role is Instructor\n"
          ]
        }
      ]
    },
    {
      "cell_type": "code",
      "metadata": {
        "colab": {
          "base_uri": "https://localhost:8080/"
        },
        "id": "8nNtDsGVtJw_",
        "outputId": "6f27939a-fb4a-48bb-d1a8-1b0cc19fd495"
      },
      "source": [
        "#------------CONSTRUCTOR--------------#\n",
        "class Employee:\n",
        "    no_of_leaves = 8\n",
        "\n",
        "    def __init__(self, aname, asalary, arole):\n",
        "        self.name = aname\n",
        "        self.salary = asalary\n",
        "        self.role = arole\n",
        "\n",
        "    def printdetails(self):\n",
        "        return f\"The Name is {self.name}. Salary is {self.salary} and role is {self.role}\"\n",
        "\n",
        "harry = Employee(\"Harry\", 255, \"Instructor\")\n",
        "\n",
        "print(harry.salary)"
      ],
      "execution_count": null,
      "outputs": [
        {
          "output_type": "stream",
          "name": "stdout",
          "text": [
            "255\n"
          ]
        }
      ]
    },
    {
      "cell_type": "markdown",
      "metadata": {
        "id": "Gi4YSuPJyqm3"
      },
      "source": [
        "## Class Method in python"
      ]
    },
    {
      "cell_type": "code",
      "metadata": {
        "colab": {
          "base_uri": "https://localhost:8080/"
        },
        "id": "HsoFWV7KyrM1",
        "outputId": "d3e1bd4c-7f21-4063-b28d-276582b883d9"
      },
      "source": [
        "class Employee:\n",
        "  no_of_leaves = 8\n",
        "\n",
        "  def __init__(self, aname, asalary, arole):\n",
        "    self.name = aname\n",
        "    self.salary = asalary\n",
        "    self.role = arole\n",
        "   \n",
        "  def printdetails(self):\n",
        "    return f\"The Name is {self.name}. Salary is {self.salary} and role is {self.role}\"\n",
        "\n",
        "  @classmethod\n",
        "  def change_leaves (cls,newleaves):\n",
        "      cls.no_of_leaves = newleaves\n",
        "\n",
        "harry = Employee (\"Harry\", 255, \"Instructor\")\n",
        "rohan = Employee (\"Rohan\", 455, \"student\")\n",
        "\n",
        "harry.change_leaves(34)       # employee.change_leaves(34)\n",
        "print(harry.no_of_leaves)"
      ],
      "execution_count": null,
      "outputs": [
        {
          "output_type": "stream",
          "name": "stdout",
          "text": [
            "34\n"
          ]
        }
      ]
    },
    {
      "cell_type": "markdown",
      "metadata": {
        "id": "u6ubzWtQLqiN"
      },
      "source": [
        "##Class Method vs Alternative Constructors"
      ]
    },
    {
      "cell_type": "code",
      "metadata": {
        "id": "sxHJUxrR9IV5",
        "colab": {
          "base_uri": "https://localhost:8080/"
        },
        "outputId": "8b72436f-c67c-4ca4-9365-c5143661a6b9"
      },
      "source": [
        "class Employee:\n",
        "  no_of_leaves = 8\n",
        "\n",
        "  def __init__(self, aname, asalary, arole):\n",
        "    self.name = aname\n",
        "    self.salary = asalary\n",
        "    self.role = arole\n",
        "   \n",
        "  def printdetails(self):\n",
        "    return f\"The Name is {self.name}. Salary is {self.salary} and role is {self.role}\"\n",
        "\n",
        "  @classmethod\n",
        "  def change_leaves (cls,newleaves):\n",
        "      cls.no_of_leaves = newleaves\n",
        "  \n",
        "  @classmethod\n",
        "  def from_dash(cls, string):\n",
        "    params=string.split(\"-\")\n",
        "    print(params)\n",
        "    return cls(params[0],params[1],params[2])\n",
        "#---------------OR--------------------------#           BOTH SAME\n",
        "    return cls (*string.split(\"-\"))                 # IN ONE LINE\n",
        "\n",
        "harry = Employee (\"Harry\", 255, \"Instructor\")\n",
        "rohan = Employee (\"Rohan\", 455, \"student\")\n",
        "karan = Employee.from_dash(\"Karan-480-student\")\n",
        "\n",
        "print(karan.salary)\n"
      ],
      "execution_count": null,
      "outputs": [
        {
          "output_type": "stream",
          "name": "stdout",
          "text": [
            "['Karan', '480', 'student']\n",
            "480\n"
          ]
        }
      ]
    },
    {
      "cell_type": "markdown",
      "metadata": {
        "id": "SwjM7yzbVFxt"
      },
      "source": [
        "##STATIC METHOD"
      ]
    },
    {
      "cell_type": "code",
      "metadata": {
        "colab": {
          "base_uri": "https://localhost:8080/"
        },
        "id": "SeLihKeAVGSc",
        "outputId": "4884e83d-11db-43e1-c679-1fd11a6a69c7"
      },
      "source": [
        "class Employee:\n",
        "  no_of_leaves = 8\n",
        "\n",
        "  def __init__(self, aname, asalary, arole):\n",
        "    self.name = aname\n",
        "    self.salary = asalary\n",
        "    self.role = arole\n",
        "   \n",
        "  def printdetails(self):\n",
        "    return f\"The Name is {self.name}. Salary is {self.salary} and role is {self.role}\"\n",
        "\n",
        "  @classmethod\n",
        "  def change_leaves (cls,newleaves):\n",
        "      cls.no_of_leaves = newleaves\n",
        "  \n",
        "  @classmethod\n",
        "  def from_dash(cls, string):\n",
        "    return cls (*string.split(\"-\"))               \n",
        "\n",
        "  @staticmethod\n",
        "  def printgood(string):\n",
        "    print (\"this is good \" + string)\n",
        "  \n",
        "\n",
        "harry = Employee (\"Harry\", 255, \"Instructor\")\n",
        "rohan = Employee (\"Rohan\", 455, \"student\")\n",
        "karan = Employee.from_dash(\"Karan-480-student\")\n",
        "\n",
        "karan.printgood(\"harry\")  #use as instant\n",
        "Employee.printgood(\"harry\")  #use as class"
      ],
      "execution_count": null,
      "outputs": [
        {
          "output_type": "stream",
          "name": "stdout",
          "text": [
            "this is good harry\n",
            "this is good harry\n"
          ]
        }
      ]
    },
    {
      "cell_type": "markdown",
      "metadata": {
        "id": "UIL0vcK9X4RV"
      },
      "source": [
        "## Abstraction & Encapsulation"
      ]
    },
    {
      "cell_type": "markdown",
      "metadata": {
        "id": "euMM9SHcbbwC"
      },
      "source": [
        "##Single Inheritance"
      ]
    },
    {
      "cell_type": "code",
      "metadata": {
        "colab": {
          "base_uri": "https://localhost:8080/"
        },
        "id": "DxH2NfNAbkWT",
        "outputId": "c3cfa9c5-aca3-416f-f8e0-d09b4e4079ba"
      },
      "source": [
        "class Employee:\n",
        "    no_of_leaves = 8\n",
        "\n",
        "    def __init__(self, aname, asalary, arole):\n",
        "        self.name = aname\n",
        "        self.salary = asalary\n",
        "        self.role = arole\n",
        "\n",
        "    def printdetails(self):\n",
        "        return f\"The Name is {self.name}. Salary is {self.salary} and role is {self.role}\"\n",
        "\n",
        "    @classmethod\n",
        "    def change_leaves(cls, newleaves):\n",
        "        cls.no_of_leaves = newleaves\n",
        "\n",
        "    @classmethod\n",
        "    def from_dash(cls, string):\n",
        "        return cls(*string.split(\"-\"))\n",
        "\n",
        "    @staticmethod\n",
        "    def printgood(string):\n",
        "        print(\"This is good \" + string)\n",
        "\n",
        "class Programmer(Employee):\n",
        "    no_of_holiday = 56\n",
        "    def __init__(self, aname, asalary, arole, languages):\n",
        "        self.name = aname\n",
        "        self.salary = asalary\n",
        "        self.role = arole\n",
        "        self.languages = languages\n",
        "\n",
        "    def printprog(self):\n",
        "        return f\"The Programmer's Name is {self.name}. Salary is {self.salary} and role is {self.role}.The languages are {self.languages}\"\n",
        "\n",
        "harry = Employee(\"Harry\", 255, \"Instructor\")\n",
        "rohan = Employee(\"Rohan\", 455, \"Student\")\n",
        "\n",
        "shubham = Programmer(\"Shubham\", 555, \"Programmer\", [\"python\"])\n",
        "karan = Programmer(\"Karan\", 777, \"Programmer\", [\"python\", \"Cpp\"])\n",
        "\n",
        "print(karan.no_of_holiday)\n",
        "print(karan.printprog())"
      ],
      "execution_count": null,
      "outputs": [
        {
          "output_type": "stream",
          "name": "stdout",
          "text": [
            "56\n",
            "The Programmer's Name is Karan. Salary is 777 and role is Programmer.The languages are ['python', 'Cpp']\n"
          ]
        }
      ]
    },
    {
      "cell_type": "markdown",
      "metadata": {
        "id": "IuJxkhSEkJZV"
      },
      "source": [
        "##Multiple Inheritance"
      ]
    },
    {
      "cell_type": "code",
      "metadata": {
        "colab": {
          "base_uri": "https://localhost:8080/"
        },
        "id": "ABPA8YT7kJ3w",
        "outputId": "33bf9b9c-8280-4516-b523-8dd30d01d3e0"
      },
      "source": [
        "class Employee:\n",
        "    no_of_leaves = 8\n",
        "    var = 8\n",
        "\n",
        "    def __init__(self, aname, asalary, arole):\n",
        "        self.name = aname\n",
        "        self.salary = asalary\n",
        "        self.role = arole\n",
        "\n",
        "    def printdetails(self):\n",
        "        return f\"The Name is {self.name}. Salary is {self.salary} and role is {self.role}\"\n",
        "\n",
        "    @classmethod\n",
        "    def change_leaves(cls, newleaves):\n",
        "        cls.no_of_leaves = newleaves\n",
        "\n",
        "    @classmethod\n",
        "    def from_dash(cls, string):\n",
        "        return cls(*string.split(\"-\"))\n",
        "\n",
        "    @staticmethod\n",
        "    def printgood(string):\n",
        "        print(\"This is good \" + string)\n",
        "\n",
        "class Player:\n",
        "    var = 9\n",
        "    no_of_games = 4\n",
        "    def __init__(self, name, game):\n",
        "        self.name = name\n",
        "        self.game =game\n",
        "\n",
        "    def printdetails(self):\n",
        "        return f\"The Name is {self.name}. Game is {self.game}\"\n",
        "\n",
        "class CoolProgramer(Player, Employee):\n",
        "    language = \"C++\"\n",
        "    def printlanguage(self):\n",
        "        print(self.language)\n",
        "\n",
        "harry = Employee(\"Harry\", 255, \"Instructor\")\n",
        "rohan = Employee(\"Rohan\", 455, \"Student\")\n",
        "\n",
        "shubham = Player(\"Shubham\", [\"Cricket\"])\n",
        "karan = CoolProgramer(\"Karan\",[\"Cricket\"])\n",
        "det = karan.printdetails()\n",
        "karan.printlanguage()\n",
        "print(det)\n",
        "print(karan.var)"
      ],
      "execution_count": null,
      "outputs": [
        {
          "output_type": "stream",
          "name": "stdout",
          "text": [
            "C++\n",
            "The Name is Karan. Game is ['Cricket']\n",
            "9\n"
          ]
        }
      ]
    },
    {
      "cell_type": "code",
      "metadata": {
        "id": "Iq9v06J4pQKX",
        "colab": {
          "base_uri": "https://localhost:8080/"
        },
        "outputId": "5a531450-8506-4057-8f88-edbd3a46105f"
      },
      "source": [
        "class Dad:\n",
        "    basketball = 6\n",
        "\n",
        "class Son(Dad):\n",
        "    dance =1\n",
        "    basketball = 9\n",
        "    def isdance(self):\n",
        "        return f\"Yes I dance {self.dance} no of times\"\n",
        "\n",
        "class Grandson(Son):\n",
        "    dance =6\n",
        "    guitar = 1\n",
        "\n",
        "    def isdance(self):\n",
        "        return f\"Jackson yeah!\" \\\n",
        "            f\"Yes I dance very awesomely {self.dance} no of times\"\n",
        "\n",
        "darry = Dad()\n",
        "larry = Son()\n",
        "harry = Grandson()\n",
        "\n",
        "print(harry.isdance())\n",
        "print(harry.dance)\n",
        "print(harry.guitar)"
      ],
      "execution_count": null,
      "outputs": [
        {
          "output_type": "stream",
          "name": "stdout",
          "text": [
            "Jackson yeah!Yes I dance very awesomely 6 no of times\n",
            "6\n",
            "1\n"
          ]
        }
      ]
    },
    {
      "cell_type": "markdown",
      "metadata": {
        "id": "VwnVpzH20zPK"
      },
      "source": [
        "##Public, Private & Protected Access Specifiers"
      ]
    },
    {
      "cell_type": "code",
      "metadata": {
        "colab": {
          "base_uri": "https://localhost:8080/"
        },
        "id": "EFhfLoLQvsBK",
        "outputId": "731f5807-1ee3-4ac4-d90d-3faf6d0cd57a"
      },
      "source": [
        "class Employee:\n",
        "    no_of_leaves = 8\n",
        "    var = 8\n",
        "    _protec = 9             # now var & no_of_leaves are protected \"_\"\n",
        "    __pr = 98               # private    \" __ \"           \n",
        "\n",
        "    def __init__(self, aname, asalary, arole):\n",
        "        self.name = aname\n",
        "        self.salary = asalary\n",
        "        self.role = arole\n",
        "\n",
        "    def printdetails(self):\n",
        "        return f\"The Name is {self.name}. Salary is {self.salary} and role is {self.role}\"\n",
        "\n",
        "    @classmethod\n",
        "    def change_leaves(cls, newleaves):\n",
        "        cls.no_of_leaves = newleaves\n",
        "\n",
        "    @classmethod\n",
        "    def from_dash(cls, string):\n",
        "        return cls(*string.split(\"-\"))\n",
        "\n",
        "    @staticmethod\n",
        "    def printgood(string):\n",
        "        print(\"This is good \" + string)\n",
        "\n",
        "emp = Employee(\"harry\", 343, \"Programmer\")\n",
        "print(emp._protec)\n",
        "print(emp._Employee__pr)"
      ],
      "execution_count": null,
      "outputs": [
        {
          "output_type": "stream",
          "name": "stdout",
          "text": [
            "9\n",
            "98\n"
          ]
        }
      ]
    },
    {
      "cell_type": "markdown",
      "metadata": {
        "id": "hVT2B9A_jEsx"
      },
      "source": [
        "## Polymorphism in python"
      ]
    },
    {
      "cell_type": "markdown",
      "metadata": {
        "id": "lWIqO8-JjQYH"
      },
      "source": [
        "##Super() and Overriding In Classes"
      ]
    },
    {
      "cell_type": "code",
      "metadata": {
        "colab": {
          "base_uri": "https://localhost:8080/"
        },
        "id": "TeaUYBdgjRyQ",
        "outputId": "d24e39d0-158e-44dd-cc50-c93a87e14bfa"
      },
      "source": [
        "class A:\n",
        "    classvar1 = \"I am a class variable in class A\"\n",
        "    \n",
        "    def __init__(self):\n",
        "        self.var1 = \"I am inside class A's constructor\"\n",
        "        self.classvar1 = \"Instance var in class A\"\n",
        "        self.special = \"Special\"\n",
        "\n",
        "class B(A):\n",
        "    classvar1 = \"I am in class B\"\n",
        "\n",
        "    def __init__(self):\n",
        "        self.var1 = \"I am inside class B's constructor\"\n",
        "        self.classvar1 = \"Instance var in class B\"\n",
        "        super().__init__()\n",
        "        print(super().classvar1)\n",
        "\n",
        "a = A()\n",
        "b = B()\n",
        "\n",
        "print(b.special, b.var1, b.classvar1)\n"
      ],
      "execution_count": null,
      "outputs": [
        {
          "output_type": "stream",
          "name": "stdout",
          "text": [
            "I am a class variable in class A\n",
            "Special I am inside class A's constructor Instance var in class A\n"
          ]
        }
      ]
    },
    {
      "cell_type": "markdown",
      "metadata": {
        "id": "0E_EC7t_ug53"
      },
      "source": [
        "##Diamond Shape Problem In Multiple Inheritance "
      ]
    },
    {
      "cell_type": "code",
      "metadata": {
        "colab": {
          "base_uri": "https://localhost:8080/"
        },
        "id": "oFvtIPmquhY1",
        "outputId": "c64207dd-4eb0-41ee-a373-3ccc1e1ad677"
      },
      "source": [
        "class A:\n",
        "    def met(self):\n",
        "        print(\"This is a method from class A\")\n",
        "\n",
        "class B(A):\n",
        "    def met(self):\n",
        "        print(\"This is a method from class B\")\n",
        "\n",
        "class C(A):\n",
        "    def met(self):\n",
        "        print(\"This is a method from class C\")\n",
        "\n",
        "class D(C, B):\n",
        "    def met(self):\n",
        "        print(\"This is a method from class D\")\n",
        "\n",
        "a = A()\n",
        "b = B()\n",
        "c = C()\n",
        "d = D()\n",
        "\n",
        "d.met()\n"
      ],
      "execution_count": null,
      "outputs": [
        {
          "output_type": "stream",
          "name": "stdout",
          "text": [
            "This is a method from class D\n"
          ]
        }
      ]
    },
    {
      "cell_type": "markdown",
      "metadata": {
        "id": "6ueNgb6_w17M"
      },
      "source": [
        "##Operator Overloading & Dunder Methods "
      ]
    },
    {
      "cell_type": "code",
      "metadata": {
        "colab": {
          "base_uri": "https://localhost:8080/"
        },
        "id": "bTHV8MX4w2X-",
        "outputId": "5280cb7e-b205-4fec-ed08-2bab470c448d"
      },
      "source": [
        "class Employee:\n",
        "    no_of_leaves = 8\n",
        "\n",
        "    def __init__(self, aname, asalary, arole):\n",
        "        self.name = aname\n",
        "        self.salary = asalary\n",
        "        self.role = arole\n",
        "\n",
        "    def printdetails(self):\n",
        "        return f\"The Name is {self.name}. Salary is {self.salary} and role is {self.role}\"\n",
        "\n",
        "    @classmethod\n",
        "    def change_leaves(cls, newleaves):\n",
        "        cls.no_of_leaves = newleaves\n",
        "\n",
        "    def __add__(self, other):\n",
        "        return self.salary + other.salary\n",
        "\n",
        "    def __truediv__(self, other):\n",
        "        return self.salary / other.salary\n",
        "\n",
        "    def __repr__(self):\n",
        "        return f\"Employee('{self.name}', {self.salary}, '{self.role}')\"\n",
        "\n",
        "    def __str__(self):\n",
        "        return f\"The Name is {self.name}. Salary is {self.salary} and role is {self.role}\"\n",
        "\n",
        "emp1 =Employee(\"Harry\", 345, \"Programmer\")\n",
        "emp2 =Employee(\"Rohan\", 55, \"Cleaner\")\n",
        "\n",
        "print (emp1 + emp2)\n",
        "print (emp1 / emp2)\n",
        "print (emp1)                # always prefer str function\n",
        "print (repr(emp1))\n",
        "print(str(emp1))\n"
      ],
      "execution_count": null,
      "outputs": [
        {
          "output_type": "stream",
          "name": "stdout",
          "text": [
            "400\n",
            "6.2727272727272725\n",
            "The Name is Harry. Salary is 345 and role is Programmer\n",
            "Employee('Harry', 345, 'Programmer')\n",
            "The Name is Harry. Salary is 345 and role is Programmer\n"
          ]
        }
      ]
    },
    {
      "cell_type": "markdown",
      "metadata": {
        "id": "1Yc9HnA3mZt0"
      },
      "source": [
        "##Abstract Base Class & @abstractmethod "
      ]
    },
    {
      "cell_type": "code",
      "metadata": {
        "colab": {
          "base_uri": "https://localhost:8080/"
        },
        "id": "ZDHT9JhamaHs",
        "outputId": "0afb08fb-2979-453f-f05c-5a985a56527f"
      },
      "source": [
        "from abc import ABCMeta, abstractmethod\n",
        "from abc import ABC, abstractmethod\n",
        "\n",
        "class Shape(ABC):\n",
        "    @abstractmethod\n",
        "    def printarea(self):\n",
        "        return 0\n",
        "\n",
        "class Rectangle(Shape):\n",
        "    type = \"Rectangle\"\n",
        "    sides = 4\n",
        "    def __init__(self):\n",
        "        self.length = 6\n",
        "        self.breadth = 7\n",
        "\n",
        "    def printarea(self):\n",
        "        return self.length * self.breadth\n",
        "\n",
        "rect1 = Rectangle()\n",
        "print(rect1.printarea())"
      ],
      "execution_count": null,
      "outputs": [
        {
          "output_type": "stream",
          "name": "stdout",
          "text": [
            "42\n"
          ]
        }
      ]
    },
    {
      "cell_type": "markdown",
      "metadata": {
        "id": "We4LGKlspIOz"
      },
      "source": [
        "##Setters & Property Decorators "
      ]
    },
    {
      "cell_type": "code",
      "metadata": {
        "colab": {
          "base_uri": "https://localhost:8080/"
        },
        "id": "0UFsKlgPpJAD",
        "outputId": "a7a9e790-654f-48f5-b1b3-8d1de17f40cb"
      },
      "source": [
        "class Employee:\n",
        "    def __init__(self, fname, lname):\n",
        "        self.fname = fname\n",
        "        self.lname = lname\n",
        "        self.email = f\"{fname}.{lname}@codewithharry.com\"\n",
        "\n",
        "    def explain(self):\n",
        "        return f\"This employee is {self.fname} {self.lname}\"\n",
        "\n",
        "    @property\n",
        "    def email(self):\n",
        "        if self.fname==None or self.lname == None:\n",
        "            return \"Email is not set. Please set it using setter\"\n",
        "        return f\"{self.fname}.{self.lname}@codewithharry.com\"\n",
        "\n",
        "    @email.setter\n",
        "    def email(self, string):\n",
        "        print(\"Setting now...\")\n",
        "        names = string.split(\"@\")[0]\n",
        "        self.fname = names.split(\".\")[0]\n",
        "        self.lname = names.split(\".\")[1]\n",
        "\n",
        "    @email.deleter\n",
        "    def email(self):\n",
        "        self.fname = None\n",
        "        self.lname = None\n",
        "\n",
        "hindustani_supporter = Employee(\"Hindustani\", \"Supporter\")\n",
        "#nikhil_raj_pandey = Employee(\"Nikhil\", \"Raj\")\n",
        "\n",
        "print(hindustani_supporter.explain())\n",
        "print(hindustani_supporter.email)\n",
        "\n",
        "hindustani_supporter.fname = \"US\"\n",
        "print(hindustani_supporter.email)\n",
        "\n",
        "hindustani_supporter.email = \"this.that@codewithharry.com\"\n",
        "print(hindustani_supporter.fname)\n",
        "\n",
        "del hindustani_supporter.email\n",
        "print(hindustani_supporter.email)\n",
        "hindustani_supporter.email = \"Harry.Perry@codewithharry.com\"\n",
        "print(hindustani_supporter.email)\n"
      ],
      "execution_count": null,
      "outputs": [
        {
          "output_type": "stream",
          "name": "stdout",
          "text": [
            "Setting now...\n",
            "This employee is Hindustani Supporter\n",
            "Hindustani.Supporter@codewithharry.com\n",
            "US.Supporter@codewithharry.com\n",
            "Setting now...\n",
            "this\n",
            "Email is not set. Please set it using setter\n",
            "Setting now...\n",
            "Harry.Perry@codewithharry.com\n"
          ]
        }
      ]
    },
    {
      "cell_type": "markdown",
      "metadata": {
        "id": "lpk3ha74waRf"
      },
      "source": [
        "##Object Introspection "
      ]
    },
    {
      "cell_type": "code",
      "metadata": {
        "colab": {
          "base_uri": "https://localhost:8080/"
        },
        "id": "WRb8zwiHwa3W",
        "outputId": "8b8dfc15-1170-45e4-fcdf-e43afd370686"
      },
      "source": [
        "class Employee:\n",
        "    def __init__(self, fname, lname):\n",
        "        self.fname = fname\n",
        "        self.lname = lname\n",
        "        # self.email = f\"{fname}.{lname}@codewithharry.com\"\n",
        "\n",
        "    def explain(self):\n",
        "        return f\"This employee is {self.fname} {self.lname}\"\n",
        "\n",
        "    @property\n",
        "    def email(self):\n",
        "        if self.fname==None or self.lname == None:\n",
        "            return \"Email is not set. Please set it using setter\"\n",
        "        return f\"{self.fname}.{self.lname}@codewithharry.com\"\n",
        "\n",
        "    @email.setter\n",
        "    def email(self, string):\n",
        "        print(\"Setting now...\")\n",
        "        names = string.split(\"@\")[0]\n",
        "        self.fname = names.split(\".\")[0]\n",
        "        self.lname = names.split(\".\")[1]\n",
        "\n",
        "    @email.deleter\n",
        "    def email(self):\n",
        "        self.fname = None\n",
        "        self.lname = None\n",
        "\n",
        "skillf = Employee(\"Skill\", \"F\")\n",
        "print(skillf.email)\n",
        "print(type(\"this is a string\"))\n",
        "o = \"this is a string\"\n",
        "print(dir(o))\n",
        "print(dir(skillf))\n",
        "print(id(\"that that\"))\n",
        "\n",
        "import inspect\n",
        "print(inspect.getmembers(skillf))\n"
      ],
      "execution_count": null,
      "outputs": [
        {
          "output_type": "stream",
          "name": "stdout",
          "text": [
            "Skill.F@codewithharry.com\n",
            "<class 'str'>\n",
            "['__add__', '__class__', '__contains__', '__delattr__', '__dir__', '__doc__', '__eq__', '__format__', '__ge__', '__getattribute__', '__getitem__', '__getnewargs__', '__gt__', '__hash__', '__init__', '__init_subclass__', '__iter__', '__le__', '__len__', '__lt__', '__mod__', '__mul__', '__ne__', '__new__', '__reduce__', '__reduce_ex__', '__repr__', '__rmod__', '__rmul__', '__setattr__', '__sizeof__', '__str__', '__subclasshook__', 'capitalize', 'casefold', 'center', 'count', 'encode', 'endswith', 'expandtabs', 'find', 'format', 'format_map', 'index', 'isalnum', 'isalpha', 'isascii', 'isdecimal', 'isdigit', 'isidentifier', 'islower', 'isnumeric', 'isprintable', 'isspace', 'istitle', 'isupper', 'join', 'ljust', 'lower', 'lstrip', 'maketrans', 'partition', 'replace', 'rfind', 'rindex', 'rjust', 'rpartition', 'rsplit', 'rstrip', 'split', 'splitlines', 'startswith', 'strip', 'swapcase', 'title', 'translate', 'upper', 'zfill']\n",
            "['__class__', '__delattr__', '__dict__', '__dir__', '__doc__', '__eq__', '__format__', '__ge__', '__getattribute__', '__gt__', '__hash__', '__init__', '__init_subclass__', '__le__', '__lt__', '__module__', '__ne__', '__new__', '__reduce__', '__reduce_ex__', '__repr__', '__setattr__', '__sizeof__', '__str__', '__subclasshook__', '__weakref__', 'email', 'explain', 'fname', 'lname']\n",
            "140063774660272\n",
            "[('__class__', <class '__main__.Employee'>), ('__delattr__', <method-wrapper '__delattr__' of Employee object at 0x7f6323826250>), ('__dict__', {'fname': 'Skill', 'lname': 'F'}), ('__dir__', <built-in method __dir__ of Employee object at 0x7f6323826250>), ('__doc__', None), ('__eq__', <method-wrapper '__eq__' of Employee object at 0x7f6323826250>), ('__format__', <built-in method __format__ of Employee object at 0x7f6323826250>), ('__ge__', <method-wrapper '__ge__' of Employee object at 0x7f6323826250>), ('__getattribute__', <method-wrapper '__getattribute__' of Employee object at 0x7f6323826250>), ('__gt__', <method-wrapper '__gt__' of Employee object at 0x7f6323826250>), ('__hash__', <method-wrapper '__hash__' of Employee object at 0x7f6323826250>), ('__init__', <bound method Employee.__init__ of <__main__.Employee object at 0x7f6323826250>>), ('__init_subclass__', <built-in method __init_subclass__ of type object at 0x56512254f0e0>), ('__le__', <method-wrapper '__le__' of Employee object at 0x7f6323826250>), ('__lt__', <method-wrapper '__lt__' of Employee object at 0x7f6323826250>), ('__module__', '__main__'), ('__ne__', <method-wrapper '__ne__' of Employee object at 0x7f6323826250>), ('__new__', <built-in method __new__ of type object at 0x56511faf5ba0>), ('__reduce__', <built-in method __reduce__ of Employee object at 0x7f6323826250>), ('__reduce_ex__', <built-in method __reduce_ex__ of Employee object at 0x7f6323826250>), ('__repr__', <method-wrapper '__repr__' of Employee object at 0x7f6323826250>), ('__setattr__', <method-wrapper '__setattr__' of Employee object at 0x7f6323826250>), ('__sizeof__', <built-in method __sizeof__ of Employee object at 0x7f6323826250>), ('__str__', <method-wrapper '__str__' of Employee object at 0x7f6323826250>), ('__subclasshook__', <built-in method __subclasshook__ of type object at 0x56512254f0e0>), ('__weakref__', None), ('email', 'Skill.F@codewithharry.com'), ('explain', <bound method Employee.explain of <__main__.Employee object at 0x7f6323826250>>), ('fname', 'Skill'), ('lname', 'F')]\n"
          ]
        }
      ]
    },
    {
      "cell_type": "markdown",
      "metadata": {
        "id": "h4F3ksPBcatZ"
      },
      "source": [
        "##Generators In Python                          "
      ]
    },
    {
      "cell_type": "code",
      "metadata": {
        "colab": {
          "base_uri": "https://localhost:8080/"
        },
        "id": "pWi2vsOScbVc",
        "outputId": "5a16fd1e-b118-4d6d-f223-76dc4e8f289d"
      },
      "source": [
        "\"\"\"\n",
        "Iterable - __iter__() or __getitem__()\n",
        "Iterator - __next__()\n",
        "Iteration -\n",
        "\"\"\"\n",
        "\n",
        "def gen(n):\n",
        "    for i in range(n):\n",
        "        yield i\n",
        "\n",
        "g = gen(3)\n",
        "print(g.__next__())\n",
        "print(g.__next__())\n",
        "print(g.__next__())\n",
        "#print(g.__next__())\n",
        "\n",
        "# for i in g:\n",
        "#     print(i)"
      ],
      "execution_count": null,
      "outputs": [
        {
          "output_type": "stream",
          "name": "stdout",
          "text": [
            "0\n",
            "1\n",
            "2\n"
          ]
        }
      ]
    },
    {
      "cell_type": "code",
      "metadata": {
        "colab": {
          "base_uri": "https://localhost:8080/"
        },
        "id": "zSp5FOzPfDFi",
        "outputId": "83fc918a-3ee5-4529-d365-f3288602021f"
      },
      "source": [
        "h = \"harry\"\n",
        "for c in h:\n",
        "  print(c)\n",
        "print(\"\\n\")\n",
        "\n",
        "print(h[0])\n",
        "print(\"\\n\")\n",
        "\n",
        "ier = iter(h)\n",
        "print(ier.__next__())\n",
        "print(ier.__next__())\n",
        "print(ier.__next__())\n",
        "print(\"\\n\")\n",
        "for c in h:\n",
        "    print(c)"
      ],
      "execution_count": null,
      "outputs": [
        {
          "output_type": "stream",
          "name": "stdout",
          "text": [
            "h\n",
            "a\n",
            "r\n",
            "r\n",
            "y\n",
            "\n",
            "\n",
            "h\n",
            "\n",
            "\n",
            "h\n",
            "a\n",
            "r\n",
            "\n",
            "\n",
            "h\n",
            "a\n",
            "r\n",
            "r\n",
            "y\n"
          ]
        }
      ]
    },
    {
      "cell_type": "markdown",
      "metadata": {
        "id": "57ELMj45gesn"
      },
      "source": [
        "##Python Comprehensions "
      ]
    },
    {
      "cell_type": "code",
      "metadata": {
        "colab": {
          "base_uri": "https://localhost:8080/"
        },
        "id": "oq_g0CeBfS1S",
        "outputId": "935bd13e-112f-402c-dc79-85fd8121023d"
      },
      "source": [
        "ls = []\n",
        "for i in range(100):\n",
        "    if i%3==0:\n",
        "        ls.append(i)\n",
        "print(ls)\n",
        "#---------OR----------------\n",
        "ls = [i for i in range(100) if i%3==0]        # IN ONE LINE\n",
        "print(ls)\n"
      ],
      "execution_count": null,
      "outputs": [
        {
          "output_type": "stream",
          "name": "stdout",
          "text": [
            "[0, 3, 6, 9, 12, 15, 18, 21, 24, 27, 30, 33, 36, 39, 42, 45, 48, 51, 54, 57, 60, 63, 66, 69, 72, 75, 78, 81, 84, 87, 90, 93, 96, 99]\n",
            "[0, 3, 6, 9, 12, 15, 18, 21, 24, 27, 30, 33, 36, 39, 42, 45, 48, 51, 54, 57, 60, 63, 66, 69, 72, 75, 78, 81, 84, 87, 90, 93, 96, 99]\n"
          ]
        }
      ]
    },
    {
      "cell_type": "code",
      "metadata": {
        "colab": {
          "base_uri": "https://localhost:8080/"
        },
        "id": "PnyVjYwHheIa",
        "outputId": "1bd2a9b0-5a75-479c-a0ff-f762f48ef827"
      },
      "source": [
        "dict1 = {i:f\"item {i}\" for i in range(1, 10001)}\n",
        "print(dict1,\"\\n\")\n",
        "\n",
        "dict1 = {i:f\"item {i}\" for i in range(1, 10001) if i%100==0}\n",
        "print(dict1,\"\\n\")\n",
        "\n",
        "dict1 = {i:f\"Item {i}\" for i in range(5)}\n",
        "print(dict1,\"\\n\")\n",
        "\n",
        "dict2 = {value:key for key,value in dict1.items()}\n",
        "print(dict1,\"\\n\",dict2)"
      ],
      "execution_count": null,
      "outputs": [
        {
          "output_type": "stream",
          "name": "stdout",
          "text": [
            "{1: 'item 1', 2: 'item 2', 3: 'item 3', 4: 'item 4', 5: 'item 5', 6: 'item 6', 7: 'item 7', 8: 'item 8', 9: 'item 9', 10: 'item 10', 11: 'item 11', 12: 'item 12', 13: 'item 13', 14: 'item 14', 15: 'item 15', 16: 'item 16', 17: 'item 17', 18: 'item 18', 19: 'item 19', 20: 'item 20', 21: 'item 21', 22: 'item 22', 23: 'item 23', 24: 'item 24', 25: 'item 25', 26: 'item 26', 27: 'item 27', 28: 'item 28', 29: 'item 29', 30: 'item 30', 31: 'item 31', 32: 'item 32', 33: 'item 33', 34: 'item 34', 35: 'item 35', 36: 'item 36', 37: 'item 37', 38: 'item 38', 39: 'item 39', 40: 'item 40', 41: 'item 41', 42: 'item 42', 43: 'item 43', 44: 'item 44', 45: 'item 45', 46: 'item 46', 47: 'item 47', 48: 'item 48', 49: 'item 49', 50: 'item 50', 51: 'item 51', 52: 'item 52', 53: 'item 53', 54: 'item 54', 55: 'item 55', 56: 'item 56', 57: 'item 57', 58: 'item 58', 59: 'item 59', 60: 'item 60', 61: 'item 61', 62: 'item 62', 63: 'item 63', 64: 'item 64', 65: 'item 65', 66: 'item 66', 67: 'item 67', 68: 'item 68', 69: 'item 69', 70: 'item 70', 71: 'item 71', 72: 'item 72', 73: 'item 73', 74: 'item 74', 75: 'item 75', 76: 'item 76', 77: 'item 77', 78: 'item 78', 79: 'item 79', 80: 'item 80', 81: 'item 81', 82: 'item 82', 83: 'item 83', 84: 'item 84', 85: 'item 85', 86: 'item 86', 87: 'item 87', 88: 'item 88', 89: 'item 89', 90: 'item 90', 91: 'item 91', 92: 'item 92', 93: 'item 93', 94: 'item 94', 95: 'item 95', 96: 'item 96', 97: 'item 97', 98: 'item 98', 99: 'item 99', 100: 'item 100', 101: 'item 101', 102: 'item 102', 103: 'item 103', 104: 'item 104', 105: 'item 105', 106: 'item 106', 107: 'item 107', 108: 'item 108', 109: 'item 109', 110: 'item 110', 111: 'item 111', 112: 'item 112', 113: 'item 113', 114: 'item 114', 115: 'item 115', 116: 'item 116', 117: 'item 117', 118: 'item 118', 119: 'item 119', 120: 'item 120', 121: 'item 121', 122: 'item 122', 123: 'item 123', 124: 'item 124', 125: 'item 125', 126: 'item 126', 127: 'item 127', 128: 'item 128', 129: 'item 129', 130: 'item 130', 131: 'item 131', 132: 'item 132', 133: 'item 133', 134: 'item 134', 135: 'item 135', 136: 'item 136', 137: 'item 137', 138: 'item 138', 139: 'item 139', 140: 'item 140', 141: 'item 141', 142: 'item 142', 143: 'item 143', 144: 'item 144', 145: 'item 145', 146: 'item 146', 147: 'item 147', 148: 'item 148', 149: 'item 149', 150: 'item 150', 151: 'item 151', 152: 'item 152', 153: 'item 153', 154: 'item 154', 155: 'item 155', 156: 'item 156', 157: 'item 157', 158: 'item 158', 159: 'item 159', 160: 'item 160', 161: 'item 161', 162: 'item 162', 163: 'item 163', 164: 'item 164', 165: 'item 165', 166: 'item 166', 167: 'item 167', 168: 'item 168', 169: 'item 169', 170: 'item 170', 171: 'item 171', 172: 'item 172', 173: 'item 173', 174: 'item 174', 175: 'item 175', 176: 'item 176', 177: 'item 177', 178: 'item 178', 179: 'item 179', 180: 'item 180', 181: 'item 181', 182: 'item 182', 183: 'item 183', 184: 'item 184', 185: 'item 185', 186: 'item 186', 187: 'item 187', 188: 'item 188', 189: 'item 189', 190: 'item 190', 191: 'item 191', 192: 'item 192', 193: 'item 193', 194: 'item 194', 195: 'item 195', 196: 'item 196', 197: 'item 197', 198: 'item 198', 199: 'item 199', 200: 'item 200', 201: 'item 201', 202: 'item 202', 203: 'item 203', 204: 'item 204', 205: 'item 205', 206: 'item 206', 207: 'item 207', 208: 'item 208', 209: 'item 209', 210: 'item 210', 211: 'item 211', 212: 'item 212', 213: 'item 213', 214: 'item 214', 215: 'item 215', 216: 'item 216', 217: 'item 217', 218: 'item 218', 219: 'item 219', 220: 'item 220', 221: 'item 221', 222: 'item 222', 223: 'item 223', 224: 'item 224', 225: 'item 225', 226: 'item 226', 227: 'item 227', 228: 'item 228', 229: 'item 229', 230: 'item 230', 231: 'item 231', 232: 'item 232', 233: 'item 233', 234: 'item 234', 235: 'item 235', 236: 'item 236', 237: 'item 237', 238: 'item 238', 239: 'item 239', 240: 'item 240', 241: 'item 241', 242: 'item 242', 243: 'item 243', 244: 'item 244', 245: 'item 245', 246: 'item 246', 247: 'item 247', 248: 'item 248', 249: 'item 249', 250: 'item 250', 251: 'item 251', 252: 'item 252', 253: 'item 253', 254: 'item 254', 255: 'item 255', 256: 'item 256', 257: 'item 257', 258: 'item 258', 259: 'item 259', 260: 'item 260', 261: 'item 261', 262: 'item 262', 263: 'item 263', 264: 'item 264', 265: 'item 265', 266: 'item 266', 267: 'item 267', 268: 'item 268', 269: 'item 269', 270: 'item 270', 271: 'item 271', 272: 'item 272', 273: 'item 273', 274: 'item 274', 275: 'item 275', 276: 'item 276', 277: 'item 277', 278: 'item 278', 279: 'item 279', 280: 'item 280', 281: 'item 281', 282: 'item 282', 283: 'item 283', 284: 'item 284', 285: 'item 285', 286: 'item 286', 287: 'item 287', 288: 'item 288', 289: 'item 289', 290: 'item 290', 291: 'item 291', 292: 'item 292', 293: 'item 293', 294: 'item 294', 295: 'item 295', 296: 'item 296', 297: 'item 297', 298: 'item 298', 299: 'item 299', 300: 'item 300', 301: 'item 301', 302: 'item 302', 303: 'item 303', 304: 'item 304', 305: 'item 305', 306: 'item 306', 307: 'item 307', 308: 'item 308', 309: 'item 309', 310: 'item 310', 311: 'item 311', 312: 'item 312', 313: 'item 313', 314: 'item 314', 315: 'item 315', 316: 'item 316', 317: 'item 317', 318: 'item 318', 319: 'item 319', 320: 'item 320', 321: 'item 321', 322: 'item 322', 323: 'item 323', 324: 'item 324', 325: 'item 325', 326: 'item 326', 327: 'item 327', 328: 'item 328', 329: 'item 329', 330: 'item 330', 331: 'item 331', 332: 'item 332', 333: 'item 333', 334: 'item 334', 335: 'item 335', 336: 'item 336', 337: 'item 337', 338: 'item 338', 339: 'item 339', 340: 'item 340', 341: 'item 341', 342: 'item 342', 343: 'item 343', 344: 'item 344', 345: 'item 345', 346: 'item 346', 347: 'item 347', 348: 'item 348', 349: 'item 349', 350: 'item 350', 351: 'item 351', 352: 'item 352', 353: 'item 353', 354: 'item 354', 355: 'item 355', 356: 'item 356', 357: 'item 357', 358: 'item 358', 359: 'item 359', 360: 'item 360', 361: 'item 361', 362: 'item 362', 363: 'item 363', 364: 'item 364', 365: 'item 365', 366: 'item 366', 367: 'item 367', 368: 'item 368', 369: 'item 369', 370: 'item 370', 371: 'item 371', 372: 'item 372', 373: 'item 373', 374: 'item 374', 375: 'item 375', 376: 'item 376', 377: 'item 377', 378: 'item 378', 379: 'item 379', 380: 'item 380', 381: 'item 381', 382: 'item 382', 383: 'item 383', 384: 'item 384', 385: 'item 385', 386: 'item 386', 387: 'item 387', 388: 'item 388', 389: 'item 389', 390: 'item 390', 391: 'item 391', 392: 'item 392', 393: 'item 393', 394: 'item 394', 395: 'item 395', 396: 'item 396', 397: 'item 397', 398: 'item 398', 399: 'item 399', 400: 'item 400', 401: 'item 401', 402: 'item 402', 403: 'item 403', 404: 'item 404', 405: 'item 405', 406: 'item 406', 407: 'item 407', 408: 'item 408', 409: 'item 409', 410: 'item 410', 411: 'item 411', 412: 'item 412', 413: 'item 413', 414: 'item 414', 415: 'item 415', 416: 'item 416', 417: 'item 417', 418: 'item 418', 419: 'item 419', 420: 'item 420', 421: 'item 421', 422: 'item 422', 423: 'item 423', 424: 'item 424', 425: 'item 425', 426: 'item 426', 427: 'item 427', 428: 'item 428', 429: 'item 429', 430: 'item 430', 431: 'item 431', 432: 'item 432', 433: 'item 433', 434: 'item 434', 435: 'item 435', 436: 'item 436', 437: 'item 437', 438: 'item 438', 439: 'item 439', 440: 'item 440', 441: 'item 441', 442: 'item 442', 443: 'item 443', 444: 'item 444', 445: 'item 445', 446: 'item 446', 447: 'item 447', 448: 'item 448', 449: 'item 449', 450: 'item 450', 451: 'item 451', 452: 'item 452', 453: 'item 453', 454: 'item 454', 455: 'item 455', 456: 'item 456', 457: 'item 457', 458: 'item 458', 459: 'item 459', 460: 'item 460', 461: 'item 461', 462: 'item 462', 463: 'item 463', 464: 'item 464', 465: 'item 465', 466: 'item 466', 467: 'item 467', 468: 'item 468', 469: 'item 469', 470: 'item 470', 471: 'item 471', 472: 'item 472', 473: 'item 473', 474: 'item 474', 475: 'item 475', 476: 'item 476', 477: 'item 477', 478: 'item 478', 479: 'item 479', 480: 'item 480', 481: 'item 481', 482: 'item 482', 483: 'item 483', 484: 'item 484', 485: 'item 485', 486: 'item 486', 487: 'item 487', 488: 'item 488', 489: 'item 489', 490: 'item 490', 491: 'item 491', 492: 'item 492', 493: 'item 493', 494: 'item 494', 495: 'item 495', 496: 'item 496', 497: 'item 497', 498: 'item 498', 499: 'item 499', 500: 'item 500', 501: 'item 501', 502: 'item 502', 503: 'item 503', 504: 'item 504', 505: 'item 505', 506: 'item 506', 507: 'item 507', 508: 'item 508', 509: 'item 509', 510: 'item 510', 511: 'item 511', 512: 'item 512', 513: 'item 513', 514: 'item 514', 515: 'item 515', 516: 'item 516', 517: 'item 517', 518: 'item 518', 519: 'item 519', 520: 'item 520', 521: 'item 521', 522: 'item 522', 523: 'item 523', 524: 'item 524', 525: 'item 525', 526: 'item 526', 527: 'item 527', 528: 'item 528', 529: 'item 529', 530: 'item 530', 531: 'item 531', 532: 'item 532', 533: 'item 533', 534: 'item 534', 535: 'item 535', 536: 'item 536', 537: 'item 537', 538: 'item 538', 539: 'item 539', 540: 'item 540', 541: 'item 541', 542: 'item 542', 543: 'item 543', 544: 'item 544', 545: 'item 545', 546: 'item 546', 547: 'item 547', 548: 'item 548', 549: 'item 549', 550: 'item 550', 551: 'item 551', 552: 'item 552', 553: 'item 553', 554: 'item 554', 555: 'item 555', 556: 'item 556', 557: 'item 557', 558: 'item 558', 559: 'item 559', 560: 'item 560', 561: 'item 561', 562: 'item 562', 563: 'item 563', 564: 'item 564', 565: 'item 565', 566: 'item 566', 567: 'item 567', 568: 'item 568', 569: 'item 569', 570: 'item 570', 571: 'item 571', 572: 'item 572', 573: 'item 573', 574: 'item 574', 575: 'item 575', 576: 'item 576', 577: 'item 577', 578: 'item 578', 579: 'item 579', 580: 'item 580', 581: 'item 581', 582: 'item 582', 583: 'item 583', 584: 'item 584', 585: 'item 585', 586: 'item 586', 587: 'item 587', 588: 'item 588', 589: 'item 589', 590: 'item 590', 591: 'item 591', 592: 'item 592', 593: 'item 593', 594: 'item 594', 595: 'item 595', 596: 'item 596', 597: 'item 597', 598: 'item 598', 599: 'item 599', 600: 'item 600', 601: 'item 601', 602: 'item 602', 603: 'item 603', 604: 'item 604', 605: 'item 605', 606: 'item 606', 607: 'item 607', 608: 'item 608', 609: 'item 609', 610: 'item 610', 611: 'item 611', 612: 'item 612', 613: 'item 613', 614: 'item 614', 615: 'item 615', 616: 'item 616', 617: 'item 617', 618: 'item 618', 619: 'item 619', 620: 'item 620', 621: 'item 621', 622: 'item 622', 623: 'item 623', 624: 'item 624', 625: 'item 625', 626: 'item 626', 627: 'item 627', 628: 'item 628', 629: 'item 629', 630: 'item 630', 631: 'item 631', 632: 'item 632', 633: 'item 633', 634: 'item 634', 635: 'item 635', 636: 'item 636', 637: 'item 637', 638: 'item 638', 639: 'item 639', 640: 'item 640', 641: 'item 641', 642: 'item 642', 643: 'item 643', 644: 'item 644', 645: 'item 645', 646: 'item 646', 647: 'item 647', 648: 'item 648', 649: 'item 649', 650: 'item 650', 651: 'item 651', 652: 'item 652', 653: 'item 653', 654: 'item 654', 655: 'item 655', 656: 'item 656', 657: 'item 657', 658: 'item 658', 659: 'item 659', 660: 'item 660', 661: 'item 661', 662: 'item 662', 663: 'item 663', 664: 'item 664', 665: 'item 665', 666: 'item 666', 667: 'item 667', 668: 'item 668', 669: 'item 669', 670: 'item 670', 671: 'item 671', 672: 'item 672', 673: 'item 673', 674: 'item 674', 675: 'item 675', 676: 'item 676', 677: 'item 677', 678: 'item 678', 679: 'item 679', 680: 'item 680', 681: 'item 681', 682: 'item 682', 683: 'item 683', 684: 'item 684', 685: 'item 685', 686: 'item 686', 687: 'item 687', 688: 'item 688', 689: 'item 689', 690: 'item 690', 691: 'item 691', 692: 'item 692', 693: 'item 693', 694: 'item 694', 695: 'item 695', 696: 'item 696', 697: 'item 697', 698: 'item 698', 699: 'item 699', 700: 'item 700', 701: 'item 701', 702: 'item 702', 703: 'item 703', 704: 'item 704', 705: 'item 705', 706: 'item 706', 707: 'item 707', 708: 'item 708', 709: 'item 709', 710: 'item 710', 711: 'item 711', 712: 'item 712', 713: 'item 713', 714: 'item 714', 715: 'item 715', 716: 'item 716', 717: 'item 717', 718: 'item 718', 719: 'item 719', 720: 'item 720', 721: 'item 721', 722: 'item 722', 723: 'item 723', 724: 'item 724', 725: 'item 725', 726: 'item 726', 727: 'item 727', 728: 'item 728', 729: 'item 729', 730: 'item 730', 731: 'item 731', 732: 'item 732', 733: 'item 733', 734: 'item 734', 735: 'item 735', 736: 'item 736', 737: 'item 737', 738: 'item 738', 739: 'item 739', 740: 'item 740', 741: 'item 741', 742: 'item 742', 743: 'item 743', 744: 'item 744', 745: 'item 745', 746: 'item 746', 747: 'item 747', 748: 'item 748', 749: 'item 749', 750: 'item 750', 751: 'item 751', 752: 'item 752', 753: 'item 753', 754: 'item 754', 755: 'item 755', 756: 'item 756', 757: 'item 757', 758: 'item 758', 759: 'item 759', 760: 'item 760', 761: 'item 761', 762: 'item 762', 763: 'item 763', 764: 'item 764', 765: 'item 765', 766: 'item 766', 767: 'item 767', 768: 'item 768', 769: 'item 769', 770: 'item 770', 771: 'item 771', 772: 'item 772', 773: 'item 773', 774: 'item 774', 775: 'item 775', 776: 'item 776', 777: 'item 777', 778: 'item 778', 779: 'item 779', 780: 'item 780', 781: 'item 781', 782: 'item 782', 783: 'item 783', 784: 'item 784', 785: 'item 785', 786: 'item 786', 787: 'item 787', 788: 'item 788', 789: 'item 789', 790: 'item 790', 791: 'item 791', 792: 'item 792', 793: 'item 793', 794: 'item 794', 795: 'item 795', 796: 'item 796', 797: 'item 797', 798: 'item 798', 799: 'item 799', 800: 'item 800', 801: 'item 801', 802: 'item 802', 803: 'item 803', 804: 'item 804', 805: 'item 805', 806: 'item 806', 807: 'item 807', 808: 'item 808', 809: 'item 809', 810: 'item 810', 811: 'item 811', 812: 'item 812', 813: 'item 813', 814: 'item 814', 815: 'item 815', 816: 'item 816', 817: 'item 817', 818: 'item 818', 819: 'item 819', 820: 'item 820', 821: 'item 821', 822: 'item 822', 823: 'item 823', 824: 'item 824', 825: 'item 825', 826: 'item 826', 827: 'item 827', 828: 'item 828', 829: 'item 829', 830: 'item 830', 831: 'item 831', 832: 'item 832', 833: 'item 833', 834: 'item 834', 835: 'item 835', 836: 'item 836', 837: 'item 837', 838: 'item 838', 839: 'item 839', 840: 'item 840', 841: 'item 841', 842: 'item 842', 843: 'item 843', 844: 'item 844', 845: 'item 845', 846: 'item 846', 847: 'item 847', 848: 'item 848', 849: 'item 849', 850: 'item 850', 851: 'item 851', 852: 'item 852', 853: 'item 853', 854: 'item 854', 855: 'item 855', 856: 'item 856', 857: 'item 857', 858: 'item 858', 859: 'item 859', 860: 'item 860', 861: 'item 861', 862: 'item 862', 863: 'item 863', 864: 'item 864', 865: 'item 865', 866: 'item 866', 867: 'item 867', 868: 'item 868', 869: 'item 869', 870: 'item 870', 871: 'item 871', 872: 'item 872', 873: 'item 873', 874: 'item 874', 875: 'item 875', 876: 'item 876', 877: 'item 877', 878: 'item 878', 879: 'item 879', 880: 'item 880', 881: 'item 881', 882: 'item 882', 883: 'item 883', 884: 'item 884', 885: 'item 885', 886: 'item 886', 887: 'item 887', 888: 'item 888', 889: 'item 889', 890: 'item 890', 891: 'item 891', 892: 'item 892', 893: 'item 893', 894: 'item 894', 895: 'item 895', 896: 'item 896', 897: 'item 897', 898: 'item 898', 899: 'item 899', 900: 'item 900', 901: 'item 901', 902: 'item 902', 903: 'item 903', 904: 'item 904', 905: 'item 905', 906: 'item 906', 907: 'item 907', 908: 'item 908', 909: 'item 909', 910: 'item 910', 911: 'item 911', 912: 'item 912', 913: 'item 913', 914: 'item 914', 915: 'item 915', 916: 'item 916', 917: 'item 917', 918: 'item 918', 919: 'item 919', 920: 'item 920', 921: 'item 921', 922: 'item 922', 923: 'item 923', 924: 'item 924', 925: 'item 925', 926: 'item 926', 927: 'item 927', 928: 'item 928', 929: 'item 929', 930: 'item 930', 931: 'item 931', 932: 'item 932', 933: 'item 933', 934: 'item 934', 935: 'item 935', 936: 'item 936', 937: 'item 937', 938: 'item 938', 939: 'item 939', 940: 'item 940', 941: 'item 941', 942: 'item 942', 943: 'item 943', 944: 'item 944', 945: 'item 945', 946: 'item 946', 947: 'item 947', 948: 'item 948', 949: 'item 949', 950: 'item 950', 951: 'item 951', 952: 'item 952', 953: 'item 953', 954: 'item 954', 955: 'item 955', 956: 'item 956', 957: 'item 957', 958: 'item 958', 959: 'item 959', 960: 'item 960', 961: 'item 961', 962: 'item 962', 963: 'item 963', 964: 'item 964', 965: 'item 965', 966: 'item 966', 967: 'item 967', 968: 'item 968', 969: 'item 969', 970: 'item 970', 971: 'item 971', 972: 'item 972', 973: 'item 973', 974: 'item 974', 975: 'item 975', 976: 'item 976', 977: 'item 977', 978: 'item 978', 979: 'item 979', 980: 'item 980', 981: 'item 981', 982: 'item 982', 983: 'item 983', 984: 'item 984', 985: 'item 985', 986: 'item 986', 987: 'item 987', 988: 'item 988', 989: 'item 989', 990: 'item 990', 991: 'item 991', 992: 'item 992', 993: 'item 993', 994: 'item 994', 995: 'item 995', 996: 'item 996', 997: 'item 997', 998: 'item 998', 999: 'item 999', 1000: 'item 1000', 1001: 'item 1001', 1002: 'item 1002', 1003: 'item 1003', 1004: 'item 1004', 1005: 'item 1005', 1006: 'item 1006', 1007: 'item 1007', 1008: 'item 1008', 1009: 'item 1009', 1010: 'item 1010', 1011: 'item 1011', 1012: 'item 1012', 1013: 'item 1013', 1014: 'item 1014', 1015: 'item 1015', 1016: 'item 1016', 1017: 'item 1017', 1018: 'item 1018', 1019: 'item 1019', 1020: 'item 1020', 1021: 'item 1021', 1022: 'item 1022', 1023: 'item 1023', 1024: 'item 1024', 1025: 'item 1025', 1026: 'item 1026', 1027: 'item 1027', 1028: 'item 1028', 1029: 'item 1029', 1030: 'item 1030', 1031: 'item 1031', 1032: 'item 1032', 1033: 'item 1033', 1034: 'item 1034', 1035: 'item 1035', 1036: 'item 1036', 1037: 'item 1037', 1038: 'item 1038', 1039: 'item 1039', 1040: 'item 1040', 1041: 'item 1041', 1042: 'item 1042', 1043: 'item 1043', 1044: 'item 1044', 1045: 'item 1045', 1046: 'item 1046', 1047: 'item 1047', 1048: 'item 1048', 1049: 'item 1049', 1050: 'item 1050', 1051: 'item 1051', 1052: 'item 1052', 1053: 'item 1053', 1054: 'item 1054', 1055: 'item 1055', 1056: 'item 1056', 1057: 'item 1057', 1058: 'item 1058', 1059: 'item 1059', 1060: 'item 1060', 1061: 'item 1061', 1062: 'item 1062', 1063: 'item 1063', 1064: 'item 1064', 1065: 'item 1065', 1066: 'item 1066', 1067: 'item 1067', 1068: 'item 1068', 1069: 'item 1069', 1070: 'item 1070', 1071: 'item 1071', 1072: 'item 1072', 1073: 'item 1073', 1074: 'item 1074', 1075: 'item 1075', 1076: 'item 1076', 1077: 'item 1077', 1078: 'item 1078', 1079: 'item 1079', 1080: 'item 1080', 1081: 'item 1081', 1082: 'item 1082', 1083: 'item 1083', 1084: 'item 1084', 1085: 'item 1085', 1086: 'item 1086', 1087: 'item 1087', 1088: 'item 1088', 1089: 'item 1089', 1090: 'item 1090', 1091: 'item 1091', 1092: 'item 1092', 1093: 'item 1093', 1094: 'item 1094', 1095: 'item 1095', 1096: 'item 1096', 1097: 'item 1097', 1098: 'item 1098', 1099: 'item 1099', 1100: 'item 1100', 1101: 'item 1101', 1102: 'item 1102', 1103: 'item 1103', 1104: 'item 1104', 1105: 'item 1105', 1106: 'item 1106', 1107: 'item 1107', 1108: 'item 1108', 1109: 'item 1109', 1110: 'item 1110', 1111: 'item 1111', 1112: 'item 1112', 1113: 'item 1113', 1114: 'item 1114', 1115: 'item 1115', 1116: 'item 1116', 1117: 'item 1117', 1118: 'item 1118', 1119: 'item 1119', 1120: 'item 1120', 1121: 'item 1121', 1122: 'item 1122', 1123: 'item 1123', 1124: 'item 1124', 1125: 'item 1125', 1126: 'item 1126', 1127: 'item 1127', 1128: 'item 1128', 1129: 'item 1129', 1130: 'item 1130', 1131: 'item 1131', 1132: 'item 1132', 1133: 'item 1133', 1134: 'item 1134', 1135: 'item 1135', 1136: 'item 1136', 1137: 'item 1137', 1138: 'item 1138', 1139: 'item 1139', 1140: 'item 1140', 1141: 'item 1141', 1142: 'item 1142', 1143: 'item 1143', 1144: 'item 1144', 1145: 'item 1145', 1146: 'item 1146', 1147: 'item 1147', 1148: 'item 1148', 1149: 'item 1149', 1150: 'item 1150', 1151: 'item 1151', 1152: 'item 1152', 1153: 'item 1153', 1154: 'item 1154', 1155: 'item 1155', 1156: 'item 1156', 1157: 'item 1157', 1158: 'item 1158', 1159: 'item 1159', 1160: 'item 1160', 1161: 'item 1161', 1162: 'item 1162', 1163: 'item 1163', 1164: 'item 1164', 1165: 'item 1165', 1166: 'item 1166', 1167: 'item 1167', 1168: 'item 1168', 1169: 'item 1169', 1170: 'item 1170', 1171: 'item 1171', 1172: 'item 1172', 1173: 'item 1173', 1174: 'item 1174', 1175: 'item 1175', 1176: 'item 1176', 1177: 'item 1177', 1178: 'item 1178', 1179: 'item 1179', 1180: 'item 1180', 1181: 'item 1181', 1182: 'item 1182', 1183: 'item 1183', 1184: 'item 1184', 1185: 'item 1185', 1186: 'item 1186', 1187: 'item 1187', 1188: 'item 1188', 1189: 'item 1189', 1190: 'item 1190', 1191: 'item 1191', 1192: 'item 1192', 1193: 'item 1193', 1194: 'item 1194', 1195: 'item 1195', 1196: 'item 1196', 1197: 'item 1197', 1198: 'item 1198', 1199: 'item 1199', 1200: 'item 1200', 1201: 'item 1201', 1202: 'item 1202', 1203: 'item 1203', 1204: 'item 1204', 1205: 'item 1205', 1206: 'item 1206', 1207: 'item 1207', 1208: 'item 1208', 1209: 'item 1209', 1210: 'item 1210', 1211: 'item 1211', 1212: 'item 1212', 1213: 'item 1213', 1214: 'item 1214', 1215: 'item 1215', 1216: 'item 1216', 1217: 'item 1217', 1218: 'item 1218', 1219: 'item 1219', 1220: 'item 1220', 1221: 'item 1221', 1222: 'item 1222', 1223: 'item 1223', 1224: 'item 1224', 1225: 'item 1225', 1226: 'item 1226', 1227: 'item 1227', 1228: 'item 1228', 1229: 'item 1229', 1230: 'item 1230', 1231: 'item 1231', 1232: 'item 1232', 1233: 'item 1233', 1234: 'item 1234', 1235: 'item 1235', 1236: 'item 1236', 1237: 'item 1237', 1238: 'item 1238', 1239: 'item 1239', 1240: 'item 1240', 1241: 'item 1241', 1242: 'item 1242', 1243: 'item 1243', 1244: 'item 1244', 1245: 'item 1245', 1246: 'item 1246', 1247: 'item 1247', 1248: 'item 1248', 1249: 'item 1249', 1250: 'item 1250', 1251: 'item 1251', 1252: 'item 1252', 1253: 'item 1253', 1254: 'item 1254', 1255: 'item 1255', 1256: 'item 1256', 1257: 'item 1257', 1258: 'item 1258', 1259: 'item 1259', 1260: 'item 1260', 1261: 'item 1261', 1262: 'item 1262', 1263: 'item 1263', 1264: 'item 1264', 1265: 'item 1265', 1266: 'item 1266', 1267: 'item 1267', 1268: 'item 1268', 1269: 'item 1269', 1270: 'item 1270', 1271: 'item 1271', 1272: 'item 1272', 1273: 'item 1273', 1274: 'item 1274', 1275: 'item 1275', 1276: 'item 1276', 1277: 'item 1277', 1278: 'item 1278', 1279: 'item 1279', 1280: 'item 1280', 1281: 'item 1281', 1282: 'item 1282', 1283: 'item 1283', 1284: 'item 1284', 1285: 'item 1285', 1286: 'item 1286', 1287: 'item 1287', 1288: 'item 1288', 1289: 'item 1289', 1290: 'item 1290', 1291: 'item 1291', 1292: 'item 1292', 1293: 'item 1293', 1294: 'item 1294', 1295: 'item 1295', 1296: 'item 1296', 1297: 'item 1297', 1298: 'item 1298', 1299: 'item 1299', 1300: 'item 1300', 1301: 'item 1301', 1302: 'item 1302', 1303: 'item 1303', 1304: 'item 1304', 1305: 'item 1305', 1306: 'item 1306', 1307: 'item 1307', 1308: 'item 1308', 1309: 'item 1309', 1310: 'item 1310', 1311: 'item 1311', 1312: 'item 1312', 1313: 'item 1313', 1314: 'item 1314', 1315: 'item 1315', 1316: 'item 1316', 1317: 'item 1317', 1318: 'item 1318', 1319: 'item 1319', 1320: 'item 1320', 1321: 'item 1321', 1322: 'item 1322', 1323: 'item 1323', 1324: 'item 1324', 1325: 'item 1325', 1326: 'item 1326', 1327: 'item 1327', 1328: 'item 1328', 1329: 'item 1329', 1330: 'item 1330', 1331: 'item 1331', 1332: 'item 1332', 1333: 'item 1333', 1334: 'item 1334', 1335: 'item 1335', 1336: 'item 1336', 1337: 'item 1337', 1338: 'item 1338', 1339: 'item 1339', 1340: 'item 1340', 1341: 'item 1341', 1342: 'item 1342', 1343: 'item 1343', 1344: 'item 1344', 1345: 'item 1345', 1346: 'item 1346', 1347: 'item 1347', 1348: 'item 1348', 1349: 'item 1349', 1350: 'item 1350', 1351: 'item 1351', 1352: 'item 1352', 1353: 'item 1353', 1354: 'item 1354', 1355: 'item 1355', 1356: 'item 1356', 1357: 'item 1357', 1358: 'item 1358', 1359: 'item 1359', 1360: 'item 1360', 1361: 'item 1361', 1362: 'item 1362', 1363: 'item 1363', 1364: 'item 1364', 1365: 'item 1365', 1366: 'item 1366', 1367: 'item 1367', 1368: 'item 1368', 1369: 'item 1369', 1370: 'item 1370', 1371: 'item 1371', 1372: 'item 1372', 1373: 'item 1373', 1374: 'item 1374', 1375: 'item 1375', 1376: 'item 1376', 1377: 'item 1377', 1378: 'item 1378', 1379: 'item 1379', 1380: 'item 1380', 1381: 'item 1381', 1382: 'item 1382', 1383: 'item 1383', 1384: 'item 1384', 1385: 'item 1385', 1386: 'item 1386', 1387: 'item 1387', 1388: 'item 1388', 1389: 'item 1389', 1390: 'item 1390', 1391: 'item 1391', 1392: 'item 1392', 1393: 'item 1393', 1394: 'item 1394', 1395: 'item 1395', 1396: 'item 1396', 1397: 'item 1397', 1398: 'item 1398', 1399: 'item 1399', 1400: 'item 1400', 1401: 'item 1401', 1402: 'item 1402', 1403: 'item 1403', 1404: 'item 1404', 1405: 'item 1405', 1406: 'item 1406', 1407: 'item 1407', 1408: 'item 1408', 1409: 'item 1409', 1410: 'item 1410', 1411: 'item 1411', 1412: 'item 1412', 1413: 'item 1413', 1414: 'item 1414', 1415: 'item 1415', 1416: 'item 1416', 1417: 'item 1417', 1418: 'item 1418', 1419: 'item 1419', 1420: 'item 1420', 1421: 'item 1421', 1422: 'item 1422', 1423: 'item 1423', 1424: 'item 1424', 1425: 'item 1425', 1426: 'item 1426', 1427: 'item 1427', 1428: 'item 1428', 1429: 'item 1429', 1430: 'item 1430', 1431: 'item 1431', 1432: 'item 1432', 1433: 'item 1433', 1434: 'item 1434', 1435: 'item 1435', 1436: 'item 1436', 1437: 'item 1437', 1438: 'item 1438', 1439: 'item 1439', 1440: 'item 1440', 1441: 'item 1441', 1442: 'item 1442', 1443: 'item 1443', 1444: 'item 1444', 1445: 'item 1445', 1446: 'item 1446', 1447: 'item 1447', 1448: 'item 1448', 1449: 'item 1449', 1450: 'item 1450', 1451: 'item 1451', 1452: 'item 1452', 1453: 'item 1453', 1454: 'item 1454', 1455: 'item 1455', 1456: 'item 1456', 1457: 'item 1457', 1458: 'item 1458', 1459: 'item 1459', 1460: 'item 1460', 1461: 'item 1461', 1462: 'item 1462', 1463: 'item 1463', 1464: 'item 1464', 1465: 'item 1465', 1466: 'item 1466', 1467: 'item 1467', 1468: 'item 1468', 1469: 'item 1469', 1470: 'item 1470', 1471: 'item 1471', 1472: 'item 1472', 1473: 'item 1473', 1474: 'item 1474', 1475: 'item 1475', 1476: 'item 1476', 1477: 'item 1477', 1478: 'item 1478', 1479: 'item 1479', 1480: 'item 1480', 1481: 'item 1481', 1482: 'item 1482', 1483: 'item 1483', 1484: 'item 1484', 1485: 'item 1485', 1486: 'item 1486', 1487: 'item 1487', 1488: 'item 1488', 1489: 'item 1489', 1490: 'item 1490', 1491: 'item 1491', 1492: 'item 1492', 1493: 'item 1493', 1494: 'item 1494', 1495: 'item 1495', 1496: 'item 1496', 1497: 'item 1497', 1498: 'item 1498', 1499: 'item 1499', 1500: 'item 1500', 1501: 'item 1501', 1502: 'item 1502', 1503: 'item 1503', 1504: 'item 1504', 1505: 'item 1505', 1506: 'item 1506', 1507: 'item 1507', 1508: 'item 1508', 1509: 'item 1509', 1510: 'item 1510', 1511: 'item 1511', 1512: 'item 1512', 1513: 'item 1513', 1514: 'item 1514', 1515: 'item 1515', 1516: 'item 1516', 1517: 'item 1517', 1518: 'item 1518', 1519: 'item 1519', 1520: 'item 1520', 1521: 'item 1521', 1522: 'item 1522', 1523: 'item 1523', 1524: 'item 1524', 1525: 'item 1525', 1526: 'item 1526', 1527: 'item 1527', 1528: 'item 1528', 1529: 'item 1529', 1530: 'item 1530', 1531: 'item 1531', 1532: 'item 1532', 1533: 'item 1533', 1534: 'item 1534', 1535: 'item 1535', 1536: 'item 1536', 1537: 'item 1537', 1538: 'item 1538', 1539: 'item 1539', 1540: 'item 1540', 1541: 'item 1541', 1542: 'item 1542', 1543: 'item 1543', 1544: 'item 1544', 1545: 'item 1545', 1546: 'item 1546', 1547: 'item 1547', 1548: 'item 1548', 1549: 'item 1549', 1550: 'item 1550', 1551: 'item 1551', 1552: 'item 1552', 1553: 'item 1553', 1554: 'item 1554', 1555: 'item 1555', 1556: 'item 1556', 1557: 'item 1557', 1558: 'item 1558', 1559: 'item 1559', 1560: 'item 1560', 1561: 'item 1561', 1562: 'item 1562', 1563: 'item 1563', 1564: 'item 1564', 1565: 'item 1565', 1566: 'item 1566', 1567: 'item 1567', 1568: 'item 1568', 1569: 'item 1569', 1570: 'item 1570', 1571: 'item 1571', 1572: 'item 1572', 1573: 'item 1573', 1574: 'item 1574', 1575: 'item 1575', 1576: 'item 1576', 1577: 'item 1577', 1578: 'item 1578', 1579: 'item 1579', 1580: 'item 1580', 1581: 'item 1581', 1582: 'item 1582', 1583: 'item 1583', 1584: 'item 1584', 1585: 'item 1585', 1586: 'item 1586', 1587: 'item 1587', 1588: 'item 1588', 1589: 'item 1589', 1590: 'item 1590', 1591: 'item 1591', 1592: 'item 1592', 1593: 'item 1593', 1594: 'item 1594', 1595: 'item 1595', 1596: 'item 1596', 1597: 'item 1597', 1598: 'item 1598', 1599: 'item 1599', 1600: 'item 1600', 1601: 'item 1601', 1602: 'item 1602', 1603: 'item 1603', 1604: 'item 1604', 1605: 'item 1605', 1606: 'item 1606', 1607: 'item 1607', 1608: 'item 1608', 1609: 'item 1609', 1610: 'item 1610', 1611: 'item 1611', 1612: 'item 1612', 1613: 'item 1613', 1614: 'item 1614', 1615: 'item 1615', 1616: 'item 1616', 1617: 'item 1617', 1618: 'item 1618', 1619: 'item 1619', 1620: 'item 1620', 1621: 'item 1621', 1622: 'item 1622', 1623: 'item 1623', 1624: 'item 1624', 1625: 'item 1625', 1626: 'item 1626', 1627: 'item 1627', 1628: 'item 1628', 1629: 'item 1629', 1630: 'item 1630', 1631: 'item 1631', 1632: 'item 1632', 1633: 'item 1633', 1634: 'item 1634', 1635: 'item 1635', 1636: 'item 1636', 1637: 'item 1637', 1638: 'item 1638', 1639: 'item 1639', 1640: 'item 1640', 1641: 'item 1641', 1642: 'item 1642', 1643: 'item 1643', 1644: 'item 1644', 1645: 'item 1645', 1646: 'item 1646', 1647: 'item 1647', 1648: 'item 1648', 1649: 'item 1649', 1650: 'item 1650', 1651: 'item 1651', 1652: 'item 1652', 1653: 'item 1653', 1654: 'item 1654', 1655: 'item 1655', 1656: 'item 1656', 1657: 'item 1657', 1658: 'item 1658', 1659: 'item 1659', 1660: 'item 1660', 1661: 'item 1661', 1662: 'item 1662', 1663: 'item 1663', 1664: 'item 1664', 1665: 'item 1665', 1666: 'item 1666', 1667: 'item 1667', 1668: 'item 1668', 1669: 'item 1669', 1670: 'item 1670', 1671: 'item 1671', 1672: 'item 1672', 1673: 'item 1673', 1674: 'item 1674', 1675: 'item 1675', 1676: 'item 1676', 1677: 'item 1677', 1678: 'item 1678', 1679: 'item 1679', 1680: 'item 1680', 1681: 'item 1681', 1682: 'item 1682', 1683: 'item 1683', 1684: 'item 1684', 1685: 'item 1685', 1686: 'item 1686', 1687: 'item 1687', 1688: 'item 1688', 1689: 'item 1689', 1690: 'item 1690', 1691: 'item 1691', 1692: 'item 1692', 1693: 'item 1693', 1694: 'item 1694', 1695: 'item 1695', 1696: 'item 1696', 1697: 'item 1697', 1698: 'item 1698', 1699: 'item 1699', 1700: 'item 1700', 1701: 'item 1701', 1702: 'item 1702', 1703: 'item 1703', 1704: 'item 1704', 1705: 'item 1705', 1706: 'item 1706', 1707: 'item 1707', 1708: 'item 1708', 1709: 'item 1709', 1710: 'item 1710', 1711: 'item 1711', 1712: 'item 1712', 1713: 'item 1713', 1714: 'item 1714', 1715: 'item 1715', 1716: 'item 1716', 1717: 'item 1717', 1718: 'item 1718', 1719: 'item 1719', 1720: 'item 1720', 1721: 'item 1721', 1722: 'item 1722', 1723: 'item 1723', 1724: 'item 1724', 1725: 'item 1725', 1726: 'item 1726', 1727: 'item 1727', 1728: 'item 1728', 1729: 'item 1729', 1730: 'item 1730', 1731: 'item 1731', 1732: 'item 1732', 1733: 'item 1733', 1734: 'item 1734', 1735: 'item 1735', 1736: 'item 1736', 1737: 'item 1737', 1738: 'item 1738', 1739: 'item 1739', 1740: 'item 1740', 1741: 'item 1741', 1742: 'item 1742', 1743: 'item 1743', 1744: 'item 1744', 1745: 'item 1745', 1746: 'item 1746', 1747: 'item 1747', 1748: 'item 1748', 1749: 'item 1749', 1750: 'item 1750', 1751: 'item 1751', 1752: 'item 1752', 1753: 'item 1753', 1754: 'item 1754', 1755: 'item 1755', 1756: 'item 1756', 1757: 'item 1757', 1758: 'item 1758', 1759: 'item 1759', 1760: 'item 1760', 1761: 'item 1761', 1762: 'item 1762', 1763: 'item 1763', 1764: 'item 1764', 1765: 'item 1765', 1766: 'item 1766', 1767: 'item 1767', 1768: 'item 1768', 1769: 'item 1769', 1770: 'item 1770', 1771: 'item 1771', 1772: 'item 1772', 1773: 'item 1773', 1774: 'item 1774', 1775: 'item 1775', 1776: 'item 1776', 1777: 'item 1777', 1778: 'item 1778', 1779: 'item 1779', 1780: 'item 1780', 1781: 'item 1781', 1782: 'item 1782', 1783: 'item 1783', 1784: 'item 1784', 1785: 'item 1785', 1786: 'item 1786', 1787: 'item 1787', 1788: 'item 1788', 1789: 'item 1789', 1790: 'item 1790', 1791: 'item 1791', 1792: 'item 1792', 1793: 'item 1793', 1794: 'item 1794', 1795: 'item 1795', 1796: 'item 1796', 1797: 'item 1797', 1798: 'item 1798', 1799: 'item 1799', 1800: 'item 1800', 1801: 'item 1801', 1802: 'item 1802', 1803: 'item 1803', 1804: 'item 1804', 1805: 'item 1805', 1806: 'item 1806', 1807: 'item 1807', 1808: 'item 1808', 1809: 'item 1809', 1810: 'item 1810', 1811: 'item 1811', 1812: 'item 1812', 1813: 'item 1813', 1814: 'item 1814', 1815: 'item 1815', 1816: 'item 1816', 1817: 'item 1817', 1818: 'item 1818', 1819: 'item 1819', 1820: 'item 1820', 1821: 'item 1821', 1822: 'item 1822', 1823: 'item 1823', 1824: 'item 1824', 1825: 'item 1825', 1826: 'item 1826', 1827: 'item 1827', 1828: 'item 1828', 1829: 'item 1829', 1830: 'item 1830', 1831: 'item 1831', 1832: 'item 1832', 1833: 'item 1833', 1834: 'item 1834', 1835: 'item 1835', 1836: 'item 1836', 1837: 'item 1837', 1838: 'item 1838', 1839: 'item 1839', 1840: 'item 1840', 1841: 'item 1841', 1842: 'item 1842', 1843: 'item 1843', 1844: 'item 1844', 1845: 'item 1845', 1846: 'item 1846', 1847: 'item 1847', 1848: 'item 1848', 1849: 'item 1849', 1850: 'item 1850', 1851: 'item 1851', 1852: 'item 1852', 1853: 'item 1853', 1854: 'item 1854', 1855: 'item 1855', 1856: 'item 1856', 1857: 'item 1857', 1858: 'item 1858', 1859: 'item 1859', 1860: 'item 1860', 1861: 'item 1861', 1862: 'item 1862', 1863: 'item 1863', 1864: 'item 1864', 1865: 'item 1865', 1866: 'item 1866', 1867: 'item 1867', 1868: 'item 1868', 1869: 'item 1869', 1870: 'item 1870', 1871: 'item 1871', 1872: 'item 1872', 1873: 'item 1873', 1874: 'item 1874', 1875: 'item 1875', 1876: 'item 1876', 1877: 'item 1877', 1878: 'item 1878', 1879: 'item 1879', 1880: 'item 1880', 1881: 'item 1881', 1882: 'item 1882', 1883: 'item 1883', 1884: 'item 1884', 1885: 'item 1885', 1886: 'item 1886', 1887: 'item 1887', 1888: 'item 1888', 1889: 'item 1889', 1890: 'item 1890', 1891: 'item 1891', 1892: 'item 1892', 1893: 'item 1893', 1894: 'item 1894', 1895: 'item 1895', 1896: 'item 1896', 1897: 'item 1897', 1898: 'item 1898', 1899: 'item 1899', 1900: 'item 1900', 1901: 'item 1901', 1902: 'item 1902', 1903: 'item 1903', 1904: 'item 1904', 1905: 'item 1905', 1906: 'item 1906', 1907: 'item 1907', 1908: 'item 1908', 1909: 'item 1909', 1910: 'item 1910', 1911: 'item 1911', 1912: 'item 1912', 1913: 'item 1913', 1914: 'item 1914', 1915: 'item 1915', 1916: 'item 1916', 1917: 'item 1917', 1918: 'item 1918', 1919: 'item 1919', 1920: 'item 1920', 1921: 'item 1921', 1922: 'item 1922', 1923: 'item 1923', 1924: 'item 1924', 1925: 'item 1925', 1926: 'item 1926', 1927: 'item 1927', 1928: 'item 1928', 1929: 'item 1929', 1930: 'item 1930', 1931: 'item 1931', 1932: 'item 1932', 1933: 'item 1933', 1934: 'item 1934', 1935: 'item 1935', 1936: 'item 1936', 1937: 'item 1937', 1938: 'item 1938', 1939: 'item 1939', 1940: 'item 1940', 1941: 'item 1941', 1942: 'item 1942', 1943: 'item 1943', 1944: 'item 1944', 1945: 'item 1945', 1946: 'item 1946', 1947: 'item 1947', 1948: 'item 1948', 1949: 'item 1949', 1950: 'item 1950', 1951: 'item 1951', 1952: 'item 1952', 1953: 'item 1953', 1954: 'item 1954', 1955: 'item 1955', 1956: 'item 1956', 1957: 'item 1957', 1958: 'item 1958', 1959: 'item 1959', 1960: 'item 1960', 1961: 'item 1961', 1962: 'item 1962', 1963: 'item 1963', 1964: 'item 1964', 1965: 'item 1965', 1966: 'item 1966', 1967: 'item 1967', 1968: 'item 1968', 1969: 'item 1969', 1970: 'item 1970', 1971: 'item 1971', 1972: 'item 1972', 1973: 'item 1973', 1974: 'item 1974', 1975: 'item 1975', 1976: 'item 1976', 1977: 'item 1977', 1978: 'item 1978', 1979: 'item 1979', 1980: 'item 1980', 1981: 'item 1981', 1982: 'item 1982', 1983: 'item 1983', 1984: 'item 1984', 1985: 'item 1985', 1986: 'item 1986', 1987: 'item 1987', 1988: 'item 1988', 1989: 'item 1989', 1990: 'item 1990', 1991: 'item 1991', 1992: 'item 1992', 1993: 'item 1993', 1994: 'item 1994', 1995: 'item 1995', 1996: 'item 1996', 1997: 'item 1997', 1998: 'item 1998', 1999: 'item 1999', 2000: 'item 2000', 2001: 'item 2001', 2002: 'item 2002', 2003: 'item 2003', 2004: 'item 2004', 2005: 'item 2005', 2006: 'item 2006', 2007: 'item 2007', 2008: 'item 2008', 2009: 'item 2009', 2010: 'item 2010', 2011: 'item 2011', 2012: 'item 2012', 2013: 'item 2013', 2014: 'item 2014', 2015: 'item 2015', 2016: 'item 2016', 2017: 'item 2017', 2018: 'item 2018', 2019: 'item 2019', 2020: 'item 2020', 2021: 'item 2021', 2022: 'item 2022', 2023: 'item 2023', 2024: 'item 2024', 2025: 'item 2025', 2026: 'item 2026', 2027: 'item 2027', 2028: 'item 2028', 2029: 'item 2029', 2030: 'item 2030', 2031: 'item 2031', 2032: 'item 2032', 2033: 'item 2033', 2034: 'item 2034', 2035: 'item 2035', 2036: 'item 2036', 2037: 'item 2037', 2038: 'item 2038', 2039: 'item 2039', 2040: 'item 2040', 2041: 'item 2041', 2042: 'item 2042', 2043: 'item 2043', 2044: 'item 2044', 2045: 'item 2045', 2046: 'item 2046', 2047: 'item 2047', 2048: 'item 2048', 2049: 'item 2049', 2050: 'item 2050', 2051: 'item 2051', 2052: 'item 2052', 2053: 'item 2053', 2054: 'item 2054', 2055: 'item 2055', 2056: 'item 2056', 2057: 'item 2057', 2058: 'item 2058', 2059: 'item 2059', 2060: 'item 2060', 2061: 'item 2061', 2062: 'item 2062', 2063: 'item 2063', 2064: 'item 2064', 2065: 'item 2065', 2066: 'item 2066', 2067: 'item 2067', 2068: 'item 2068', 2069: 'item 2069', 2070: 'item 2070', 2071: 'item 2071', 2072: 'item 2072', 2073: 'item 2073', 2074: 'item 2074', 2075: 'item 2075', 2076: 'item 2076', 2077: 'item 2077', 2078: 'item 2078', 2079: 'item 2079', 2080: 'item 2080', 2081: 'item 2081', 2082: 'item 2082', 2083: 'item 2083', 2084: 'item 2084', 2085: 'item 2085', 2086: 'item 2086', 2087: 'item 2087', 2088: 'item 2088', 2089: 'item 2089', 2090: 'item 2090', 2091: 'item 2091', 2092: 'item 2092', 2093: 'item 2093', 2094: 'item 2094', 2095: 'item 2095', 2096: 'item 2096', 2097: 'item 2097', 2098: 'item 2098', 2099: 'item 2099', 2100: 'item 2100', 2101: 'item 2101', 2102: 'item 2102', 2103: 'item 2103', 2104: 'item 2104', 2105: 'item 2105', 2106: 'item 2106', 2107: 'item 2107', 2108: 'item 2108', 2109: 'item 2109', 2110: 'item 2110', 2111: 'item 2111', 2112: 'item 2112', 2113: 'item 2113', 2114: 'item 2114', 2115: 'item 2115', 2116: 'item 2116', 2117: 'item 2117', 2118: 'item 2118', 2119: 'item 2119', 2120: 'item 2120', 2121: 'item 2121', 2122: 'item 2122', 2123: 'item 2123', 2124: 'item 2124', 2125: 'item 2125', 2126: 'item 2126', 2127: 'item 2127', 2128: 'item 2128', 2129: 'item 2129', 2130: 'item 2130', 2131: 'item 2131', 2132: 'item 2132', 2133: 'item 2133', 2134: 'item 2134', 2135: 'item 2135', 2136: 'item 2136', 2137: 'item 2137', 2138: 'item 2138', 2139: 'item 2139', 2140: 'item 2140', 2141: 'item 2141', 2142: 'item 2142', 2143: 'item 2143', 2144: 'item 2144', 2145: 'item 2145', 2146: 'item 2146', 2147: 'item 2147', 2148: 'item 2148', 2149: 'item 2149', 2150: 'item 2150', 2151: 'item 2151', 2152: 'item 2152', 2153: 'item 2153', 2154: 'item 2154', 2155: 'item 2155', 2156: 'item 2156', 2157: 'item 2157', 2158: 'item 2158', 2159: 'item 2159', 2160: 'item 2160', 2161: 'item 2161', 2162: 'item 2162', 2163: 'item 2163', 2164: 'item 2164', 2165: 'item 2165', 2166: 'item 2166', 2167: 'item 2167', 2168: 'item 2168', 2169: 'item 2169', 2170: 'item 2170', 2171: 'item 2171', 2172: 'item 2172', 2173: 'item 2173', 2174: 'item 2174', 2175: 'item 2175', 2176: 'item 2176', 2177: 'item 2177', 2178: 'item 2178', 2179: 'item 2179', 2180: 'item 2180', 2181: 'item 2181', 2182: 'item 2182', 2183: 'item 2183', 2184: 'item 2184', 2185: 'item 2185', 2186: 'item 2186', 2187: 'item 2187', 2188: 'item 2188', 2189: 'item 2189', 2190: 'item 2190', 2191: 'item 2191', 2192: 'item 2192', 2193: 'item 2193', 2194: 'item 2194', 2195: 'item 2195', 2196: 'item 2196', 2197: 'item 2197', 2198: 'item 2198', 2199: 'item 2199', 2200: 'item 2200', 2201: 'item 2201', 2202: 'item 2202', 2203: 'item 2203', 2204: 'item 2204', 2205: 'item 2205', 2206: 'item 2206', 2207: 'item 2207', 2208: 'item 2208', 2209: 'item 2209', 2210: 'item 2210', 2211: 'item 2211', 2212: 'item 2212', 2213: 'item 2213', 2214: 'item 2214', 2215: 'item 2215', 2216: 'item 2216', 2217: 'item 2217', 2218: 'item 2218', 2219: 'item 2219', 2220: 'item 2220', 2221: 'item 2221', 2222: 'item 2222', 2223: 'item 2223', 2224: 'item 2224', 2225: 'item 2225', 2226: 'item 2226', 2227: 'item 2227', 2228: 'item 2228', 2229: 'item 2229', 2230: 'item 2230', 2231: 'item 2231', 2232: 'item 2232', 2233: 'item 2233', 2234: 'item 2234', 2235: 'item 2235', 2236: 'item 2236', 2237: 'item 2237', 2238: 'item 2238', 2239: 'item 2239', 2240: 'item 2240', 2241: 'item 2241', 2242: 'item 2242', 2243: 'item 2243', 2244: 'item 2244', 2245: 'item 2245', 2246: 'item 2246', 2247: 'item 2247', 2248: 'item 2248', 2249: 'item 2249', 2250: 'item 2250', 2251: 'item 2251', 2252: 'item 2252', 2253: 'item 2253', 2254: 'item 2254', 2255: 'item 2255', 2256: 'item 2256', 2257: 'item 2257', 2258: 'item 2258', 2259: 'item 2259', 2260: 'item 2260', 2261: 'item 2261', 2262: 'item 2262', 2263: 'item 2263', 2264: 'item 2264', 2265: 'item 2265', 2266: 'item 2266', 2267: 'item 2267', 2268: 'item 2268', 2269: 'item 2269', 2270: 'item 2270', 2271: 'item 2271', 2272: 'item 2272', 2273: 'item 2273', 2274: 'item 2274', 2275: 'item 2275', 2276: 'item 2276', 2277: 'item 2277', 2278: 'item 2278', 2279: 'item 2279', 2280: 'item 2280', 2281: 'item 2281', 2282: 'item 2282', 2283: 'item 2283', 2284: 'item 2284', 2285: 'item 2285', 2286: 'item 2286', 2287: 'item 2287', 2288: 'item 2288', 2289: 'item 2289', 2290: 'item 2290', 2291: 'item 2291', 2292: 'item 2292', 2293: 'item 2293', 2294: 'item 2294', 2295: 'item 2295', 2296: 'item 2296', 2297: 'item 2297', 2298: 'item 2298', 2299: 'item 2299', 2300: 'item 2300', 2301: 'item 2301', 2302: 'item 2302', 2303: 'item 2303', 2304: 'item 2304', 2305: 'item 2305', 2306: 'item 2306', 2307: 'item 2307', 2308: 'item 2308', 2309: 'item 2309', 2310: 'item 2310', 2311: 'item 2311', 2312: 'item 2312', 2313: 'item 2313', 2314: 'item 2314', 2315: 'item 2315', 2316: 'item 2316', 2317: 'item 2317', 2318: 'item 2318', 2319: 'item 2319', 2320: 'item 2320', 2321: 'item 2321', 2322: 'item 2322', 2323: 'item 2323', 2324: 'item 2324', 2325: 'item 2325', 2326: 'item 2326', 2327: 'item 2327', 2328: 'item 2328', 2329: 'item 2329', 2330: 'item 2330', 2331: 'item 2331', 2332: 'item 2332', 2333: 'item 2333', 2334: 'item 2334', 2335: 'item 2335', 2336: 'item 2336', 2337: 'item 2337', 2338: 'item 2338', 2339: 'item 2339', 2340: 'item 2340', 2341: 'item 2341', 2342: 'item 2342', 2343: 'item 2343', 2344: 'item 2344', 2345: 'item 2345', 2346: 'item 2346', 2347: 'item 2347', 2348: 'item 2348', 2349: 'item 2349', 2350: 'item 2350', 2351: 'item 2351', 2352: 'item 2352', 2353: 'item 2353', 2354: 'item 2354', 2355: 'item 2355', 2356: 'item 2356', 2357: 'item 2357', 2358: 'item 2358', 2359: 'item 2359', 2360: 'item 2360', 2361: 'item 2361', 2362: 'item 2362', 2363: 'item 2363', 2364: 'item 2364', 2365: 'item 2365', 2366: 'item 2366', 2367: 'item 2367', 2368: 'item 2368', 2369: 'item 2369', 2370: 'item 2370', 2371: 'item 2371', 2372: 'item 2372', 2373: 'item 2373', 2374: 'item 2374', 2375: 'item 2375', 2376: 'item 2376', 2377: 'item 2377', 2378: 'item 2378', 2379: 'item 2379', 2380: 'item 2380', 2381: 'item 2381', 2382: 'item 2382', 2383: 'item 2383', 2384: 'item 2384', 2385: 'item 2385', 2386: 'item 2386', 2387: 'item 2387', 2388: 'item 2388', 2389: 'item 2389', 2390: 'item 2390', 2391: 'item 2391', 2392: 'item 2392', 2393: 'item 2393', 2394: 'item 2394', 2395: 'item 2395', 2396: 'item 2396', 2397: 'item 2397', 2398: 'item 2398', 2399: 'item 2399', 2400: 'item 2400', 2401: 'item 2401', 2402: 'item 2402', 2403: 'item 2403', 2404: 'item 2404', 2405: 'item 2405', 2406: 'item 2406', 2407: 'item 2407', 2408: 'item 2408', 2409: 'item 2409', 2410: 'item 2410', 2411: 'item 2411', 2412: 'item 2412', 2413: 'item 2413', 2414: 'item 2414', 2415: 'item 2415', 2416: 'item 2416', 2417: 'item 2417', 2418: 'item 2418', 2419: 'item 2419', 2420: 'item 2420', 2421: 'item 2421', 2422: 'item 2422', 2423: 'item 2423', 2424: 'item 2424', 2425: 'item 2425', 2426: 'item 2426', 2427: 'item 2427', 2428: 'item 2428', 2429: 'item 2429', 2430: 'item 2430', 2431: 'item 2431', 2432: 'item 2432', 2433: 'item 2433', 2434: 'item 2434', 2435: 'item 2435', 2436: 'item 2436', 2437: 'item 2437', 2438: 'item 2438', 2439: 'item 2439', 2440: 'item 2440', 2441: 'item 2441', 2442: 'item 2442', 2443: 'item 2443', 2444: 'item 2444', 2445: 'item 2445', 2446: 'item 2446', 2447: 'item 2447', 2448: 'item 2448', 2449: 'item 2449', 2450: 'item 2450', 2451: 'item 2451', 2452: 'item 2452', 2453: 'item 2453', 2454: 'item 2454', 2455: 'item 2455', 2456: 'item 2456', 2457: 'item 2457', 2458: 'item 2458', 2459: 'item 2459', 2460: 'item 2460', 2461: 'item 2461', 2462: 'item 2462', 2463: 'item 2463', 2464: 'item 2464', 2465: 'item 2465', 2466: 'item 2466', 2467: 'item 2467', 2468: 'item 2468', 2469: 'item 2469', 2470: 'item 2470', 2471: 'item 2471', 2472: 'item 2472', 2473: 'item 2473', 2474: 'item 2474', 2475: 'item 2475', 2476: 'item 2476', 2477: 'item 2477', 2478: 'item 2478', 2479: 'item 2479', 2480: 'item 2480', 2481: 'item 2481', 2482: 'item 2482', 2483: 'item 2483', 2484: 'item 2484', 2485: 'item 2485', 2486: 'item 2486', 2487: 'item 2487', 2488: 'item 2488', 2489: 'item 2489', 2490: 'item 2490', 2491: 'item 2491', 2492: 'item 2492', 2493: 'item 2493', 2494: 'item 2494', 2495: 'item 2495', 2496: 'item 2496', 2497: 'item 2497', 2498: 'item 2498', 2499: 'item 2499', 2500: 'item 2500', 2501: 'item 2501', 2502: 'item 2502', 2503: 'item 2503', 2504: 'item 2504', 2505: 'item 2505', 2506: 'item 2506', 2507: 'item 2507', 2508: 'item 2508', 2509: 'item 2509', 2510: 'item 2510', 2511: 'item 2511', 2512: 'item 2512', 2513: 'item 2513', 2514: 'item 2514', 2515: 'item 2515', 2516: 'item 2516', 2517: 'item 2517', 2518: 'item 2518', 2519: 'item 2519', 2520: 'item 2520', 2521: 'item 2521', 2522: 'item 2522', 2523: 'item 2523', 2524: 'item 2524', 2525: 'item 2525', 2526: 'item 2526', 2527: 'item 2527', 2528: 'item 2528', 2529: 'item 2529', 2530: 'item 2530', 2531: 'item 2531', 2532: 'item 2532', 2533: 'item 2533', 2534: 'item 2534', 2535: 'item 2535', 2536: 'item 2536', 2537: 'item 2537', 2538: 'item 2538', 2539: 'item 2539', 2540: 'item 2540', 2541: 'item 2541', 2542: 'item 2542', 2543: 'item 2543', 2544: 'item 2544', 2545: 'item 2545', 2546: 'item 2546', 2547: 'item 2547', 2548: 'item 2548', 2549: 'item 2549', 2550: 'item 2550', 2551: 'item 2551', 2552: 'item 2552', 2553: 'item 2553', 2554: 'item 2554', 2555: 'item 2555', 2556: 'item 2556', 2557: 'item 2557', 2558: 'item 2558', 2559: 'item 2559', 2560: 'item 2560', 2561: 'item 2561', 2562: 'item 2562', 2563: 'item 2563', 2564: 'item 2564', 2565: 'item 2565', 2566: 'item 2566', 2567: 'item 2567', 2568: 'item 2568', 2569: 'item 2569', 2570: 'item 2570', 2571: 'item 2571', 2572: 'item 2572', 2573: 'item 2573', 2574: 'item 2574', 2575: 'item 2575', 2576: 'item 2576', 2577: 'item 2577', 2578: 'item 2578', 2579: 'item 2579', 2580: 'item 2580', 2581: 'item 2581', 2582: 'item 2582', 2583: 'item 2583', 2584: 'item 2584', 2585: 'item 2585', 2586: 'item 2586', 2587: 'item 2587', 2588: 'item 2588', 2589: 'item 2589', 2590: 'item 2590', 2591: 'item 2591', 2592: 'item 2592', 2593: 'item 2593', 2594: 'item 2594', 2595: 'item 2595', 2596: 'item 2596', 2597: 'item 2597', 2598: 'item 2598', 2599: 'item 2599', 2600: 'item 2600', 2601: 'item 2601', 2602: 'item 2602', 2603: 'item 2603', 2604: 'item 2604', 2605: 'item 2605', 2606: 'item 2606', 2607: 'item 2607', 2608: 'item 2608', 2609: 'item 2609', 2610: 'item 2610', 2611: 'item 2611', 2612: 'item 2612', 2613: 'item 2613', 2614: 'item 2614', 2615: 'item 2615', 2616: 'item 2616', 2617: 'item 2617', 2618: 'item 2618', 2619: 'item 2619', 2620: 'item 2620', 2621: 'item 2621', 2622: 'item 2622', 2623: 'item 2623', 2624: 'item 2624', 2625: 'item 2625', 2626: 'item 2626', 2627: 'item 2627', 2628: 'item 2628', 2629: 'item 2629', 2630: 'item 2630', 2631: 'item 2631', 2632: 'item 2632', 2633: 'item 2633', 2634: 'item 2634', 2635: 'item 2635', 2636: 'item 2636', 2637: 'item 2637', 2638: 'item 2638', 2639: 'item 2639', 2640: 'item 2640', 2641: 'item 2641', 2642: 'item 2642', 2643: 'item 2643', 2644: 'item 2644', 2645: 'item 2645', 2646: 'item 2646', 2647: 'item 2647', 2648: 'item 2648', 2649: 'item 2649', 2650: 'item 2650', 2651: 'item 2651', 2652: 'item 2652', 2653: 'item 2653', 2654: 'item 2654', 2655: 'item 2655', 2656: 'item 2656', 2657: 'item 2657', 2658: 'item 2658', 2659: 'item 2659', 2660: 'item 2660', 2661: 'item 2661', 2662: 'item 2662', 2663: 'item 2663', 2664: 'item 2664', 2665: 'item 2665', 2666: 'item 2666', 2667: 'item 2667', 2668: 'item 2668', 2669: 'item 2669', 2670: 'item 2670', 2671: 'item 2671', 2672: 'item 2672', 2673: 'item 2673', 2674: 'item 2674', 2675: 'item 2675', 2676: 'item 2676', 2677: 'item 2677', 2678: 'item 2678', 2679: 'item 2679', 2680: 'item 2680', 2681: 'item 2681', 2682: 'item 2682', 2683: 'item 2683', 2684: 'item 2684', 2685: 'item 2685', 2686: 'item 2686', 2687: 'item 2687', 2688: 'item 2688', 2689: 'item 2689', 2690: 'item 2690', 2691: 'item 2691', 2692: 'item 2692', 2693: 'item 2693', 2694: 'item 2694', 2695: 'item 2695', 2696: 'item 2696', 2697: 'item 2697', 2698: 'item 2698', 2699: 'item 2699', 2700: 'item 2700', 2701: 'item 2701', 2702: 'item 2702', 2703: 'item 2703', 2704: 'item 2704', 2705: 'item 2705', 2706: 'item 2706', 2707: 'item 2707', 2708: 'item 2708', 2709: 'item 2709', 2710: 'item 2710', 2711: 'item 2711', 2712: 'item 2712', 2713: 'item 2713', 2714: 'item 2714', 2715: 'item 2715', 2716: 'item 2716', 2717: 'item 2717', 2718: 'item 2718', 2719: 'item 2719', 2720: 'item 2720', 2721: 'item 2721', 2722: 'item 2722', 2723: 'item 2723', 2724: 'item 2724', 2725: 'item 2725', 2726: 'item 2726', 2727: 'item 2727', 2728: 'item 2728', 2729: 'item 2729', 2730: 'item 2730', 2731: 'item 2731', 2732: 'item 2732', 2733: 'item 2733', 2734: 'item 2734', 2735: 'item 2735', 2736: 'item 2736', 2737: 'item 2737', 2738: 'item 2738', 2739: 'item 2739', 2740: 'item 2740', 2741: 'item 2741', 2742: 'item 2742', 2743: 'item 2743', 2744: 'item 2744', 2745: 'item 2745', 2746: 'item 2746', 2747: 'item 2747', 2748: 'item 2748', 2749: 'item 2749', 2750: 'item 2750', 2751: 'item 2751', 2752: 'item 2752', 2753: 'item 2753', 2754: 'item 2754', 2755: 'item 2755', 2756: 'item 2756', 2757: 'item 2757', 2758: 'item 2758', 2759: 'item 2759', 2760: 'item 2760', 2761: 'item 2761', 2762: 'item 2762', 2763: 'item 2763', 2764: 'item 2764', 2765: 'item 2765', 2766: 'item 2766', 2767: 'item 2767', 2768: 'item 2768', 2769: 'item 2769', 2770: 'item 2770', 2771: 'item 2771', 2772: 'item 2772', 2773: 'item 2773', 2774: 'item 2774', 2775: 'item 2775', 2776: 'item 2776', 2777: 'item 2777', 2778: 'item 2778', 2779: 'item 2779', 2780: 'item 2780', 2781: 'item 2781', 2782: 'item 2782', 2783: 'item 2783', 2784: 'item 2784', 2785: 'item 2785', 2786: 'item 2786', 2787: 'item 2787', 2788: 'item 2788', 2789: 'item 2789', 2790: 'item 2790', 2791: 'item 2791', 2792: 'item 2792', 2793: 'item 2793', 2794: 'item 2794', 2795: 'item 2795', 2796: 'item 2796', 2797: 'item 2797', 2798: 'item 2798', 2799: 'item 2799', 2800: 'item 2800', 2801: 'item 2801', 2802: 'item 2802', 2803: 'item 2803', 2804: 'item 2804', 2805: 'item 2805', 2806: 'item 2806', 2807: 'item 2807', 2808: 'item 2808', 2809: 'item 2809', 2810: 'item 2810', 2811: 'item 2811', 2812: 'item 2812', 2813: 'item 2813', 2814: 'item 2814', 2815: 'item 2815', 2816: 'item 2816', 2817: 'item 2817', 2818: 'item 2818', 2819: 'item 2819', 2820: 'item 2820', 2821: 'item 2821', 2822: 'item 2822', 2823: 'item 2823', 2824: 'item 2824', 2825: 'item 2825', 2826: 'item 2826', 2827: 'item 2827', 2828: 'item 2828', 2829: 'item 2829', 2830: 'item 2830', 2831: 'item 2831', 2832: 'item 2832', 2833: 'item 2833', 2834: 'item 2834', 2835: 'item 2835', 2836: 'item 2836', 2837: 'item 2837', 2838: 'item 2838', 2839: 'item 2839', 2840: 'item 2840', 2841: 'item 2841', 2842: 'item 2842', 2843: 'item 2843', 2844: 'item 2844', 2845: 'item 2845', 2846: 'item 2846', 2847: 'item 2847', 2848: 'item 2848', 2849: 'item 2849', 2850: 'item 2850', 2851: 'item 2851', 2852: 'item 2852', 2853: 'item 2853', 2854: 'item 2854', 2855: 'item 2855', 2856: 'item 2856', 2857: 'item 2857', 2858: 'item 2858', 2859: 'item 2859', 2860: 'item 2860', 2861: 'item 2861', 2862: 'item 2862', 2863: 'item 2863', 2864: 'item 2864', 2865: 'item 2865', 2866: 'item 2866', 2867: 'item 2867', 2868: 'item 2868', 2869: 'item 2869', 2870: 'item 2870', 2871: 'item 2871', 2872: 'item 2872', 2873: 'item 2873', 2874: 'item 2874', 2875: 'item 2875', 2876: 'item 2876', 2877: 'item 2877', 2878: 'item 2878', 2879: 'item 2879', 2880: 'item 2880', 2881: 'item 2881', 2882: 'item 2882', 2883: 'item 2883', 2884: 'item 2884', 2885: 'item 2885', 2886: 'item 2886', 2887: 'item 2887', 2888: 'item 2888', 2889: 'item 2889', 2890: 'item 2890', 2891: 'item 2891', 2892: 'item 2892', 2893: 'item 2893', 2894: 'item 2894', 2895: 'item 2895', 2896: 'item 2896', 2897: 'item 2897', 2898: 'item 2898', 2899: 'item 2899', 2900: 'item 2900', 2901: 'item 2901', 2902: 'item 2902', 2903: 'item 2903', 2904: 'item 2904', 2905: 'item 2905', 2906: 'item 2906', 2907: 'item 2907', 2908: 'item 2908', 2909: 'item 2909', 2910: 'item 2910', 2911: 'item 2911', 2912: 'item 2912', 2913: 'item 2913', 2914: 'item 2914', 2915: 'item 2915', 2916: 'item 2916', 2917: 'item 2917', 2918: 'item 2918', 2919: 'item 2919', 2920: 'item 2920', 2921: 'item 2921', 2922: 'item 2922', 2923: 'item 2923', 2924: 'item 2924', 2925: 'item 2925', 2926: 'item 2926', 2927: 'item 2927', 2928: 'item 2928', 2929: 'item 2929', 2930: 'item 2930', 2931: 'item 2931', 2932: 'item 2932', 2933: 'item 2933', 2934: 'item 2934', 2935: 'item 2935', 2936: 'item 2936', 2937: 'item 2937', 2938: 'item 2938', 2939: 'item 2939', 2940: 'item 2940', 2941: 'item 2941', 2942: 'item 2942', 2943: 'item 2943', 2944: 'item 2944', 2945: 'item 2945', 2946: 'item 2946', 2947: 'item 2947', 2948: 'item 2948', 2949: 'item 2949', 2950: 'item 2950', 2951: 'item 2951', 2952: 'item 2952', 2953: 'item 2953', 2954: 'item 2954', 2955: 'item 2955', 2956: 'item 2956', 2957: 'item 2957', 2958: 'item 2958', 2959: 'item 2959', 2960: 'item 2960', 2961: 'item 2961', 2962: 'item 2962', 2963: 'item 2963', 2964: 'item 2964', 2965: 'item 2965', 2966: 'item 2966', 2967: 'item 2967', 2968: 'item 2968', 2969: 'item 2969', 2970: 'item 2970', 2971: 'item 2971', 2972: 'item 2972', 2973: 'item 2973', 2974: 'item 2974', 2975: 'item 2975', 2976: 'item 2976', 2977: 'item 2977', 2978: 'item 2978', 2979: 'item 2979', 2980: 'item 2980', 2981: 'item 2981', 2982: 'item 2982', 2983: 'item 2983', 2984: 'item 2984', 2985: 'item 2985', 2986: 'item 2986', 2987: 'item 2987', 2988: 'item 2988', 2989: 'item 2989', 2990: 'item 2990', 2991: 'item 2991', 2992: 'item 2992', 2993: 'item 2993', 2994: 'item 2994', 2995: 'item 2995', 2996: 'item 2996', 2997: 'item 2997', 2998: 'item 2998', 2999: 'item 2999', 3000: 'item 3000', 3001: 'item 3001', 3002: 'item 3002', 3003: 'item 3003', 3004: 'item 3004', 3005: 'item 3005', 3006: 'item 3006', 3007: 'item 3007', 3008: 'item 3008', 3009: 'item 3009', 3010: 'item 3010', 3011: 'item 3011', 3012: 'item 3012', 3013: 'item 3013', 3014: 'item 3014', 3015: 'item 3015', 3016: 'item 3016', 3017: 'item 3017', 3018: 'item 3018', 3019: 'item 3019', 3020: 'item 3020', 3021: 'item 3021', 3022: 'item 3022', 3023: 'item 3023', 3024: 'item 3024', 3025: 'item 3025', 3026: 'item 3026', 3027: 'item 3027', 3028: 'item 3028', 3029: 'item 3029', 3030: 'item 3030', 3031: 'item 3031', 3032: 'item 3032', 3033: 'item 3033', 3034: 'item 3034', 3035: 'item 3035', 3036: 'item 3036', 3037: 'item 3037', 3038: 'item 3038', 3039: 'item 3039', 3040: 'item 3040', 3041: 'item 3041', 3042: 'item 3042', 3043: 'item 3043', 3044: 'item 3044', 3045: 'item 3045', 3046: 'item 3046', 3047: 'item 3047', 3048: 'item 3048', 3049: 'item 3049', 3050: 'item 3050', 3051: 'item 3051', 3052: 'item 3052', 3053: 'item 3053', 3054: 'item 3054', 3055: 'item 3055', 3056: 'item 3056', 3057: 'item 3057', 3058: 'item 3058', 3059: 'item 3059', 3060: 'item 3060', 3061: 'item 3061', 3062: 'item 3062', 3063: 'item 3063', 3064: 'item 3064', 3065: 'item 3065', 3066: 'item 3066', 3067: 'item 3067', 3068: 'item 3068', 3069: 'item 3069', 3070: 'item 3070', 3071: 'item 3071', 3072: 'item 3072', 3073: 'item 3073', 3074: 'item 3074', 3075: 'item 3075', 3076: 'item 3076', 3077: 'item 3077', 3078: 'item 3078', 3079: 'item 3079', 3080: 'item 3080', 3081: 'item 3081', 3082: 'item 3082', 3083: 'item 3083', 3084: 'item 3084', 3085: 'item 3085', 3086: 'item 3086', 3087: 'item 3087', 3088: 'item 3088', 3089: 'item 3089', 3090: 'item 3090', 3091: 'item 3091', 3092: 'item 3092', 3093: 'item 3093', 3094: 'item 3094', 3095: 'item 3095', 3096: 'item 3096', 3097: 'item 3097', 3098: 'item 3098', 3099: 'item 3099', 3100: 'item 3100', 3101: 'item 3101', 3102: 'item 3102', 3103: 'item 3103', 3104: 'item 3104', 3105: 'item 3105', 3106: 'item 3106', 3107: 'item 3107', 3108: 'item 3108', 3109: 'item 3109', 3110: 'item 3110', 3111: 'item 3111', 3112: 'item 3112', 3113: 'item 3113', 3114: 'item 3114', 3115: 'item 3115', 3116: 'item 3116', 3117: 'item 3117', 3118: 'item 3118', 3119: 'item 3119', 3120: 'item 3120', 3121: 'item 3121', 3122: 'item 3122', 3123: 'item 3123', 3124: 'item 3124', 3125: 'item 3125', 3126: 'item 3126', 3127: 'item 3127', 3128: 'item 3128', 3129: 'item 3129', 3130: 'item 3130', 3131: 'item 3131', 3132: 'item 3132', 3133: 'item 3133', 3134: 'item 3134', 3135: 'item 3135', 3136: 'item 3136', 3137: 'item 3137', 3138: 'item 3138', 3139: 'item 3139', 3140: 'item 3140', 3141: 'item 3141', 3142: 'item 3142', 3143: 'item 3143', 3144: 'item 3144', 3145: 'item 3145', 3146: 'item 3146', 3147: 'item 3147', 3148: 'item 3148', 3149: 'item 3149', 3150: 'item 3150', 3151: 'item 3151', 3152: 'item 3152', 3153: 'item 3153', 3154: 'item 3154', 3155: 'item 3155', 3156: 'item 3156', 3157: 'item 3157', 3158: 'item 3158', 3159: 'item 3159', 3160: 'item 3160', 3161: 'item 3161', 3162: 'item 3162', 3163: 'item 3163', 3164: 'item 3164', 3165: 'item 3165', 3166: 'item 3166', 3167: 'item 3167', 3168: 'item 3168', 3169: 'item 3169', 3170: 'item 3170', 3171: 'item 3171', 3172: 'item 3172', 3173: 'item 3173', 3174: 'item 3174', 3175: 'item 3175', 3176: 'item 3176', 3177: 'item 3177', 3178: 'item 3178', 3179: 'item 3179', 3180: 'item 3180', 3181: 'item 3181', 3182: 'item 3182', 3183: 'item 3183', 3184: 'item 3184', 3185: 'item 3185', 3186: 'item 3186', 3187: 'item 3187', 3188: 'item 3188', 3189: 'item 3189', 3190: 'item 3190', 3191: 'item 3191', 3192: 'item 3192', 3193: 'item 3193', 3194: 'item 3194', 3195: 'item 3195', 3196: 'item 3196', 3197: 'item 3197', 3198: 'item 3198', 3199: 'item 3199', 3200: 'item 3200', 3201: 'item 3201', 3202: 'item 3202', 3203: 'item 3203', 3204: 'item 3204', 3205: 'item 3205', 3206: 'item 3206', 3207: 'item 3207', 3208: 'item 3208', 3209: 'item 3209', 3210: 'item 3210', 3211: 'item 3211', 3212: 'item 3212', 3213: 'item 3213', 3214: 'item 3214', 3215: 'item 3215', 3216: 'item 3216', 3217: 'item 3217', 3218: 'item 3218', 3219: 'item 3219', 3220: 'item 3220', 3221: 'item 3221', 3222: 'item 3222', 3223: 'item 3223', 3224: 'item 3224', 3225: 'item 3225', 3226: 'item 3226', 3227: 'item 3227', 3228: 'item 3228', 3229: 'item 3229', 3230: 'item 3230', 3231: 'item 3231', 3232: 'item 3232', 3233: 'item 3233', 3234: 'item 3234', 3235: 'item 3235', 3236: 'item 3236', 3237: 'item 3237', 3238: 'item 3238', 3239: 'item 3239', 3240: 'item 3240', 3241: 'item 3241', 3242: 'item 3242', 3243: 'item 3243', 3244: 'item 3244', 3245: 'item 3245', 3246: 'item 3246', 3247: 'item 3247', 3248: 'item 3248', 3249: 'item 3249', 3250: 'item 3250', 3251: 'item 3251', 3252: 'item 3252', 3253: 'item 3253', 3254: 'item 3254', 3255: 'item 3255', 3256: 'item 3256', 3257: 'item 3257', 3258: 'item 3258', 3259: 'item 3259', 3260: 'item 3260', 3261: 'item 3261', 3262: 'item 3262', 3263: 'item 3263', 3264: 'item 3264', 3265: 'item 3265', 3266: 'item 3266', 3267: 'item 3267', 3268: 'item 3268', 3269: 'item 3269', 3270: 'item 3270', 3271: 'item 3271', 3272: 'item 3272', 3273: 'item 3273', 3274: 'item 3274', 3275: 'item 3275', 3276: 'item 3276', 3277: 'item 3277', 3278: 'item 3278', 3279: 'item 3279', 3280: 'item 3280', 3281: 'item 3281', 3282: 'item 3282', 3283: 'item 3283', 3284: 'item 3284', 3285: 'item 3285', 3286: 'item 3286', 3287: 'item 3287', 3288: 'item 3288', 3289: 'item 3289', 3290: 'item 3290', 3291: 'item 3291', 3292: 'item 3292', 3293: 'item 3293', 3294: 'item 3294', 3295: 'item 3295', 3296: 'item 3296', 3297: 'item 3297', 3298: 'item 3298', 3299: 'item 3299', 3300: 'item 3300', 3301: 'item 3301', 3302: 'item 3302', 3303: 'item 3303', 3304: 'item 3304', 3305: 'item 3305', 3306: 'item 3306', 3307: 'item 3307', 3308: 'item 3308', 3309: 'item 3309', 3310: 'item 3310', 3311: 'item 3311', 3312: 'item 3312', 3313: 'item 3313', 3314: 'item 3314', 3315: 'item 3315', 3316: 'item 3316', 3317: 'item 3317', 3318: 'item 3318', 3319: 'item 3319', 3320: 'item 3320', 3321: 'item 3321', 3322: 'item 3322', 3323: 'item 3323', 3324: 'item 3324', 3325: 'item 3325', 3326: 'item 3326', 3327: 'item 3327', 3328: 'item 3328', 3329: 'item 3329', 3330: 'item 3330', 3331: 'item 3331', 3332: 'item 3332', 3333: 'item 3333', 3334: 'item 3334', 3335: 'item 3335', 3336: 'item 3336', 3337: 'item 3337', 3338: 'item 3338', 3339: 'item 3339', 3340: 'item 3340', 3341: 'item 3341', 3342: 'item 3342', 3343: 'item 3343', 3344: 'item 3344', 3345: 'item 3345', 3346: 'item 3346', 3347: 'item 3347', 3348: 'item 3348', 3349: 'item 3349', 3350: 'item 3350', 3351: 'item 3351', 3352: 'item 3352', 3353: 'item 3353', 3354: 'item 3354', 3355: 'item 3355', 3356: 'item 3356', 3357: 'item 3357', 3358: 'item 3358', 3359: 'item 3359', 3360: 'item 3360', 3361: 'item 3361', 3362: 'item 3362', 3363: 'item 3363', 3364: 'item 3364', 3365: 'item 3365', 3366: 'item 3366', 3367: 'item 3367', 3368: 'item 3368', 3369: 'item 3369', 3370: 'item 3370', 3371: 'item 3371', 3372: 'item 3372', 3373: 'item 3373', 3374: 'item 3374', 3375: 'item 3375', 3376: 'item 3376', 3377: 'item 3377', 3378: 'item 3378', 3379: 'item 3379', 3380: 'item 3380', 3381: 'item 3381', 3382: 'item 3382', 3383: 'item 3383', 3384: 'item 3384', 3385: 'item 3385', 3386: 'item 3386', 3387: 'item 3387', 3388: 'item 3388', 3389: 'item 3389', 3390: 'item 3390', 3391: 'item 3391', 3392: 'item 3392', 3393: 'item 3393', 3394: 'item 3394', 3395: 'item 3395', 3396: 'item 3396', 3397: 'item 3397', 3398: 'item 3398', 3399: 'item 3399', 3400: 'item 3400', 3401: 'item 3401', 3402: 'item 3402', 3403: 'item 3403', 3404: 'item 3404', 3405: 'item 3405', 3406: 'item 3406', 3407: 'item 3407', 3408: 'item 3408', 3409: 'item 3409', 3410: 'item 3410', 3411: 'item 3411', 3412: 'item 3412', 3413: 'item 3413', 3414: 'item 3414', 3415: 'item 3415', 3416: 'item 3416', 3417: 'item 3417', 3418: 'item 3418', 3419: 'item 3419', 3420: 'item 3420', 3421: 'item 3421', 3422: 'item 3422', 3423: 'item 3423', 3424: 'item 3424', 3425: 'item 3425', 3426: 'item 3426', 3427: 'item 3427', 3428: 'item 3428', 3429: 'item 3429', 3430: 'item 3430', 3431: 'item 3431', 3432: 'item 3432', 3433: 'item 3433', 3434: 'item 3434', 3435: 'item 3435', 3436: 'item 3436', 3437: 'item 3437', 3438: 'item 3438', 3439: 'item 3439', 3440: 'item 3440', 3441: 'item 3441', 3442: 'item 3442', 3443: 'item 3443', 3444: 'item 3444', 3445: 'item 3445', 3446: 'item 3446', 3447: 'item 3447', 3448: 'item 3448', 3449: 'item 3449', 3450: 'item 3450', 3451: 'item 3451', 3452: 'item 3452', 3453: 'item 3453', 3454: 'item 3454', 3455: 'item 3455', 3456: 'item 3456', 3457: 'item 3457', 3458: 'item 3458', 3459: 'item 3459', 3460: 'item 3460', 3461: 'item 3461', 3462: 'item 3462', 3463: 'item 3463', 3464: 'item 3464', 3465: 'item 3465', 3466: 'item 3466', 3467: 'item 3467', 3468: 'item 3468', 3469: 'item 3469', 3470: 'item 3470', 3471: 'item 3471', 3472: 'item 3472', 3473: 'item 3473', 3474: 'item 3474', 3475: 'item 3475', 3476: 'item 3476', 3477: 'item 3477', 3478: 'item 3478', 3479: 'item 3479', 3480: 'item 3480', 3481: 'item 3481', 3482: 'item 3482', 3483: 'item 3483', 3484: 'item 3484', 3485: 'item 3485', 3486: 'item 3486', 3487: 'item 3487', 3488: 'item 3488', 3489: 'item 3489', 3490: 'item 3490', 3491: 'item 3491', 3492: 'item 3492', 3493: 'item 3493', 3494: 'item 3494', 3495: 'item 3495', 3496: 'item 3496', 3497: 'item 3497', 3498: 'item 3498', 3499: 'item 3499', 3500: 'item 3500', 3501: 'item 3501', 3502: 'item 3502', 3503: 'item 3503', 3504: 'item 3504', 3505: 'item 3505', 3506: 'item 3506', 3507: 'item 3507', 3508: 'item 3508', 3509: 'item 3509', 3510: 'item 3510', 3511: 'item 3511', 3512: 'item 3512', 3513: 'item 3513', 3514: 'item 3514', 3515: 'item 3515', 3516: 'item 3516', 3517: 'item 3517', 3518: 'item 3518', 3519: 'item 3519', 3520: 'item 3520', 3521: 'item 3521', 3522: 'item 3522', 3523: 'item 3523', 3524: 'item 3524', 3525: 'item 3525', 3526: 'item 3526', 3527: 'item 3527', 3528: 'item 3528', 3529: 'item 3529', 3530: 'item 3530', 3531: 'item 3531', 3532: 'item 3532', 3533: 'item 3533', 3534: 'item 3534', 3535: 'item 3535', 3536: 'item 3536', 3537: 'item 3537', 3538: 'item 3538', 3539: 'item 3539', 3540: 'item 3540', 3541: 'item 3541', 3542: 'item 3542', 3543: 'item 3543', 3544: 'item 3544', 3545: 'item 3545', 3546: 'item 3546', 3547: 'item 3547', 3548: 'item 3548', 3549: 'item 3549', 3550: 'item 3550', 3551: 'item 3551', 3552: 'item 3552', 3553: 'item 3553', 3554: 'item 3554', 3555: 'item 3555', 3556: 'item 3556', 3557: 'item 3557', 3558: 'item 3558', 3559: 'item 3559', 3560: 'item 3560', 3561: 'item 3561', 3562: 'item 3562', 3563: 'item 3563', 3564: 'item 3564', 3565: 'item 3565', 3566: 'item 3566', 3567: 'item 3567', 3568: 'item 3568', 3569: 'item 3569', 3570: 'item 3570', 3571: 'item 3571', 3572: 'item 3572', 3573: 'item 3573', 3574: 'item 3574', 3575: 'item 3575', 3576: 'item 3576', 3577: 'item 3577', 3578: 'item 3578', 3579: 'item 3579', 3580: 'item 3580', 3581: 'item 3581', 3582: 'item 3582', 3583: 'item 3583', 3584: 'item 3584', 3585: 'item 3585', 3586: 'item 3586', 3587: 'item 3587', 3588: 'item 3588', 3589: 'item 3589', 3590: 'item 3590', 3591: 'item 3591', 3592: 'item 3592', 3593: 'item 3593', 3594: 'item 3594', 3595: 'item 3595', 3596: 'item 3596', 3597: 'item 3597', 3598: 'item 3598', 3599: 'item 3599', 3600: 'item 3600', 3601: 'item 3601', 3602: 'item 3602', 3603: 'item 3603', 3604: 'item 3604', 3605: 'item 3605', 3606: 'item 3606', 3607: 'item 3607', 3608: 'item 3608', 3609: 'item 3609', 3610: 'item 3610', 3611: 'item 3611', 3612: 'item 3612', 3613: 'item 3613', 3614: 'item 3614', 3615: 'item 3615', 3616: 'item 3616', 3617: 'item 3617', 3618: 'item 3618', 3619: 'item 3619', 3620: 'item 3620', 3621: 'item 3621', 3622: 'item 3622', 3623: 'item 3623', 3624: 'item 3624', 3625: 'item 3625', 3626: 'item 3626', 3627: 'item 3627', 3628: 'item 3628', 3629: 'item 3629', 3630: 'item 3630', 3631: 'item 3631', 3632: 'item 3632', 3633: 'item 3633', 3634: 'item 3634', 3635: 'item 3635', 3636: 'item 3636', 3637: 'item 3637', 3638: 'item 3638', 3639: 'item 3639', 3640: 'item 3640', 3641: 'item 3641', 3642: 'item 3642', 3643: 'item 3643', 3644: 'item 3644', 3645: 'item 3645', 3646: 'item 3646', 3647: 'item 3647', 3648: 'item 3648', 3649: 'item 3649', 3650: 'item 3650', 3651: 'item 3651', 3652: 'item 3652', 3653: 'item 3653', 3654: 'item 3654', 3655: 'item 3655', 3656: 'item 3656', 3657: 'item 3657', 3658: 'item 3658', 3659: 'item 3659', 3660: 'item 3660', 3661: 'item 3661', 3662: 'item 3662', 3663: 'item 3663', 3664: 'item 3664', 3665: 'item 3665', 3666: 'item 3666', 3667: 'item 3667', 3668: 'item 3668', 3669: 'item 3669', 3670: 'item 3670', 3671: 'item 3671', 3672: 'item 3672', 3673: 'item 3673', 3674: 'item 3674', 3675: 'item 3675', 3676: 'item 3676', 3677: 'item 3677', 3678: 'item 3678', 3679: 'item 3679', 3680: 'item 3680', 3681: 'item 3681', 3682: 'item 3682', 3683: 'item 3683', 3684: 'item 3684', 3685: 'item 3685', 3686: 'item 3686', 3687: 'item 3687', 3688: 'item 3688', 3689: 'item 3689', 3690: 'item 3690', 3691: 'item 3691', 3692: 'item 3692', 3693: 'item 3693', 3694: 'item 3694', 3695: 'item 3695', 3696: 'item 3696', 3697: 'item 3697', 3698: 'item 3698', 3699: 'item 3699', 3700: 'item 3700', 3701: 'item 3701', 3702: 'item 3702', 3703: 'item 3703', 3704: 'item 3704', 3705: 'item 3705', 3706: 'item 3706', 3707: 'item 3707', 3708: 'item 3708', 3709: 'item 3709', 3710: 'item 3710', 3711: 'item 3711', 3712: 'item 3712', 3713: 'item 3713', 3714: 'item 3714', 3715: 'item 3715', 3716: 'item 3716', 3717: 'item 3717', 3718: 'item 3718', 3719: 'item 3719', 3720: 'item 3720', 3721: 'item 3721', 3722: 'item 3722', 3723: 'item 3723', 3724: 'item 3724', 3725: 'item 3725', 3726: 'item 3726', 3727: 'item 3727', 3728: 'item 3728', 3729: 'item 3729', 3730: 'item 3730', 3731: 'item 3731', 3732: 'item 3732', 3733: 'item 3733', 3734: 'item 3734', 3735: 'item 3735', 3736: 'item 3736', 3737: 'item 3737', 3738: 'item 3738', 3739: 'item 3739', 3740: 'item 3740', 3741: 'item 3741', 3742: 'item 3742', 3743: 'item 3743', 3744: 'item 3744', 3745: 'item 3745', 3746: 'item 3746', 3747: 'item 3747', 3748: 'item 3748', 3749: 'item 3749', 3750: 'item 3750', 3751: 'item 3751', 3752: 'item 3752', 3753: 'item 3753', 3754: 'item 3754', 3755: 'item 3755', 3756: 'item 3756', 3757: 'item 3757', 3758: 'item 3758', 3759: 'item 3759', 3760: 'item 3760', 3761: 'item 3761', 3762: 'item 3762', 3763: 'item 3763', 3764: 'item 3764', 3765: 'item 3765', 3766: 'item 3766', 3767: 'item 3767', 3768: 'item 3768', 3769: 'item 3769', 3770: 'item 3770', 3771: 'item 3771', 3772: 'item 3772', 3773: 'item 3773', 3774: 'item 3774', 3775: 'item 3775', 3776: 'item 3776', 3777: 'item 3777', 3778: 'item 3778', 3779: 'item 3779', 3780: 'item 3780', 3781: 'item 3781', 3782: 'item 3782', 3783: 'item 3783', 3784: 'item 3784', 3785: 'item 3785', 3786: 'item 3786', 3787: 'item 3787', 3788: 'item 3788', 3789: 'item 3789', 3790: 'item 3790', 3791: 'item 3791', 3792: 'item 3792', 3793: 'item 3793', 3794: 'item 3794', 3795: 'item 3795', 3796: 'item 3796', 3797: 'item 3797', 3798: 'item 3798', 3799: 'item 3799', 3800: 'item 3800', 3801: 'item 3801', 3802: 'item 3802', 3803: 'item 3803', 3804: 'item 3804', 3805: 'item 3805', 3806: 'item 3806', 3807: 'item 3807', 3808: 'item 3808', 3809: 'item 3809', 3810: 'item 3810', 3811: 'item 3811', 3812: 'item 3812', 3813: 'item 3813', 3814: 'item 3814', 3815: 'item 3815', 3816: 'item 3816', 3817: 'item 3817', 3818: 'item 3818', 3819: 'item 3819', 3820: 'item 3820', 3821: 'item 3821', 3822: 'item 3822', 3823: 'item 3823', 3824: 'item 3824', 3825: 'item 3825', 3826: 'item 3826', 3827: 'item 3827', 3828: 'item 3828', 3829: 'item 3829', 3830: 'item 3830', 3831: 'item 3831', 3832: 'item 3832', 3833: 'item 3833', 3834: 'item 3834', 3835: 'item 3835', 3836: 'item 3836', 3837: 'item 3837', 3838: 'item 3838', 3839: 'item 3839', 3840: 'item 3840', 3841: 'item 3841', 3842: 'item 3842', 3843: 'item 3843', 3844: 'item 3844', 3845: 'item 3845', 3846: 'item 3846', 3847: 'item 3847', 3848: 'item 3848', 3849: 'item 3849', 3850: 'item 3850', 3851: 'item 3851', 3852: 'item 3852', 3853: 'item 3853', 3854: 'item 3854', 3855: 'item 3855', 3856: 'item 3856', 3857: 'item 3857', 3858: 'item 3858', 3859: 'item 3859', 3860: 'item 3860', 3861: 'item 3861', 3862: 'item 3862', 3863: 'item 3863', 3864: 'item 3864', 3865: 'item 3865', 3866: 'item 3866', 3867: 'item 3867', 3868: 'item 3868', 3869: 'item 3869', 3870: 'item 3870', 3871: 'item 3871', 3872: 'item 3872', 3873: 'item 3873', 3874: 'item 3874', 3875: 'item 3875', 3876: 'item 3876', 3877: 'item 3877', 3878: 'item 3878', 3879: 'item 3879', 3880: 'item 3880', 3881: 'item 3881', 3882: 'item 3882', 3883: 'item 3883', 3884: 'item 3884', 3885: 'item 3885', 3886: 'item 3886', 3887: 'item 3887', 3888: 'item 3888', 3889: 'item 3889', 3890: 'item 3890', 3891: 'item 3891', 3892: 'item 3892', 3893: 'item 3893', 3894: 'item 3894', 3895: 'item 3895', 3896: 'item 3896', 3897: 'item 3897', 3898: 'item 3898', 3899: 'item 3899', 3900: 'item 3900', 3901: 'item 3901', 3902: 'item 3902', 3903: 'item 3903', 3904: 'item 3904', 3905: 'item 3905', 3906: 'item 3906', 3907: 'item 3907', 3908: 'item 3908', 3909: 'item 3909', 3910: 'item 3910', 3911: 'item 3911', 3912: 'item 3912', 3913: 'item 3913', 3914: 'item 3914', 3915: 'item 3915', 3916: 'item 3916', 3917: 'item 3917', 3918: 'item 3918', 3919: 'item 3919', 3920: 'item 3920', 3921: 'item 3921', 3922: 'item 3922', 3923: 'item 3923', 3924: 'item 3924', 3925: 'item 3925', 3926: 'item 3926', 3927: 'item 3927', 3928: 'item 3928', 3929: 'item 3929', 3930: 'item 3930', 3931: 'item 3931', 3932: 'item 3932', 3933: 'item 3933', 3934: 'item 3934', 3935: 'item 3935', 3936: 'item 3936', 3937: 'item 3937', 3938: 'item 3938', 3939: 'item 3939', 3940: 'item 3940', 3941: 'item 3941', 3942: 'item 3942', 3943: 'item 3943', 3944: 'item 3944', 3945: 'item 3945', 3946: 'item 3946', 3947: 'item 3947', 3948: 'item 3948', 3949: 'item 3949', 3950: 'item 3950', 3951: 'item 3951', 3952: 'item 3952', 3953: 'item 3953', 3954: 'item 3954', 3955: 'item 3955', 3956: 'item 3956', 3957: 'item 3957', 3958: 'item 3958', 3959: 'item 3959', 3960: 'item 3960', 3961: 'item 3961', 3962: 'item 3962', 3963: 'item 3963', 3964: 'item 3964', 3965: 'item 3965', 3966: 'item 3966', 3967: 'item 3967', 3968: 'item 3968', 3969: 'item 3969', 3970: 'item 3970', 3971: 'item 3971', 3972: 'item 3972', 3973: 'item 3973', 3974: 'item 3974', 3975: 'item 3975', 3976: 'item 3976', 3977: 'item 3977', 3978: 'item 3978', 3979: 'item 3979', 3980: 'item 3980', 3981: 'item 3981', 3982: 'item 3982', 3983: 'item 3983', 3984: 'item 3984', 3985: 'item 3985', 3986: 'item 3986', 3987: 'item 3987', 3988: 'item 3988', 3989: 'item 3989', 3990: 'item 3990', 3991: 'item 3991', 3992: 'item 3992', 3993: 'item 3993', 3994: 'item 3994', 3995: 'item 3995', 3996: 'item 3996', 3997: 'item 3997', 3998: 'item 3998', 3999: 'item 3999', 4000: 'item 4000', 4001: 'item 4001', 4002: 'item 4002', 4003: 'item 4003', 4004: 'item 4004', 4005: 'item 4005', 4006: 'item 4006', 4007: 'item 4007', 4008: 'item 4008', 4009: 'item 4009', 4010: 'item 4010', 4011: 'item 4011', 4012: 'item 4012', 4013: 'item 4013', 4014: 'item 4014', 4015: 'item 4015', 4016: 'item 4016', 4017: 'item 4017', 4018: 'item 4018', 4019: 'item 4019', 4020: 'item 4020', 4021: 'item 4021', 4022: 'item 4022', 4023: 'item 4023', 4024: 'item 4024', 4025: 'item 4025', 4026: 'item 4026', 4027: 'item 4027', 4028: 'item 4028', 4029: 'item 4029', 4030: 'item 4030', 4031: 'item 4031', 4032: 'item 4032', 4033: 'item 4033', 4034: 'item 4034', 4035: 'item 4035', 4036: 'item 4036', 4037: 'item 4037', 4038: 'item 4038', 4039: 'item 4039', 4040: 'item 4040', 4041: 'item 4041', 4042: 'item 4042', 4043: 'item 4043', 4044: 'item 4044', 4045: 'item 4045', 4046: 'item 4046', 4047: 'item 4047', 4048: 'item 4048', 4049: 'item 4049', 4050: 'item 4050', 4051: 'item 4051', 4052: 'item 4052', 4053: 'item 4053', 4054: 'item 4054', 4055: 'item 4055', 4056: 'item 4056', 4057: 'item 4057', 4058: 'item 4058', 4059: 'item 4059', 4060: 'item 4060', 4061: 'item 4061', 4062: 'item 4062', 4063: 'item 4063', 4064: 'item 4064', 4065: 'item 4065', 4066: 'item 4066', 4067: 'item 4067', 4068: 'item 4068', 4069: 'item 4069', 4070: 'item 4070', 4071: 'item 4071', 4072: 'item 4072', 4073: 'item 4073', 4074: 'item 4074', 4075: 'item 4075', 4076: 'item 4076', 4077: 'item 4077', 4078: 'item 4078', 4079: 'item 4079', 4080: 'item 4080', 4081: 'item 4081', 4082: 'item 4082', 4083: 'item 4083', 4084: 'item 4084', 4085: 'item 4085', 4086: 'item 4086', 4087: 'item 4087', 4088: 'item 4088', 4089: 'item 4089', 4090: 'item 4090', 4091: 'item 4091', 4092: 'item 4092', 4093: 'item 4093', 4094: 'item 4094', 4095: 'item 4095', 4096: 'item 4096', 4097: 'item 4097', 4098: 'item 4098', 4099: 'item 4099', 4100: 'item 4100', 4101: 'item 4101', 4102: 'item 4102', 4103: 'item 4103', 4104: 'item 4104', 4105: 'item 4105', 4106: 'item 4106', 4107: 'item 4107', 4108: 'item 4108', 4109: 'item 4109', 4110: 'item 4110', 4111: 'item 4111', 4112: 'item 4112', 4113: 'item 4113', 4114: 'item 4114', 4115: 'item 4115', 4116: 'item 4116', 4117: 'item 4117', 4118: 'item 4118', 4119: 'item 4119', 4120: 'item 4120', 4121: 'item 4121', 4122: 'item 4122', 4123: 'item 4123', 4124: 'item 4124', 4125: 'item 4125', 4126: 'item 4126', 4127: 'item 4127', 4128: 'item 4128', 4129: 'item 4129', 4130: 'item 4130', 4131: 'item 4131', 4132: 'item 4132', 4133: 'item 4133', 4134: 'item 4134', 4135: 'item 4135', 4136: 'item 4136', 4137: 'item 4137', 4138: 'item 4138', 4139: 'item 4139', 4140: 'item 4140', 4141: 'item 4141', 4142: 'item 4142', 4143: 'item 4143', 4144: 'item 4144', 4145: 'item 4145', 4146: 'item 4146', 4147: 'item 4147', 4148: 'item 4148', 4149: 'item 4149', 4150: 'item 4150', 4151: 'item 4151', 4152: 'item 4152', 4153: 'item 4153', 4154: 'item 4154', 4155: 'item 4155', 4156: 'item 4156', 4157: 'item 4157', 4158: 'item 4158', 4159: 'item 4159', 4160: 'item 4160', 4161: 'item 4161', 4162: 'item 4162', 4163: 'item 4163', 4164: 'item 4164', 4165: 'item 4165', 4166: 'item 4166', 4167: 'item 4167', 4168: 'item 4168', 4169: 'item 4169', 4170: 'item 4170', 4171: 'item 4171', 4172: 'item 4172', 4173: 'item 4173', 4174: 'item 4174', 4175: 'item 4175', 4176: 'item 4176', 4177: 'item 4177', 4178: 'item 4178', 4179: 'item 4179', 4180: 'item 4180', 4181: 'item 4181', 4182: 'item 4182', 4183: 'item 4183', 4184: 'item 4184', 4185: 'item 4185', 4186: 'item 4186', 4187: 'item 4187', 4188: 'item 4188', 4189: 'item 4189', 4190: 'item 4190', 4191: 'item 4191', 4192: 'item 4192', 4193: 'item 4193', 4194: 'item 4194', 4195: 'item 4195', 4196: 'item 4196', 4197: 'item 4197', 4198: 'item 4198', 4199: 'item 4199', 4200: 'item 4200', 4201: 'item 4201', 4202: 'item 4202', 4203: 'item 4203', 4204: 'item 4204', 4205: 'item 4205', 4206: 'item 4206', 4207: 'item 4207', 4208: 'item 4208', 4209: 'item 4209', 4210: 'item 4210', 4211: 'item 4211', 4212: 'item 4212', 4213: 'item 4213', 4214: 'item 4214', 4215: 'item 4215', 4216: 'item 4216', 4217: 'item 4217', 4218: 'item 4218', 4219: 'item 4219', 4220: 'item 4220', 4221: 'item 4221', 4222: 'item 4222', 4223: 'item 4223', 4224: 'item 4224', 4225: 'item 4225', 4226: 'item 4226', 4227: 'item 4227', 4228: 'item 4228', 4229: 'item 4229', 4230: 'item 4230', 4231: 'item 4231', 4232: 'item 4232', 4233: 'item 4233', 4234: 'item 4234', 4235: 'item 4235', 4236: 'item 4236', 4237: 'item 4237', 4238: 'item 4238', 4239: 'item 4239', 4240: 'item 4240', 4241: 'item 4241', 4242: 'item 4242', 4243: 'item 4243', 4244: 'item 4244', 4245: 'item 4245', 4246: 'item 4246', 4247: 'item 4247', 4248: 'item 4248', 4249: 'item 4249', 4250: 'item 4250', 4251: 'item 4251', 4252: 'item 4252', 4253: 'item 4253', 4254: 'item 4254', 4255: 'item 4255', 4256: 'item 4256', 4257: 'item 4257', 4258: 'item 4258', 4259: 'item 4259', 4260: 'item 4260', 4261: 'item 4261', 4262: 'item 4262', 4263: 'item 4263', 4264: 'item 4264', 4265: 'item 4265', 4266: 'item 4266', 4267: 'item 4267', 4268: 'item 4268', 4269: 'item 4269', 4270: 'item 4270', 4271: 'item 4271', 4272: 'item 4272', 4273: 'item 4273', 4274: 'item 4274', 4275: 'item 4275', 4276: 'item 4276', 4277: 'item 4277', 4278: 'item 4278', 4279: 'item 4279', 4280: 'item 4280', 4281: 'item 4281', 4282: 'item 4282', 4283: 'item 4283', 4284: 'item 4284', 4285: 'item 4285', 4286: 'item 4286', 4287: 'item 4287', 4288: 'item 4288', 4289: 'item 4289', 4290: 'item 4290', 4291: 'item 4291', 4292: 'item 4292', 4293: 'item 4293', 4294: 'item 4294', 4295: 'item 4295', 4296: 'item 4296', 4297: 'item 4297', 4298: 'item 4298', 4299: 'item 4299', 4300: 'item 4300', 4301: 'item 4301', 4302: 'item 4302', 4303: 'item 4303', 4304: 'item 4304', 4305: 'item 4305', 4306: 'item 4306', 4307: 'item 4307', 4308: 'item 4308', 4309: 'item 4309', 4310: 'item 4310', 4311: 'item 4311', 4312: 'item 4312', 4313: 'item 4313', 4314: 'item 4314', 4315: 'item 4315', 4316: 'item 4316', 4317: 'item 4317', 4318: 'item 4318', 4319: 'item 4319', 4320: 'item 4320', 4321: 'item 4321', 4322: 'item 4322', 4323: 'item 4323', 4324: 'item 4324', 4325: 'item 4325', 4326: 'item 4326', 4327: 'item 4327', 4328: 'item 4328', 4329: 'item 4329', 4330: 'item 4330', 4331: 'item 4331', 4332: 'item 4332', 4333: 'item 4333', 4334: 'item 4334', 4335: 'item 4335', 4336: 'item 4336', 4337: 'item 4337', 4338: 'item 4338', 4339: 'item 4339', 4340: 'item 4340', 4341: 'item 4341', 4342: 'item 4342', 4343: 'item 4343', 4344: 'item 4344', 4345: 'item 4345', 4346: 'item 4346', 4347: 'item 4347', 4348: 'item 4348', 4349: 'item 4349', 4350: 'item 4350', 4351: 'item 4351', 4352: 'item 4352', 4353: 'item 4353', 4354: 'item 4354', 4355: 'item 4355', 4356: 'item 4356', 4357: 'item 4357', 4358: 'item 4358', 4359: 'item 4359', 4360: 'item 4360', 4361: 'item 4361', 4362: 'item 4362', 4363: 'item 4363', 4364: 'item 4364', 4365: 'item 4365', 4366: 'item 4366', 4367: 'item 4367', 4368: 'item 4368', 4369: 'item 4369', 4370: 'item 4370', 4371: 'item 4371', 4372: 'item 4372', 4373: 'item 4373', 4374: 'item 4374', 4375: 'item 4375', 4376: 'item 4376', 4377: 'item 4377', 4378: 'item 4378', 4379: 'item 4379', 4380: 'item 4380', 4381: 'item 4381', 4382: 'item 4382', 4383: 'item 4383', 4384: 'item 4384', 4385: 'item 4385', 4386: 'item 4386', 4387: 'item 4387', 4388: 'item 4388', 4389: 'item 4389', 4390: 'item 4390', 4391: 'item 4391', 4392: 'item 4392', 4393: 'item 4393', 4394: 'item 4394', 4395: 'item 4395', 4396: 'item 4396', 4397: 'item 4397', 4398: 'item 4398', 4399: 'item 4399', 4400: 'item 4400', 4401: 'item 4401', 4402: 'item 4402', 4403: 'item 4403', 4404: 'item 4404', 4405: 'item 4405', 4406: 'item 4406', 4407: 'item 4407', 4408: 'item 4408', 4409: 'item 4409', 4410: 'item 4410', 4411: 'item 4411', 4412: 'item 4412', 4413: 'item 4413', 4414: 'item 4414', 4415: 'item 4415', 4416: 'item 4416', 4417: 'item 4417', 4418: 'item 4418', 4419: 'item 4419', 4420: 'item 4420', 4421: 'item 4421', 4422: 'item 4422', 4423: 'item 4423', 4424: 'item 4424', 4425: 'item 4425', 4426: 'item 4426', 4427: 'item 4427', 4428: 'item 4428', 4429: 'item 4429', 4430: 'item 4430', 4431: 'item 4431', 4432: 'item 4432', 4433: 'item 4433', 4434: 'item 4434', 4435: 'item 4435', 4436: 'item 4436', 4437: 'item 4437', 4438: 'item 4438', 4439: 'item 4439', 4440: 'item 4440', 4441: 'item 4441', 4442: 'item 4442', 4443: 'item 4443', 4444: 'item 4444', 4445: 'item 4445', 4446: 'item 4446', 4447: 'item 4447', 4448: 'item 4448', 4449: 'item 4449', 4450: 'item 4450', 4451: 'item 4451', 4452: 'item 4452', 4453: 'item 4453', 4454: 'item 4454', 4455: 'item 4455', 4456: 'item 4456', 4457: 'item 4457', 4458: 'item 4458', 4459: 'item 4459', 4460: 'item 4460', 4461: 'item 4461', 4462: 'item 4462', 4463: 'item 4463', 4464: 'item 4464', 4465: 'item 4465', 4466: 'item 4466', 4467: 'item 4467', 4468: 'item 4468', 4469: 'item 4469', 4470: 'item 4470', 4471: 'item 4471', 4472: 'item 4472', 4473: 'item 4473', 4474: 'item 4474', 4475: 'item 4475', 4476: 'item 4476', 4477: 'item 4477', 4478: 'item 4478', 4479: 'item 4479', 4480: 'item 4480', 4481: 'item 4481', 4482: 'item 4482', 4483: 'item 4483', 4484: 'item 4484', 4485: 'item 4485', 4486: 'item 4486', 4487: 'item 4487', 4488: 'item 4488', 4489: 'item 4489', 4490: 'item 4490', 4491: 'item 4491', 4492: 'item 4492', 4493: 'item 4493', 4494: 'item 4494', 4495: 'item 4495', 4496: 'item 4496', 4497: 'item 4497', 4498: 'item 4498', 4499: 'item 4499', 4500: 'item 4500', 4501: 'item 4501', 4502: 'item 4502', 4503: 'item 4503', 4504: 'item 4504', 4505: 'item 4505', 4506: 'item 4506', 4507: 'item 4507', 4508: 'item 4508', 4509: 'item 4509', 4510: 'item 4510', 4511: 'item 4511', 4512: 'item 4512', 4513: 'item 4513', 4514: 'item 4514', 4515: 'item 4515', 4516: 'item 4516', 4517: 'item 4517', 4518: 'item 4518', 4519: 'item 4519', 4520: 'item 4520', 4521: 'item 4521', 4522: 'item 4522', 4523: 'item 4523', 4524: 'item 4524', 4525: 'item 4525', 4526: 'item 4526', 4527: 'item 4527', 4528: 'item 4528', 4529: 'item 4529', 4530: 'item 4530', 4531: 'item 4531', 4532: 'item 4532', 4533: 'item 4533', 4534: 'item 4534', 4535: 'item 4535', 4536: 'item 4536', 4537: 'item 4537', 4538: 'item 4538', 4539: 'item 4539', 4540: 'item 4540', 4541: 'item 4541', 4542: 'item 4542', 4543: 'item 4543', 4544: 'item 4544', 4545: 'item 4545', 4546: 'item 4546', 4547: 'item 4547', 4548: 'item 4548', 4549: 'item 4549', 4550: 'item 4550', 4551: 'item 4551', 4552: 'item 4552', 4553: 'item 4553', 4554: 'item 4554', 4555: 'item 4555', 4556: 'item 4556', 4557: 'item 4557', 4558: 'item 4558', 4559: 'item 4559', 4560: 'item 4560', 4561: 'item 4561', 4562: 'item 4562', 4563: 'item 4563', 4564: 'item 4564', 4565: 'item 4565', 4566: 'item 4566', 4567: 'item 4567', 4568: 'item 4568', 4569: 'item 4569', 4570: 'item 4570', 4571: 'item 4571', 4572: 'item 4572', 4573: 'item 4573', 4574: 'item 4574', 4575: 'item 4575', 4576: 'item 4576', 4577: 'item 4577', 4578: 'item 4578', 4579: 'item 4579', 4580: 'item 4580', 4581: 'item 4581', 4582: 'item 4582', 4583: 'item 4583', 4584: 'item 4584', 4585: 'item 4585', 4586: 'item 4586', 4587: 'item 4587', 4588: 'item 4588', 4589: 'item 4589', 4590: 'item 4590', 4591: 'item 4591', 4592: 'item 4592', 4593: 'item 4593', 4594: 'item 4594', 4595: 'item 4595', 4596: 'item 4596', 4597: 'item 4597', 4598: 'item 4598', 4599: 'item 4599', 4600: 'item 4600', 4601: 'item 4601', 4602: 'item 4602', 4603: 'item 4603', 4604: 'item 4604', 4605: 'item 4605', 4606: 'item 4606', 4607: 'item 4607', 4608: 'item 4608', 4609: 'item 4609', 4610: 'item 4610', 4611: 'item 4611', 4612: 'item 4612', 4613: 'item 4613', 4614: 'item 4614', 4615: 'item 4615', 4616: 'item 4616', 4617: 'item 4617', 4618: 'item 4618', 4619: 'item 4619', 4620: 'item 4620', 4621: 'item 4621', 4622: 'item 4622', 4623: 'item 4623', 4624: 'item 4624', 4625: 'item 4625', 4626: 'item 4626', 4627: 'item 4627', 4628: 'item 4628', 4629: 'item 4629', 4630: 'item 4630', 4631: 'item 4631', 4632: 'item 4632', 4633: 'item 4633', 4634: 'item 4634', 4635: 'item 4635', 4636: 'item 4636', 4637: 'item 4637', 4638: 'item 4638', 4639: 'item 4639', 4640: 'item 4640', 4641: 'item 4641', 4642: 'item 4642', 4643: 'item 4643', 4644: 'item 4644', 4645: 'item 4645', 4646: 'item 4646', 4647: 'item 4647', 4648: 'item 4648', 4649: 'item 4649', 4650: 'item 4650', 4651: 'item 4651', 4652: 'item 4652', 4653: 'item 4653', 4654: 'item 4654', 4655: 'item 4655', 4656: 'item 4656', 4657: 'item 4657', 4658: 'item 4658', 4659: 'item 4659', 4660: 'item 4660', 4661: 'item 4661', 4662: 'item 4662', 4663: 'item 4663', 4664: 'item 4664', 4665: 'item 4665', 4666: 'item 4666', 4667: 'item 4667', 4668: 'item 4668', 4669: 'item 4669', 4670: 'item 4670', 4671: 'item 4671', 4672: 'item 4672', 4673: 'item 4673', 4674: 'item 4674', 4675: 'item 4675', 4676: 'item 4676', 4677: 'item 4677', 4678: 'item 4678', 4679: 'item 4679', 4680: 'item 4680', 4681: 'item 4681', 4682: 'item 4682', 4683: 'item 4683', 4684: 'item 4684', 4685: 'item 4685', 4686: 'item 4686', 4687: 'item 4687', 4688: 'item 4688', 4689: 'item 4689', 4690: 'item 4690', 4691: 'item 4691', 4692: 'item 4692', 4693: 'item 4693', 4694: 'item 4694', 4695: 'item 4695', 4696: 'item 4696', 4697: 'item 4697', 4698: 'item 4698', 4699: 'item 4699', 4700: 'item 4700', 4701: 'item 4701', 4702: 'item 4702', 4703: 'item 4703', 4704: 'item 4704', 4705: 'item 4705', 4706: 'item 4706', 4707: 'item 4707', 4708: 'item 4708', 4709: 'item 4709', 4710: 'item 4710', 4711: 'item 4711', 4712: 'item 4712', 4713: 'item 4713', 4714: 'item 4714', 4715: 'item 4715', 4716: 'item 4716', 4717: 'item 4717', 4718: 'item 4718', 4719: 'item 4719', 4720: 'item 4720', 4721: 'item 4721', 4722: 'item 4722', 4723: 'item 4723', 4724: 'item 4724', 4725: 'item 4725', 4726: 'item 4726', 4727: 'item 4727', 4728: 'item 4728', 4729: 'item 4729', 4730: 'item 4730', 4731: 'item 4731', 4732: 'item 4732', 4733: 'item 4733', 4734: 'item 4734', 4735: 'item 4735', 4736: 'item 4736', 4737: 'item 4737', 4738: 'item 4738', 4739: 'item 4739', 4740: 'item 4740', 4741: 'item 4741', 4742: 'item 4742', 4743: 'item 4743', 4744: 'item 4744', 4745: 'item 4745', 4746: 'item 4746', 4747: 'item 4747', 4748: 'item 4748', 4749: 'item 4749', 4750: 'item 4750', 4751: 'item 4751', 4752: 'item 4752', 4753: 'item 4753', 4754: 'item 4754', 4755: 'item 4755', 4756: 'item 4756', 4757: 'item 4757', 4758: 'item 4758', 4759: 'item 4759', 4760: 'item 4760', 4761: 'item 4761', 4762: 'item 4762', 4763: 'item 4763', 4764: 'item 4764', 4765: 'item 4765', 4766: 'item 4766', 4767: 'item 4767', 4768: 'item 4768', 4769: 'item 4769', 4770: 'item 4770', 4771: 'item 4771', 4772: 'item 4772', 4773: 'item 4773', 4774: 'item 4774', 4775: 'item 4775', 4776: 'item 4776', 4777: 'item 4777', 4778: 'item 4778', 4779: 'item 4779', 4780: 'item 4780', 4781: 'item 4781', 4782: 'item 4782', 4783: 'item 4783', 4784: 'item 4784', 4785: 'item 4785', 4786: 'item 4786', 4787: 'item 4787', 4788: 'item 4788', 4789: 'item 4789', 4790: 'item 4790', 4791: 'item 4791', 4792: 'item 4792', 4793: 'item 4793', 4794: 'item 4794', 4795: 'item 4795', 4796: 'item 4796', 4797: 'item 4797', 4798: 'item 4798', 4799: 'item 4799', 4800: 'item 4800', 4801: 'item 4801', 4802: 'item 4802', 4803: 'item 4803', 4804: 'item 4804', 4805: 'item 4805', 4806: 'item 4806', 4807: 'item 4807', 4808: 'item 4808', 4809: 'item 4809', 4810: 'item 4810', 4811: 'item 4811', 4812: 'item 4812', 4813: 'item 4813', 4814: 'item 4814', 4815: 'item 4815', 4816: 'item 4816', 4817: 'item 4817', 4818: 'item 4818', 4819: 'item 4819', 4820: 'item 4820', 4821: 'item 4821', 4822: 'item 4822', 4823: 'item 4823', 4824: 'item 4824', 4825: 'item 4825', 4826: 'item 4826', 4827: 'item 4827', 4828: 'item 4828', 4829: 'item 4829', 4830: 'item 4830', 4831: 'item 4831', 4832: 'item 4832', 4833: 'item 4833', 4834: 'item 4834', 4835: 'item 4835', 4836: 'item 4836', 4837: 'item 4837', 4838: 'item 4838', 4839: 'item 4839', 4840: 'item 4840', 4841: 'item 4841', 4842: 'item 4842', 4843: 'item 4843', 4844: 'item 4844', 4845: 'item 4845', 4846: 'item 4846', 4847: 'item 4847', 4848: 'item 4848', 4849: 'item 4849', 4850: 'item 4850', 4851: 'item 4851', 4852: 'item 4852', 4853: 'item 4853', 4854: 'item 4854', 4855: 'item 4855', 4856: 'item 4856', 4857: 'item 4857', 4858: 'item 4858', 4859: 'item 4859', 4860: 'item 4860', 4861: 'item 4861', 4862: 'item 4862', 4863: 'item 4863', 4864: 'item 4864', 4865: 'item 4865', 4866: 'item 4866', 4867: 'item 4867', 4868: 'item 4868', 4869: 'item 4869', 4870: 'item 4870', 4871: 'item 4871', 4872: 'item 4872', 4873: 'item 4873', 4874: 'item 4874', 4875: 'item 4875', 4876: 'item 4876', 4877: 'item 4877', 4878: 'item 4878', 4879: 'item 4879', 4880: 'item 4880', 4881: 'item 4881', 4882: 'item 4882', 4883: 'item 4883', 4884: 'item 4884', 4885: 'item 4885', 4886: 'item 4886', 4887: 'item 4887', 4888: 'item 4888', 4889: 'item 4889', 4890: 'item 4890', 4891: 'item 4891', 4892: 'item 4892', 4893: 'item 4893', 4894: 'item 4894', 4895: 'item 4895', 4896: 'item 4896', 4897: 'item 4897', 4898: 'item 4898', 4899: 'item 4899', 4900: 'item 4900', 4901: 'item 4901', 4902: 'item 4902', 4903: 'item 4903', 4904: 'item 4904', 4905: 'item 4905', 4906: 'item 4906', 4907: 'item 4907', 4908: 'item 4908', 4909: 'item 4909', 4910: 'item 4910', 4911: 'item 4911', 4912: 'item 4912', 4913: 'item 4913', 4914: 'item 4914', 4915: 'item 4915', 4916: 'item 4916', 4917: 'item 4917', 4918: 'item 4918', 4919: 'item 4919', 4920: 'item 4920', 4921: 'item 4921', 4922: 'item 4922', 4923: 'item 4923', 4924: 'item 4924', 4925: 'item 4925', 4926: 'item 4926', 4927: 'item 4927', 4928: 'item 4928', 4929: 'item 4929', 4930: 'item 4930', 4931: 'item 4931', 4932: 'item 4932', 4933: 'item 4933', 4934: 'item 4934', 4935: 'item 4935', 4936: 'item 4936', 4937: 'item 4937', 4938: 'item 4938', 4939: 'item 4939', 4940: 'item 4940', 4941: 'item 4941', 4942: 'item 4942', 4943: 'item 4943', 4944: 'item 4944', 4945: 'item 4945', 4946: 'item 4946', 4947: 'item 4947', 4948: 'item 4948', 4949: 'item 4949', 4950: 'item 4950', 4951: 'item 4951', 4952: 'item 4952', 4953: 'item 4953', 4954: 'item 4954', 4955: 'item 4955', 4956: 'item 4956', 4957: 'item 4957', 4958: 'item 4958', 4959: 'item 4959', 4960: 'item 4960', 4961: 'item 4961', 4962: 'item 4962', 4963: 'item 4963', 4964: 'item 4964', 4965: 'item 4965', 4966: 'item 4966', 4967: 'item 4967', 4968: 'item 4968', 4969: 'item 4969', 4970: 'item 4970', 4971: 'item 4971', 4972: 'item 4972', 4973: 'item 4973', 4974: 'item 4974', 4975: 'item 4975', 4976: 'item 4976', 4977: 'item 4977', 4978: 'item 4978', 4979: 'item 4979', 4980: 'item 4980', 4981: 'item 4981', 4982: 'item 4982', 4983: 'item 4983', 4984: 'item 4984', 4985: 'item 4985', 4986: 'item 4986', 4987: 'item 4987', 4988: 'item 4988', 4989: 'item 4989', 4990: 'item 4990', 4991: 'item 4991', 4992: 'item 4992', 4993: 'item 4993', 4994: 'item 4994', 4995: 'item 4995', 4996: 'item 4996', 4997: 'item 4997', 4998: 'item 4998', 4999: 'item 4999', 5000: 'item 5000', 5001: 'item 5001', 5002: 'item 5002', 5003: 'item 5003', 5004: 'item 5004', 5005: 'item 5005', 5006: 'item 5006', 5007: 'item 5007', 5008: 'item 5008', 5009: 'item 5009', 5010: 'item 5010', 5011: 'item 5011', 5012: 'item 5012', 5013: 'item 5013', 5014: 'item 5014', 5015: 'item 5015', 5016: 'item 5016', 5017: 'item 5017', 5018: 'item 5018', 5019: 'item 5019', 5020: 'item 5020', 5021: 'item 5021', 5022: 'item 5022', 5023: 'item 5023', 5024: 'item 5024', 5025: 'item 5025', 5026: 'item 5026', 5027: 'item 5027', 5028: 'item 5028', 5029: 'item 5029', 5030: 'item 5030', 5031: 'item 5031', 5032: 'item 5032', 5033: 'item 5033', 5034: 'item 5034', 5035: 'item 5035', 5036: 'item 5036', 5037: 'item 5037', 5038: 'item 5038', 5039: 'item 5039', 5040: 'item 5040', 5041: 'item 5041', 5042: 'item 5042', 5043: 'item 5043', 5044: 'item 5044', 5045: 'item 5045', 5046: 'item 5046', 5047: 'item 5047', 5048: 'item 5048', 5049: 'item 5049', 5050: 'item 5050', 5051: 'item 5051', 5052: 'item 5052', 5053: 'item 5053', 5054: 'item 5054', 5055: 'item 5055', 5056: 'item 5056', 5057: 'item 5057', 5058: 'item 5058', 5059: 'item 5059', 5060: 'item 5060', 5061: 'item 5061', 5062: 'item 5062', 5063: 'item 5063', 5064: 'item 5064', 5065: 'item 5065', 5066: 'item 5066', 5067: 'item 5067', 5068: 'item 5068', 5069: 'item 5069', 5070: 'item 5070', 5071: 'item 5071', 5072: 'item 5072', 5073: 'item 5073', 5074: 'item 5074', 5075: 'item 5075', 5076: 'item 5076', 5077: 'item 5077', 5078: 'item 5078', 5079: 'item 5079', 5080: 'item 5080', 5081: 'item 5081', 5082: 'item 5082', 5083: 'item 5083', 5084: 'item 5084', 5085: 'item 5085', 5086: 'item 5086', 5087: 'item 5087', 5088: 'item 5088', 5089: 'item 5089', 5090: 'item 5090', 5091: 'item 5091', 5092: 'item 5092', 5093: 'item 5093', 5094: 'item 5094', 5095: 'item 5095', 5096: 'item 5096', 5097: 'item 5097', 5098: 'item 5098', 5099: 'item 5099', 5100: 'item 5100', 5101: 'item 5101', 5102: 'item 5102', 5103: 'item 5103', 5104: 'item 5104', 5105: 'item 5105', 5106: 'item 5106', 5107: 'item 5107', 5108: 'item 5108', 5109: 'item 5109', 5110: 'item 5110', 5111: 'item 5111', 5112: 'item 5112', 5113: 'item 5113', 5114: 'item 5114', 5115: 'item 5115', 5116: 'item 5116', 5117: 'item 5117', 5118: 'item 5118', 5119: 'item 5119', 5120: 'item 5120', 5121: 'item 5121', 5122: 'item 5122', 5123: 'item 5123', 5124: 'item 5124', 5125: 'item 5125', 5126: 'item 5126', 5127: 'item 5127', 5128: 'item 5128', 5129: 'item 5129', 5130: 'item 5130', 5131: 'item 5131', 5132: 'item 5132', 5133: 'item 5133', 5134: 'item 5134', 5135: 'item 5135', 5136: 'item 5136', 5137: 'item 5137', 5138: 'item 5138', 5139: 'item 5139', 5140: 'item 5140', 5141: 'item 5141', 5142: 'item 5142', 5143: 'item 5143', 5144: 'item 5144', 5145: 'item 5145', 5146: 'item 5146', 5147: 'item 5147', 5148: 'item 5148', 5149: 'item 5149', 5150: 'item 5150', 5151: 'item 5151', 5152: 'item 5152', 5153: 'item 5153', 5154: 'item 5154', 5155: 'item 5155', 5156: 'item 5156', 5157: 'item 5157', 5158: 'item 5158', 5159: 'item 5159', 5160: 'item 5160', 5161: 'item 5161', 5162: 'item 5162', 5163: 'item 5163', 5164: 'item 5164', 5165: 'item 5165', 5166: 'item 5166', 5167: 'item 5167', 5168: 'item 5168', 5169: 'item 5169', 5170: 'item 5170', 5171: 'item 5171', 5172: 'item 5172', 5173: 'item 5173', 5174: 'item 5174', 5175: 'item 5175', 5176: 'item 5176', 5177: 'item 5177', 5178: 'item 5178', 5179: 'item 5179', 5180: 'item 5180', 5181: 'item 5181', 5182: 'item 5182', 5183: 'item 5183', 5184: 'item 5184', 5185: 'item 5185', 5186: 'item 5186', 5187: 'item 5187', 5188: 'item 5188', 5189: 'item 5189', 5190: 'item 5190', 5191: 'item 5191', 5192: 'item 5192', 5193: 'item 5193', 5194: 'item 5194', 5195: 'item 5195', 5196: 'item 5196', 5197: 'item 5197', 5198: 'item 5198', 5199: 'item 5199', 5200: 'item 5200', 5201: 'item 5201', 5202: 'item 5202', 5203: 'item 5203', 5204: 'item 5204', 5205: 'item 5205', 5206: 'item 5206', 5207: 'item 5207', 5208: 'item 5208', 5209: 'item 5209', 5210: 'item 5210', 5211: 'item 5211', 5212: 'item 5212', 5213: 'item 5213', 5214: 'item 5214', 5215: 'item 5215', 5216: 'item 5216', 5217: 'item 5217', 5218: 'item 5218', 5219: 'item 5219', 5220: 'item 5220', 5221: 'item 5221', 5222: 'item 5222', 5223: 'item 5223', 5224: 'item 5224', 5225: 'item 5225', 5226: 'item 5226', 5227: 'item 5227', 5228: 'item 5228', 5229: 'item 5229', 5230: 'item 5230', 5231: 'item 5231', 5232: 'item 5232', 5233: 'item 5233', 5234: 'item 5234', 5235: 'item 5235', 5236: 'item 5236', 5237: 'item 5237', 5238: 'item 5238', 5239: 'item 5239', 5240: 'item 5240', 5241: 'item 5241', 5242: 'item 5242', 5243: 'item 5243', 5244: 'item 5244', 5245: 'item 5245', 5246: 'item 5246', 5247: 'item 5247', 5248: 'item 5248', 5249: 'item 5249', 5250: 'item 5250', 5251: 'item 5251', 5252: 'item 5252', 5253: 'item 5253', 5254: 'item 5254', 5255: 'item 5255', 5256: 'item 5256', 5257: 'item 5257', 5258: 'item 5258', 5259: 'item 5259', 5260: 'item 5260', 5261: 'item 5261', 5262: 'item 5262', 5263: 'item 5263', 5264: 'item 5264', 5265: 'item 5265', 5266: 'item 5266', 5267: 'item 5267', 5268: 'item 5268', 5269: 'item 5269', 5270: 'item 5270', 5271: 'item 5271', 5272: 'item 5272', 5273: 'item 5273', 5274: 'item 5274', 5275: 'item 5275', 5276: 'item 5276', 5277: 'item 5277', 5278: 'item 5278', 5279: 'item 5279', 5280: 'item 5280', 5281: 'item 5281', 5282: 'item 5282', 5283: 'item 5283', 5284: 'item 5284', 5285: 'item 5285', 5286: 'item 5286', 5287: 'item 5287', 5288: 'item 5288', 5289: 'item 5289', 5290: 'item 5290', 5291: 'item 5291', 5292: 'item 5292', 5293: 'item 5293', 5294: 'item 5294', 5295: 'item 5295', 5296: 'item 5296', 5297: 'item 5297', 5298: 'item 5298', 5299: 'item 5299', 5300: 'item 5300', 5301: 'item 5301', 5302: 'item 5302', 5303: 'item 5303', 5304: 'item 5304', 5305: 'item 5305', 5306: 'item 5306', 5307: 'item 5307', 5308: 'item 5308', 5309: 'item 5309', 5310: 'item 5310', 5311: 'item 5311', 5312: 'item 5312', 5313: 'item 5313', 5314: 'item 5314', 5315: 'item 5315', 5316: 'item 5316', 5317: 'item 5317', 5318: 'item 5318', 5319: 'item 5319', 5320: 'item 5320', 5321: 'item 5321', 5322: 'item 5322', 5323: 'item 5323', 5324: 'item 5324', 5325: 'item 5325', 5326: 'item 5326', 5327: 'item 5327', 5328: 'item 5328', 5329: 'item 5329', 5330: 'item 5330', 5331: 'item 5331', 5332: 'item 5332', 5333: 'item 5333', 5334: 'item 5334', 5335: 'item 5335', 5336: 'item 5336', 5337: 'item 5337', 5338: 'item 5338', 5339: 'item 5339', 5340: 'item 5340', 5341: 'item 5341', 5342: 'item 5342', 5343: 'item 5343', 5344: 'item 5344', 5345: 'item 5345', 5346: 'item 5346', 5347: 'item 5347', 5348: 'item 5348', 5349: 'item 5349', 5350: 'item 5350', 5351: 'item 5351', 5352: 'item 5352', 5353: 'item 5353', 5354: 'item 5354', 5355: 'item 5355', 5356: 'item 5356', 5357: 'item 5357', 5358: 'item 5358', 5359: 'item 5359', 5360: 'item 5360', 5361: 'item 5361', 5362: 'item 5362', 5363: 'item 5363', 5364: 'item 5364', 5365: 'item 5365', 5366: 'item 5366', 5367: 'item 5367', 5368: 'item 5368', 5369: 'item 5369', 5370: 'item 5370', 5371: 'item 5371', 5372: 'item 5372', 5373: 'item 5373', 5374: 'item 5374', 5375: 'item 5375', 5376: 'item 5376', 5377: 'item 5377', 5378: 'item 5378', 5379: 'item 5379', 5380: 'item 5380', 5381: 'item 5381', 5382: 'item 5382', 5383: 'item 5383', 5384: 'item 5384', 5385: 'item 5385', 5386: 'item 5386', 5387: 'item 5387', 5388: 'item 5388', 5389: 'item 5389', 5390: 'item 5390', 5391: 'item 5391', 5392: 'item 5392', 5393: 'item 5393', 5394: 'item 5394', 5395: 'item 5395', 5396: 'item 5396', 5397: 'item 5397', 5398: 'item 5398', 5399: 'item 5399', 5400: 'item 5400', 5401: 'item 5401', 5402: 'item 5402', 5403: 'item 5403', 5404: 'item 5404', 5405: 'item 5405', 5406: 'item 5406', 5407: 'item 5407', 5408: 'item 5408', 5409: 'item 5409', 5410: 'item 5410', 5411: 'item 5411', 5412: 'item 5412', 5413: 'item 5413', 5414: 'item 5414', 5415: 'item 5415', 5416: 'item 5416', 5417: 'item 5417', 5418: 'item 5418', 5419: 'item 5419', 5420: 'item 5420', 5421: 'item 5421', 5422: 'item 5422', 5423: 'item 5423', 5424: 'item 5424', 5425: 'item 5425', 5426: 'item 5426', 5427: 'item 5427', 5428: 'item 5428', 5429: 'item 5429', 5430: 'item 5430', 5431: 'item 5431', 5432: 'item 5432', 5433: 'item 5433', 5434: 'item 5434', 5435: 'item 5435', 5436: 'item 5436', 5437: 'item 5437', 5438: 'item 5438', 5439: 'item 5439', 5440: 'item 5440', 5441: 'item 5441', 5442: 'item 5442', 5443: 'item 5443', 5444: 'item 5444', 5445: 'item 5445', 5446: 'item 5446', 5447: 'item 5447', 5448: 'item 5448', 5449: 'item 5449', 5450: 'item 5450', 5451: 'item 5451', 5452: 'item 5452', 5453: 'item 5453', 5454: 'item 5454', 5455: 'item 5455', 5456: 'item 5456', 5457: 'item 5457', 5458: 'item 5458', 5459: 'item 5459', 5460: 'item 5460', 5461: 'item 5461', 5462: 'item 5462', 5463: 'item 5463', 5464: 'item 5464', 5465: 'item 5465', 5466: 'item 5466', 5467: 'item 5467', 5468: 'item 5468', 5469: 'item 5469', 5470: 'item 5470', 5471: 'item 5471', 5472: 'item 5472', 5473: 'item 5473', 5474: 'item 5474', 5475: 'item 5475', 5476: 'item 5476', 5477: 'item 5477', 5478: 'item 5478', 5479: 'item 5479', 5480: 'item 5480', 5481: 'item 5481', 5482: 'item 5482', 5483: 'item 5483', 5484: 'item 5484', 5485: 'item 5485', 5486: 'item 5486', 5487: 'item 5487', 5488: 'item 5488', 5489: 'item 5489', 5490: 'item 5490', 5491: 'item 5491', 5492: 'item 5492', 5493: 'item 5493', 5494: 'item 5494', 5495: 'item 5495', 5496: 'item 5496', 5497: 'item 5497', 5498: 'item 5498', 5499: 'item 5499', 5500: 'item 5500', 5501: 'item 5501', 5502: 'item 5502', 5503: 'item 5503', 5504: 'item 5504', 5505: 'item 5505', 5506: 'item 5506', 5507: 'item 5507', 5508: 'item 5508', 5509: 'item 5509', 5510: 'item 5510', 5511: 'item 5511', 5512: 'item 5512', 5513: 'item 5513', 5514: 'item 5514', 5515: 'item 5515', 5516: 'item 5516', 5517: 'item 5517', 5518: 'item 5518', 5519: 'item 5519', 5520: 'item 5520', 5521: 'item 5521', 5522: 'item 5522', 5523: 'item 5523', 5524: 'item 5524', 5525: 'item 5525', 5526: 'item 5526', 5527: 'item 5527', 5528: 'item 5528', 5529: 'item 5529', 5530: 'item 5530', 5531: 'item 5531', 5532: 'item 5532', 5533: 'item 5533', 5534: 'item 5534', 5535: 'item 5535', 5536: 'item 5536', 5537: 'item 5537', 5538: 'item 5538', 5539: 'item 5539', 5540: 'item 5540', 5541: 'item 5541', 5542: 'item 5542', 5543: 'item 5543', 5544: 'item 5544', 5545: 'item 5545', 5546: 'item 5546', 5547: 'item 5547', 5548: 'item 5548', 5549: 'item 5549', 5550: 'item 5550', 5551: 'item 5551', 5552: 'item 5552', 5553: 'item 5553', 5554: 'item 5554', 5555: 'item 5555', 5556: 'item 5556', 5557: 'item 5557', 5558: 'item 5558', 5559: 'item 5559', 5560: 'item 5560', 5561: 'item 5561', 5562: 'item 5562', 5563: 'item 5563', 5564: 'item 5564', 5565: 'item 5565', 5566: 'item 5566', 5567: 'item 5567', 5568: 'item 5568', 5569: 'item 5569', 5570: 'item 5570', 5571: 'item 5571', 5572: 'item 5572', 5573: 'item 5573', 5574: 'item 5574', 5575: 'item 5575', 5576: 'item 5576', 5577: 'item 5577', 5578: 'item 5578', 5579: 'item 5579', 5580: 'item 5580', 5581: 'item 5581', 5582: 'item 5582', 5583: 'item 5583', 5584: 'item 5584', 5585: 'item 5585', 5586: 'item 5586', 5587: 'item 5587', 5588: 'item 5588', 5589: 'item 5589', 5590: 'item 5590', 5591: 'item 5591', 5592: 'item 5592', 5593: 'item 5593', 5594: 'item 5594', 5595: 'item 5595', 5596: 'item 5596', 5597: 'item 5597', 5598: 'item 5598', 5599: 'item 5599', 5600: 'item 5600', 5601: 'item 5601', 5602: 'item 5602', 5603: 'item 5603', 5604: 'item 5604', 5605: 'item 5605', 5606: 'item 5606', 5607: 'item 5607', 5608: 'item 5608', 5609: 'item 5609', 5610: 'item 5610', 5611: 'item 5611', 5612: 'item 5612', 5613: 'item 5613', 5614: 'item 5614', 5615: 'item 5615', 5616: 'item 5616', 5617: 'item 5617', 5618: 'item 5618', 5619: 'item 5619', 5620: 'item 5620', 5621: 'item 5621', 5622: 'item 5622', 5623: 'item 5623', 5624: 'item 5624', 5625: 'item 5625', 5626: 'item 5626', 5627: 'item 5627', 5628: 'item 5628', 5629: 'item 5629', 5630: 'item 5630', 5631: 'item 5631', 5632: 'item 5632', 5633: 'item 5633', 5634: 'item 5634', 5635: 'item 5635', 5636: 'item 5636', 5637: 'item 5637', 5638: 'item 5638', 5639: 'item 5639', 5640: 'item 5640', 5641: 'item 5641', 5642: 'item 5642', 5643: 'item 5643', 5644: 'item 5644', 5645: 'item 5645', 5646: 'item 5646', 5647: 'item 5647', 5648: 'item 5648', 5649: 'item 5649', 5650: 'item 5650', 5651: 'item 5651', 5652: 'item 5652', 5653: 'item 5653', 5654: 'item 5654', 5655: 'item 5655', 5656: 'item 5656', 5657: 'item 5657', 5658: 'item 5658', 5659: 'item 5659', 5660: 'item 5660', 5661: 'item 5661', 5662: 'item 5662', 5663: 'item 5663', 5664: 'item 5664', 5665: 'item 5665', 5666: 'item 5666', 5667: 'item 5667', 5668: 'item 5668', 5669: 'item 5669', 5670: 'item 5670', 5671: 'item 5671', 5672: 'item 5672', 5673: 'item 5673', 5674: 'item 5674', 5675: 'item 5675', 5676: 'item 5676', 5677: 'item 5677', 5678: 'item 5678', 5679: 'item 5679', 5680: 'item 5680', 5681: 'item 5681', 5682: 'item 5682', 5683: 'item 5683', 5684: 'item 5684', 5685: 'item 5685', 5686: 'item 5686', 5687: 'item 5687', 5688: 'item 5688', 5689: 'item 5689', 5690: 'item 5690', 5691: 'item 5691', 5692: 'item 5692', 5693: 'item 5693', 5694: 'item 5694', 5695: 'item 5695', 5696: 'item 5696', 5697: 'item 5697', 5698: 'item 5698', 5699: 'item 5699', 5700: 'item 5700', 5701: 'item 5701', 5702: 'item 5702', 5703: 'item 5703', 5704: 'item 5704', 5705: 'item 5705', 5706: 'item 5706', 5707: 'item 5707', 5708: 'item 5708', 5709: 'item 5709', 5710: 'item 5710', 5711: 'item 5711', 5712: 'item 5712', 5713: 'item 5713', 5714: 'item 5714', 5715: 'item 5715', 5716: 'item 5716', 5717: 'item 5717', 5718: 'item 5718', 5719: 'item 5719', 5720: 'item 5720', 5721: 'item 5721', 5722: 'item 5722', 5723: 'item 5723', 5724: 'item 5724', 5725: 'item 5725', 5726: 'item 5726', 5727: 'item 5727', 5728: 'item 5728', 5729: 'item 5729', 5730: 'item 5730', 5731: 'item 5731', 5732: 'item 5732', 5733: 'item 5733', 5734: 'item 5734', 5735: 'item 5735', 5736: 'item 5736', 5737: 'item 5737', 5738: 'item 5738', 5739: 'item 5739', 5740: 'item 5740', 5741: 'item 5741', 5742: 'item 5742', 5743: 'item 5743', 5744: 'item 5744', 5745: 'item 5745', 5746: 'item 5746', 5747: 'item 5747', 5748: 'item 5748', 5749: 'item 5749', 5750: 'item 5750', 5751: 'item 5751', 5752: 'item 5752', 5753: 'item 5753', 5754: 'item 5754', 5755: 'item 5755', 5756: 'item 5756', 5757: 'item 5757', 5758: 'item 5758', 5759: 'item 5759', 5760: 'item 5760', 5761: 'item 5761', 5762: 'item 5762', 5763: 'item 5763', 5764: 'item 5764', 5765: 'item 5765', 5766: 'item 5766', 5767: 'item 5767', 5768: 'item 5768', 5769: 'item 5769', 5770: 'item 5770', 5771: 'item 5771', 5772: 'item 5772', 5773: 'item 5773', 5774: 'item 5774', 5775: 'item 5775', 5776: 'item 5776', 5777: 'item 5777', 5778: 'item 5778', 5779: 'item 5779', 5780: 'item 5780', 5781: 'item 5781', 5782: 'item 5782', 5783: 'item 5783', 5784: 'item 5784', 5785: 'item 5785', 5786: 'item 5786', 5787: 'item 5787', 5788: 'item 5788', 5789: 'item 5789', 5790: 'item 5790', 5791: 'item 5791', 5792: 'item 5792', 5793: 'item 5793', 5794: 'item 5794', 5795: 'item 5795', 5796: 'item 5796', 5797: 'item 5797', 5798: 'item 5798', 5799: 'item 5799', 5800: 'item 5800', 5801: 'item 5801', 5802: 'item 5802', 5803: 'item 5803', 5804: 'item 5804', 5805: 'item 5805', 5806: 'item 5806', 5807: 'item 5807', 5808: 'item 5808', 5809: 'item 5809', 5810: 'item 5810', 5811: 'item 5811', 5812: 'item 5812', 5813: 'item 5813', 5814: 'item 5814', 5815: 'item 5815', 5816: 'item 5816', 5817: 'item 5817', 5818: 'item 5818', 5819: 'item 5819', 5820: 'item 5820', 5821: 'item 5821', 5822: 'item 5822', 5823: 'item 5823', 5824: 'item 5824', 5825: 'item 5825', 5826: 'item 5826', 5827: 'item 5827', 5828: 'item 5828', 5829: 'item 5829', 5830: 'item 5830', 5831: 'item 5831', 5832: 'item 5832', 5833: 'item 5833', 5834: 'item 5834', 5835: 'item 5835', 5836: 'item 5836', 5837: 'item 5837', 5838: 'item 5838', 5839: 'item 5839', 5840: 'item 5840', 5841: 'item 5841', 5842: 'item 5842', 5843: 'item 5843', 5844: 'item 5844', 5845: 'item 5845', 5846: 'item 5846', 5847: 'item 5847', 5848: 'item 5848', 5849: 'item 5849', 5850: 'item 5850', 5851: 'item 5851', 5852: 'item 5852', 5853: 'item 5853', 5854: 'item 5854', 5855: 'item 5855', 5856: 'item 5856', 5857: 'item 5857', 5858: 'item 5858', 5859: 'item 5859', 5860: 'item 5860', 5861: 'item 5861', 5862: 'item 5862', 5863: 'item 5863', 5864: 'item 5864', 5865: 'item 5865', 5866: 'item 5866', 5867: 'item 5867', 5868: 'item 5868', 5869: 'item 5869', 5870: 'item 5870', 5871: 'item 5871', 5872: 'item 5872', 5873: 'item 5873', 5874: 'item 5874', 5875: 'item 5875', 5876: 'item 5876', 5877: 'item 5877', 5878: 'item 5878', 5879: 'item 5879', 5880: 'item 5880', 5881: 'item 5881', 5882: 'item 5882', 5883: 'item 5883', 5884: 'item 5884', 5885: 'item 5885', 5886: 'item 5886', 5887: 'item 5887', 5888: 'item 5888', 5889: 'item 5889', 5890: 'item 5890', 5891: 'item 5891', 5892: 'item 5892', 5893: 'item 5893', 5894: 'item 5894', 5895: 'item 5895', 5896: 'item 5896', 5897: 'item 5897', 5898: 'item 5898', 5899: 'item 5899', 5900: 'item 5900', 5901: 'item 5901', 5902: 'item 5902', 5903: 'item 5903', 5904: 'item 5904', 5905: 'item 5905', 5906: 'item 5906', 5907: 'item 5907', 5908: 'item 5908', 5909: 'item 5909', 5910: 'item 5910', 5911: 'item 5911', 5912: 'item 5912', 5913: 'item 5913', 5914: 'item 5914', 5915: 'item 5915', 5916: 'item 5916', 5917: 'item 5917', 5918: 'item 5918', 5919: 'item 5919', 5920: 'item 5920', 5921: 'item 5921', 5922: 'item 5922', 5923: 'item 5923', 5924: 'item 5924', 5925: 'item 5925', 5926: 'item 5926', 5927: 'item 5927', 5928: 'item 5928', 5929: 'item 5929', 5930: 'item 5930', 5931: 'item 5931', 5932: 'item 5932', 5933: 'item 5933', 5934: 'item 5934', 5935: 'item 5935', 5936: 'item 5936', 5937: 'item 5937', 5938: 'item 5938', 5939: 'item 5939', 5940: 'item 5940', 5941: 'item 5941', 5942: 'item 5942', 5943: 'item 5943', 5944: 'item 5944', 5945: 'item 5945', 5946: 'item 5946', 5947: 'item 5947', 5948: 'item 5948', 5949: 'item 5949', 5950: 'item 5950', 5951: 'item 5951', 5952: 'item 5952', 5953: 'item 5953', 5954: 'item 5954', 5955: 'item 5955', 5956: 'item 5956', 5957: 'item 5957', 5958: 'item 5958', 5959: 'item 5959', 5960: 'item 5960', 5961: 'item 5961', 5962: 'item 5962', 5963: 'item 5963', 5964: 'item 5964', 5965: 'item 5965', 5966: 'item 5966', 5967: 'item 5967', 5968: 'item 5968', 5969: 'item 5969', 5970: 'item 5970', 5971: 'item 5971', 5972: 'item 5972', 5973: 'item 5973', 5974: 'item 5974', 5975: 'item 5975', 5976: 'item 5976', 5977: 'item 5977', 5978: 'item 5978', 5979: 'item 5979', 5980: 'item 5980', 5981: 'item 5981', 5982: 'item 5982', 5983: 'item 5983', 5984: 'item 5984', 5985: 'item 5985', 5986: 'item 5986', 5987: 'item 5987', 5988: 'item 5988', 5989: 'item 5989', 5990: 'item 5990', 5991: 'item 5991', 5992: 'item 5992', 5993: 'item 5993', 5994: 'item 5994', 5995: 'item 5995', 5996: 'item 5996', 5997: 'item 5997', 5998: 'item 5998', 5999: 'item 5999', 6000: 'item 6000', 6001: 'item 6001', 6002: 'item 6002', 6003: 'item 6003', 6004: 'item 6004', 6005: 'item 6005', 6006: 'item 6006', 6007: 'item 6007', 6008: 'item 6008', 6009: 'item 6009', 6010: 'item 6010', 6011: 'item 6011', 6012: 'item 6012', 6013: 'item 6013', 6014: 'item 6014', 6015: 'item 6015', 6016: 'item 6016', 6017: 'item 6017', 6018: 'item 6018', 6019: 'item 6019', 6020: 'item 6020', 6021: 'item 6021', 6022: 'item 6022', 6023: 'item 6023', 6024: 'item 6024', 6025: 'item 6025', 6026: 'item 6026', 6027: 'item 6027', 6028: 'item 6028', 6029: 'item 6029', 6030: 'item 6030', 6031: 'item 6031', 6032: 'item 6032', 6033: 'item 6033', 6034: 'item 6034', 6035: 'item 6035', 6036: 'item 6036', 6037: 'item 6037', 6038: 'item 6038', 6039: 'item 6039', 6040: 'item 6040', 6041: 'item 6041', 6042: 'item 6042', 6043: 'item 6043', 6044: 'item 6044', 6045: 'item 6045', 6046: 'item 6046', 6047: 'item 6047', 6048: 'item 6048', 6049: 'item 6049', 6050: 'item 6050', 6051: 'item 6051', 6052: 'item 6052', 6053: 'item 6053', 6054: 'item 6054', 6055: 'item 6055', 6056: 'item 6056', 6057: 'item 6057', 6058: 'item 6058', 6059: 'item 6059', 6060: 'item 6060', 6061: 'item 6061', 6062: 'item 6062', 6063: 'item 6063', 6064: 'item 6064', 6065: 'item 6065', 6066: 'item 6066', 6067: 'item 6067', 6068: 'item 6068', 6069: 'item 6069', 6070: 'item 6070', 6071: 'item 6071', 6072: 'item 6072', 6073: 'item 6073', 6074: 'item 6074', 6075: 'item 6075', 6076: 'item 6076', 6077: 'item 6077', 6078: 'item 6078', 6079: 'item 6079', 6080: 'item 6080', 6081: 'item 6081', 6082: 'item 6082', 6083: 'item 6083', 6084: 'item 6084', 6085: 'item 6085', 6086: 'item 6086', 6087: 'item 6087', 6088: 'item 6088', 6089: 'item 6089', 6090: 'item 6090', 6091: 'item 6091', 6092: 'item 6092', 6093: 'item 6093', 6094: 'item 6094', 6095: 'item 6095', 6096: 'item 6096', 6097: 'item 6097', 6098: 'item 6098', 6099: 'item 6099', 6100: 'item 6100', 6101: 'item 6101', 6102: 'item 6102', 6103: 'item 6103', 6104: 'item 6104', 6105: 'item 6105', 6106: 'item 6106', 6107: 'item 6107', 6108: 'item 6108', 6109: 'item 6109', 6110: 'item 6110', 6111: 'item 6111', 6112: 'item 6112', 6113: 'item 6113', 6114: 'item 6114', 6115: 'item 6115', 6116: 'item 6116', 6117: 'item 6117', 6118: 'item 6118', 6119: 'item 6119', 6120: 'item 6120', 6121: 'item 6121', 6122: 'item 6122', 6123: 'item 6123', 6124: 'item 6124', 6125: 'item 6125', 6126: 'item 6126', 6127: 'item 6127', 6128: 'item 6128', 6129: 'item 6129', 6130: 'item 6130', 6131: 'item 6131', 6132: 'item 6132', 6133: 'item 6133', 6134: 'item 6134', 6135: 'item 6135', 6136: 'item 6136', 6137: 'item 6137', 6138: 'item 6138', 6139: 'item 6139', 6140: 'item 6140', 6141: 'item 6141', 6142: 'item 6142', 6143: 'item 6143', 6144: 'item 6144', 6145: 'item 6145', 6146: 'item 6146', 6147: 'item 6147', 6148: 'item 6148', 6149: 'item 6149', 6150: 'item 6150', 6151: 'item 6151', 6152: 'item 6152', 6153: 'item 6153', 6154: 'item 6154', 6155: 'item 6155', 6156: 'item 6156', 6157: 'item 6157', 6158: 'item 6158', 6159: 'item 6159', 6160: 'item 6160', 6161: 'item 6161', 6162: 'item 6162', 6163: 'item 6163', 6164: 'item 6164', 6165: 'item 6165', 6166: 'item 6166', 6167: 'item 6167', 6168: 'item 6168', 6169: 'item 6169', 6170: 'item 6170', 6171: 'item 6171', 6172: 'item 6172', 6173: 'item 6173', 6174: 'item 6174', 6175: 'item 6175', 6176: 'item 6176', 6177: 'item 6177', 6178: 'item 6178', 6179: 'item 6179', 6180: 'item 6180', 6181: 'item 6181', 6182: 'item 6182', 6183: 'item 6183', 6184: 'item 6184', 6185: 'item 6185', 6186: 'item 6186', 6187: 'item 6187', 6188: 'item 6188', 6189: 'item 6189', 6190: 'item 6190', 6191: 'item 6191', 6192: 'item 6192', 6193: 'item 6193', 6194: 'item 6194', 6195: 'item 6195', 6196: 'item 6196', 6197: 'item 6197', 6198: 'item 6198', 6199: 'item 6199', 6200: 'item 6200', 6201: 'item 6201', 6202: 'item 6202', 6203: 'item 6203', 6204: 'item 6204', 6205: 'item 6205', 6206: 'item 6206', 6207: 'item 6207', 6208: 'item 6208', 6209: 'item 6209', 6210: 'item 6210', 6211: 'item 6211', 6212: 'item 6212', 6213: 'item 6213', 6214: 'item 6214', 6215: 'item 6215', 6216: 'item 6216', 6217: 'item 6217', 6218: 'item 6218', 6219: 'item 6219', 6220: 'item 6220', 6221: 'item 6221', 6222: 'item 6222', 6223: 'item 6223', 6224: 'item 6224', 6225: 'item 6225', 6226: 'item 6226', 6227: 'item 6227', 6228: 'item 6228', 6229: 'item 6229', 6230: 'item 6230', 6231: 'item 6231', 6232: 'item 6232', 6233: 'item 6233', 6234: 'item 6234', 6235: 'item 6235', 6236: 'item 6236', 6237: 'item 6237', 6238: 'item 6238', 6239: 'item 6239', 6240: 'item 6240', 6241: 'item 6241', 6242: 'item 6242', 6243: 'item 6243', 6244: 'item 6244', 6245: 'item 6245', 6246: 'item 6246', 6247: 'item 6247', 6248: 'item 6248', 6249: 'item 6249', 6250: 'item 6250', 6251: 'item 6251', 6252: 'item 6252', 6253: 'item 6253', 6254: 'item 6254', 6255: 'item 6255', 6256: 'item 6256', 6257: 'item 6257', 6258: 'item 6258', 6259: 'item 6259', 6260: 'item 6260', 6261: 'item 6261', 6262: 'item 6262', 6263: 'item 6263', 6264: 'item 6264', 6265: 'item 6265', 6266: 'item 6266', 6267: 'item 6267', 6268: 'item 6268', 6269: 'item 6269', 6270: 'item 6270', 6271: 'item 6271', 6272: 'item 6272', 6273: 'item 6273', 6274: 'item 6274', 6275: 'item 6275', 6276: 'item 6276', 6277: 'item 6277', 6278: 'item 6278', 6279: 'item 6279', 6280: 'item 6280', 6281: 'item 6281', 6282: 'item 6282', 6283: 'item 6283', 6284: 'item 6284', 6285: 'item 6285', 6286: 'item 6286', 6287: 'item 6287', 6288: 'item 6288', 6289: 'item 6289', 6290: 'item 6290', 6291: 'item 6291', 6292: 'item 6292', 6293: 'item 6293', 6294: 'item 6294', 6295: 'item 6295', 6296: 'item 6296', 6297: 'item 6297', 6298: 'item 6298', 6299: 'item 6299', 6300: 'item 6300', 6301: 'item 6301', 6302: 'item 6302', 6303: 'item 6303', 6304: 'item 6304', 6305: 'item 6305', 6306: 'item 6306', 6307: 'item 6307', 6308: 'item 6308', 6309: 'item 6309', 6310: 'item 6310', 6311: 'item 6311', 6312: 'item 6312', 6313: 'item 6313', 6314: 'item 6314', 6315: 'item 6315', 6316: 'item 6316', 6317: 'item 6317', 6318: 'item 6318', 6319: 'item 6319', 6320: 'item 6320', 6321: 'item 6321', 6322: 'item 6322', 6323: 'item 6323', 6324: 'item 6324', 6325: 'item 6325', 6326: 'item 6326', 6327: 'item 6327', 6328: 'item 6328', 6329: 'item 6329', 6330: 'item 6330', 6331: 'item 6331', 6332: 'item 6332', 6333: 'item 6333', 6334: 'item 6334', 6335: 'item 6335', 6336: 'item 6336', 6337: 'item 6337', 6338: 'item 6338', 6339: 'item 6339', 6340: 'item 6340', 6341: 'item 6341', 6342: 'item 6342', 6343: 'item 6343', 6344: 'item 6344', 6345: 'item 6345', 6346: 'item 6346', 6347: 'item 6347', 6348: 'item 6348', 6349: 'item 6349', 6350: 'item 6350', 6351: 'item 6351', 6352: 'item 6352', 6353: 'item 6353', 6354: 'item 6354', 6355: 'item 6355', 6356: 'item 6356', 6357: 'item 6357', 6358: 'item 6358', 6359: 'item 6359', 6360: 'item 6360', 6361: 'item 6361', 6362: 'item 6362', 6363: 'item 6363', 6364: 'item 6364', 6365: 'item 6365', 6366: 'item 6366', 6367: 'item 6367', 6368: 'item 6368', 6369: 'item 6369', 6370: 'item 6370', 6371: 'item 6371', 6372: 'item 6372', 6373: 'item 6373', 6374: 'item 6374', 6375: 'item 6375', 6376: 'item 6376', 6377: 'item 6377', 6378: 'item 6378', 6379: 'item 6379', 6380: 'item 6380', 6381: 'item 6381', 6382: 'item 6382', 6383: 'item 6383', 6384: 'item 6384', 6385: 'item 6385', 6386: 'item 6386', 6387: 'item 6387', 6388: 'item 6388', 6389: 'item 6389', 6390: 'item 6390', 6391: 'item 6391', 6392: 'item 6392', 6393: 'item 6393', 6394: 'item 6394', 6395: 'item 6395', 6396: 'item 6396', 6397: 'item 6397', 6398: 'item 6398', 6399: 'item 6399', 6400: 'item 6400', 6401: 'item 6401', 6402: 'item 6402', 6403: 'item 6403', 6404: 'item 6404', 6405: 'item 6405', 6406: 'item 6406', 6407: 'item 6407', 6408: 'item 6408', 6409: 'item 6409', 6410: 'item 6410', 6411: 'item 6411', 6412: 'item 6412', 6413: 'item 6413', 6414: 'item 6414', 6415: 'item 6415', 6416: 'item 6416', 6417: 'item 6417', 6418: 'item 6418', 6419: 'item 6419', 6420: 'item 6420', 6421: 'item 6421', 6422: 'item 6422', 6423: 'item 6423', 6424: 'item 6424', 6425: 'item 6425', 6426: 'item 6426', 6427: 'item 6427', 6428: 'item 6428', 6429: 'item 6429', 6430: 'item 6430', 6431: 'item 6431', 6432: 'item 6432', 6433: 'item 6433', 6434: 'item 6434', 6435: 'item 6435', 6436: 'item 6436', 6437: 'item 6437', 6438: 'item 6438', 6439: 'item 6439', 6440: 'item 6440', 6441: 'item 6441', 6442: 'item 6442', 6443: 'item 6443', 6444: 'item 6444', 6445: 'item 6445', 6446: 'item 6446', 6447: 'item 6447', 6448: 'item 6448', 6449: 'item 6449', 6450: 'item 6450', 6451: 'item 6451', 6452: 'item 6452', 6453: 'item 6453', 6454: 'item 6454', 6455: 'item 6455', 6456: 'item 6456', 6457: 'item 6457', 6458: 'item 6458', 6459: 'item 6459', 6460: 'item 6460', 6461: 'item 6461', 6462: 'item 6462', 6463: 'item 6463', 6464: 'item 6464', 6465: 'item 6465', 6466: 'item 6466', 6467: 'item 6467', 6468: 'item 6468', 6469: 'item 6469', 6470: 'item 6470', 6471: 'item 6471', 6472: 'item 6472', 6473: 'item 6473', 6474: 'item 6474', 6475: 'item 6475', 6476: 'item 6476', 6477: 'item 6477', 6478: 'item 6478', 6479: 'item 6479', 6480: 'item 6480', 6481: 'item 6481', 6482: 'item 6482', 6483: 'item 6483', 6484: 'item 6484', 6485: 'item 6485', 6486: 'item 6486', 6487: 'item 6487', 6488: 'item 6488', 6489: 'item 6489', 6490: 'item 6490', 6491: 'item 6491', 6492: 'item 6492', 6493: 'item 6493', 6494: 'item 6494', 6495: 'item 6495', 6496: 'item 6496', 6497: 'item 6497', 6498: 'item 6498', 6499: 'item 6499', 6500: 'item 6500', 6501: 'item 6501', 6502: 'item 6502', 6503: 'item 6503', 6504: 'item 6504', 6505: 'item 6505', 6506: 'item 6506', 6507: 'item 6507', 6508: 'item 6508', 6509: 'item 6509', 6510: 'item 6510', 6511: 'item 6511', 6512: 'item 6512', 6513: 'item 6513', 6514: 'item 6514', 6515: 'item 6515', 6516: 'item 6516', 6517: 'item 6517', 6518: 'item 6518', 6519: 'item 6519', 6520: 'item 6520', 6521: 'item 6521', 6522: 'item 6522', 6523: 'item 6523', 6524: 'item 6524', 6525: 'item 6525', 6526: 'item 6526', 6527: 'item 6527', 6528: 'item 6528', 6529: 'item 6529', 6530: 'item 6530', 6531: 'item 6531', 6532: 'item 6532', 6533: 'item 6533', 6534: 'item 6534', 6535: 'item 6535', 6536: 'item 6536', 6537: 'item 6537', 6538: 'item 6538', 6539: 'item 6539', 6540: 'item 6540', 6541: 'item 6541', 6542: 'item 6542', 6543: 'item 6543', 6544: 'item 6544', 6545: 'item 6545', 6546: 'item 6546', 6547: 'item 6547', 6548: 'item 6548', 6549: 'item 6549', 6550: 'item 6550', 6551: 'item 6551', 6552: 'item 6552', 6553: 'item 6553', 6554: 'item 6554', 6555: 'item 6555', 6556: 'item 6556', 6557: 'item 6557', 6558: 'item 6558', 6559: 'item 6559', 6560: 'item 6560', 6561: 'item 6561', 6562: 'item 6562', 6563: 'item 6563', 6564: 'item 6564', 6565: 'item 6565', 6566: 'item 6566', 6567: 'item 6567', 6568: 'item 6568', 6569: 'item 6569', 6570: 'item 6570', 6571: 'item 6571', 6572: 'item 6572', 6573: 'item 6573', 6574: 'item 6574', 6575: 'item 6575', 6576: 'item 6576', 6577: 'item 6577', 6578: 'item 6578', 6579: 'item 6579', 6580: 'item 6580', 6581: 'item 6581', 6582: 'item 6582', 6583: 'item 6583', 6584: 'item 6584', 6585: 'item 6585', 6586: 'item 6586', 6587: 'item 6587', 6588: 'item 6588', 6589: 'item 6589', 6590: 'item 6590', 6591: 'item 6591', 6592: 'item 6592', 6593: 'item 6593', 6594: 'item 6594', 6595: 'item 6595', 6596: 'item 6596', 6597: 'item 6597', 6598: 'item 6598', 6599: 'item 6599', 6600: 'item 6600', 6601: 'item 6601', 6602: 'item 6602', 6603: 'item 6603', 6604: 'item 6604', 6605: 'item 6605', 6606: 'item 6606', 6607: 'item 6607', 6608: 'item 6608', 6609: 'item 6609', 6610: 'item 6610', 6611: 'item 6611', 6612: 'item 6612', 6613: 'item 6613', 6614: 'item 6614', 6615: 'item 6615', 6616: 'item 6616', 6617: 'item 6617', 6618: 'item 6618', 6619: 'item 6619', 6620: 'item 6620', 6621: 'item 6621', 6622: 'item 6622', 6623: 'item 6623', 6624: 'item 6624', 6625: 'item 6625', 6626: 'item 6626', 6627: 'item 6627', 6628: 'item 6628', 6629: 'item 6629', 6630: 'item 6630', 6631: 'item 6631', 6632: 'item 6632', 6633: 'item 6633', 6634: 'item 6634', 6635: 'item 6635', 6636: 'item 6636', 6637: 'item 6637', 6638: 'item 6638', 6639: 'item 6639', 6640: 'item 6640', 6641: 'item 6641', 6642: 'item 6642', 6643: 'item 6643', 6644: 'item 6644', 6645: 'item 6645', 6646: 'item 6646', 6647: 'item 6647', 6648: 'item 6648', 6649: 'item 6649', 6650: 'item 6650', 6651: 'item 6651', 6652: 'item 6652', 6653: 'item 6653', 6654: 'item 6654', 6655: 'item 6655', 6656: 'item 6656', 6657: 'item 6657', 6658: 'item 6658', 6659: 'item 6659', 6660: 'item 6660', 6661: 'item 6661', 6662: 'item 6662', 6663: 'item 6663', 6664: 'item 6664', 6665: 'item 6665', 6666: 'item 6666', 6667: 'item 6667', 6668: 'item 6668', 6669: 'item 6669', 6670: 'item 6670', 6671: 'item 6671', 6672: 'item 6672', 6673: 'item 6673', 6674: 'item 6674', 6675: 'item 6675', 6676: 'item 6676', 6677: 'item 6677', 6678: 'item 6678', 6679: 'item 6679', 6680: 'item 6680', 6681: 'item 6681', 6682: 'item 6682', 6683: 'item 6683', 6684: 'item 6684', 6685: 'item 6685', 6686: 'item 6686', 6687: 'item 6687', 6688: 'item 6688', 6689: 'item 6689', 6690: 'item 6690', 6691: 'item 6691', 6692: 'item 6692', 6693: 'item 6693', 6694: 'item 6694', 6695: 'item 6695', 6696: 'item 6696', 6697: 'item 6697', 6698: 'item 6698', 6699: 'item 6699', 6700: 'item 6700', 6701: 'item 6701', 6702: 'item 6702', 6703: 'item 6703', 6704: 'item 6704', 6705: 'item 6705', 6706: 'item 6706', 6707: 'item 6707', 6708: 'item 6708', 6709: 'item 6709', 6710: 'item 6710', 6711: 'item 6711', 6712: 'item 6712', 6713: 'item 6713', 6714: 'item 6714', 6715: 'item 6715', 6716: 'item 6716', 6717: 'item 6717', 6718: 'item 6718', 6719: 'item 6719', 6720: 'item 6720', 6721: 'item 6721', 6722: 'item 6722', 6723: 'item 6723', 6724: 'item 6724', 6725: 'item 6725', 6726: 'item 6726', 6727: 'item 6727', 6728: 'item 6728', 6729: 'item 6729', 6730: 'item 6730', 6731: 'item 6731', 6732: 'item 6732', 6733: 'item 6733', 6734: 'item 6734', 6735: 'item 6735', 6736: 'item 6736', 6737: 'item 6737', 6738: 'item 6738', 6739: 'item 6739', 6740: 'item 6740', 6741: 'item 6741', 6742: 'item 6742', 6743: 'item 6743', 6744: 'item 6744', 6745: 'item 6745', 6746: 'item 6746', 6747: 'item 6747', 6748: 'item 6748', 6749: 'item 6749', 6750: 'item 6750', 6751: 'item 6751', 6752: 'item 6752', 6753: 'item 6753', 6754: 'item 6754', 6755: 'item 6755', 6756: 'item 6756', 6757: 'item 6757', 6758: 'item 6758', 6759: 'item 6759', 6760: 'item 6760', 6761: 'item 6761', 6762: 'item 6762', 6763: 'item 6763', 6764: 'item 6764', 6765: 'item 6765', 6766: 'item 6766', 6767: 'item 6767', 6768: 'item 6768', 6769: 'item 6769', 6770: 'item 6770', 6771: 'item 6771', 6772: 'item 6772', 6773: 'item 6773', 6774: 'item 6774', 6775: 'item 6775', 6776: 'item 6776', 6777: 'item 6777', 6778: 'item 6778', 6779: 'item 6779', 6780: 'item 6780', 6781: 'item 6781', 6782: 'item 6782', 6783: 'item 6783', 6784: 'item 6784', 6785: 'item 6785', 6786: 'item 6786', 6787: 'item 6787', 6788: 'item 6788', 6789: 'item 6789', 6790: 'item 6790', 6791: 'item 6791', 6792: 'item 6792', 6793: 'item 6793', 6794: 'item 6794', 6795: 'item 6795', 6796: 'item 6796', 6797: 'item 6797', 6798: 'item 6798', 6799: 'item 6799', 6800: 'item 6800', 6801: 'item 6801', 6802: 'item 6802', 6803: 'item 6803', 6804: 'item 6804', 6805: 'item 6805', 6806: 'item 6806', 6807: 'item 6807', 6808: 'item 6808', 6809: 'item 6809', 6810: 'item 6810', 6811: 'item 6811', 6812: 'item 6812', 6813: 'item 6813', 6814: 'item 6814', 6815: 'item 6815', 6816: 'item 6816', 6817: 'item 6817', 6818: 'item 6818', 6819: 'item 6819', 6820: 'item 6820', 6821: 'item 6821', 6822: 'item 6822', 6823: 'item 6823', 6824: 'item 6824', 6825: 'item 6825', 6826: 'item 6826', 6827: 'item 6827', 6828: 'item 6828', 6829: 'item 6829', 6830: 'item 6830', 6831: 'item 6831', 6832: 'item 6832', 6833: 'item 6833', 6834: 'item 6834', 6835: 'item 6835', 6836: 'item 6836', 6837: 'item 6837', 6838: 'item 6838', 6839: 'item 6839', 6840: 'item 6840', 6841: 'item 6841', 6842: 'item 6842', 6843: 'item 6843', 6844: 'item 6844', 6845: 'item 6845', 6846: 'item 6846', 6847: 'item 6847', 6848: 'item 6848', 6849: 'item 6849', 6850: 'item 6850', 6851: 'item 6851', 6852: 'item 6852', 6853: 'item 6853', 6854: 'item 6854', 6855: 'item 6855', 6856: 'item 6856', 6857: 'item 6857', 6858: 'item 6858', 6859: 'item 6859', 6860: 'item 6860', 6861: 'item 6861', 6862: 'item 6862', 6863: 'item 6863', 6864: 'item 6864', 6865: 'item 6865', 6866: 'item 6866', 6867: 'item 6867', 6868: 'item 6868', 6869: 'item 6869', 6870: 'item 6870', 6871: 'item 6871', 6872: 'item 6872', 6873: 'item 6873', 6874: 'item 6874', 6875: 'item 6875', 6876: 'item 6876', 6877: 'item 6877', 6878: 'item 6878', 6879: 'item 6879', 6880: 'item 6880', 6881: 'item 6881', 6882: 'item 6882', 6883: 'item 6883', 6884: 'item 6884', 6885: 'item 6885', 6886: 'item 6886', 6887: 'item 6887', 6888: 'item 6888', 6889: 'item 6889', 6890: 'item 6890', 6891: 'item 6891', 6892: 'item 6892', 6893: 'item 6893', 6894: 'item 6894', 6895: 'item 6895', 6896: 'item 6896', 6897: 'item 6897', 6898: 'item 6898', 6899: 'item 6899', 6900: 'item 6900', 6901: 'item 6901', 6902: 'item 6902', 6903: 'item 6903', 6904: 'item 6904', 6905: 'item 6905', 6906: 'item 6906', 6907: 'item 6907', 6908: 'item 6908', 6909: 'item 6909', 6910: 'item 6910', 6911: 'item 6911', 6912: 'item 6912', 6913: 'item 6913', 6914: 'item 6914', 6915: 'item 6915', 6916: 'item 6916', 6917: 'item 6917', 6918: 'item 6918', 6919: 'item 6919', 6920: 'item 6920', 6921: 'item 6921', 6922: 'item 6922', 6923: 'item 6923', 6924: 'item 6924', 6925: 'item 6925', 6926: 'item 6926', 6927: 'item 6927', 6928: 'item 6928', 6929: 'item 6929', 6930: 'item 6930', 6931: 'item 6931', 6932: 'item 6932', 6933: 'item 6933', 6934: 'item 6934', 6935: 'item 6935', 6936: 'item 6936', 6937: 'item 6937', 6938: 'item 6938', 6939: 'item 6939', 6940: 'item 6940', 6941: 'item 6941', 6942: 'item 6942', 6943: 'item 6943', 6944: 'item 6944', 6945: 'item 6945', 6946: 'item 6946', 6947: 'item 6947', 6948: 'item 6948', 6949: 'item 6949', 6950: 'item 6950', 6951: 'item 6951', 6952: 'item 6952', 6953: 'item 6953', 6954: 'item 6954', 6955: 'item 6955', 6956: 'item 6956', 6957: 'item 6957', 6958: 'item 6958', 6959: 'item 6959', 6960: 'item 6960', 6961: 'item 6961', 6962: 'item 6962', 6963: 'item 6963', 6964: 'item 6964', 6965: 'item 6965', 6966: 'item 6966', 6967: 'item 6967', 6968: 'item 6968', 6969: 'item 6969', 6970: 'item 6970', 6971: 'item 6971', 6972: 'item 6972', 6973: 'item 6973', 6974: 'item 6974', 6975: 'item 6975', 6976: 'item 6976', 6977: 'item 6977', 6978: 'item 6978', 6979: 'item 6979', 6980: 'item 6980', 6981: 'item 6981', 6982: 'item 6982', 6983: 'item 6983', 6984: 'item 6984', 6985: 'item 6985', 6986: 'item 6986', 6987: 'item 6987', 6988: 'item 6988', 6989: 'item 6989', 6990: 'item 6990', 6991: 'item 6991', 6992: 'item 6992', 6993: 'item 6993', 6994: 'item 6994', 6995: 'item 6995', 6996: 'item 6996', 6997: 'item 6997', 6998: 'item 6998', 6999: 'item 6999', 7000: 'item 7000', 7001: 'item 7001', 7002: 'item 7002', 7003: 'item 7003', 7004: 'item 7004', 7005: 'item 7005', 7006: 'item 7006', 7007: 'item 7007', 7008: 'item 7008', 7009: 'item 7009', 7010: 'item 7010', 7011: 'item 7011', 7012: 'item 7012', 7013: 'item 7013', 7014: 'item 7014', 7015: 'item 7015', 7016: 'item 7016', 7017: 'item 7017', 7018: 'item 7018', 7019: 'item 7019', 7020: 'item 7020', 7021: 'item 7021', 7022: 'item 7022', 7023: 'item 7023', 7024: 'item 7024', 7025: 'item 7025', 7026: 'item 7026', 7027: 'item 7027', 7028: 'item 7028', 7029: 'item 7029', 7030: 'item 7030', 7031: 'item 7031', 7032: 'item 7032', 7033: 'item 7033', 7034: 'item 7034', 7035: 'item 7035', 7036: 'item 7036', 7037: 'item 7037', 7038: 'item 7038', 7039: 'item 7039', 7040: 'item 7040', 7041: 'item 7041', 7042: 'item 7042', 7043: 'item 7043', 7044: 'item 7044', 7045: 'item 7045', 7046: 'item 7046', 7047: 'item 7047', 7048: 'item 7048', 7049: 'item 7049', 7050: 'item 7050', 7051: 'item 7051', 7052: 'item 7052', 7053: 'item 7053', 7054: 'item 7054', 7055: 'item 7055', 7056: 'item 7056', 7057: 'item 7057', 7058: 'item 7058', 7059: 'item 7059', 7060: 'item 7060', 7061: 'item 7061', 7062: 'item 7062', 7063: 'item 7063', 7064: 'item 7064', 7065: 'item 7065', 7066: 'item 7066', 7067: 'item 7067', 7068: 'item 7068', 7069: 'item 7069', 7070: 'item 7070', 7071: 'item 7071', 7072: 'item 7072', 7073: 'item 7073', 7074: 'item 7074', 7075: 'item 7075', 7076: 'item 7076', 7077: 'item 7077', 7078: 'item 7078', 7079: 'item 7079', 7080: 'item 7080', 7081: 'item 7081', 7082: 'item 7082', 7083: 'item 7083', 7084: 'item 7084', 7085: 'item 7085', 7086: 'item 7086', 7087: 'item 7087', 7088: 'item 7088', 7089: 'item 7089', 7090: 'item 7090', 7091: 'item 7091', 7092: 'item 7092', 7093: 'item 7093', 7094: 'item 7094', 7095: 'item 7095', 7096: 'item 7096', 7097: 'item 7097', 7098: 'item 7098', 7099: 'item 7099', 7100: 'item 7100', 7101: 'item 7101', 7102: 'item 7102', 7103: 'item 7103', 7104: 'item 7104', 7105: 'item 7105', 7106: 'item 7106', 7107: 'item 7107', 7108: 'item 7108', 7109: 'item 7109', 7110: 'item 7110', 7111: 'item 7111', 7112: 'item 7112', 7113: 'item 7113', 7114: 'item 7114', 7115: 'item 7115', 7116: 'item 7116', 7117: 'item 7117', 7118: 'item 7118', 7119: 'item 7119', 7120: 'item 7120', 7121: 'item 7121', 7122: 'item 7122', 7123: 'item 7123', 7124: 'item 7124', 7125: 'item 7125', 7126: 'item 7126', 7127: 'item 7127', 7128: 'item 7128', 7129: 'item 7129', 7130: 'item 7130', 7131: 'item 7131', 7132: 'item 7132', 7133: 'item 7133', 7134: 'item 7134', 7135: 'item 7135', 7136: 'item 7136', 7137: 'item 7137', 7138: 'item 7138', 7139: 'item 7139', 7140: 'item 7140', 7141: 'item 7141', 7142: 'item 7142', 7143: 'item 7143', 7144: 'item 7144', 7145: 'item 7145', 7146: 'item 7146', 7147: 'item 7147', 7148: 'item 7148', 7149: 'item 7149', 7150: 'item 7150', 7151: 'item 7151', 7152: 'item 7152', 7153: 'item 7153', 7154: 'item 7154', 7155: 'item 7155', 7156: 'item 7156', 7157: 'item 7157', 7158: 'item 7158', 7159: 'item 7159', 7160: 'item 7160', 7161: 'item 7161', 7162: 'item 7162', 7163: 'item 7163', 7164: 'item 7164', 7165: 'item 7165', 7166: 'item 7166', 7167: 'item 7167', 7168: 'item 7168', 7169: 'item 7169', 7170: 'item 7170', 7171: 'item 7171', 7172: 'item 7172', 7173: 'item 7173', 7174: 'item 7174', 7175: 'item 7175', 7176: 'item 7176', 7177: 'item 7177', 7178: 'item 7178', 7179: 'item 7179', 7180: 'item 7180', 7181: 'item 7181', 7182: 'item 7182', 7183: 'item 7183', 7184: 'item 7184', 7185: 'item 7185', 7186: 'item 7186', 7187: 'item 7187', 7188: 'item 7188', 7189: 'item 7189', 7190: 'item 7190', 7191: 'item 7191', 7192: 'item 7192', 7193: 'item 7193', 7194: 'item 7194', 7195: 'item 7195', 7196: 'item 7196', 7197: 'item 7197', 7198: 'item 7198', 7199: 'item 7199', 7200: 'item 7200', 7201: 'item 7201', 7202: 'item 7202', 7203: 'item 7203', 7204: 'item 7204', 7205: 'item 7205', 7206: 'item 7206', 7207: 'item 7207', 7208: 'item 7208', 7209: 'item 7209', 7210: 'item 7210', 7211: 'item 7211', 7212: 'item 7212', 7213: 'item 7213', 7214: 'item 7214', 7215: 'item 7215', 7216: 'item 7216', 7217: 'item 7217', 7218: 'item 7218', 7219: 'item 7219', 7220: 'item 7220', 7221: 'item 7221', 7222: 'item 7222', 7223: 'item 7223', 7224: 'item 7224', 7225: 'item 7225', 7226: 'item 7226', 7227: 'item 7227', 7228: 'item 7228', 7229: 'item 7229', 7230: 'item 7230', 7231: 'item 7231', 7232: 'item 7232', 7233: 'item 7233', 7234: 'item 7234', 7235: 'item 7235', 7236: 'item 7236', 7237: 'item 7237', 7238: 'item 7238', 7239: 'item 7239', 7240: 'item 7240', 7241: 'item 7241', 7242: 'item 7242', 7243: 'item 7243', 7244: 'item 7244', 7245: 'item 7245', 7246: 'item 7246', 7247: 'item 7247', 7248: 'item 7248', 7249: 'item 7249', 7250: 'item 7250', 7251: 'item 7251', 7252: 'item 7252', 7253: 'item 7253', 7254: 'item 7254', 7255: 'item 7255', 7256: 'item 7256', 7257: 'item 7257', 7258: 'item 7258', 7259: 'item 7259', 7260: 'item 7260', 7261: 'item 7261', 7262: 'item 7262', 7263: 'item 7263', 7264: 'item 7264', 7265: 'item 7265', 7266: 'item 7266', 7267: 'item 7267', 7268: 'item 7268', 7269: 'item 7269', 7270: 'item 7270', 7271: 'item 7271', 7272: 'item 7272', 7273: 'item 7273', 7274: 'item 7274', 7275: 'item 7275', 7276: 'item 7276', 7277: 'item 7277', 7278: 'item 7278', 7279: 'item 7279', 7280: 'item 7280', 7281: 'item 7281', 7282: 'item 7282', 7283: 'item 7283', 7284: 'item 7284', 7285: 'item 7285', 7286: 'item 7286', 7287: 'item 7287', 7288: 'item 7288', 7289: 'item 7289', 7290: 'item 7290', 7291: 'item 7291', 7292: 'item 7292', 7293: 'item 7293', 7294: 'item 7294', 7295: 'item 7295', 7296: 'item 7296', 7297: 'item 7297', 7298: 'item 7298', 7299: 'item 7299', 7300: 'item 7300', 7301: 'item 7301', 7302: 'item 7302', 7303: 'item 7303', 7304: 'item 7304', 7305: 'item 7305', 7306: 'item 7306', 7307: 'item 7307', 7308: 'item 7308', 7309: 'item 7309', 7310: 'item 7310', 7311: 'item 7311', 7312: 'item 7312', 7313: 'item 7313', 7314: 'item 7314', 7315: 'item 7315', 7316: 'item 7316', 7317: 'item 7317', 7318: 'item 7318', 7319: 'item 7319', 7320: 'item 7320', 7321: 'item 7321', 7322: 'item 7322', 7323: 'item 7323', 7324: 'item 7324', 7325: 'item 7325', 7326: 'item 7326', 7327: 'item 7327', 7328: 'item 7328', 7329: 'item 7329', 7330: 'item 7330', 7331: 'item 7331', 7332: 'item 7332', 7333: 'item 7333', 7334: 'item 7334', 7335: 'item 7335', 7336: 'item 7336', 7337: 'item 7337', 7338: 'item 7338', 7339: 'item 7339', 7340: 'item 7340', 7341: 'item 7341', 7342: 'item 7342', 7343: 'item 7343', 7344: 'item 7344', 7345: 'item 7345', 7346: 'item 7346', 7347: 'item 7347', 7348: 'item 7348', 7349: 'item 7349', 7350: 'item 7350', 7351: 'item 7351', 7352: 'item 7352', 7353: 'item 7353', 7354: 'item 7354', 7355: 'item 7355', 7356: 'item 7356', 7357: 'item 7357', 7358: 'item 7358', 7359: 'item 7359', 7360: 'item 7360', 7361: 'item 7361', 7362: 'item 7362', 7363: 'item 7363', 7364: 'item 7364', 7365: 'item 7365', 7366: 'item 7366', 7367: 'item 7367', 7368: 'item 7368', 7369: 'item 7369', 7370: 'item 7370', 7371: 'item 7371', 7372: 'item 7372', 7373: 'item 7373', 7374: 'item 7374', 7375: 'item 7375', 7376: 'item 7376', 7377: 'item 7377', 7378: 'item 7378', 7379: 'item 7379', 7380: 'item 7380', 7381: 'item 7381', 7382: 'item 7382', 7383: 'item 7383', 7384: 'item 7384', 7385: 'item 7385', 7386: 'item 7386', 7387: 'item 7387', 7388: 'item 7388', 7389: 'item 7389', 7390: 'item 7390', 7391: 'item 7391', 7392: 'item 7392', 7393: 'item 7393', 7394: 'item 7394', 7395: 'item 7395', 7396: 'item 7396', 7397: 'item 7397', 7398: 'item 7398', 7399: 'item 7399', 7400: 'item 7400', 7401: 'item 7401', 7402: 'item 7402', 7403: 'item 7403', 7404: 'item 7404', 7405: 'item 7405', 7406: 'item 7406', 7407: 'item 7407', 7408: 'item 7408', 7409: 'item 7409', 7410: 'item 7410', 7411: 'item 7411', 7412: 'item 7412', 7413: 'item 7413', 7414: 'item 7414', 7415: 'item 7415', 7416: 'item 7416', 7417: 'item 7417', 7418: 'item 7418', 7419: 'item 7419', 7420: 'item 7420', 7421: 'item 7421', 7422: 'item 7422', 7423: 'item 7423', 7424: 'item 7424', 7425: 'item 7425', 7426: 'item 7426', 7427: 'item 7427', 7428: 'item 7428', 7429: 'item 7429', 7430: 'item 7430', 7431: 'item 7431', 7432: 'item 7432', 7433: 'item 7433', 7434: 'item 7434', 7435: 'item 7435', 7436: 'item 7436', 7437: 'item 7437', 7438: 'item 7438', 7439: 'item 7439', 7440: 'item 7440', 7441: 'item 7441', 7442: 'item 7442', 7443: 'item 7443', 7444: 'item 7444', 7445: 'item 7445', 7446: 'item 7446', 7447: 'item 7447', 7448: 'item 7448', 7449: 'item 7449', 7450: 'item 7450', 7451: 'item 7451', 7452: 'item 7452', 7453: 'item 7453', 7454: 'item 7454', 7455: 'item 7455', 7456: 'item 7456', 7457: 'item 7457', 7458: 'item 7458', 7459: 'item 7459', 7460: 'item 7460', 7461: 'item 7461', 7462: 'item 7462', 7463: 'item 7463', 7464: 'item 7464', 7465: 'item 7465', 7466: 'item 7466', 7467: 'item 7467', 7468: 'item 7468', 7469: 'item 7469', 7470: 'item 7470', 7471: 'item 7471', 7472: 'item 7472', 7473: 'item 7473', 7474: 'item 7474', 7475: 'item 7475', 7476: 'item 7476', 7477: 'item 7477', 7478: 'item 7478', 7479: 'item 7479', 7480: 'item 7480', 7481: 'item 7481', 7482: 'item 7482', 7483: 'item 7483', 7484: 'item 7484', 7485: 'item 7485', 7486: 'item 7486', 7487: 'item 7487', 7488: 'item 7488', 7489: 'item 7489', 7490: 'item 7490', 7491: 'item 7491', 7492: 'item 7492', 7493: 'item 7493', 7494: 'item 7494', 7495: 'item 7495', 7496: 'item 7496', 7497: 'item 7497', 7498: 'item 7498', 7499: 'item 7499', 7500: 'item 7500', 7501: 'item 7501', 7502: 'item 7502', 7503: 'item 7503', 7504: 'item 7504', 7505: 'item 7505', 7506: 'item 7506', 7507: 'item 7507', 7508: 'item 7508', 7509: 'item 7509', 7510: 'item 7510', 7511: 'item 7511', 7512: 'item 7512', 7513: 'item 7513', 7514: 'item 7514', 7515: 'item 7515', 7516: 'item 7516', 7517: 'item 7517', 7518: 'item 7518', 7519: 'item 7519', 7520: 'item 7520', 7521: 'item 7521', 7522: 'item 7522', 7523: 'item 7523', 7524: 'item 7524', 7525: 'item 7525', 7526: 'item 7526', 7527: 'item 7527', 7528: 'item 7528', 7529: 'item 7529', 7530: 'item 7530', 7531: 'item 7531', 7532: 'item 7532', 7533: 'item 7533', 7534: 'item 7534', 7535: 'item 7535', 7536: 'item 7536', 7537: 'item 7537', 7538: 'item 7538', 7539: 'item 7539', 7540: 'item 7540', 7541: 'item 7541', 7542: 'item 7542', 7543: 'item 7543', 7544: 'item 7544', 7545: 'item 7545', 7546: 'item 7546', 7547: 'item 7547', 7548: 'item 7548', 7549: 'item 7549', 7550: 'item 7550', 7551: 'item 7551', 7552: 'item 7552', 7553: 'item 7553', 7554: 'item 7554', 7555: 'item 7555', 7556: 'item 7556', 7557: 'item 7557', 7558: 'item 7558', 7559: 'item 7559', 7560: 'item 7560', 7561: 'item 7561', 7562: 'item 7562', 7563: 'item 7563', 7564: 'item 7564', 7565: 'item 7565', 7566: 'item 7566', 7567: 'item 7567', 7568: 'item 7568', 7569: 'item 7569', 7570: 'item 7570', 7571: 'item 7571', 7572: 'item 7572', 7573: 'item 7573', 7574: 'item 7574', 7575: 'item 7575', 7576: 'item 7576', 7577: 'item 7577', 7578: 'item 7578', 7579: 'item 7579', 7580: 'item 7580', 7581: 'item 7581', 7582: 'item 7582', 7583: 'item 7583', 7584: 'item 7584', 7585: 'item 7585', 7586: 'item 7586', 7587: 'item 7587', 7588: 'item 7588', 7589: 'item 7589', 7590: 'item 7590', 7591: 'item 7591', 7592: 'item 7592', 7593: 'item 7593', 7594: 'item 7594', 7595: 'item 7595', 7596: 'item 7596', 7597: 'item 7597', 7598: 'item 7598', 7599: 'item 7599', 7600: 'item 7600', 7601: 'item 7601', 7602: 'item 7602', 7603: 'item 7603', 7604: 'item 7604', 7605: 'item 7605', 7606: 'item 7606', 7607: 'item 7607', 7608: 'item 7608', 7609: 'item 7609', 7610: 'item 7610', 7611: 'item 7611', 7612: 'item 7612', 7613: 'item 7613', 7614: 'item 7614', 7615: 'item 7615', 7616: 'item 7616', 7617: 'item 7617', 7618: 'item 7618', 7619: 'item 7619', 7620: 'item 7620', 7621: 'item 7621', 7622: 'item 7622', 7623: 'item 7623', 7624: 'item 7624', 7625: 'item 7625', 7626: 'item 7626', 7627: 'item 7627', 7628: 'item 7628', 7629: 'item 7629', 7630: 'item 7630', 7631: 'item 7631', 7632: 'item 7632', 7633: 'item 7633', 7634: 'item 7634', 7635: 'item 7635', 7636: 'item 7636', 7637: 'item 7637', 7638: 'item 7638', 7639: 'item 7639', 7640: 'item 7640', 7641: 'item 7641', 7642: 'item 7642', 7643: 'item 7643', 7644: 'item 7644', 7645: 'item 7645', 7646: 'item 7646', 7647: 'item 7647', 7648: 'item 7648', 7649: 'item 7649', 7650: 'item 7650', 7651: 'item 7651', 7652: 'item 7652', 7653: 'item 7653', 7654: 'item 7654', 7655: 'item 7655', 7656: 'item 7656', 7657: 'item 7657', 7658: 'item 7658', 7659: 'item 7659', 7660: 'item 7660', 7661: 'item 7661', 7662: 'item 7662', 7663: 'item 7663', 7664: 'item 7664', 7665: 'item 7665', 7666: 'item 7666', 7667: 'item 7667', 7668: 'item 7668', 7669: 'item 7669', 7670: 'item 7670', 7671: 'item 7671', 7672: 'item 7672', 7673: 'item 7673', 7674: 'item 7674', 7675: 'item 7675', 7676: 'item 7676', 7677: 'item 7677', 7678: 'item 7678', 7679: 'item 7679', 7680: 'item 7680', 7681: 'item 7681', 7682: 'item 7682', 7683: 'item 7683', 7684: 'item 7684', 7685: 'item 7685', 7686: 'item 7686', 7687: 'item 7687', 7688: 'item 7688', 7689: 'item 7689', 7690: 'item 7690', 7691: 'item 7691', 7692: 'item 7692', 7693: 'item 7693', 7694: 'item 7694', 7695: 'item 7695', 7696: 'item 7696', 7697: 'item 7697', 7698: 'item 7698', 7699: 'item 7699', 7700: 'item 7700', 7701: 'item 7701', 7702: 'item 7702', 7703: 'item 7703', 7704: 'item 7704', 7705: 'item 7705', 7706: 'item 7706', 7707: 'item 7707', 7708: 'item 7708', 7709: 'item 7709', 7710: 'item 7710', 7711: 'item 7711', 7712: 'item 7712', 7713: 'item 7713', 7714: 'item 7714', 7715: 'item 7715', 7716: 'item 7716', 7717: 'item 7717', 7718: 'item 7718', 7719: 'item 7719', 7720: 'item 7720', 7721: 'item 7721', 7722: 'item 7722', 7723: 'item 7723', 7724: 'item 7724', 7725: 'item 7725', 7726: 'item 7726', 7727: 'item 7727', 7728: 'item 7728', 7729: 'item 7729', 7730: 'item 7730', 7731: 'item 7731', 7732: 'item 7732', 7733: 'item 7733', 7734: 'item 7734', 7735: 'item 7735', 7736: 'item 7736', 7737: 'item 7737', 7738: 'item 7738', 7739: 'item 7739', 7740: 'item 7740', 7741: 'item 7741', 7742: 'item 7742', 7743: 'item 7743', 7744: 'item 7744', 7745: 'item 7745', 7746: 'item 7746', 7747: 'item 7747', 7748: 'item 7748', 7749: 'item 7749', 7750: 'item 7750', 7751: 'item 7751', 7752: 'item 7752', 7753: 'item 7753', 7754: 'item 7754', 7755: 'item 7755', 7756: 'item 7756', 7757: 'item 7757', 7758: 'item 7758', 7759: 'item 7759', 7760: 'item 7760', 7761: 'item 7761', 7762: 'item 7762', 7763: 'item 7763', 7764: 'item 7764', 7765: 'item 7765', 7766: 'item 7766', 7767: 'item 7767', 7768: 'item 7768', 7769: 'item 7769', 7770: 'item 7770', 7771: 'item 7771', 7772: 'item 7772', 7773: 'item 7773', 7774: 'item 7774', 7775: 'item 7775', 7776: 'item 7776', 7777: 'item 7777', 7778: 'item 7778', 7779: 'item 7779', 7780: 'item 7780', 7781: 'item 7781', 7782: 'item 7782', 7783: 'item 7783', 7784: 'item 7784', 7785: 'item 7785', 7786: 'item 7786', 7787: 'item 7787', 7788: 'item 7788', 7789: 'item 7789', 7790: 'item 7790', 7791: 'item 7791', 7792: 'item 7792', 7793: 'item 7793', 7794: 'item 7794', 7795: 'item 7795', 7796: 'item 7796', 7797: 'item 7797', 7798: 'item 7798', 7799: 'item 7799', 7800: 'item 7800', 7801: 'item 7801', 7802: 'item 7802', 7803: 'item 7803', 7804: 'item 7804', 7805: 'item 7805', 7806: 'item 7806', 7807: 'item 7807', 7808: 'item 7808', 7809: 'item 7809', 7810: 'item 7810', 7811: 'item 7811', 7812: 'item 7812', 7813: 'item 7813', 7814: 'item 7814', 7815: 'item 7815', 7816: 'item 7816', 7817: 'item 7817', 7818: 'item 7818', 7819: 'item 7819', 7820: 'item 7820', 7821: 'item 7821', 7822: 'item 7822', 7823: 'item 7823', 7824: 'item 7824', 7825: 'item 7825', 7826: 'item 7826', 7827: 'item 7827', 7828: 'item 7828', 7829: 'item 7829', 7830: 'item 7830', 7831: 'item 7831', 7832: 'item 7832', 7833: 'item 7833', 7834: 'item 7834', 7835: 'item 7835', 7836: 'item 7836', 7837: 'item 7837', 7838: 'item 7838', 7839: 'item 7839', 7840: 'item 7840', 7841: 'item 7841', 7842: 'item 7842', 7843: 'item 7843', 7844: 'item 7844', 7845: 'item 7845', 7846: 'item 7846', 7847: 'item 7847', 7848: 'item 7848', 7849: 'item 7849', 7850: 'item 7850', 7851: 'item 7851', 7852: 'item 7852', 7853: 'item 7853', 7854: 'item 7854', 7855: 'item 7855', 7856: 'item 7856', 7857: 'item 7857', 7858: 'item 7858', 7859: 'item 7859', 7860: 'item 7860', 7861: 'item 7861', 7862: 'item 7862', 7863: 'item 7863', 7864: 'item 7864', 7865: 'item 7865', 7866: 'item 7866', 7867: 'item 7867', 7868: 'item 7868', 7869: 'item 7869', 7870: 'item 7870', 7871: 'item 7871', 7872: 'item 7872', 7873: 'item 7873', 7874: 'item 7874', 7875: 'item 7875', 7876: 'item 7876', 7877: 'item 7877', 7878: 'item 7878', 7879: 'item 7879', 7880: 'item 7880', 7881: 'item 7881', 7882: 'item 7882', 7883: 'item 7883', 7884: 'item 7884', 7885: 'item 7885', 7886: 'item 7886', 7887: 'item 7887', 7888: 'item 7888', 7889: 'item 7889', 7890: 'item 7890', 7891: 'item 7891', 7892: 'item 7892', 7893: 'item 7893', 7894: 'item 7894', 7895: 'item 7895', 7896: 'item 7896', 7897: 'item 7897', 7898: 'item 7898', 7899: 'item 7899', 7900: 'item 7900', 7901: 'item 7901', 7902: 'item 7902', 7903: 'item 7903', 7904: 'item 7904', 7905: 'item 7905', 7906: 'item 7906', 7907: 'item 7907', 7908: 'item 7908', 7909: 'item 7909', 7910: 'item 7910', 7911: 'item 7911', 7912: 'item 7912', 7913: 'item 7913', 7914: 'item 7914', 7915: 'item 7915', 7916: 'item 7916', 7917: 'item 7917', 7918: 'item 7918', 7919: 'item 7919', 7920: 'item 7920', 7921: 'item 7921', 7922: 'item 7922', 7923: 'item 7923', 7924: 'item 7924', 7925: 'item 7925', 7926: 'item 7926', 7927: 'item 7927', 7928: 'item 7928', 7929: 'item 7929', 7930: 'item 7930', 7931: 'item 7931', 7932: 'item 7932', 7933: 'item 7933', 7934: 'item 7934', 7935: 'item 7935', 7936: 'item 7936', 7937: 'item 7937', 7938: 'item 7938', 7939: 'item 7939', 7940: 'item 7940', 7941: 'item 7941', 7942: 'item 7942', 7943: 'item 7943', 7944: 'item 7944', 7945: 'item 7945', 7946: 'item 7946', 7947: 'item 7947', 7948: 'item 7948', 7949: 'item 7949', 7950: 'item 7950', 7951: 'item 7951', 7952: 'item 7952', 7953: 'item 7953', 7954: 'item 7954', 7955: 'item 7955', 7956: 'item 7956', 7957: 'item 7957', 7958: 'item 7958', 7959: 'item 7959', 7960: 'item 7960', 7961: 'item 7961', 7962: 'item 7962', 7963: 'item 7963', 7964: 'item 7964', 7965: 'item 7965', 7966: 'item 7966', 7967: 'item 7967', 7968: 'item 7968', 7969: 'item 7969', 7970: 'item 7970', 7971: 'item 7971', 7972: 'item 7972', 7973: 'item 7973', 7974: 'item 7974', 7975: 'item 7975', 7976: 'item 7976', 7977: 'item 7977', 7978: 'item 7978', 7979: 'item 7979', 7980: 'item 7980', 7981: 'item 7981', 7982: 'item 7982', 7983: 'item 7983', 7984: 'item 7984', 7985: 'item 7985', 7986: 'item 7986', 7987: 'item 7987', 7988: 'item 7988', 7989: 'item 7989', 7990: 'item 7990', 7991: 'item 7991', 7992: 'item 7992', 7993: 'item 7993', 7994: 'item 7994', 7995: 'item 7995', 7996: 'item 7996', 7997: 'item 7997', 7998: 'item 7998', 7999: 'item 7999', 8000: 'item 8000', 8001: 'item 8001', 8002: 'item 8002', 8003: 'item 8003', 8004: 'item 8004', 8005: 'item 8005', 8006: 'item 8006', 8007: 'item 8007', 8008: 'item 8008', 8009: 'item 8009', 8010: 'item 8010', 8011: 'item 8011', 8012: 'item 8012', 8013: 'item 8013', 8014: 'item 8014', 8015: 'item 8015', 8016: 'item 8016', 8017: 'item 8017', 8018: 'item 8018', 8019: 'item 8019', 8020: 'item 8020', 8021: 'item 8021', 8022: 'item 8022', 8023: 'item 8023', 8024: 'item 8024', 8025: 'item 8025', 8026: 'item 8026', 8027: 'item 8027', 8028: 'item 8028', 8029: 'item 8029', 8030: 'item 8030', 8031: 'item 8031', 8032: 'item 8032', 8033: 'item 8033', 8034: 'item 8034', 8035: 'item 8035', 8036: 'item 8036', 8037: 'item 8037', 8038: 'item 8038', 8039: 'item 8039', 8040: 'item 8040', 8041: 'item 8041', 8042: 'item 8042', 8043: 'item 8043', 8044: 'item 8044', 8045: 'item 8045', 8046: 'item 8046', 8047: 'item 8047', 8048: 'item 8048', 8049: 'item 8049', 8050: 'item 8050', 8051: 'item 8051', 8052: 'item 8052', 8053: 'item 8053', 8054: 'item 8054', 8055: 'item 8055', 8056: 'item 8056', 8057: 'item 8057', 8058: 'item 8058', 8059: 'item 8059', 8060: 'item 8060', 8061: 'item 8061', 8062: 'item 8062', 8063: 'item 8063', 8064: 'item 8064', 8065: 'item 8065', 8066: 'item 8066', 8067: 'item 8067', 8068: 'item 8068', 8069: 'item 8069', 8070: 'item 8070', 8071: 'item 8071', 8072: 'item 8072', 8073: 'item 8073', 8074: 'item 8074', 8075: 'item 8075', 8076: 'item 8076', 8077: 'item 8077', 8078: 'item 8078', 8079: 'item 8079', 8080: 'item 8080', 8081: 'item 8081', 8082: 'item 8082', 8083: 'item 8083', 8084: 'item 8084', 8085: 'item 8085', 8086: 'item 8086', 8087: 'item 8087', 8088: 'item 8088', 8089: 'item 8089', 8090: 'item 8090', 8091: 'item 8091', 8092: 'item 8092', 8093: 'item 8093', 8094: 'item 8094', 8095: 'item 8095', 8096: 'item 8096', 8097: 'item 8097', 8098: 'item 8098', 8099: 'item 8099', 8100: 'item 8100', 8101: 'item 8101', 8102: 'item 8102', 8103: 'item 8103', 8104: 'item 8104', 8105: 'item 8105', 8106: 'item 8106', 8107: 'item 8107', 8108: 'item 8108', 8109: 'item 8109', 8110: 'item 8110', 8111: 'item 8111', 8112: 'item 8112', 8113: 'item 8113', 8114: 'item 8114', 8115: 'item 8115', 8116: 'item 8116', 8117: 'item 8117', 8118: 'item 8118', 8119: 'item 8119', 8120: 'item 8120', 8121: 'item 8121', 8122: 'item 8122', 8123: 'item 8123', 8124: 'item 8124', 8125: 'item 8125', 8126: 'item 8126', 8127: 'item 8127', 8128: 'item 8128', 8129: 'item 8129', 8130: 'item 8130', 8131: 'item 8131', 8132: 'item 8132', 8133: 'item 8133', 8134: 'item 8134', 8135: 'item 8135', 8136: 'item 8136', 8137: 'item 8137', 8138: 'item 8138', 8139: 'item 8139', 8140: 'item 8140', 8141: 'item 8141', 8142: 'item 8142', 8143: 'item 8143', 8144: 'item 8144', 8145: 'item 8145', 8146: 'item 8146', 8147: 'item 8147', 8148: 'item 8148', 8149: 'item 8149', 8150: 'item 8150', 8151: 'item 8151', 8152: 'item 8152', 8153: 'item 8153', 8154: 'item 8154', 8155: 'item 8155', 8156: 'item 8156', 8157: 'item 8157', 8158: 'item 8158', 8159: 'item 8159', 8160: 'item 8160', 8161: 'item 8161', 8162: 'item 8162', 8163: 'item 8163', 8164: 'item 8164', 8165: 'item 8165', 8166: 'item 8166', 8167: 'item 8167', 8168: 'item 8168', 8169: 'item 8169', 8170: 'item 8170', 8171: 'item 8171', 8172: 'item 8172', 8173: 'item 8173', 8174: 'item 8174', 8175: 'item 8175', 8176: 'item 8176', 8177: 'item 8177', 8178: 'item 8178', 8179: 'item 8179', 8180: 'item 8180', 8181: 'item 8181', 8182: 'item 8182', 8183: 'item 8183', 8184: 'item 8184', 8185: 'item 8185', 8186: 'item 8186', 8187: 'item 8187', 8188: 'item 8188', 8189: 'item 8189', 8190: 'item 8190', 8191: 'item 8191', 8192: 'item 8192', 8193: 'item 8193', 8194: 'item 8194', 8195: 'item 8195', 8196: 'item 8196', 8197: 'item 8197', 8198: 'item 8198', 8199: 'item 8199', 8200: 'item 8200', 8201: 'item 8201', 8202: 'item 8202', 8203: 'item 8203', 8204: 'item 8204', 8205: 'item 8205', 8206: 'item 8206', 8207: 'item 8207', 8208: 'item 8208', 8209: 'item 8209', 8210: 'item 8210', 8211: 'item 8211', 8212: 'item 8212', 8213: 'item 8213', 8214: 'item 8214', 8215: 'item 8215', 8216: 'item 8216', 8217: 'item 8217', 8218: 'item 8218', 8219: 'item 8219', 8220: 'item 8220', 8221: 'item 8221', 8222: 'item 8222', 8223: 'item 8223', 8224: 'item 8224', 8225: 'item 8225', 8226: 'item 8226', 8227: 'item 8227', 8228: 'item 8228', 8229: 'item 8229', 8230: 'item 8230', 8231: 'item 8231', 8232: 'item 8232', 8233: 'item 8233', 8234: 'item 8234', 8235: 'item 8235', 8236: 'item 8236', 8237: 'item 8237', 8238: 'item 8238', 8239: 'item 8239', 8240: 'item 8240', 8241: 'item 8241', 8242: 'item 8242', 8243: 'item 8243', 8244: 'item 8244', 8245: 'item 8245', 8246: 'item 8246', 8247: 'item 8247', 8248: 'item 8248', 8249: 'item 8249', 8250: 'item 8250', 8251: 'item 8251', 8252: 'item 8252', 8253: 'item 8253', 8254: 'item 8254', 8255: 'item 8255', 8256: 'item 8256', 8257: 'item 8257', 8258: 'item 8258', 8259: 'item 8259', 8260: 'item 8260', 8261: 'item 8261', 8262: 'item 8262', 8263: 'item 8263', 8264: 'item 8264', 8265: 'item 8265', 8266: 'item 8266', 8267: 'item 8267', 8268: 'item 8268', 8269: 'item 8269', 8270: 'item 8270', 8271: 'item 8271', 8272: 'item 8272', 8273: 'item 8273', 8274: 'item 8274', 8275: 'item 8275', 8276: 'item 8276', 8277: 'item 8277', 8278: 'item 8278', 8279: 'item 8279', 8280: 'item 8280', 8281: 'item 8281', 8282: 'item 8282', 8283: 'item 8283', 8284: 'item 8284', 8285: 'item 8285', 8286: 'item 8286', 8287: 'item 8287', 8288: 'item 8288', 8289: 'item 8289', 8290: 'item 8290', 8291: 'item 8291', 8292: 'item 8292', 8293: 'item 8293', 8294: 'item 8294', 8295: 'item 8295', 8296: 'item 8296', 8297: 'item 8297', 8298: 'item 8298', 8299: 'item 8299', 8300: 'item 8300', 8301: 'item 8301', 8302: 'item 8302', 8303: 'item 8303', 8304: 'item 8304', 8305: 'item 8305', 8306: 'item 8306', 8307: 'item 8307', 8308: 'item 8308', 8309: 'item 8309', 8310: 'item 8310', 8311: 'item 8311', 8312: 'item 8312', 8313: 'item 8313', 8314: 'item 8314', 8315: 'item 8315', 8316: 'item 8316', 8317: 'item 8317', 8318: 'item 8318', 8319: 'item 8319', 8320: 'item 8320', 8321: 'item 8321', 8322: 'item 8322', 8323: 'item 8323', 8324: 'item 8324', 8325: 'item 8325', 8326: 'item 8326', 8327: 'item 8327', 8328: 'item 8328', 8329: 'item 8329', 8330: 'item 8330', 8331: 'item 8331', 8332: 'item 8332', 8333: 'item 8333', 8334: 'item 8334', 8335: 'item 8335', 8336: 'item 8336', 8337: 'item 8337', 8338: 'item 8338', 8339: 'item 8339', 8340: 'item 8340', 8341: 'item 8341', 8342: 'item 8342', 8343: 'item 8343', 8344: 'item 8344', 8345: 'item 8345', 8346: 'item 8346', 8347: 'item 8347', 8348: 'item 8348', 8349: 'item 8349', 8350: 'item 8350', 8351: 'item 8351', 8352: 'item 8352', 8353: 'item 8353', 8354: 'item 8354', 8355: 'item 8355', 8356: 'item 8356', 8357: 'item 8357', 8358: 'item 8358', 8359: 'item 8359', 8360: 'item 8360', 8361: 'item 8361', 8362: 'item 8362', 8363: 'item 8363', 8364: 'item 8364', 8365: 'item 8365', 8366: 'item 8366', 8367: 'item 8367', 8368: 'item 8368', 8369: 'item 8369', 8370: 'item 8370', 8371: 'item 8371', 8372: 'item 8372', 8373: 'item 8373', 8374: 'item 8374', 8375: 'item 8375', 8376: 'item 8376', 8377: 'item 8377', 8378: 'item 8378', 8379: 'item 8379', 8380: 'item 8380', 8381: 'item 8381', 8382: 'item 8382', 8383: 'item 8383', 8384: 'item 8384', 8385: 'item 8385', 8386: 'item 8386', 8387: 'item 8387', 8388: 'item 8388', 8389: 'item 8389', 8390: 'item 8390', 8391: 'item 8391', 8392: 'item 8392', 8393: 'item 8393', 8394: 'item 8394', 8395: 'item 8395', 8396: 'item 8396', 8397: 'item 8397', 8398: 'item 8398', 8399: 'item 8399', 8400: 'item 8400', 8401: 'item 8401', 8402: 'item 8402', 8403: 'item 8403', 8404: 'item 8404', 8405: 'item 8405', 8406: 'item 8406', 8407: 'item 8407', 8408: 'item 8408', 8409: 'item 8409', 8410: 'item 8410', 8411: 'item 8411', 8412: 'item 8412', 8413: 'item 8413', 8414: 'item 8414', 8415: 'item 8415', 8416: 'item 8416', 8417: 'item 8417', 8418: 'item 8418', 8419: 'item 8419', 8420: 'item 8420', 8421: 'item 8421', 8422: 'item 8422', 8423: 'item 8423', 8424: 'item 8424', 8425: 'item 8425', 8426: 'item 8426', 8427: 'item 8427', 8428: 'item 8428', 8429: 'item 8429', 8430: 'item 8430', 8431: 'item 8431', 8432: 'item 8432', 8433: 'item 8433', 8434: 'item 8434', 8435: 'item 8435', 8436: 'item 8436', 8437: 'item 8437', 8438: 'item 8438', 8439: 'item 8439', 8440: 'item 8440', 8441: 'item 8441', 8442: 'item 8442', 8443: 'item 8443', 8444: 'item 8444', 8445: 'item 8445', 8446: 'item 8446', 8447: 'item 8447', 8448: 'item 8448', 8449: 'item 8449', 8450: 'item 8450', 8451: 'item 8451', 8452: 'item 8452', 8453: 'item 8453', 8454: 'item 8454', 8455: 'item 8455', 8456: 'item 8456', 8457: 'item 8457', 8458: 'item 8458', 8459: 'item 8459', 8460: 'item 8460', 8461: 'item 8461', 8462: 'item 8462', 8463: 'item 8463', 8464: 'item 8464', 8465: 'item 8465', 8466: 'item 8466', 8467: 'item 8467', 8468: 'item 8468', 8469: 'item 8469', 8470: 'item 8470', 8471: 'item 8471', 8472: 'item 8472', 8473: 'item 8473', 8474: 'item 8474', 8475: 'item 8475', 8476: 'item 8476', 8477: 'item 8477', 8478: 'item 8478', 8479: 'item 8479', 8480: 'item 8480', 8481: 'item 8481', 8482: 'item 8482', 8483: 'item 8483', 8484: 'item 8484', 8485: 'item 8485', 8486: 'item 8486', 8487: 'item 8487', 8488: 'item 8488', 8489: 'item 8489', 8490: 'item 8490', 8491: 'item 8491', 8492: 'item 8492', 8493: 'item 8493', 8494: 'item 8494', 8495: 'item 8495', 8496: 'item 8496', 8497: 'item 8497', 8498: 'item 8498', 8499: 'item 8499', 8500: 'item 8500', 8501: 'item 8501', 8502: 'item 8502', 8503: 'item 8503', 8504: 'item 8504', 8505: 'item 8505', 8506: 'item 8506', 8507: 'item 8507', 8508: 'item 8508', 8509: 'item 8509', 8510: 'item 8510', 8511: 'item 8511', 8512: 'item 8512', 8513: 'item 8513', 8514: 'item 8514', 8515: 'item 8515', 8516: 'item 8516', 8517: 'item 8517', 8518: 'item 8518', 8519: 'item 8519', 8520: 'item 8520', 8521: 'item 8521', 8522: 'item 8522', 8523: 'item 8523', 8524: 'item 8524', 8525: 'item 8525', 8526: 'item 8526', 8527: 'item 8527', 8528: 'item 8528', 8529: 'item 8529', 8530: 'item 8530', 8531: 'item 8531', 8532: 'item 8532', 8533: 'item 8533', 8534: 'item 8534', 8535: 'item 8535', 8536: 'item 8536', 8537: 'item 8537', 8538: 'item 8538', 8539: 'item 8539', 8540: 'item 8540', 8541: 'item 8541', 8542: 'item 8542', 8543: 'item 8543', 8544: 'item 8544', 8545: 'item 8545', 8546: 'item 8546', 8547: 'item 8547', 8548: 'item 8548', 8549: 'item 8549', 8550: 'item 8550', 8551: 'item 8551', 8552: 'item 8552', 8553: 'item 8553', 8554: 'item 8554', 8555: 'item 8555', 8556: 'item 8556', 8557: 'item 8557', 8558: 'item 8558', 8559: 'item 8559', 8560: 'item 8560', 8561: 'item 8561', 8562: 'item 8562', 8563: 'item 8563', 8564: 'item 8564', 8565: 'item 8565', 8566: 'item 8566', 8567: 'item 8567', 8568: 'item 8568', 8569: 'item 8569', 8570: 'item 8570', 8571: 'item 8571', 8572: 'item 8572', 8573: 'item 8573', 8574: 'item 8574', 8575: 'item 8575', 8576: 'item 8576', 8577: 'item 8577', 8578: 'item 8578', 8579: 'item 8579', 8580: 'item 8580', 8581: 'item 8581', 8582: 'item 8582', 8583: 'item 8583', 8584: 'item 8584', 8585: 'item 8585', 8586: 'item 8586', 8587: 'item 8587', 8588: 'item 8588', 8589: 'item 8589', 8590: 'item 8590', 8591: 'item 8591', 8592: 'item 8592', 8593: 'item 8593', 8594: 'item 8594', 8595: 'item 8595', 8596: 'item 8596', 8597: 'item 8597', 8598: 'item 8598', 8599: 'item 8599', 8600: 'item 8600', 8601: 'item 8601', 8602: 'item 8602', 8603: 'item 8603', 8604: 'item 8604', 8605: 'item 8605', 8606: 'item 8606', 8607: 'item 8607', 8608: 'item 8608', 8609: 'item 8609', 8610: 'item 8610', 8611: 'item 8611', 8612: 'item 8612', 8613: 'item 8613', 8614: 'item 8614', 8615: 'item 8615', 8616: 'item 8616', 8617: 'item 8617', 8618: 'item 8618', 8619: 'item 8619', 8620: 'item 8620', 8621: 'item 8621', 8622: 'item 8622', 8623: 'item 8623', 8624: 'item 8624', 8625: 'item 8625', 8626: 'item 8626', 8627: 'item 8627', 8628: 'item 8628', 8629: 'item 8629', 8630: 'item 8630', 8631: 'item 8631', 8632: 'item 8632', 8633: 'item 8633', 8634: 'item 8634', 8635: 'item 8635', 8636: 'item 8636', 8637: 'item 8637', 8638: 'item 8638', 8639: 'item 8639', 8640: 'item 8640', 8641: 'item 8641', 8642: 'item 8642', 8643: 'item 8643', 8644: 'item 8644', 8645: 'item 8645', 8646: 'item 8646', 8647: 'item 8647', 8648: 'item 8648', 8649: 'item 8649', 8650: 'item 8650', 8651: 'item 8651', 8652: 'item 8652', 8653: 'item 8653', 8654: 'item 8654', 8655: 'item 8655', 8656: 'item 8656', 8657: 'item 8657', 8658: 'item 8658', 8659: 'item 8659', 8660: 'item 8660', 8661: 'item 8661', 8662: 'item 8662', 8663: 'item 8663', 8664: 'item 8664', 8665: 'item 8665', 8666: 'item 8666', 8667: 'item 8667', 8668: 'item 8668', 8669: 'item 8669', 8670: 'item 8670', 8671: 'item 8671', 8672: 'item 8672', 8673: 'item 8673', 8674: 'item 8674', 8675: 'item 8675', 8676: 'item 8676', 8677: 'item 8677', 8678: 'item 8678', 8679: 'item 8679', 8680: 'item 8680', 8681: 'item 8681', 8682: 'item 8682', 8683: 'item 8683', 8684: 'item 8684', 8685: 'item 8685', 8686: 'item 8686', 8687: 'item 8687', 8688: 'item 8688', 8689: 'item 8689', 8690: 'item 8690', 8691: 'item 8691', 8692: 'item 8692', 8693: 'item 8693', 8694: 'item 8694', 8695: 'item 8695', 8696: 'item 8696', 8697: 'item 8697', 8698: 'item 8698', 8699: 'item 8699', 8700: 'item 8700', 8701: 'item 8701', 8702: 'item 8702', 8703: 'item 8703', 8704: 'item 8704', 8705: 'item 8705', 8706: 'item 8706', 8707: 'item 8707', 8708: 'item 8708', 8709: 'item 8709', 8710: 'item 8710', 8711: 'item 8711', 8712: 'item 8712', 8713: 'item 8713', 8714: 'item 8714', 8715: 'item 8715', 8716: 'item 8716', 8717: 'item 8717', 8718: 'item 8718', 8719: 'item 8719', 8720: 'item 8720', 8721: 'item 8721', 8722: 'item 8722', 8723: 'item 8723', 8724: 'item 8724', 8725: 'item 8725', 8726: 'item 8726', 8727: 'item 8727', 8728: 'item 8728', 8729: 'item 8729', 8730: 'item 8730', 8731: 'item 8731', 8732: 'item 8732', 8733: 'item 8733', 8734: 'item 8734', 8735: 'item 8735', 8736: 'item 8736', 8737: 'item 8737', 8738: 'item 8738', 8739: 'item 8739', 8740: 'item 8740', 8741: 'item 8741', 8742: 'item 8742', 8743: 'item 8743', 8744: 'item 8744', 8745: 'item 8745', 8746: 'item 8746', 8747: 'item 8747', 8748: 'item 8748', 8749: 'item 8749', 8750: 'item 8750', 8751: 'item 8751', 8752: 'item 8752', 8753: 'item 8753', 8754: 'item 8754', 8755: 'item 8755', 8756: 'item 8756', 8757: 'item 8757', 8758: 'item 8758', 8759: 'item 8759', 8760: 'item 8760', 8761: 'item 8761', 8762: 'item 8762', 8763: 'item 8763', 8764: 'item 8764', 8765: 'item 8765', 8766: 'item 8766', 8767: 'item 8767', 8768: 'item 8768', 8769: 'item 8769', 8770: 'item 8770', 8771: 'item 8771', 8772: 'item 8772', 8773: 'item 8773', 8774: 'item 8774', 8775: 'item 8775', 8776: 'item 8776', 8777: 'item 8777', 8778: 'item 8778', 8779: 'item 8779', 8780: 'item 8780', 8781: 'item 8781', 8782: 'item 8782', 8783: 'item 8783', 8784: 'item 8784', 8785: 'item 8785', 8786: 'item 8786', 8787: 'item 8787', 8788: 'item 8788', 8789: 'item 8789', 8790: 'item 8790', 8791: 'item 8791', 8792: 'item 8792', 8793: 'item 8793', 8794: 'item 8794', 8795: 'item 8795', 8796: 'item 8796', 8797: 'item 8797', 8798: 'item 8798', 8799: 'item 8799', 8800: 'item 8800', 8801: 'item 8801', 8802: 'item 8802', 8803: 'item 8803', 8804: 'item 8804', 8805: 'item 8805', 8806: 'item 8806', 8807: 'item 8807', 8808: 'item 8808', 8809: 'item 8809', 8810: 'item 8810', 8811: 'item 8811', 8812: 'item 8812', 8813: 'item 8813', 8814: 'item 8814', 8815: 'item 8815', 8816: 'item 8816', 8817: 'item 8817', 8818: 'item 8818', 8819: 'item 8819', 8820: 'item 8820', 8821: 'item 8821', 8822: 'item 8822', 8823: 'item 8823', 8824: 'item 8824', 8825: 'item 8825', 8826: 'item 8826', 8827: 'item 8827', 8828: 'item 8828', 8829: 'item 8829', 8830: 'item 8830', 8831: 'item 8831', 8832: 'item 8832', 8833: 'item 8833', 8834: 'item 8834', 8835: 'item 8835', 8836: 'item 8836', 8837: 'item 8837', 8838: 'item 8838', 8839: 'item 8839', 8840: 'item 8840', 8841: 'item 8841', 8842: 'item 8842', 8843: 'item 8843', 8844: 'item 8844', 8845: 'item 8845', 8846: 'item 8846', 8847: 'item 8847', 8848: 'item 8848', 8849: 'item 8849', 8850: 'item 8850', 8851: 'item 8851', 8852: 'item 8852', 8853: 'item 8853', 8854: 'item 8854', 8855: 'item 8855', 8856: 'item 8856', 8857: 'item 8857', 8858: 'item 8858', 8859: 'item 8859', 8860: 'item 8860', 8861: 'item 8861', 8862: 'item 8862', 8863: 'item 8863', 8864: 'item 8864', 8865: 'item 8865', 8866: 'item 8866', 8867: 'item 8867', 8868: 'item 8868', 8869: 'item 8869', 8870: 'item 8870', 8871: 'item 8871', 8872: 'item 8872', 8873: 'item 8873', 8874: 'item 8874', 8875: 'item 8875', 8876: 'item 8876', 8877: 'item 8877', 8878: 'item 8878', 8879: 'item 8879', 8880: 'item 8880', 8881: 'item 8881', 8882: 'item 8882', 8883: 'item 8883', 8884: 'item 8884', 8885: 'item 8885', 8886: 'item 8886', 8887: 'item 8887', 8888: 'item 8888', 8889: 'item 8889', 8890: 'item 8890', 8891: 'item 8891', 8892: 'item 8892', 8893: 'item 8893', 8894: 'item 8894', 8895: 'item 8895', 8896: 'item 8896', 8897: 'item 8897', 8898: 'item 8898', 8899: 'item 8899', 8900: 'item 8900', 8901: 'item 8901', 8902: 'item 8902', 8903: 'item 8903', 8904: 'item 8904', 8905: 'item 8905', 8906: 'item 8906', 8907: 'item 8907', 8908: 'item 8908', 8909: 'item 8909', 8910: 'item 8910', 8911: 'item 8911', 8912: 'item 8912', 8913: 'item 8913', 8914: 'item 8914', 8915: 'item 8915', 8916: 'item 8916', 8917: 'item 8917', 8918: 'item 8918', 8919: 'item 8919', 8920: 'item 8920', 8921: 'item 8921', 8922: 'item 8922', 8923: 'item 8923', 8924: 'item 8924', 8925: 'item 8925', 8926: 'item 8926', 8927: 'item 8927', 8928: 'item 8928', 8929: 'item 8929', 8930: 'item 8930', 8931: 'item 8931', 8932: 'item 8932', 8933: 'item 8933', 8934: 'item 8934', 8935: 'item 8935', 8936: 'item 8936', 8937: 'item 8937', 8938: 'item 8938', 8939: 'item 8939', 8940: 'item 8940', 8941: 'item 8941', 8942: 'item 8942', 8943: 'item 8943', 8944: 'item 8944', 8945: 'item 8945', 8946: 'item 8946', 8947: 'item 8947', 8948: 'item 8948', 8949: 'item 8949', 8950: 'item 8950', 8951: 'item 8951', 8952: 'item 8952', 8953: 'item 8953', 8954: 'item 8954', 8955: 'item 8955', 8956: 'item 8956', 8957: 'item 8957', 8958: 'item 8958', 8959: 'item 8959', 8960: 'item 8960', 8961: 'item 8961', 8962: 'item 8962', 8963: 'item 8963', 8964: 'item 8964', 8965: 'item 8965', 8966: 'item 8966', 8967: 'item 8967', 8968: 'item 8968', 8969: 'item 8969', 8970: 'item 8970', 8971: 'item 8971', 8972: 'item 8972', 8973: 'item 8973', 8974: 'item 8974', 8975: 'item 8975', 8976: 'item 8976', 8977: 'item 8977', 8978: 'item 8978', 8979: 'item 8979', 8980: 'item 8980', 8981: 'item 8981', 8982: 'item 8982', 8983: 'item 8983', 8984: 'item 8984', 8985: 'item 8985', 8986: 'item 8986', 8987: 'item 8987', 8988: 'item 8988', 8989: 'item 8989', 8990: 'item 8990', 8991: 'item 8991', 8992: 'item 8992', 8993: 'item 8993', 8994: 'item 8994', 8995: 'item 8995', 8996: 'item 8996', 8997: 'item 8997', 8998: 'item 8998', 8999: 'item 8999', 9000: 'item 9000', 9001: 'item 9001', 9002: 'item 9002', 9003: 'item 9003', 9004: 'item 9004', 9005: 'item 9005', 9006: 'item 9006', 9007: 'item 9007', 9008: 'item 9008', 9009: 'item 9009', 9010: 'item 9010', 9011: 'item 9011', 9012: 'item 9012', 9013: 'item 9013', 9014: 'item 9014', 9015: 'item 9015', 9016: 'item 9016', 9017: 'item 9017', 9018: 'item 9018', 9019: 'item 9019', 9020: 'item 9020', 9021: 'item 9021', 9022: 'item 9022', 9023: 'item 9023', 9024: 'item 9024', 9025: 'item 9025', 9026: 'item 9026', 9027: 'item 9027', 9028: 'item 9028', 9029: 'item 9029', 9030: 'item 9030', 9031: 'item 9031', 9032: 'item 9032', 9033: 'item 9033', 9034: 'item 9034', 9035: 'item 9035', 9036: 'item 9036', 9037: 'item 9037', 9038: 'item 9038', 9039: 'item 9039', 9040: 'item 9040', 9041: 'item 9041', 9042: 'item 9042', 9043: 'item 9043', 9044: 'item 9044', 9045: 'item 9045', 9046: 'item 9046', 9047: 'item 9047', 9048: 'item 9048', 9049: 'item 9049', 9050: 'item 9050', 9051: 'item 9051', 9052: 'item 9052', 9053: 'item 9053', 9054: 'item 9054', 9055: 'item 9055', 9056: 'item 9056', 9057: 'item 9057', 9058: 'item 9058', 9059: 'item 9059', 9060: 'item 9060', 9061: 'item 9061', 9062: 'item 9062', 9063: 'item 9063', 9064: 'item 9064', 9065: 'item 9065', 9066: 'item 9066', 9067: 'item 9067', 9068: 'item 9068', 9069: 'item 9069', 9070: 'item 9070', 9071: 'item 9071', 9072: 'item 9072', 9073: 'item 9073', 9074: 'item 9074', 9075: 'item 9075', 9076: 'item 9076', 9077: 'item 9077', 9078: 'item 9078', 9079: 'item 9079', 9080: 'item 9080', 9081: 'item 9081', 9082: 'item 9082', 9083: 'item 9083', 9084: 'item 9084', 9085: 'item 9085', 9086: 'item 9086', 9087: 'item 9087', 9088: 'item 9088', 9089: 'item 9089', 9090: 'item 9090', 9091: 'item 9091', 9092: 'item 9092', 9093: 'item 9093', 9094: 'item 9094', 9095: 'item 9095', 9096: 'item 9096', 9097: 'item 9097', 9098: 'item 9098', 9099: 'item 9099', 9100: 'item 9100', 9101: 'item 9101', 9102: 'item 9102', 9103: 'item 9103', 9104: 'item 9104', 9105: 'item 9105', 9106: 'item 9106', 9107: 'item 9107', 9108: 'item 9108', 9109: 'item 9109', 9110: 'item 9110', 9111: 'item 9111', 9112: 'item 9112', 9113: 'item 9113', 9114: 'item 9114', 9115: 'item 9115', 9116: 'item 9116', 9117: 'item 9117', 9118: 'item 9118', 9119: 'item 9119', 9120: 'item 9120', 9121: 'item 9121', 9122: 'item 9122', 9123: 'item 9123', 9124: 'item 9124', 9125: 'item 9125', 9126: 'item 9126', 9127: 'item 9127', 9128: 'item 9128', 9129: 'item 9129', 9130: 'item 9130', 9131: 'item 9131', 9132: 'item 9132', 9133: 'item 9133', 9134: 'item 9134', 9135: 'item 9135', 9136: 'item 9136', 9137: 'item 9137', 9138: 'item 9138', 9139: 'item 9139', 9140: 'item 9140', 9141: 'item 9141', 9142: 'item 9142', 9143: 'item 9143', 9144: 'item 9144', 9145: 'item 9145', 9146: 'item 9146', 9147: 'item 9147', 9148: 'item 9148', 9149: 'item 9149', 9150: 'item 9150', 9151: 'item 9151', 9152: 'item 9152', 9153: 'item 9153', 9154: 'item 9154', 9155: 'item 9155', 9156: 'item 9156', 9157: 'item 9157', 9158: 'item 9158', 9159: 'item 9159', 9160: 'item 9160', 9161: 'item 9161', 9162: 'item 9162', 9163: 'item 9163', 9164: 'item 9164', 9165: 'item 9165', 9166: 'item 9166', 9167: 'item 9167', 9168: 'item 9168', 9169: 'item 9169', 9170: 'item 9170', 9171: 'item 9171', 9172: 'item 9172', 9173: 'item 9173', 9174: 'item 9174', 9175: 'item 9175', 9176: 'item 9176', 9177: 'item 9177', 9178: 'item 9178', 9179: 'item 9179', 9180: 'item 9180', 9181: 'item 9181', 9182: 'item 9182', 9183: 'item 9183', 9184: 'item 9184', 9185: 'item 9185', 9186: 'item 9186', 9187: 'item 9187', 9188: 'item 9188', 9189: 'item 9189', 9190: 'item 9190', 9191: 'item 9191', 9192: 'item 9192', 9193: 'item 9193', 9194: 'item 9194', 9195: 'item 9195', 9196: 'item 9196', 9197: 'item 9197', 9198: 'item 9198', 9199: 'item 9199', 9200: 'item 9200', 9201: 'item 9201', 9202: 'item 9202', 9203: 'item 9203', 9204: 'item 9204', 9205: 'item 9205', 9206: 'item 9206', 9207: 'item 9207', 9208: 'item 9208', 9209: 'item 9209', 9210: 'item 9210', 9211: 'item 9211', 9212: 'item 9212', 9213: 'item 9213', 9214: 'item 9214', 9215: 'item 9215', 9216: 'item 9216', 9217: 'item 9217', 9218: 'item 9218', 9219: 'item 9219', 9220: 'item 9220', 9221: 'item 9221', 9222: 'item 9222', 9223: 'item 9223', 9224: 'item 9224', 9225: 'item 9225', 9226: 'item 9226', 9227: 'item 9227', 9228: 'item 9228', 9229: 'item 9229', 9230: 'item 9230', 9231: 'item 9231', 9232: 'item 9232', 9233: 'item 9233', 9234: 'item 9234', 9235: 'item 9235', 9236: 'item 9236', 9237: 'item 9237', 9238: 'item 9238', 9239: 'item 9239', 9240: 'item 9240', 9241: 'item 9241', 9242: 'item 9242', 9243: 'item 9243', 9244: 'item 9244', 9245: 'item 9245', 9246: 'item 9246', 9247: 'item 9247', 9248: 'item 9248', 9249: 'item 9249', 9250: 'item 9250', 9251: 'item 9251', 9252: 'item 9252', 9253: 'item 9253', 9254: 'item 9254', 9255: 'item 9255', 9256: 'item 9256', 9257: 'item 9257', 9258: 'item 9258', 9259: 'item 9259', 9260: 'item 9260', 9261: 'item 9261', 9262: 'item 9262', 9263: 'item 9263', 9264: 'item 9264', 9265: 'item 9265', 9266: 'item 9266', 9267: 'item 9267', 9268: 'item 9268', 9269: 'item 9269', 9270: 'item 9270', 9271: 'item 9271', 9272: 'item 9272', 9273: 'item 9273', 9274: 'item 9274', 9275: 'item 9275', 9276: 'item 9276', 9277: 'item 9277', 9278: 'item 9278', 9279: 'item 9279', 9280: 'item 9280', 9281: 'item 9281', 9282: 'item 9282', 9283: 'item 9283', 9284: 'item 9284', 9285: 'item 9285', 9286: 'item 9286', 9287: 'item 9287', 9288: 'item 9288', 9289: 'item 9289', 9290: 'item 9290', 9291: 'item 9291', 9292: 'item 9292', 9293: 'item 9293', 9294: 'item 9294', 9295: 'item 9295', 9296: 'item 9296', 9297: 'item 9297', 9298: 'item 9298', 9299: 'item 9299', 9300: 'item 9300', 9301: 'item 9301', 9302: 'item 9302', 9303: 'item 9303', 9304: 'item 9304', 9305: 'item 9305', 9306: 'item 9306', 9307: 'item 9307', 9308: 'item 9308', 9309: 'item 9309', 9310: 'item 9310', 9311: 'item 9311', 9312: 'item 9312', 9313: 'item 9313', 9314: 'item 9314', 9315: 'item 9315', 9316: 'item 9316', 9317: 'item 9317', 9318: 'item 9318', 9319: 'item 9319', 9320: 'item 9320', 9321: 'item 9321', 9322: 'item 9322', 9323: 'item 9323', 9324: 'item 9324', 9325: 'item 9325', 9326: 'item 9326', 9327: 'item 9327', 9328: 'item 9328', 9329: 'item 9329', 9330: 'item 9330', 9331: 'item 9331', 9332: 'item 9332', 9333: 'item 9333', 9334: 'item 9334', 9335: 'item 9335', 9336: 'item 9336', 9337: 'item 9337', 9338: 'item 9338', 9339: 'item 9339', 9340: 'item 9340', 9341: 'item 9341', 9342: 'item 9342', 9343: 'item 9343', 9344: 'item 9344', 9345: 'item 9345', 9346: 'item 9346', 9347: 'item 9347', 9348: 'item 9348', 9349: 'item 9349', 9350: 'item 9350', 9351: 'item 9351', 9352: 'item 9352', 9353: 'item 9353', 9354: 'item 9354', 9355: 'item 9355', 9356: 'item 9356', 9357: 'item 9357', 9358: 'item 9358', 9359: 'item 9359', 9360: 'item 9360', 9361: 'item 9361', 9362: 'item 9362', 9363: 'item 9363', 9364: 'item 9364', 9365: 'item 9365', 9366: 'item 9366', 9367: 'item 9367', 9368: 'item 9368', 9369: 'item 9369', 9370: 'item 9370', 9371: 'item 9371', 9372: 'item 9372', 9373: 'item 9373', 9374: 'item 9374', 9375: 'item 9375', 9376: 'item 9376', 9377: 'item 9377', 9378: 'item 9378', 9379: 'item 9379', 9380: 'item 9380', 9381: 'item 9381', 9382: 'item 9382', 9383: 'item 9383', 9384: 'item 9384', 9385: 'item 9385', 9386: 'item 9386', 9387: 'item 9387', 9388: 'item 9388', 9389: 'item 9389', 9390: 'item 9390', 9391: 'item 9391', 9392: 'item 9392', 9393: 'item 9393', 9394: 'item 9394', 9395: 'item 9395', 9396: 'item 9396', 9397: 'item 9397', 9398: 'item 9398', 9399: 'item 9399', 9400: 'item 9400', 9401: 'item 9401', 9402: 'item 9402', 9403: 'item 9403', 9404: 'item 9404', 9405: 'item 9405', 9406: 'item 9406', 9407: 'item 9407', 9408: 'item 9408', 9409: 'item 9409', 9410: 'item 9410', 9411: 'item 9411', 9412: 'item 9412', 9413: 'item 9413', 9414: 'item 9414', 9415: 'item 9415', 9416: 'item 9416', 9417: 'item 9417', 9418: 'item 9418', 9419: 'item 9419', 9420: 'item 9420', 9421: 'item 9421', 9422: 'item 9422', 9423: 'item 9423', 9424: 'item 9424', 9425: 'item 9425', 9426: 'item 9426', 9427: 'item 9427', 9428: 'item 9428', 9429: 'item 9429', 9430: 'item 9430', 9431: 'item 9431', 9432: 'item 9432', 9433: 'item 9433', 9434: 'item 9434', 9435: 'item 9435', 9436: 'item 9436', 9437: 'item 9437', 9438: 'item 9438', 9439: 'item 9439', 9440: 'item 9440', 9441: 'item 9441', 9442: 'item 9442', 9443: 'item 9443', 9444: 'item 9444', 9445: 'item 9445', 9446: 'item 9446', 9447: 'item 9447', 9448: 'item 9448', 9449: 'item 9449', 9450: 'item 9450', 9451: 'item 9451', 9452: 'item 9452', 9453: 'item 9453', 9454: 'item 9454', 9455: 'item 9455', 9456: 'item 9456', 9457: 'item 9457', 9458: 'item 9458', 9459: 'item 9459', 9460: 'item 9460', 9461: 'item 9461', 9462: 'item 9462', 9463: 'item 9463', 9464: 'item 9464', 9465: 'item 9465', 9466: 'item 9466', 9467: 'item 9467', 9468: 'item 9468', 9469: 'item 9469', 9470: 'item 9470', 9471: 'item 9471', 9472: 'item 9472', 9473: 'item 9473', 9474: 'item 9474', 9475: 'item 9475', 9476: 'item 9476', 9477: 'item 9477', 9478: 'item 9478', 9479: 'item 9479', 9480: 'item 9480', 9481: 'item 9481', 9482: 'item 9482', 9483: 'item 9483', 9484: 'item 9484', 9485: 'item 9485', 9486: 'item 9486', 9487: 'item 9487', 9488: 'item 9488', 9489: 'item 9489', 9490: 'item 9490', 9491: 'item 9491', 9492: 'item 9492', 9493: 'item 9493', 9494: 'item 9494', 9495: 'item 9495', 9496: 'item 9496', 9497: 'item 9497', 9498: 'item 9498', 9499: 'item 9499', 9500: 'item 9500', 9501: 'item 9501', 9502: 'item 9502', 9503: 'item 9503', 9504: 'item 9504', 9505: 'item 9505', 9506: 'item 9506', 9507: 'item 9507', 9508: 'item 9508', 9509: 'item 9509', 9510: 'item 9510', 9511: 'item 9511', 9512: 'item 9512', 9513: 'item 9513', 9514: 'item 9514', 9515: 'item 9515', 9516: 'item 9516', 9517: 'item 9517', 9518: 'item 9518', 9519: 'item 9519', 9520: 'item 9520', 9521: 'item 9521', 9522: 'item 9522', 9523: 'item 9523', 9524: 'item 9524', 9525: 'item 9525', 9526: 'item 9526', 9527: 'item 9527', 9528: 'item 9528', 9529: 'item 9529', 9530: 'item 9530', 9531: 'item 9531', 9532: 'item 9532', 9533: 'item 9533', 9534: 'item 9534', 9535: 'item 9535', 9536: 'item 9536', 9537: 'item 9537', 9538: 'item 9538', 9539: 'item 9539', 9540: 'item 9540', 9541: 'item 9541', 9542: 'item 9542', 9543: 'item 9543', 9544: 'item 9544', 9545: 'item 9545', 9546: 'item 9546', 9547: 'item 9547', 9548: 'item 9548', 9549: 'item 9549', 9550: 'item 9550', 9551: 'item 9551', 9552: 'item 9552', 9553: 'item 9553', 9554: 'item 9554', 9555: 'item 9555', 9556: 'item 9556', 9557: 'item 9557', 9558: 'item 9558', 9559: 'item 9559', 9560: 'item 9560', 9561: 'item 9561', 9562: 'item 9562', 9563: 'item 9563', 9564: 'item 9564', 9565: 'item 9565', 9566: 'item 9566', 9567: 'item 9567', 9568: 'item 9568', 9569: 'item 9569', 9570: 'item 9570', 9571: 'item 9571', 9572: 'item 9572', 9573: 'item 9573', 9574: 'item 9574', 9575: 'item 9575', 9576: 'item 9576', 9577: 'item 9577', 9578: 'item 9578', 9579: 'item 9579', 9580: 'item 9580', 9581: 'item 9581', 9582: 'item 9582', 9583: 'item 9583', 9584: 'item 9584', 9585: 'item 9585', 9586: 'item 9586', 9587: 'item 9587', 9588: 'item 9588', 9589: 'item 9589', 9590: 'item 9590', 9591: 'item 9591', 9592: 'item 9592', 9593: 'item 9593', 9594: 'item 9594', 9595: 'item 9595', 9596: 'item 9596', 9597: 'item 9597', 9598: 'item 9598', 9599: 'item 9599', 9600: 'item 9600', 9601: 'item 9601', 9602: 'item 9602', 9603: 'item 9603', 9604: 'item 9604', 9605: 'item 9605', 9606: 'item 9606', 9607: 'item 9607', 9608: 'item 9608', 9609: 'item 9609', 9610: 'item 9610', 9611: 'item 9611', 9612: 'item 9612', 9613: 'item 9613', 9614: 'item 9614', 9615: 'item 9615', 9616: 'item 9616', 9617: 'item 9617', 9618: 'item 9618', 9619: 'item 9619', 9620: 'item 9620', 9621: 'item 9621', 9622: 'item 9622', 9623: 'item 9623', 9624: 'item 9624', 9625: 'item 9625', 9626: 'item 9626', 9627: 'item 9627', 9628: 'item 9628', 9629: 'item 9629', 9630: 'item 9630', 9631: 'item 9631', 9632: 'item 9632', 9633: 'item 9633', 9634: 'item 9634', 9635: 'item 9635', 9636: 'item 9636', 9637: 'item 9637', 9638: 'item 9638', 9639: 'item 9639', 9640: 'item 9640', 9641: 'item 9641', 9642: 'item 9642', 9643: 'item 9643', 9644: 'item 9644', 9645: 'item 9645', 9646: 'item 9646', 9647: 'item 9647', 9648: 'item 9648', 9649: 'item 9649', 9650: 'item 9650', 9651: 'item 9651', 9652: 'item 9652', 9653: 'item 9653', 9654: 'item 9654', 9655: 'item 9655', 9656: 'item 9656', 9657: 'item 9657', 9658: 'item 9658', 9659: 'item 9659', 9660: 'item 9660', 9661: 'item 9661', 9662: 'item 9662', 9663: 'item 9663', 9664: 'item 9664', 9665: 'item 9665', 9666: 'item 9666', 9667: 'item 9667', 9668: 'item 9668', 9669: 'item 9669', 9670: 'item 9670', 9671: 'item 9671', 9672: 'item 9672', 9673: 'item 9673', 9674: 'item 9674', 9675: 'item 9675', 9676: 'item 9676', 9677: 'item 9677', 9678: 'item 9678', 9679: 'item 9679', 9680: 'item 9680', 9681: 'item 9681', 9682: 'item 9682', 9683: 'item 9683', 9684: 'item 9684', 9685: 'item 9685', 9686: 'item 9686', 9687: 'item 9687', 9688: 'item 9688', 9689: 'item 9689', 9690: 'item 9690', 9691: 'item 9691', 9692: 'item 9692', 9693: 'item 9693', 9694: 'item 9694', 9695: 'item 9695', 9696: 'item 9696', 9697: 'item 9697', 9698: 'item 9698', 9699: 'item 9699', 9700: 'item 9700', 9701: 'item 9701', 9702: 'item 9702', 9703: 'item 9703', 9704: 'item 9704', 9705: 'item 9705', 9706: 'item 9706', 9707: 'item 9707', 9708: 'item 9708', 9709: 'item 9709', 9710: 'item 9710', 9711: 'item 9711', 9712: 'item 9712', 9713: 'item 9713', 9714: 'item 9714', 9715: 'item 9715', 9716: 'item 9716', 9717: 'item 9717', 9718: 'item 9718', 9719: 'item 9719', 9720: 'item 9720', 9721: 'item 9721', 9722: 'item 9722', 9723: 'item 9723', 9724: 'item 9724', 9725: 'item 9725', 9726: 'item 9726', 9727: 'item 9727', 9728: 'item 9728', 9729: 'item 9729', 9730: 'item 9730', 9731: 'item 9731', 9732: 'item 9732', 9733: 'item 9733', 9734: 'item 9734', 9735: 'item 9735', 9736: 'item 9736', 9737: 'item 9737', 9738: 'item 9738', 9739: 'item 9739', 9740: 'item 9740', 9741: 'item 9741', 9742: 'item 9742', 9743: 'item 9743', 9744: 'item 9744', 9745: 'item 9745', 9746: 'item 9746', 9747: 'item 9747', 9748: 'item 9748', 9749: 'item 9749', 9750: 'item 9750', 9751: 'item 9751', 9752: 'item 9752', 9753: 'item 9753', 9754: 'item 9754', 9755: 'item 9755', 9756: 'item 9756', 9757: 'item 9757', 9758: 'item 9758', 9759: 'item 9759', 9760: 'item 9760', 9761: 'item 9761', 9762: 'item 9762', 9763: 'item 9763', 9764: 'item 9764', 9765: 'item 9765', 9766: 'item 9766', 9767: 'item 9767', 9768: 'item 9768', 9769: 'item 9769', 9770: 'item 9770', 9771: 'item 9771', 9772: 'item 9772', 9773: 'item 9773', 9774: 'item 9774', 9775: 'item 9775', 9776: 'item 9776', 9777: 'item 9777', 9778: 'item 9778', 9779: 'item 9779', 9780: 'item 9780', 9781: 'item 9781', 9782: 'item 9782', 9783: 'item 9783', 9784: 'item 9784', 9785: 'item 9785', 9786: 'item 9786', 9787: 'item 9787', 9788: 'item 9788', 9789: 'item 9789', 9790: 'item 9790', 9791: 'item 9791', 9792: 'item 9792', 9793: 'item 9793', 9794: 'item 9794', 9795: 'item 9795', 9796: 'item 9796', 9797: 'item 9797', 9798: 'item 9798', 9799: 'item 9799', 9800: 'item 9800', 9801: 'item 9801', 9802: 'item 9802', 9803: 'item 9803', 9804: 'item 9804', 9805: 'item 9805', 9806: 'item 9806', 9807: 'item 9807', 9808: 'item 9808', 9809: 'item 9809', 9810: 'item 9810', 9811: 'item 9811', 9812: 'item 9812', 9813: 'item 9813', 9814: 'item 9814', 9815: 'item 9815', 9816: 'item 9816', 9817: 'item 9817', 9818: 'item 9818', 9819: 'item 9819', 9820: 'item 9820', 9821: 'item 9821', 9822: 'item 9822', 9823: 'item 9823', 9824: 'item 9824', 9825: 'item 9825', 9826: 'item 9826', 9827: 'item 9827', 9828: 'item 9828', 9829: 'item 9829', 9830: 'item 9830', 9831: 'item 9831', 9832: 'item 9832', 9833: 'item 9833', 9834: 'item 9834', 9835: 'item 9835', 9836: 'item 9836', 9837: 'item 9837', 9838: 'item 9838', 9839: 'item 9839', 9840: 'item 9840', 9841: 'item 9841', 9842: 'item 9842', 9843: 'item 9843', 9844: 'item 9844', 9845: 'item 9845', 9846: 'item 9846', 9847: 'item 9847', 9848: 'item 9848', 9849: 'item 9849', 9850: 'item 9850', 9851: 'item 9851', 9852: 'item 9852', 9853: 'item 9853', 9854: 'item 9854', 9855: 'item 9855', 9856: 'item 9856', 9857: 'item 9857', 9858: 'item 9858', 9859: 'item 9859', 9860: 'item 9860', 9861: 'item 9861', 9862: 'item 9862', 9863: 'item 9863', 9864: 'item 9864', 9865: 'item 9865', 9866: 'item 9866', 9867: 'item 9867', 9868: 'item 9868', 9869: 'item 9869', 9870: 'item 9870', 9871: 'item 9871', 9872: 'item 9872', 9873: 'item 9873', 9874: 'item 9874', 9875: 'item 9875', 9876: 'item 9876', 9877: 'item 9877', 9878: 'item 9878', 9879: 'item 9879', 9880: 'item 9880', 9881: 'item 9881', 9882: 'item 9882', 9883: 'item 9883', 9884: 'item 9884', 9885: 'item 9885', 9886: 'item 9886', 9887: 'item 9887', 9888: 'item 9888', 9889: 'item 9889', 9890: 'item 9890', 9891: 'item 9891', 9892: 'item 9892', 9893: 'item 9893', 9894: 'item 9894', 9895: 'item 9895', 9896: 'item 9896', 9897: 'item 9897', 9898: 'item 9898', 9899: 'item 9899', 9900: 'item 9900', 9901: 'item 9901', 9902: 'item 9902', 9903: 'item 9903', 9904: 'item 9904', 9905: 'item 9905', 9906: 'item 9906', 9907: 'item 9907', 9908: 'item 9908', 9909: 'item 9909', 9910: 'item 9910', 9911: 'item 9911', 9912: 'item 9912', 9913: 'item 9913', 9914: 'item 9914', 9915: 'item 9915', 9916: 'item 9916', 9917: 'item 9917', 9918: 'item 9918', 9919: 'item 9919', 9920: 'item 9920', 9921: 'item 9921', 9922: 'item 9922', 9923: 'item 9923', 9924: 'item 9924', 9925: 'item 9925', 9926: 'item 9926', 9927: 'item 9927', 9928: 'item 9928', 9929: 'item 9929', 9930: 'item 9930', 9931: 'item 9931', 9932: 'item 9932', 9933: 'item 9933', 9934: 'item 9934', 9935: 'item 9935', 9936: 'item 9936', 9937: 'item 9937', 9938: 'item 9938', 9939: 'item 9939', 9940: 'item 9940', 9941: 'item 9941', 9942: 'item 9942', 9943: 'item 9943', 9944: 'item 9944', 9945: 'item 9945', 9946: 'item 9946', 9947: 'item 9947', 9948: 'item 9948', 9949: 'item 9949', 9950: 'item 9950', 9951: 'item 9951', 9952: 'item 9952', 9953: 'item 9953', 9954: 'item 9954', 9955: 'item 9955', 9956: 'item 9956', 9957: 'item 9957', 9958: 'item 9958', 9959: 'item 9959', 9960: 'item 9960', 9961: 'item 9961', 9962: 'item 9962', 9963: 'item 9963', 9964: 'item 9964', 9965: 'item 9965', 9966: 'item 9966', 9967: 'item 9967', 9968: 'item 9968', 9969: 'item 9969', 9970: 'item 9970', 9971: 'item 9971', 9972: 'item 9972', 9973: 'item 9973', 9974: 'item 9974', 9975: 'item 9975', 9976: 'item 9976', 9977: 'item 9977', 9978: 'item 9978', 9979: 'item 9979', 9980: 'item 9980', 9981: 'item 9981', 9982: 'item 9982', 9983: 'item 9983', 9984: 'item 9984', 9985: 'item 9985', 9986: 'item 9986', 9987: 'item 9987', 9988: 'item 9988', 9989: 'item 9989', 9990: 'item 9990', 9991: 'item 9991', 9992: 'item 9992', 9993: 'item 9993', 9994: 'item 9994', 9995: 'item 9995', 9996: 'item 9996', 9997: 'item 9997', 9998: 'item 9998', 9999: 'item 9999', 10000: 'item 10000'} \n",
            "\n",
            "{100: 'item 100', 200: 'item 200', 300: 'item 300', 400: 'item 400', 500: 'item 500', 600: 'item 600', 700: 'item 700', 800: 'item 800', 900: 'item 900', 1000: 'item 1000', 1100: 'item 1100', 1200: 'item 1200', 1300: 'item 1300', 1400: 'item 1400', 1500: 'item 1500', 1600: 'item 1600', 1700: 'item 1700', 1800: 'item 1800', 1900: 'item 1900', 2000: 'item 2000', 2100: 'item 2100', 2200: 'item 2200', 2300: 'item 2300', 2400: 'item 2400', 2500: 'item 2500', 2600: 'item 2600', 2700: 'item 2700', 2800: 'item 2800', 2900: 'item 2900', 3000: 'item 3000', 3100: 'item 3100', 3200: 'item 3200', 3300: 'item 3300', 3400: 'item 3400', 3500: 'item 3500', 3600: 'item 3600', 3700: 'item 3700', 3800: 'item 3800', 3900: 'item 3900', 4000: 'item 4000', 4100: 'item 4100', 4200: 'item 4200', 4300: 'item 4300', 4400: 'item 4400', 4500: 'item 4500', 4600: 'item 4600', 4700: 'item 4700', 4800: 'item 4800', 4900: 'item 4900', 5000: 'item 5000', 5100: 'item 5100', 5200: 'item 5200', 5300: 'item 5300', 5400: 'item 5400', 5500: 'item 5500', 5600: 'item 5600', 5700: 'item 5700', 5800: 'item 5800', 5900: 'item 5900', 6000: 'item 6000', 6100: 'item 6100', 6200: 'item 6200', 6300: 'item 6300', 6400: 'item 6400', 6500: 'item 6500', 6600: 'item 6600', 6700: 'item 6700', 6800: 'item 6800', 6900: 'item 6900', 7000: 'item 7000', 7100: 'item 7100', 7200: 'item 7200', 7300: 'item 7300', 7400: 'item 7400', 7500: 'item 7500', 7600: 'item 7600', 7700: 'item 7700', 7800: 'item 7800', 7900: 'item 7900', 8000: 'item 8000', 8100: 'item 8100', 8200: 'item 8200', 8300: 'item 8300', 8400: 'item 8400', 8500: 'item 8500', 8600: 'item 8600', 8700: 'item 8700', 8800: 'item 8800', 8900: 'item 8900', 9000: 'item 9000', 9100: 'item 9100', 9200: 'item 9200', 9300: 'item 9300', 9400: 'item 9400', 9500: 'item 9500', 9600: 'item 9600', 9700: 'item 9700', 9800: 'item 9800', 9900: 'item 9900', 10000: 'item 10000'} \n",
            "\n",
            "{0: 'Item 0', 1: 'Item 1', 2: 'Item 2', 3: 'Item 3', 4: 'Item 4'} \n",
            "\n",
            "{0: 'Item 0', 1: 'Item 1', 2: 'Item 2', 3: 'Item 3', 4: 'Item 4'} \n",
            " {'Item 0': 0, 'Item 1': 1, 'Item 2': 2, 'Item 3': 3, 'Item 4': 4}\n"
          ]
        }
      ]
    },
    {
      "cell_type": "code",
      "metadata": {
        "colab": {
          "base_uri": "https://localhost:8080/"
        },
        "id": "96xmKAzahegy",
        "outputId": "5d995f45-82b2-4591-cf00-a28f62ad387f"
      },
      "source": [
        "dresses = [dress for dress in [\"dress1\", \"dress2\",\"dress1\",\n",
        "                                \"dress2\",\"dress1\", \"dress2\"]]\n",
        "print(type(dresses))\n",
        "print(dresses)\n",
        "\n",
        "dresses = {dress for dress in [\"dress1\", \"dress2\",\"dress1\",\n",
        "                                \"dress2\",\"dress1\", \"dress2\"]}\n",
        "print(type(dresses))\n",
        "print(dresses)\n",
        "\n",
        "evens = (i for i in range(10) if i%2==0)\n",
        "print(type(evens))\n",
        "print(evens.__next__())\n",
        "print(evens.__next__())\n",
        "for item in evens:\n",
        "    print(item)"
      ],
      "execution_count": null,
      "outputs": [
        {
          "output_type": "stream",
          "name": "stdout",
          "text": [
            "<class 'list'>\n",
            "['dress1', 'dress2', 'dress1', 'dress2', 'dress1', 'dress2']\n",
            "<class 'set'>\n",
            "{'dress2', 'dress1'}\n",
            "<class 'generator'>\n",
            "0\n",
            "2\n",
            "4\n",
            "6\n",
            "8\n"
          ]
        }
      ]
    },
    {
      "cell_type": "markdown",
      "metadata": {
        "id": "HayigUQWlu4s"
      },
      "source": [
        "##Using Else With For Loops "
      ]
    },
    {
      "cell_type": "code",
      "metadata": {
        "colab": {
          "base_uri": "https://localhost:8080/"
        },
        "id": "m-wD8kyol-5E",
        "outputId": "650b032b-ee38-4921-b1a1-29e0b64f4b8b"
      },
      "source": [
        "khana = [\"roti\", \"Sabzi\", \"chawal\"]\n",
        "\n",
        "for item in khana:\n",
        "  print(item)\n",
        "\n",
        "else:\n",
        "    print(\"This for loop ended properly\")"
      ],
      "execution_count": null,
      "outputs": [
        {
          "output_type": "stream",
          "name": "stdout",
          "text": [
            "roti\n",
            "Sabzi\n",
            "chawal\n",
            "This for loop ended properly\n"
          ]
        }
      ]
    },
    {
      "cell_type": "code",
      "metadata": {
        "colab": {
          "base_uri": "https://localhost:8080/"
        },
        "id": "9bZ5eJ_-he2p",
        "outputId": "e8aeed62-a78f-4da5-9c50-c1bbaa748204"
      },
      "source": [
        "khana = [\"roti\", \"Sabzi\", \"chawal\"]\n",
        "\n",
        "for item in khana:\n",
        "    if item == \"rotiwala\":\n",
        "        break\n",
        "\n",
        "else:\n",
        "    print(\"Your item was not found\")\n"
      ],
      "execution_count": null,
      "outputs": [
        {
          "output_type": "stream",
          "name": "stdout",
          "text": [
            "Your item was not found\n"
          ]
        }
      ]
    },
    {
      "cell_type": "markdown",
      "metadata": {
        "id": "XaTFYQqKnZuV"
      },
      "source": [
        "##Function Caching In Python |"
      ]
    },
    {
      "cell_type": "code",
      "metadata": {
        "colab": {
          "base_uri": "https://localhost:8080/"
        },
        "id": "I4rup4-IhfI6",
        "outputId": "3ff145ab-88fa-4d94-fa0e-8bafb8c47102"
      },
      "source": [
        "import time\n",
        "from functools import lru_cache\n",
        "\n",
        "@lru_cache(maxsize=3)\n",
        "def some_work(n):\n",
        "    #Some task taking n seconds\n",
        "    time.sleep(n)\n",
        "    return n\n",
        "\n",
        "if __name__ == '__main__':\n",
        "    print(\"Now running some work\")\n",
        "    some_work(3)\n",
        "    some_work(1)\n",
        "    some_work(6)\n",
        "    some_work(10)\n",
        "    print(\"Done... Calling again\")\n",
        "    #input()\n",
        "    some_work(10)\n",
        "    print(\"Called again\")"
      ],
      "execution_count": null,
      "outputs": [
        {
          "output_type": "stream",
          "name": "stdout",
          "text": [
            "Now running some work\n",
            "Done... Calling again\n",
            "Called again\n"
          ]
        }
      ]
    },
    {
      "cell_type": "markdown",
      "metadata": {
        "id": "mtS353SZs6Ky"
      },
      "source": [
        "##Else & Finally In Try Except"
      ]
    },
    {
      "cell_type": "code",
      "metadata": {
        "colab": {
          "base_uri": "https://localhost:8080/"
        },
        "id": "IxwMziIStTz8",
        "outputId": "af9c7cd1-141f-4672-ff49-8016c9604973"
      },
      "source": [
        "try:\n",
        "    f = open(\"does2.txt\")\n",
        "\n",
        "except Exception as e:\n",
        "  print (e)\n",
        "print(\"Emportant stuff\")"
      ],
      "execution_count": null,
      "outputs": [
        {
          "output_type": "stream",
          "name": "stdout",
          "text": [
            "[Errno 2] No such file or directory: 'does2.txt'\n",
            "Emportant stuff\n"
          ]
        }
      ]
    },
    {
      "cell_type": "code",
      "metadata": {
        "id": "iiVoflpFtTlV"
      },
      "source": [
        "f1 = open(\"harry.txt\")\n",
        "try:\n",
        "    f = open(\"does2.txt\")\n",
        "\n",
        "except Exception as e:\n",
        "  print (e)\n",
        "\n",
        "finally:\n",
        "  print(\"run this anyway....\")\n",
        "  f1.close()\n",
        "\n",
        "print(\"Emportant stuff\")"
      ],
      "execution_count": null,
      "outputs": []
    },
    {
      "cell_type": "code",
      "metadata": {
        "id": "A0rLBpxFhfZM"
      },
      "source": [
        "f1 = open(\"harry.txt\")\n",
        "\n",
        "try:\n",
        "    f = open(\"does2.txt\")\n",
        "\n",
        "except EOFError as e:\n",
        "    print(\"Print eof error aa gaya hai\", e)\n",
        "\n",
        "except IOError as e:\n",
        "    print(\"Print IO error aa gaya hai\", e)\n",
        "\n",
        "else:\n",
        "    print(\"This will run only if except is not running\")\n",
        "\n",
        "finally:\n",
        "    print(\"Run this anyway...\")\n",
        "    # f.close()\n",
        "    f1.close()\n",
        "\n",
        "print(\"Important stuff\")"
      ],
      "execution_count": null,
      "outputs": []
    },
    {
      "cell_type": "markdown",
      "metadata": {
        "id": "7M-qXERQwIYW"
      },
      "source": [
        "##Coroutines In Python "
      ]
    },
    {
      "cell_type": "code",
      "metadata": {
        "colab": {
          "base_uri": "https://localhost:8080/"
        },
        "id": "JeV-p2ykwKFj",
        "outputId": "f0b44391-c3c2-4fdc-f3d6-9a8613d2e7c1"
      },
      "source": [
        "def searcher():\n",
        "    import time\n",
        "    # Some 4 seconds time consuming task\n",
        "    book = \"This is a book on harry and code with harry and good\"\n",
        "    time.sleep(4)\n",
        "\n",
        "    while True:\n",
        "        text = (yield)\n",
        "        if text in book:\n",
        "            print(\"Your text is in the book\")\n",
        "        else:\n",
        "            print(\"Text is not in the book\")\n",
        "\n",
        "search = searcher()\n",
        "print(\"search started\")\n",
        "next(search)\n",
        "print(\"Next method run\")\n",
        "\n",
        "search.send(\"harry\")\n",
        "input(\"press any key\")\n",
        "\n",
        "search.send(\"harry and\")\n",
        "input(\"press any key\")\n",
        "\n",
        "search.send(\"thi si\")\n",
        "input(\"press any key\")\n",
        "\n",
        "search.send(\"joker\")\n",
        "input(\"press any key\")\n",
        "\n",
        "search.send(\"like this video\")\n",
        "\n",
        "search.close()"
      ],
      "execution_count": null,
      "outputs": [
        {
          "output_type": "stream",
          "name": "stdout",
          "text": [
            "search started\n",
            "Next method run\n",
            "Your text is in the book\n",
            "press any keyj\n",
            "Your text is in the book\n",
            "press any keyj\n",
            "Text is not in the book\n",
            "press any keyj\n",
            "Text is not in the book\n",
            "press any keyk\n",
            "Text is not in the book\n"
          ]
        }
      ]
    },
    {
      "cell_type": "markdown",
      "metadata": {
        "id": "2qEaZn1T2Pw1"
      },
      "source": [
        "##Os Module "
      ]
    },
    {
      "cell_type": "code",
      "metadata": {
        "colab": {
          "base_uri": "https://localhost:8080/"
        },
        "id": "lyLH5p952QU3",
        "outputId": "3ecb7ccc-c986-4069-fc87-9213cff93757"
      },
      "source": [
        "import os\n",
        "# print(dir(os))\n",
        "print(os.getcwd())\n",
        "os.chdir(\"/\")\n",
        "print(os.getcwd())\n",
        "# f = open(\"harry.txt\")\n",
        "print(os.listdir(\"/content\"))\n",
        "# os.mkdir(\"This\")                    # make a folder\n",
        "# os.makedirs(\"This/that\")            #this is folder and that is sub folder\n",
        "# os.rename(\"harry.txt\", \"codewithharry.txt\")\n",
        "print(os.environ.get('Path'))         # path\n",
        "# print(os.path.join(\"C:/\", \"/harry.txt\"))\n",
        "\n",
        "# print(os.path.exists(\"C://Program Files2\"))\n",
        "print(os.path.isfile(\"C://Program Files\"))\n"
      ],
      "execution_count": null,
      "outputs": [
        {
          "output_type": "stream",
          "name": "stdout",
          "text": [
            "/\n",
            "/\n",
            "['.config', 'sample_data']\n",
            "None\n",
            "False\n"
          ]
        }
      ]
    },
    {
      "cell_type": "markdown",
      "metadata": {
        "id": "5C5FW1MT-m0A"
      },
      "source": [
        "##Requests Module For HTTP Requests "
      ]
    },
    {
      "cell_type": "code",
      "metadata": {
        "colab": {
          "base_uri": "https://localhost:8080/"
        },
        "id": "nyQHpFJ0-nRA",
        "outputId": "ca147c03-b276-4bbb-9c69-757f2bc473e1"
      },
      "source": [
        "import requests\n",
        "r = requests.get(\"https://financialmodelingprep.com/api/company/price/AAPL\")\n",
        "print(r.text)\n",
        "print(r.status_code)\n",
        "\n",
        "# url = \"www.something.com\"\n",
        "# data = {\n",
        "#     \"p1\":4,\n",
        "#     \"p2\":8\n",
        "# }\n",
        "# r2 = requests.post(url=url, data=data)\n"
      ],
      "execution_count": null,
      "outputs": [
        {
          "output_type": "stream",
          "name": "stdout",
          "text": [
            "<!doctype html><html data-n-head-ssr lang=\"en\" data-n-head=\"%7B%22lang%22:%7B%22ssr%22:%22en%22%7D%7D\"><head ><meta data-n-head=\"ssr\" charset=\"utf-8\"><meta data-n-head=\"ssr\" http-equiv=\"X-UA-Compatible\" content=\"IE=edge\"><meta data-n-head=\"ssr\" name=\"viewport\" content=\"width=device-width, initial-scale=1\"><meta data-n-head=\"ssr\" name=\"fragment\" content=\"!\"><meta data-n-head=\"ssr\" name=\"theme-color\" content=\"#333\"><meta data-n-head=\"ssr\" name=\"theme-color\" content=\"#ffffff\"><meta data-n-head=\"ssr\" data-hid=\"description\" name=\"description\" content=\"Access all stocks discounted cash flow statements, market price, stock markets news, and learn more about Financial Modeling. Learn M&amp;amp;A, LBO, DCF, Comps, and Financial Statement Modeling thought concrete examples\"><meta data-n-head=\"ssr\" data-hid=\"keywords\" name=\"keywords\" content=\"Financial Modeling, DCF, Discounted Cash Flow, business news, financial news, stocks, stock quotes, stock portfolio, investing, company news, international business, world business, economy, bonds, adrs, before hours, after hours, earnings, investor research, ipo, commodities, currencies, nyse, nasdaq, amex, Financial Modeling prep\"><meta data-n-head=\"ssr\" data-hid=\"og:description\" property=\"og:description\" content=\"Access all stocks discounted cash flow statements, market price, stock markets news, and learn more about Financial Modeling. Learn M&amp;amp;A, LBO, DCF, Comps, and Financial Statement Modeling thought concrete examples\"><meta data-n-head=\"ssr\" data-hid=\"og:title\" property=\"og:title\" content=\"Financial Modeling Prep - FinancialModelingPrep\"><meta data-n-head=\"ssr\" data-hid=\"og:url\" property=\"og:url\" content=\"https://financialmodelingprep.com/\"><meta data-n-head=\"ssr\" property=\"og:site_name\" content=\"Financial Modeling Prep\"><meta data-n-head=\"ssr\" property=\"twitter:card\" content=\"summary_large_image\"><meta data-n-head=\"ssr\" data-hid=\"twitter:text:title\" property=\"twitter:text:title\" content=\"Financial Modeling Prep - FinancialModelingPrep\"><meta data-n-head=\"ssr\" data-hid=\"twitter:title\" property=\"twitter:title\" content=\"Financial Modeling Prep - FinancialModelingPrep\"><meta data-n-head=\"ssr\" data-hid=\"twitter:description\" property=\"twitter:description\" content=\"Access all stocks discounted cash flow statements, market price, stock markets news, and learn more about Financial Modeling. Learn M&amp;amp;A, LBO, DCF, Comps, and Financial Statement Modeling thought concrete examples\"><meta data-n-head=\"ssr\" property=\"twitter:site\" content=\"@financial_mod\"><meta data-n-head=\"ssr\" data-hid=\"twitter:url\" property=\"twitter:url\" content=\"https://financialmodelingprep.com/\"><meta data-n-head=\"ssr\" property=\"twitter:images0\" content=\"/screenshot/solo/_.png\"><meta data-n-head=\"ssr\" property=\"og:type\" content=\"website\"><meta data-n-head=\"ssr\" property=\"fb:app_id\" content=\"140395543294453\"><link data-n-head=\"ssr\" rel=\"stylesheet\" href=\"https://fonts.googleapis.com/css2?family=Lato:wght@400;700;900&amp;display=swap\" async><link data-n-head=\"ssr\" rel=\"manifest\" href=\"/manifest.json\"><link data-n-head=\"ssr\" rel=\"apple-touch-icon\" href=\"/apple-touch-icon.png\" sizes=\"180x180\"><link data-n-head=\"ssr\" rel=\"icon\" href=\"/favicon-32x32.png\" type=\"image/png\" sizes=\"32x32\"><link data-n-head=\"ssr\" rel=\"icon\" href=\"/favicon-16x16.png\" type=\"image/png\" sizes=\"16x16\"><link data-n-head=\"ssr\" rel=\"icon\" href=\"/favicon.ico\" type=\"image/x-icon\"><link data-n-head=\"ssr\" rel=\"mask-icon\" href=\"/safari-pinned-tab.svg\" color=\"#5bbad5\"><link data-n-head=\"ssr\" rel=\"preload\" href=\"https://fonts.googleapis.com/css2?family=Jost:wght@300;500;700&amp;display=swap\" as=\"style\" onload=\"this.onload=null;this.rel=&#x27;stylesheet&#x27;\" defer><script data-n-head=\"ssr\" type=\"text/javascript\" rel=\"preconnect\" async src=\"https://www.google-analytics.com/analytics.js\"></script><link rel=\"preload\" href=\"https://d14ccuzudddlhp.cloudfront.net/_nuxt/ebb3ec4.js\" as=\"script\"><link rel=\"preload\" href=\"https://d14ccuzudddlhp.cloudfront.net/_nuxt/aa833b4.js\" as=\"script\"><link rel=\"preload\" href=\"https://d14ccuzudddlhp.cloudfront.net/_nuxt/f7a5752.js\" as=\"script\"><link rel=\"preload\" href=\"https://d14ccuzudddlhp.cloudfront.net/_nuxt/css/36d140e.css\" as=\"style\"><link rel=\"preload\" href=\"https://d14ccuzudddlhp.cloudfront.net/_nuxt/cbb8f8b.js\" as=\"script\"><link rel=\"stylesheet\" href=\"https://d14ccuzudddlhp.cloudfront.net/_nuxt/css/36d140e.css\"></head><body ><div data-server-rendered=\"true\" id=\"__nuxt\"><!----><div id=\"__layout\"><div id=\"app\" itemscope=\"itemscope\" itemtype=\"http://schema.org/WebSite\"><div class=\"navbar-wrapper\" data-v-12ee0964><nav id=\"navbar-fmp\" data-v-12ee0964><div class=\"full-menu\" data-v-12ee0964><div class=\"navbar-fmp-left\" data-v-12ee0964><div class=\"navbar-fmp-section\" data-v-12ee0964><a href=\"/\" title=\"FinancialModelingPrep\" class=\"logo nuxt-link-active\" data-v-12ee0964>FMP</a></div> <div class=\"navbar-fmp-section\" data-v-12ee0964><div data-v-07017d4a data-v-12ee0964><div class=\"stock-search-component-small\" data-v-07017d4a><div class=\"stock-search\" data-v-07017d4a><input placeholder=\"Search stock...\" title=\"Search for stock information\" value=\"\" class=\"search-box\" data-v-07017d4a> <div class=\"icon-search-wrapper\" data-v-07017d4a><i class=\"fas icon-search\" data-v-07017d4a></i></div></div> <!----></div></div></div></div> <div class=\"navbar-fmp-right\" data-v-12ee0964><div class=\"navbar-fmp-section\" data-v-12ee0964>\n",
            "                        Discounted Cash Flow Model\n",
            "                    \n",
            "                        <i class=\"fas icon-chevron-down\" data-v-12ee0964></i> <!----></div><div class=\"navbar-fmp-section\" data-v-12ee0964>\n",
            "                        Markets\n",
            "                    \n",
            "                        <i class=\"fas icon-chevron-down\" data-v-12ee0964></i> <!----></div><div class=\"navbar-fmp-section\" data-v-12ee0964>\n",
            "                        Education\n",
            "                    \n",
            "                        <i class=\"fas icon-chevron-down\" data-v-12ee0964></i> <!----></div><div class=\"navbar-fmp-section\" data-v-12ee0964>\n",
            "                        How to\n",
            "                    \n",
            "                        <i class=\"fas icon-chevron-down\" data-v-12ee0964></i> <!----></div> <div class=\"navbar-fmp-section\" data-v-12ee0964>\n",
            "                    Developers\n",
            "                    <i class=\"fas icon-chevron-down\" data-v-12ee0964></i> <!----></div> <!----></div></div> <div class=\"burger-menu\" data-v-12ee0964><div class=\"navbar-fmp-left\" data-v-12ee0964><div class=\"navbar-fmp-section\" data-v-12ee0964><h1 role=\"link\" class=\"logo\" data-v-12ee0964 data-v-12ee0964>FMP</h1></div></div> <div data-v-07017d4a data-v-12ee0964><div class=\"stock-search-component-small\" data-v-07017d4a><div class=\"stock-search\" data-v-07017d4a><input placeholder=\"Search stock...\" title=\"Search for stock information\" value=\"\" class=\"search-box\" data-v-07017d4a> <div class=\"icon-search-wrapper\" data-v-07017d4a><i class=\"fas icon-search\" data-v-07017d4a></i></div></div> <!----></div></div> <div class=\"burger\" data-v-12ee0964><i class=\"fas icon-bars\" data-v-12ee0964></i></div> <!----></div></nav></div> <div id=\"ticker-bar\" data-v-1003def2><!----></div> <div id=\"main-container-error\"><div id=\"page-not-found\" data-v-d0765a3c><svg xmlns=\"http://www.w3.org/2000/svg\" xmlns:xlink=\"http://www.w3.org/1999/xlink\" id=\"f698cf57-4f6b-4529-a39c-70592e247574\" data-name=\"Layer 1\" viewBox=\"0 0 840 726.85\" data-v-d0765a3c><defs data-v-d0765a3c><linearGradient id=\"aba94383-0ea8-4a3d-bf3d-6bf7d0bb624b\" x1=\"432\" y1=\"245.78\" x2=\"432\" y2=\"18.85\" gradientUnits=\"userSpaceOnUse\" data-v-d0765a3c><stop offset=\"0\" stop-color=\"gray\" stop-opacity=\"0.25\" data-v-d0765a3c></stop><stop offset=\"0.54\" stop-color=\"gray\" stop-opacity=\"0.12\" data-v-d0765a3c></stop><stop offset=\"1\" stop-color=\"gray\" stop-opacity=\"0.1\" data-v-d0765a3c></stop></linearGradient><linearGradient id=\"e6500262-d2e6-47ad-ace4-95109017cb85\" x1=\"447.27\" y1=\"1916.01\" x2=\"447.27\" y2=\"1730.58\" gradientTransform=\"matrix(0.95, 0.32, -0.32, 0.95, 752.71, -1245.02)\" xlink:href=\"#aba94383-0ea8-4a3d-bf3d-6bf7d0bb624b\" data-v-d0765a3c></linearGradient><linearGradient id=\"ba3c64e7-a915-4515-a2e7-88140805555d\" x1=\"334.27\" y1=\"1539.38\" x2=\"334.27\" y2=\"1353.95\" gradientTransform=\"matrix(0.95, 0.32, -0.32, 0.95, 752.71, -1245.02)\" xlink:href=\"#aba94383-0ea8-4a3d-bf3d-6bf7d0bb624b\" data-v-d0765a3c></linearGradient><linearGradient id=\"fa3dfd3f-e414-4f67-9974-b38d7e79cebc\" x1=\"432\" y1=\"258.09\" x2=\"432\" y2=\"103.27\" xlink:href=\"#aba94383-0ea8-4a3d-bf3d-6bf7d0bb624b\" data-v-d0765a3c></linearGradient></defs><title data-v-d0765a3c>Taken</title><g opacity=\"0.8\" data-v-d0765a3c><ellipse cx=\"432\" cy=\"132.31\" rx=\"146.46\" ry=\"113.46\" fill=\"url(#aba94383-0ea8-4a3d-bf3d-6bf7d0bb624b)\" data-v-d0765a3c></ellipse></g><ellipse cx=\"432\" cy=\"132.31\" rx=\"143.21\" ry=\"110.94\" fill=\"#018def\" data-v-d0765a3c></ellipse><path d=\"M491.94,231.21c0-61.27,64.11-110.94,143.2-110.94A175.54,175.54,0,0,1,706.5,135c-25.17-17-58.1-27.33-94.14-27.33-79.09,0-143.21,49.67-143.21,110.94,0,41.14,28.91,77.05,71.86,96.21C510.94,294.48,491.94,264.57,491.94,231.21Z\" transform=\"translate(-180 -86.57)\" fill=\"#fff\" opacity=\"0.1\" data-v-d0765a3c></path><polygon points=\"432 176.9 590.76 451.88 749.52 726.85 432 726.85 114.48 726.85 273.24 451.88 432 176.9\" fill=\"#018def\" opacity=\"0.2\" data-v-d0765a3c></polygon><g opacity=\"0.3\" data-v-d0765a3c><path d=\"M649.67,652.79,662,616.2a62.66,62.66,0,0,0-23.2-70.89l.1-.06a61.48,61.48,0,0,0-15.79-8h0l-.17-.06-.19-.06h0a61.55,61.55,0,0,0-16.9-3.18,59.28,59.28,0,0,0-6.11,0,62.32,62.32,0,0,0-10.49,1.45c-1,.22-2,.47-2.91.74s-1.93.56-2.88.87c-1.9.63-3.77,1.34-5.6,2.15-.92.4-1.83.82-2.72,1.27a61.47,61.47,0,0,0-7.75,4.56c-.83.57-1.64,1.16-2.44,1.76a62,62,0,0,0-21.24,29.6L524.33,634a61.86,61.86,0,0,0-2.68,28.12c.2,1.45.45,2.89.74,4.32s.65,2.84,1,4.24c.27.93.55,1.86.86,2.78.46,1.37,1,2.74,1.51,4.08.37.89.76,1.78,1.17,2.66.81,1.75,1.71,3.46,2.68,5.13s2,3.3,3.16,4.88c.84,1.18,1.73,2.34,2.65,3.46,1.24,1.5,2.54,3,3.92,4.33a61.81,61.81,0,0,0,21,13.89h0l0,0,.34.14a21.66,21.66,0,0,1,1.4-2.17c3-4.11,8.22-7,13.19-5.92.36.08.72.19,1.08.3,2.52.89,5,2.48,7.43,3.26a6.66,6.66,0,0,0,5.61-.07c4.86-2.59,3.06-10.76,7.23-14.34a6.5,6.5,0,0,1,.61-.46,1.88,1.88,0,0,1-.16-.23c3.22-2,7.68-.67,11.39.62,4,1.41,9.22,2.36,12-.91,1.88-2.24,1.74-5.65,3.53-8,2.08-2.7,6-3,9.39-2.52l.17.05c6.5,2.68,13.6-1.77,13.1-8.78C646.06,663.51,649,654.7,649.67,652.79Z\" transform=\"translate(-180 -86.57)\" fill=\"url(#e6500262-d2e6-47ad-ace4-95109017cb85)\" data-v-d0765a3c></path></g><path d=\"M563.21,706.78c2.92-4,7.93-6.8,12.73-5.71s9.35,5.66,13.62,3.37c5.84-3.12,1.7-14.59,11.18-15.44a12.44,12.44,0,0,1,5.77,1c4,1.63,10.26,3.47,13.34-.2,1.81-2.16,1.68-5.45,3.41-7.69,2-2.6,5.81-2.93,9.06-2.43l.16.05c6.27,2.59,13.13-1.71,12.64-8.47-.63-9,2.23-17.48,2.85-19.32l11.88-35.31A60.38,60.38,0,0,0,622,540.34h0a60.38,60.38,0,0,0-76.27,37.86L527,633.73a60.39,60.39,0,0,0,34.82,75.15A21.47,21.47,0,0,1,563.21,706.78Z\" transform=\"translate(-180 -86.57)\" fill=\"#fff\" data-v-d0765a3c></path><circle cx=\"405.35\" cy=\"486.08\" r=\"6.51\" opacity=\"0.2\" data-v-d0765a3c></circle><circle cx=\"442.37\" cy=\"498.53\" r=\"6.51\" opacity=\"0.2\" data-v-d0765a3c></circle><ellipse cx=\"595.55\" cy=\"603.56\" rx=\"9.76\" ry=\"6.51\" transform=\"translate(-346.41 888.98) rotate(-71.4)\" fill=\"#e0e0e0\" data-v-d0765a3c></ellipse><circle cx=\"552.53\" cy=\"487.52\" r=\"9.76\" fill=\"#fff\" data-v-d0765a3c></circle><circle cx=\"583.45\" cy=\"472.17\" r=\"4.88\" fill=\"#fff\" data-v-d0765a3c></circle><g opacity=\"0.5\" data-v-d0765a3c><g opacity=\"0.3\" data-v-d0765a3c><path d=\"M662.67,259.79,675,223.2a62.66,62.66,0,0,0-23.2-70.89l.1-.06a61.48,61.48,0,0,0-15.79-8h0l-.17-.06-.19-.06h0a61.55,61.55,0,0,0-16.9-3.18,59.28,59.28,0,0,0-6.11,0,62.32,62.32,0,0,0-10.49,1.45c-1,.22-2,.47-2.91.74s-1.93.56-2.88.87c-1.9.63-3.77,1.34-5.6,2.15-.92.4-1.83.82-2.72,1.27a61.47,61.47,0,0,0-7.75,4.56c-.83.57-1.64,1.16-2.44,1.76a62,62,0,0,0-21.24,29.6L537.33,241a61.86,61.86,0,0,0-2.68,28.12c.2,1.45.45,2.89.74,4.32s.65,2.84,1,4.24c.27.93.55,1.86.86,2.78.46,1.37,1,2.74,1.51,4.08.37.89.76,1.78,1.17,2.66.81,1.75,1.71,3.46,2.68,5.13s2,3.3,3.16,4.88c.84,1.18,1.73,2.34,2.65,3.46,1.24,1.5,2.54,2.95,3.92,4.33a61.81,61.81,0,0,0,21,13.89h0l0,0,.34.14a21.66,21.66,0,0,1,1.4-2.17c3-4.11,8.22-7,13.19-5.92.36.08.72.19,1.08.3,2.52.89,5,2.48,7.43,3.26a6.66,6.66,0,0,0,5.61-.07c4.86-2.59,3.06-10.76,7.23-14.34a6.5,6.5,0,0,1,.61-.46,1.88,1.88,0,0,1-.16-.23c3.22-2,7.68-.67,11.39.62,4,1.41,9.22,2.36,12-.91,1.88-2.24,1.74-5.65,3.53-8,2.08-2.7,6-3,9.39-2.52l.17,0c6.5,2.68,13.6-1.77,13.1-8.78C659.06,270.51,662,261.7,662.67,259.79Z\" transform=\"translate(-180 -86.57)\" fill=\"url(#ba3c64e7-a915-4515-a2e7-88140805555d)\" data-v-d0765a3c></path></g><path d=\"M576.21,313.78c2.92-4,7.93-6.8,12.73-5.71s9.35,5.66,13.62,3.37c5.84-3.12,1.7-14.59,11.18-15.44a12.44,12.44,0,0,1,5.77,1c4,1.63,10.26,3.47,13.34-.2,1.81-2.16,1.68-5.45,3.41-7.69,2-2.6,5.81-2.93,9.06-2.43l.16.05c6.27,2.59,13.13-1.71,12.64-8.47-.63-9,2.23-17.48,2.85-19.32l11.88-35.31A60.38,60.38,0,0,0,635,147.34h0a60.38,60.38,0,0,0-76.27,37.86L540,240.73a60.39,60.39,0,0,0,34.82,75.15A21.47,21.47,0,0,1,576.21,313.78Z\" transform=\"translate(-180 -86.57)\" fill=\"#fff\" data-v-d0765a3c></path><circle cx=\"418.35\" cy=\"93.08\" r=\"6.51\" opacity=\"0.2\" data-v-d0765a3c></circle><circle cx=\"455.37\" cy=\"105.53\" r=\"6.51\" opacity=\"0.2\" data-v-d0765a3c></circle></g><path d=\"M749.52,186A87.52,87.52,0,0,1,752.31,208c0,61.27-64.11,110.94-143.2,110.94C544.38,318.9,489.69,285.64,472,240c13.14,50.77,71,89,140.41,89,79.09,0,143.21-49.67,143.21-110.94A88.16,88.16,0,0,0,749.52,186Z\" transform=\"translate(-180 -86.57)\" opacity=\"0.1\" data-v-d0765a3c></path><g opacity=\"0.8\" data-v-d0765a3c><ellipse cx=\"432\" cy=\"180.68\" rx=\"296.18\" ry=\"77.41\" fill=\"url(#fa3dfd3f-e414-4f67-9974-b38d7e79cebc)\" data-v-d0765a3c></ellipse></g><path d=\"M612,192.4c-158.18,0-286.42,33.51-286.42,74.86H898.42C898.42,225.91,770.18,192.4,612,192.4Z\" transform=\"translate(-180 -86.57)\" fill=\"#fff\" data-v-d0765a3c></path><path d=\"M612,342.11c158.18,0,286.42-33.51,286.42-74.85H325.58C325.58,308.6,453.82,342.11,612,342.11Z\" transform=\"translate(-180 -86.57)\" fill=\"#fff\" data-v-d0765a3c></path><path d=\"M612,342.11c158.18,0,286.42-33.51,286.42-74.85H325.58C325.58,308.6,453.82,342.11,612,342.11Z\" transform=\"translate(-180 -86.57)\" opacity=\"0.05\" data-v-d0765a3c></path><rect x=\"295.3\" y=\"161.15\" width=\"273.4\" height=\"39.06\" rx=\"17.22\" opacity=\"0.05\" data-v-d0765a3c></rect><path d=\"M313.89,144.38a3.68,3.68,0,0,1-2.05-4.44,1.86,1.86,0,0,0,.08-.41h0a1.84,1.84,0,0,0-3.31-1.22h0a1.82,1.82,0,0,0-.2.36,3.67,3.67,0,0,1-4.44,2.05,2,2,0,0,0-.41-.08h0a1.84,1.84,0,0,0-1.22,3.31h0a1.62,1.62,0,0,0,.36.21,3.68,3.68,0,0,1,2.05,4.44,1.89,1.89,0,0,0-.08.4h0a1.84,1.84,0,0,0,3.31,1.23h0a1.65,1.65,0,0,0,.2-.37,3.67,3.67,0,0,1,4.44-2,2,2,0,0,0,.41.08h0a1.84,1.84,0,0,0,1.22-3.31h0A1.62,1.62,0,0,0,313.89,144.38Z\" transform=\"translate(-180 -86.57)\" fill=\"#4d8af0\" opacity=\"0.5\" data-v-d0765a3c></path><path d=\"M822.89,450.38a3.68,3.68,0,0,1-2-4.44,1.86,1.86,0,0,0,.08-.41h0a1.84,1.84,0,0,0-3.31-1.22h0a1.82,1.82,0,0,0-.2.36,3.67,3.67,0,0,1-4.44,2.05,2,2,0,0,0-.41-.08h0a1.84,1.84,0,0,0-1.22,3.31h0a1.62,1.62,0,0,0,.36.21,3.68,3.68,0,0,1,2,4.44,1.89,1.89,0,0,0-.08.4h0a1.84,1.84,0,0,0,3.31,1.23h0a1.65,1.65,0,0,0,.2-.37,3.67,3.67,0,0,1,4.44-2,2,2,0,0,0,.41.08h0a1.84,1.84,0,0,0,1.22-3.31h0A1.62,1.62,0,0,0,822.89,450.38Z\" transform=\"translate(-180 -86.57)\" fill=\"#4d8af0\" opacity=\"0.5\" data-v-d0765a3c></path><path d=\"M260.89,592.38a3.68,3.68,0,0,1-2.05-4.44,1.86,1.86,0,0,0,.08-.41h0a1.84,1.84,0,0,0-3.31-1.22h0a1.82,1.82,0,0,0-.2.36,3.67,3.67,0,0,1-4.44,2.05,2,2,0,0,0-.41-.08h0a1.84,1.84,0,0,0-1.22,3.31h0a1.62,1.62,0,0,0,.36.21,3.68,3.68,0,0,1,2.05,4.44,1.89,1.89,0,0,0-.08.4h0a1.84,1.84,0,0,0,3.31,1.23h0a1.65,1.65,0,0,0,.2-.37,3.67,3.67,0,0,1,4.44-2,2,2,0,0,0,.41.08h0a1.84,1.84,0,0,0,1.22-3.31h0A1.62,1.62,0,0,0,260.89,592.38Z\" transform=\"translate(-180 -86.57)\" fill=\"#4d8af0\" opacity=\"0.5\" data-v-d0765a3c></path><path d=\"M205.89,261.38a3.68,3.68,0,0,1-2-4.44,1.86,1.86,0,0,0,.08-.41h0a1.84,1.84,0,0,0-3.31-1.22h0a1.82,1.82,0,0,0-.2.36,3.67,3.67,0,0,1-4.44,2.05,2,2,0,0,0-.41-.08h0a1.84,1.84,0,0,0-1.22,3.31h0a1.62,1.62,0,0,0,.36.21,3.68,3.68,0,0,1,2.05,4.44,1.89,1.89,0,0,0-.08.4h0a1.84,1.84,0,0,0,3.31,1.23h0a1.65,1.65,0,0,0,.2-.37,3.67,3.67,0,0,1,4.44-2,2,2,0,0,0,.41.08h0a1.84,1.84,0,0,0,1.22-3.31h0A1.62,1.62,0,0,0,205.89,261.38Z\" transform=\"translate(-180 -86.57)\" fill=\"#4d8af0\" opacity=\"0.5\" data-v-d0765a3c></path><path d=\"M812.89,93.38a3.68,3.68,0,0,1-2-4.44,1.86,1.86,0,0,0,.08-.41h0a1.84,1.84,0,0,0-3.31-1.22h0a1.82,1.82,0,0,0-.2.36,3.67,3.67,0,0,1-4.44,2,2,2,0,0,0-.41-.08h0A1.84,1.84,0,0,0,801.34,93h0a1.62,1.62,0,0,0,.36.21,3.68,3.68,0,0,1,2,4.44,1.89,1.89,0,0,0-.08.4h0A1.84,1.84,0,0,0,807,99.23h0a1.65,1.65,0,0,0,.2-.37,3.67,3.67,0,0,1,4.44-2,2,2,0,0,0,.41.08h0a1.84,1.84,0,0,0,1.22-3.31h0A1.62,1.62,0,0,0,812.89,93.38Z\" transform=\"translate(-180 -86.57)\" fill=\"#4d8af0\" opacity=\"0.5\" data-v-d0765a3c></path><g opacity=\"0.5\" data-v-d0765a3c><rect x=\"110\" y=\"257.85\" width=\"3\" height=\"17\" fill=\"#47e6b1\" data-v-d0765a3c></rect><rect x=\"290\" y=\"344.43\" width=\"3\" height=\"17\" transform=\"translate(464.43 -25.15) rotate(90)\" fill=\"#47e6b1\" data-v-d0765a3c></rect></g><g opacity=\"0.5\" data-v-d0765a3c><rect x=\"830\" y=\"177.85\" width=\"3\" height=\"17\" fill=\"#47e6b1\" data-v-d0765a3c></rect><rect x=\"1010\" y=\"264.43\" width=\"3\" height=\"17\" transform=\"translate(1104.43 -825.15) rotate(90)\" fill=\"#47e6b1\" data-v-d0765a3c></rect></g><g opacity=\"0.5\" data-v-d0765a3c><rect x=\"730\" y=\"456.85\" width=\"3\" height=\"17\" fill=\"#47e6b1\" data-v-d0765a3c></rect><rect x=\"910\" y=\"543.43\" width=\"3\" height=\"17\" transform=\"translate(1283.43 -446.15) rotate(90)\" fill=\"#47e6b1\" data-v-d0765a3c></rect></g><circle cx=\"723\" cy=\"81.85\" r=\"6\" fill=\"#f55f44\" opacity=\"0.5\" data-v-d0765a3c></circle><circle cx=\"6\" cy=\"12.85\" r=\"6\" fill=\"#f55f44\" opacity=\"0.5\" data-v-d0765a3c></circle><circle cx=\"186\" cy=\"357.85\" r=\"6\" fill=\"#f55f44\" opacity=\"0.5\" data-v-d0765a3c></circle><ellipse cx=\"234\" cy=\"154.43\" rx=\"34\" ry=\"7\" opacity=\"0.05\" data-v-d0765a3c></ellipse><ellipse cx=\"234\" cy=\"207.43\" rx=\"34\" ry=\"7\" opacity=\"0.05\" data-v-d0765a3c></ellipse><ellipse cx=\"621\" cy=\"154.43\" rx=\"34\" ry=\"7\" opacity=\"0.05\" data-v-d0765a3c></ellipse><ellipse cx=\"621\" cy=\"207.43\" rx=\"34\" ry=\"7\" opacity=\"0.05\" data-v-d0765a3c></ellipse><ellipse cx=\"432\" cy=\"124.43\" rx=\"34\" ry=\"7\" opacity=\"0.05\" data-v-d0765a3c></ellipse><ellipse cx=\"457\" cy=\"51.43\" rx=\"34\" ry=\"7\" opacity=\"0.05\" data-v-d0765a3c></ellipse><ellipse cx=\"392\" cy=\"81.43\" rx=\"34\" ry=\"7\" opacity=\"0.05\" data-v-d0765a3c></ellipse><ellipse cx=\"517\" cy=\"94.43\" rx=\"34\" ry=\"7\" opacity=\"0.05\" data-v-d0765a3c></ellipse><ellipse cx=\"432\" cy=\"228.43\" rx=\"34\" ry=\"7\" opacity=\"0.05\" data-v-d0765a3c></ellipse></svg> <div data-v-d0765a3c><h1 data-v-d0765a3c>404 - This page doesn't exist.</h1> <div class=\"error__buttons\" data-v-d0765a3c><a href=\"/\" class=\"global-button\" data-v-d0765a3c>\n",
            "                    HOME\n",
            "                </a> <a href=\"/market-news\" class=\"global-button\" data-v-d0765a3c>\n",
            "                    NEWS\n",
            "                </a></div></div></div></div> <footer class=\"footer\" data-v-7b1a6bfd><div class=\"footer__social\" data-v-7b1a6bfd><div class=\"footer__logo\" data-v-7b1a6bfd><span data-v-7b1a6bfd>FMP</span> <!----></div></div> <div class=\"footer__menu\" data-v-7b1a6bfd><ul data-v-7b1a6bfd><li class=\"heading\" data-v-7b1a6bfd>FMP</li> <li data-v-7b1a6bfd><a href=\"/\" data-v-7b1a6bfd>Home</a></li> <li data-v-7b1a6bfd><a href=\"/privacy-policy\" data-v-7b1a6bfd>Privacy Policy</a></li> <li data-v-7b1a6bfd><a href=\"/terms-of-service\" data-v-7b1a6bfd>Terms of Service</a></li> <li data-v-7b1a6bfd><a href=\"https://fmpcloud.io/\" data-v-7b1a6bfd>FmpCloud.io</a></li> <li data-v-7b1a6bfd><a href=\"/contact\" data-v-7b1a6bfd>Contact Us</a></li></ul> <ul data-v-7b1a6bfd><li class=\"heading\" data-v-7b1a6bfd>API</li> <li data-v-7b1a6bfd><a href=\"/developer\" data-v-7b1a6bfd>Home</a></li> <li data-v-7b1a6bfd><a href=\"/developer/docs\" data-v-7b1a6bfd>Documentation</a></li> <li data-v-7b1a6bfd><a href=\"/developer/docs/pricing\" data-v-7b1a6bfd>Pricing</a></li> <li data-v-7b1a6bfd><a href=\"/developer/docs/resources\" data-v-7b1a6bfd>Resources</a></li> <li data-v-7b1a6bfd><a href=\"/developer/docs/changelog\" data-v-7b1a6bfd>Changelog</a></li> <li data-v-7b1a6bfd><a href=\"/developer/docs/formula\" data-v-7b1a6bfd>Formulas</a></li> <li data-v-7b1a6bfd><a href=\"/developer/docs/status\" data-v-7b1a6bfd>Status</a></li> <li data-v-7b1a6bfd><a href=\"/developer/docs/terms-of-service\" data-v-7b1a6bfd>Terms of Service</a></li></ul></div> <p data-v-7b1a6bfd>\n",
            "        Financial Modeling Prep is a new concept that informs you about stock markets information (news, currencies and stock prices). We always strive to give you the best and most updated information. We also gives you free financial modeling methodology through our academy. Most investment banking firms follow our guidelines to get discounted cash flow statement of companies to see if they are undervalued, overvalued or simply at par value. You can find all financial models and valuation techniques that is used in corporate finance to get companies intrinsic valuation. Most private equity firm use financial modeling for decision making when it comes to hold, buy or sell a particular stock.\n",
            "    </p> <div class=\"footer__bottom\" data-v-7b1a6bfd><h5 class=\"footer__copy\" data-v-7b1a6bfd>2017-2021 © Financial Modeling Prep</h5> <div class=\"footer__icons\" data-v-7b1a6bfd><a target=\"_blank\" rel=\"noopener\" aria-label=\"Twitter\" href=\"https://twitter.com/financial_mod\" data-v-7b1a6bfd><svg xmlns=\"http://www.w3.org/2000/svg\" viewBox=\"0 0 24 24\" fill=\"none\" stroke=\"currentColor\" stroke-width=\"2\" stroke-linecap=\"round\" stroke-linejoin=\"round\" data-v-7b1a6bfd><path d=\"M23 3a10.9 10.9 0 0 1-3.14 1.53 4.48 4.48 0 0 0-7.86 3v1A10.66 10.66 0 0 1 3 4s-4 9 5 13a11.64 11.64 0 0 1-7 2c9 5 20 0 20-11.5a4.5 4.5 0 0 0-.08-.83A7.72 7.72 0 0 0 23 3z\"></path></svg></a> <a target=\"_blank\" rel=\"noopener\" aria-label=\"Facebook\" href=\"https://www.facebook.com/financialmodelingprep/\" data-v-7b1a6bfd><svg xmlns=\"http://www.w3.org/2000/svg\" width=\"24\" height=\"24\" viewBox=\"0 0 24 24\" fill=\"none\" stroke=\"currentColor\" stroke-width=\"2\" stroke-linecap=\"round\" stroke-linejoin=\"round\" data-v-7b1a6bfd><path d=\"M18 2h-3a5 5 0 0 0-5 5v3H7v4h3v8h4v-8h3l1-4h-4V7a1 1 0 0 1 1-1h3z\"></path></svg></a> <a target=\"_blank\" rel=\"noopener\" aria-label=\"Instagram\" href=\"https://www.instagram.com/financialmodelingprep/\" data-v-7b1a6bfd><svg xmlns=\"http://www.w3.org/2000/svg\" width=\"24\" height=\"24\" viewBox=\"0 0 24 24\" fill=\"none\" stroke=\"currentColor\" stroke-width=\"2\" stroke-linecap=\"round\" stroke-linejoin=\"round\" data-v-7b1a6bfd><rect x=\"2\" y=\"2\" width=\"20\" height=\"20\" rx=\"5\" ry=\"5\"></rect><path d=\"M16 11.37A4 4 0 1 1 12.63 8 4 4 0 0 1 16 11.37z\"></path><line x1=\"17.5\" y1=\"6.5\" x2=\"17.51\" y2=\"6.5\"></line></svg></a> <a target=\"_blank\" rel=\"noopener\" aria-label=\"LinkedIn\" href=\"https://www.linkedin.com/company/financial-modeling-prep\" data-v-7b1a6bfd><svg xmlns=\"http://www.w3.org/2000/svg\" viewBox=\"0 0 24 24\" fill=\"none\" stroke=\"currentColor\" stroke-width=\"2\" stroke-linecap=\"round\" stroke-linejoin=\"round\" data-v-7b1a6bfd><path d=\"M16 8a6 6 0 0 1 6 6v7h-4v-7a2 2 0 0 0-2-2 2 2 0 0 0-2 2v7h-4v-7a6 6 0 0 1 6-6z\"></path><rect x=\"2\" y=\"9\" width=\"4\" height=\"12\"></rect><circle cx=\"4\" cy=\"4\" r=\"2\"></circle></svg></a></div></div></footer></div></div></div><script>window.__NUXT__=(function(a,b,c,d,e,f,g,h,i,j,k,l,m,n,o,p,q,r,s,t,u,v,w,x,y,z,A,B,C,D,E,F){return {layout:\"errorLayout\",data:[],fetch:{},error:{statusCode:404,path:s,message:\"This page could not be found\"},state:{userStore:f,academyLessons:{},balanceSheetStatement:{config:{reportedCurrency:{apiProp:m,label:e,roundTo:b,fixed:a},cashAndCashEquivalents:{apiProp:\"cashAndCashEquivalents\",label:\"Cash and cash equivalents\",roundTo:b,fixed:a},shortTermInvestments:{apiProp:\"shortTermInvestments\",label:\"Short-term investments\",roundTo:b,fixed:a},cashAndShortTermInvestments:{apiProp:\"cashAndShortTermInvestments\",label:\"Cash and short-term investments\",roundTo:b,fixed:a},receivables:{apiProp:\"netReceivables\",label:\"Receivables\",roundTo:b,fixed:a},inventories:{apiProp:t,label:\"Inventories\",roundTo:b,fixed:a},propertyPlantEquipmentNet:{apiProp:\"propertyPlantEquipmentNet\",label:\"Property, Plant & Equipment Net\",roundTo:b,fixed:a},goodwill:{apiProp:\"goodwillAndIntangibleAssets\",label:\"Goodwill and Intangible Assets\",roundTo:b,fixed:a},longTermInvestments:{apiProp:\"longTermInvestments\",label:\"Long-term investments\",roundTo:b,fixed:a},totalNonCurrentAssets:{apiProp:\"totalNonCurrentAssets\",label:\"Total non-current assets\",roundTo:b,fixed:a},totalCurrentAssets:{apiProp:\"totalCurrentAssets\",label:\"Total current assets\",roundTo:b,fixed:a},totalAssets:{apiProp:\"totalAssets\",label:\"Total assets\",roundTo:b,fixed:a},accountsPayable:{apiProp:\"accountPayables\",label:\"Payables\",roundTo:b,fixed:a},shortTermDebt:{apiProp:\"shortTermDebt\",label:\"Short-term debt\",roundTo:b,fixed:a},totalCurrentLiabilities:{apiProp:\"totalCurrentLiabilities\",label:\"Total current liabilities\",roundTo:b,fixed:a},longTermDebt:{apiProp:\"longTermDebt\",label:\"Long-term debt\",roundTo:b,fixed:a},totalDebt:{apiProp:\"totalDebt\",label:\"Total debt\",roundTo:b,fixed:a},deferredRevenue:{apiProp:\"deferredRevenue\",label:\"Deferred revenue\",roundTo:b,fixed:a},totalNonCurrentLiabilities:{apiProp:\"totalNonCurrentLiabilities\",label:\"Total non-current liabilities\",roundTo:b,fixed:a},totalLiabilities:{apiProp:\"totalLiabilities\",label:\"Total liabilities\",roundTo:b,fixed:a},othertotalStockholdersEquity:{apiProp:\"othertotalStockholdersEquity\",label:\"Other comprehensive income\",roundTo:b,fixed:a},retainedEarnings:{apiProp:\"retainedEarnings\",label:\"Retained earnings (deficit)\",roundTo:b,fixed:a},totalStockholdersEquity:{apiProp:\"totalStockholdersEquity\",label:\"Total shareholders equity\",roundTo:b,fixed:a},totalInvestments:{apiProp:\"totalInvestments\",label:\"Investments\",roundTo:b,fixed:a},netDebt:{apiProp:\"netDebt\",label:\"Net Debt\",roundTo:b,fixed:a},otherAssets:{apiProp:\"otherAssets\",label:\"Other Assets\",roundTo:b,fixed:a}},data:{},dataQuarter:{},currentRaw:[],current:{symbol:e,data:[]},currentQuarter:{symbol:e,data:[]},cache_tracker:{is_loading:c}},cashFlowStatement:{config:{reportedCurrency:{apiProp:m,label:e,roundTo:b,fixed:a},depreciationAndAmortization:{apiProp:n,label:\"Depreciation & Amortization\",roundTo:b,fixed:a},stockBasedCompensation:{apiProp:\"stockBasedCompensation\",label:\"Stock-based compensation\",roundTo:b,fixed:a},deferredIncomeTax:{apiProp:\"deferredIncomeTax\",label:\"Deferred income taxes\",roundTo:b,fixed:a},accountsReceivables:{apiProp:\"accountsReceivables\",label:\"Accounts receivables\",roundTo:b,fixed:a},accountsPayables:{apiProp:\"accountsPayables\",label:\"Accounts payables\",roundTo:b,fixed:a},inventory:{apiProp:t,label:\"Inventory\",roundTo:b,fixed:a},changeInWorkingCapital:{apiProp:\"changeInWorkingCapital\",label:\"Change in working capital\",roundTo:b,fixed:a},otherWorkingCapital:{apiProp:\"otherWorkingCapital\",label:\"Other working capital\",roundTo:b,fixed:a},otherNonCashItems:{apiProp:\"otherNonCashItems\",label:\"Other non-cash items\",roundTo:b,fixed:a},netCashProvidedByOperatingActivities:{apiProp:\"netCashProvidedByOperatingActivities\",label:\"Net cash provided by operating activities\",roundTo:b,fixed:a},cashAtBeginningOfPeriod:{apiProp:\"cashAtBeginningOfPeriod\",label:\"Cash at beginning of period\",roundTo:b,fixed:a},cashAtEndOfPeriod:{apiProp:\"cashAtEndOfPeriod\",label:\"Cash at end of period\",roundTo:b,fixed:a},operatingCashFlow:{apiProp:\"operatingCashFlow\",label:\"Operating Cash Flow\",roundTo:b,fixed:a},capitalExpenditure:{apiProp:\"capitalExpenditure\",label:\"Capital Expenditure\",roundTo:b,fixed:a},acquisitionsNet:{apiProp:\"acquisitionsNet\",label:\"Acquisitions and disposals\",roundTo:b,fixed:a},purchasesOfInvestments:{apiProp:\"purchasesOfInvestments\",label:\"Investment purchases\",roundTo:b,fixed:a},salesMaturitiesOfInvestments:{apiProp:\"salesMaturitiesOfInvestments\",label:\"Sales\\u002FMaturities of investments\",roundTo:b,fixed:a},debtRepayment:{apiProp:\"debtRepayment\",label:\"Debt repayment\",roundTo:b,fixed:a},netCashUsedForInvestingActivites:{apiProp:\"netCashUsedForInvestingActivites\",label:\"Investing Cash Flow\",roundTo:b,fixed:a},dividendsPaid:{apiProp:\"dividendsPaid\",label:\"Dividend payments\",roundTo:b,fixed:a},netCashUsedProvidedByFinancingActivities:{apiProp:\"netCashUsedProvidedByFinancingActivities\",label:\"Financing Cash Flow\",roundTo:b,fixed:a},effectOfForexChangesOnCash:{apiProp:\"effectOfForexChangesOnCash\",label:\"Effect of forex changes on cash\",roundTo:b,fixed:a},netChangeInCash:{apiProp:\"netChangeInCash\",label:\"Net cash flow \\u002F Change in cash\",roundTo:b,fixed:a},freeCashFlow:{apiProp:\"freeCashFlow\",label:\"Free Cash Flow\",roundTo:b,fixed:a}},data:{},dataQuarter:{},currentRaw:[],current:{symbol:e,data:[]},currentQuarter:{symbol:e,data:[]},cache_tracker:{is_loading:c}},companyProfile:{config:{price:{apiProp:\"price\",label:\"Price\",roundTo:g,fixed:a},beta:{apiProp:\"beta\",label:\"Bela\",roundTo:g,fixed:a},volumeAverage:{apiProp:\"volAvg\",label:\"Volume Avrg\",roundTo:g,fixed:a},marketCap:{apiProp:\"mktCap\",label:\"Market Cap\",roundTo:g,fixed:a},lastDiv:{apiProp:\"lastDiv\",label:\"Last Div\",roundTo:g,fixed:a},range:{apiProp:\"range\",label:\"Range\",roundTo:g,fixed:a},priceChange:{apiProp:\"changes\",label:\"Price Change\",roundTo:g,fixed:a},priceChangePercent:{apiProp:\"changesPercentage\",label:\"Price Change (%)\",roundTo:g,fixed:a},companyName:{apiProp:\"companyName\",label:\"Company Name\",roundTo:g,fixed:a},exchange:{apiProp:\"exchange\",label:\"Exchange\",roundTo:g,fixed:a},industry:{apiProp:\"industry\",label:\"Industry\",roundTo:g,fixed:a},website:{apiProp:\"website\",label:\"Website\",roundTo:g,fixed:a},description:{apiProp:\"description\",label:\"Description\",roundTo:g,fixed:a},ceo:{apiProp:\"ceo\",label:\"CEO\",roundTo:g,fixed:a},sector:{apiProp:\"sector\",label:\"Sector\",roundTo:g,fixed:a},image:{apiProp:\"image\",label:\"Image\",roundTo:g,fixed:a}},current:{symbol:e,data:{}},cache_tracker:{is_loading:c}},companyRating:{config:{rating:{apiProp:\"rating\",label:\"Rating\",roundTo:g,fixed:a},ratingDetails:{apiProp:\"ratingDetails\",label:\"Rating Details\",roundTo:g,fixed:a}},current:{symbol:e,data:{}},cache_tracker:{is_loading:c}},discountedCashFlow:{is_loaded:c,current:{revenue:{dataStart:e,dataEnd:e,startValue:d},ebitda:{dataStart:e,dataEnd:e,startValue:d},depreciationAndAmortization:{dataStart:e,dataEnd:e,startValue:d},cashAndShortTermInvestments:{dataStart:e,dataEnd:e,startValue:d},receivables:{dataStart:e,dataEnd:e,startValue:d},inventories:{dataStart:e,dataEnd:e,startValue:d},accountsPayable:{dataStart:e,dataEnd:e,startValue:d},capitalExpenditure:{dataStart:e,dataEnd:e,startValue:d},operatingCashFlow:{dataStart:e,dataEnd:e,startValue:d},ebit:{dataStart:e,dataEnd:e,startValue:d},freeCashFlow:{dataStart:e,dataEnd:e,startValue:d}},years:[],wacc:{},taxRateAnnual:{},costOfDebt:5,MRP:7.96,TBILL:2.46,longTermGrowthRate:u,deltas:[-4,-3,v,w,d,g,a,3,u],waccValues:[v,-1.5,w,-.5,d,.5,g,1.5,a],dcfDataSet:e,ufcfFinal:e,waccFinal:e,avrgShareOutstandingFinal:e},financialRatios:{data:{},currentRaw:[],current:{symbol:e,data:{}},cache_tracker:{is_loading:c}},incomeStatement:{config:{reportedCurrency:{apiProp:m,label:e,roundTo:b,fixed:a},revenue:{apiProp:\"revenue\",label:\"Revenue\",roundTo:b,fixed:a},costOfRevenue:{apiProp:\"costOfRevenue\",label:\"Cost of Revenue\",roundTo:b,fixed:a},grossProfit:{apiProp:\"grossProfit\",label:\"Gross Profit\",roundTo:b,fixed:a},operatingExpenses:{apiProp:\"operatingExpenses\",label:\"Operating Expenses\",roundTo:b,fixed:a},operatingIncome:{apiProp:x,label:\"Operating Income\",roundTo:b,fixed:a},interestExpense:{apiProp:\"interestExpense\",label:\"Interest Expense\",roundTo:b,fixed:a},incomeTaxExpense:{apiProp:\"incomeTaxExpense\",label:\"Income Tax Expense\",roundTo:b,fixed:a},incomeBeforeTax:{apiProp:\"incomeBeforeTax\",label:\"Earnings before Tax\",roundTo:b,fixed:a},netIncome:{apiProp:\"netIncome\",label:\"Net Income\",roundTo:b,fixed:a},eps:{apiProp:\"eps\",label:\"Earnings Per Share Basic\",roundTo:g,fixed:a},epsdiluted:{apiProp:\"epsdiluted\",label:\"Earnings Per Share Diluted\",roundTo:g,fixed:a},weightedAverageShsOut:{apiProp:\"weightedAverageShsOut\",label:\"Weighted Average Shares Outstanding\",roundTo:b,fixed:a},weightedAverageShsOutDil:{apiProp:\"weightedAverageShsOutDil\",label:\"Weighted Average Shares Outstanding (Diluted)\",roundTo:b,fixed:a},grossProfitRatio:{apiProp:\"grossProfitRatio\",label:\"Gross Margin\",roundTo:g,fixed:a},ebitdaratio:{apiProp:\"ebitdaratio\",label:\"EBIT Margin\",roundTo:g,fixed:a},netIncomeRatio:{apiProp:y,label:\"Profit Margin\",roundTo:g,fixed:a},ebitda:{apiProp:\"ebitda\",label:\"EBITDA\",roundTo:b,fixed:a},ebit:{apiProp:x,label:\"EBIT\",roundTo:b,fixed:a},depreciationAndAmortization:{apiProp:n,label:n,roundTo:b,fixed:a},incomeBeforeTaxRatio:{apiProp:\"incomeBeforeTaxRatio\",label:\"Earnings Before Tax Margin\",roundTo:g,fixed:a},netProfitMargin:{apiProp:y,label:\"Net Profit Margin\",roundTo:g,fixed:a}},data:{},dataQuarter:{},currentRaw:[],current:{symbol:e,data:[]},currentQuarter:{symbol:e,data:[]},cache_tracker:{is_loading:c}},utils:{},v2:{market_info:{stockExchangeName:\"New York Stock Exchange\",stockMarketHours:{openingHour:\"09:30 a.m. ET\",closingHour:\"04:00 p.m. ET\"},stockMarketHolidays:[{year:2019,\"New Years Day\":\"2019-01-01\",\"Martin Luther King, Jr. Day\":\"2019-01-21\",\"Washington's Birthday\":\"2019-02-18\",\"Good Friday\":\"2019-04-19\",\"Memorial Day\":\"2019-05-27\",\"Independence Day\":\"2019-07-04\",\"Labor Day\":\"2019-09-02\",\"Thanksgiving Day\":\"2019-11-28\",Christmas:\"2019-12-25\"},{year:2020,\"New Years Day\":\"2020-01-01\",\"Martin Luther King, Jr. Day\":\"2020-01-20\",\"Washington's Birthday\":\"2020-02-17\",\"Good Friday\":\"2020-04-10\",\"Memorial Day\":\"2020-05-25\",\"Independence Day\":\"2020-07-03\",\"Labor Day\":\"2020-09-07\",\"Thanksgiving Day\":\"2020-11-26\",Christmas:\"2020-12-25\"},{year:2021,\"New Years Day\":\"2021-01-01\",\"Martin Luther King, Jr. Day\":\"2021-01-18\",\"Washington's Birthday\":\"2021-02-15\",\"Good Friday\":\"2021-04-02\",\"Memorial Day\":\"2021-05-31\",\"Independence Day\":\"2021-07-05\",\"Labor Day\":\"2021-09-06\",\"Thanksgiving Day\":\"2021-11-25\",Christmas:\"2021-12-24\"},{year:2022,\"New Years Day\":\"2022-01-01\",\"Martin Luther King, Jr. Day\":\"2022-01-17\",\"Washington's Birthday\":\"2022-02-21\",\"Good Friday\":\"2022-04-15\",\"Memorial Day\":\"2022-05-30\",\"Independence Day\":\"2022-07-04\",\"Labor Day\":\"2022-09-05\",\"Thanksgiving Day\":\"2022-11-24\",Christmas:\"2022-12-26\"}],isTheStockMarketOpen:c,isTheEuronextMarketOpen:l,isTheForexMarketOpen:l,isTheCryptoMarketOpen:l},stock_grades:[],articles:[],company_chart:[],cryptos:[],forex:[],indexes:[{symbol:\"^GSPC\",name:\"S&P 500\",price:4438.26,changesPercentage:1.7063102,change:74.45996,dayLow:z,dayHigh:4439.73,yearHigh:4545.85,yearLow:3233.94,marketCap:f,priceAvg50:4430.258,priceAvg200:4300.8887,volume:1945034000,avgVolume:3027700461,exchange:o,open:z,previousClose:4363.8,eps:f,pe:f,earningsAnnouncement:f,sharesOutstanding:f,timestamp:k},{symbol:\"^DJI\",name:\"Dow Jones Industrial Average\",price:34912.56,changesPercentage:1.5555093,change:534.75,dayLow:A,dayHigh:34923.83,yearHigh:35631.19,yearLow:26143.77,marketCap:f,priceAvg50:34703.24,priceAvg200:34487.137,volume:338537183,avgVolume:296239230,exchange:o,open:A,previousClose:34377.81,eps:f,pe:f,earningsAnnouncement:f,sharesOutstanding:f,timestamp:k},{symbol:\"^IXIC\",name:\"NASDAQ Composite\",price:14823.43,changesPercentage:1.7279799,change:251.79492,dayLow:14699.524,dayHigh:14827.556,yearHigh:15403.44,yearLow:10822.57,marketCap:f,priceAvg50:14898.098,priceAvg200:14335.002,volume:3851041000,avgVolume:4203715538,exchange:o,open:14717.5,previousClose:14571.635,eps:f,pe:f,earningsAnnouncement:f,sharesOutstanding:f,timestamp:k},{symbol:\"BTCUSD\",name:\"Bitcoin USD\",price:59278.85,changesPercentage:3.088644,change:1776.0547,dayLow:56900.945,dayHigh:59886.215,yearHigh:64863.098,yearLow:11223.013,marketCap:1117077372928,priceAvg50:48238.55,priceAvg200:45078.156,volume:40847462400,avgVolume:33595870437,exchange:\"CRYPTO\",open:B,previousClose:B,eps:f,pe:f,earningsAnnouncement:f,sharesOutstanding:18844451,timestamp:k},{symbol:\"EURUSD\",name:\"EUR\\u002FUSD\",price:1.15936,changesPercentage:-.022314,change:-.000259,dayLow:1.15882,dayHigh:1.1619,yearHigh:1.2350253,yearLow:1.1530168,marketCap:f,priceAvg50:1.1723713,priceAvg200:1.189148,volume:d,avgVolume:d,exchange:\"FOREX\",open:C,previousClose:C,eps:f,pe:f,earningsAnnouncement:f,sharesOutstanding:f,timestamp:k},{symbol:\"CLUSD\",name:\"Crude Oil Nov 21\",price:81.957,changesPercentage:.006812,change:.005583,dayLow:81.431,dayHigh:82.349,yearHigh:f,yearLow:f,marketCap:f,priceAvg50:f,priceAvg200:f,volume:77362,avgVolume:380734,exchange:\"COMMODITY\",open:D,previousClose:D,eps:f,pe:f,earningsAnnouncement:f,sharesOutstanding:f,timestamp:k}],indexesDashboard:[],stock_estimates:[],allIndexes:[],sectors:[],search_tickers:[],search_tickers_dashboard:[],search_tickers_quick:[],indexCharts:[],ticker_info:[],ticker_info_quick:[],ticker_info_portfolio:[],ticker_price:e,user_info:{plan:e,key:\"demo\"},ticker_prices_popup:[],popup:c,crypto_info:e,forex_info:e,popup_contest:c,add_coins_popup:c,tickers_summary:[],tickers_summary_active:[],stock_peers:[],user_favorites:[],stock_quotes:[],stock_gainers:[],stock_losers:[],stock_news:[],stock_actives:[],chart_data:[],used_key:c,dividend_data:[],stock_splits:[],ticker_bar:[{symbol:\"AAPL\",price:143.76,beta:\"1.222222\",volAvg:\"78256850\",mktCap:\"2445808500736\",lastDiv:\"0.85\",range:\"107.32-157.26\",changes:2.84999,changesPercentage:\"2.022561\",companyName:\"Apple Inc.\",currency:h,cik:\"0000320193\",isin:\"US0378331005\",cusip:\"037833100\",exchange:i,exchangeShortName:j,industry:\"Consumer Electronics\",website:\"http:\\u002F\\u002Fwww.apple.com\",description:\"Apple Inc. designs, manufactures, and markets smartphones, personal computers, tablets, wearables, and accessories worldwide. It also sells various related services. The company offers iPhone, a line of smartphones; Mac, a line of personal computers; iPad, a line of multi-purpose tablets; and wearables, home, and accessories comprising AirPods, Apple TV, Apple Watch, Beats products, HomePod, iPod touch, and other Apple-branded and third-party accessories. It also provides AppleCare support services; cloud services store services; and operates various platforms, including the App Store, that allow customers to discover and download applications and digital content, such as books, music, video, games, and podcasts. In addition, the company offers various services, such as Apple Arcade, a game subscription service; Apple Music, which offers users a curated listening experience with on-demand radio stations; Apple News+, a subscription news and magazine service; Apple TV+, which offers exclusive original content; Apple Card, a co-branded credit card; and Apple Pay, a cashless payment service, as well as licenses its intellectual property. The company serves consumers, and small and mid-sized businesses; and the education, enterprise, and government markets. It sells and delivers third-party applications for its products through the App Store. The company also sells its products through its retail and online stores, and direct sales force; and third-party cellular network carriers, wholesalers, retailers, and resellers. Apple Inc. was founded in 1977 and is headquartered in Cupertino, California.\",ceo:\"Mr. Timothy Cook\",sector:p,dcfDiff:89.92,dcf:145.929,image:\"https:\\u002F\\u002Ffmpcloud.io\\u002Fimage-stock\\u002FAAPL.png\",defaultImage:c},{symbol:\"FB\",price:328.53,beta:\"1.322222\",volAvg:\"15687929\",mktCap:\"1045843148800\",lastDiv:q,range:\"244.61-384.33\",changes:3.98999,changesPercentage:\"1.2294295\",companyName:\"Facebook, Inc.\",currency:h,cik:\"0001326801\",isin:\"US30303M1027\",cusip:\"30303M102\",exchange:i,exchangeShortName:j,industry:E,website:\"http:\\u002F\\u002Finvestor.fb.com\",description:\"Facebook, Inc. develops products that enable people to connect and share with friends and family through mobile devices, personal computers, virtual reality headsets, and in-home devices worldwide. The company's products include Facebook that enables people to connect, share, discover, and communicate with each other on mobile devices and personal computers; Instagram, a community for sharing photos, videos, and private messages; Messenger, a messaging application for people to connect with friends, family, groups, and businesses across platforms and devices; and WhatsApp, a messaging application that is used by people and businesses to communicate in a private way. It also provides Oculus, a hardware, software, and developer ecosystem, which allows people to come together and connect with each other through its Oculus virtual reality products. Facebook, Inc. was founded in 2004 and is headquartered in Menlo Park, California.\",ceo:\"Mr. Mark Zuckerberg\",sector:r,dcfDiff:542.33,dcf:334.629,image:\"https:\\u002F\\u002Ffmpcloud.io\\u002Fimage-stock\\u002FFB.png\",defaultImage:c},{symbol:\"GOOG\",price:2828.24,beta:\"0.998924\",volAvg:\"1068821\",mktCap:\"1919137087488\",lastDiv:q,range:\"1514.62-2936.41\",changes:70.24,changesPercentage:\"2.5467727\",companyName:\"Alphabet Inc.\",currency:h,cik:\"0001652044\",isin:\"US02079K1079\",cusip:\"02079K107\",exchange:i,exchangeShortName:j,industry:E,website:\"http:\\u002F\\u002Fwww.abc.xyz\",description:\"Alphabet Inc. provides online advertising services in the United States, Europe, the Middle East, Africa, the Asia-Pacific, Canada, and Latin America. It offers performance and brand advertising services. The company operates through Google and Other Bets segments. The Google segment offers products, such as Ads, Android, Chrome, Google Cloud, Google Maps, Google Play, Hardware, Search, and YouTube, as well as technical infrastructure. It also offers digital content, cloud services, hardware devices, and other miscellaneous products and services. The Other Bets segment includes businesses, including Access, Calico, CapitalG, GV, Verily, Waymo, and X, as well as Internet and television services. The company has an agreement with Sabre Corporation to develop an artificial intelligence-driven technology platform for travel. Alphabet Inc. was founded in 1998 and is headquartered in Mountain View, California.\",ceo:\"Mr. Sundar Pichai\",sector:r,dcfDiff:376.88,dcf:2867.11,image:\"https:\\u002F\\u002Ffmpcloud.io\\u002Fimage-stock\\u002FGOOG.png\",defaultImage:c},{symbol:\"MSFT\",price:302.75,beta:\"0.802645\",volAvg:\"22962704\",mktCap:\"2271375523840\",lastDiv:\"2.24\",range:\"199.62-305.84\",changes:6.44,changesPercentage:\"2.1734004\",companyName:\"Microsoft Corporation\",currency:h,cik:\"0000789019\",isin:\"US5949181045\",cusip:\"594918104\",exchange:i,exchangeShortName:j,industry:\"Software—Infrastructure\",website:\"http:\\u002F\\u002Fwww.microsoft.com\",description:\"Microsoft Corporation develops, licenses, and supports software, services, devices, and solutions worldwide. Its Productivity and Business Processes segment offers Office, Exchange, SharePoint, Microsoft Teams, Office 365 Security and Compliance, and Skype for Business, as well as related Client Access Licenses (CAL); Skype, Outlook.com, and OneDrive; LinkedIn that includes Talent, Learning, Sales, and Marketing solutions, as well as premium subscriptions; and Dynamics 365, a set of cloud-based and on-premises business solutions for small and medium businesses, large organizations, and divisions of enterprises. Its Intelligent Cloud segment licenses SQL and Windows Servers, Visual Studio, System Center, and related CALs; GitHub that provides a collaboration platform and code hosting service for developers; and Azure, a cloud platform. It also offers support services and Microsoft consulting services to assist customers in developing, deploying, and managing Microsoft server and desktop solutions; and training and certification to developers and IT professionals on various Microsoft products. Its More Personal Computing segment provides Windows original equipment manufacturer (OEM) licensing and other non-volume licensing of the Windows operating system; Windows Commercial, such as volume licensing of the Windows operating system, Windows cloud services, and other Windows commercial offerings; patent licensing; Windows Internet of Things; and MSN advertising. It also offers Surface, PC accessories, PCs, tablets, gaming and entertainment consoles, and other intelligent devices; Gaming, including Xbox hardware, and Xbox content and services; video games and third-party video game royalties; and Search, including Bing and Microsoft advertising. It sells its products through OEMs, distributors, and resellers; and directly through digital marketplaces, online stores, and retail stores. The company was founded in 1975 and is headquartered in Redmond, Washington.\",ceo:\"Mr. Satya Nadella\",sector:p,dcfDiff:-60.78,dcf:304.294,image:\"https:\\u002F\\u002Ffmpcloud.io\\u002Fimage-stock\\u002FMSFT.png\",defaultImage:c},{symbol:\"NVDA\",price:217.46,beta:\"1.39365\",volAvg:\"27808836\",mktCap:\"549261737984\",lastDiv:\"0.2\",range:\"115.665-230.43\",changes:8.07001,changesPercentage:\"3.8540556\",companyName:\"NVIDIA Corporation\",currency:h,cik:\"0001045810\",isin:\"US67066G1040\",cusip:\"67066G104\",exchange:i,exchangeShortName:j,industry:\"Semiconductors\",website:\"http:\\u002F\\u002Fwww.nvidia.com\",description:\"NVIDIA Corporation operates as a visual computing company worldwide. It operates in two segments, GPU and Tegra Processor. The GPU segment offers processors, which include GeForce for PC gaming and mainstream PCs; GeForce NOW for cloud-based gaming; Quadro for design professionals working in computer-aided design, video editing, special effects, and other creative applications; Tesla for artificial intelligence (AI) utilizing deep learning, accelerated computing, and general purpose computing; GRID, which provides power of NVIDIA graphics through the cloud and datacenters; DGX for AI scientists, researchers, and developers; and EGX for accelerated AI computing at the edge. The Tegra Processor segment provides processors comprising SHIELD devices and services designed to harness the power of mobile-cloud to revolutionize home entertainment, AI, and gaming; AGX, a power-efficient AI computing platform for intelligent edge devices; DRIVE AGX for self-driving vehicles; Clara AGX for medical instruments; and Jetson AGX for robotics and other embedded use. The company's products are used in gaming, professional visualization, datacenter, and automotive markets. NVIDIA Corporation sells its products to original equipment manufacturers, original device manufacturers, system builders, add-in board manufacturers, retailers\\u002Fdistributors, Internet and cloud service providers, automotive manufacturers and tier-1 automotive suppliers, mapping companies, start-ups, and other ecosystem participants. NVIDIA Corporation was founded in 1993 and is headquartered in Santa Clara, California.\",ceo:\"Mr. Jen-Hsun Huang\",sector:p,dcfDiff:-95.03,dcf:217.797,image:\"https:\\u002F\\u002Ffmpcloud.io\\u002Fimage-stock\\u002FNVDA.png\",defaultImage:c},{symbol:\"WBA\",price:50.77,beta:\"0.503174\",volAvg:\"5394061\",mktCap:\"42946605056\",lastDiv:\"1.881\",range:\"33.36-57.05\",changes:3.51,changesPercentage:\"7.427005\",companyName:\"Walgreens Boots Alliance, Inc.\",currency:h,cik:\"0001618921\",isin:\"US9314271084\",cusip:\"931427108\",exchange:i,exchangeShortName:j,industry:\"Pharmaceutical Retailers\",website:\"http:\\u002F\\u002Fwww.walgreensbootsalliance.com\",description:\"Walgreens Boots Alliance, Inc. operates as a pharmacy-led health and beauty retail company. It operates through three segments: Retail Pharmacy USA, Retail Pharmacy International, and Pharmaceutical Wholesale. The Retail Pharmacy USA segment sells prescription drugs and an assortment of retail products, including health, wellness, beauty, personal care, consumable, and general merchandise products through its retail drugstores. It also provides specialty pharmacy services and mail services. As of August 31, 2020, this segment operated 9,021 retail stores under the Walgreens and Duane Reade brands in the United States; and six specialty pharmacies. The Retail Pharmacy International segment sells prescription drugs; and health and wellness, beauty, personal care, and other consumer products through its pharmacy-led health and beauty stores and optical practices, as well as through boots.com and an integrated mobile application. This segment operated 4,428 retail stores under the Boots, Benavides, and Ahumada in the United Kingdom, Thailand, Norway, the Republic of Ireland, the Netherlands, Mexico, and Chile; and 550 optical practices, including 165 on a franchise basis. The Pharmaceutical Wholesale segment engages in the wholesale and distribution of specialty and generic pharmaceuticals, health and beauty products, and home healthcare supplies and equipment, as well as provides related services to pharmacies and other healthcare providers. This segment operates in the United Kingdom, Germany, France, Turkey, Spain, the Netherlands, Egypt, Norway, Romania, the Czech Republic, and Lithuania. Walgreens Boots Alliance, Inc. was founded in 1901 and is based in Deerfield, Illinois.\",ceo:\"Mr. Stefano Pessina\",sector:\"Healthcare\",dcfDiff:-67.48,dcf:51.3651,image:\"https:\\u002F\\u002Ffmpcloud.io\\u002Fimage-stock\\u002FWBA.png\",defaultImage:c},{symbol:\"ZNGA\",price:7.53,beta:\"0.115343\",volAvg:\"21721986\",mktCap:\"8751499264\",lastDiv:q,range:\"7.14-12.32\",changes:.1,changesPercentage:\"1.3459002\",companyName:\"Zynga Inc.\",currency:h,cik:\"0001439404\",isin:\"US98986T1088\",cusip:\"98986T108\",exchange:i,exchangeShortName:j,industry:\"Electronic Gaming & Multimedia\",website:\"http:\\u002F\\u002Fwww.zynga.com\",description:\"Zynga Inc. develops, markets, and operates social games as live services in the United States and internationally. The company's games are played on mobile platforms, such as Apple iOS and Google's Android operating systems, as well as on social networking sites, such as Facebook and Snapchat. It also provides advertising services comprising mobile advertisements, engagement advertisements and offers, and branded virtual items and sponsorships to advertising networks, agencies, and brokers; and licenses its own brands. The company was formerly known as Zynga Game Network Inc. and changed its name to Zynga Inc. in November 2010. Zynga Inc. was founded in 2007 and is headquartered in San Francisco, California.\",ceo:\"Mr. Frank Gibeau\",sector:r,dcfDiff:-8.25,dcf:8.87291,image:\"https:\\u002F\\u002Ffmpcloud.io\\u002Fimage-stock\\u002FZNGA.png\",defaultImage:c}],dcf_info:[],stock_next_estimates:[],stock_target:[],performance_score:d,cache_tracker:{company_chart:{time:d,is_loading:c},stock_target:{time:d,is_loading:c},stock_next_estimates:{time:d,is_loading:c},market_info:{time:1634302648160,is_loading:c},stock_grades:{time:d,is_loading:c},articles:{time:d,is_loading:c},cryptos:{time:d,is_loading:c},forex:{time:d,is_loading:c},stock_estimates:{time:d,is_loading:c},indexes:{time:1634302648179,is_loading:c},indexesDashboard:{time:d,is_loading:c},allIndexes:{time:d,is_loading:c},charts:{time:d,is_loading:c},indexCharts:{time:d,is_loading:c},sectors:{time:d,is_loading:c},search_tickers:{time:d,is_loading:c},search_tickers_dashboard:{time:d,is_loading:c},search_tickers_quick:{time:d,is_loading:c},ticker_info:{time:d,is_loading:c},ticker_info_quick:{time:d,is_loading:c},ticker_info_portfolio:{time:d,is_loading:c},ticker_prices_popup:{time:d,is_loading:c},tickers_summary:{time:d,is_loading:c},tickers_summary_active:{time:d,is_loading:c},stock_quotes:{time:d,is_loading:c},user_favorites:{time:d,is_loading:c},stock_peers:{time:d,is_loading:c},stock_gainers:{time:d,is_loading:c},stock_losers:{time:d,is_loading:c},stock_news:{time:d,is_loading:c},stock_actives:{time:d,is_loading:c},chart_data:{time:d,is_loading:c},ticker_bar:{time:1634302648162,is_loading:c},dcf_info:{time:d,is_loading:c},dividend_data:{time:d,is_loading:c},stock_splits:{time:d,is_loading:c}}}},serverRendered:l,routePath:s,config:{_app:{basePath:F,assetsPath:F,cdnURL:\"https:\\u002F\\u002Fd14ccuzudddlhp.cloudfront.net\\u002F_nuxt\\u002F\"}}}}(2,1000,false,0,\"\",null,1,\"USD\",\"Nasdaq Global Select\",\"NASDAQ\",1634302648,true,\"reportedCurrency\",\"depreciationAndAmortization\",\"INDEX\",\"Technology\",\"0\",\"Communication Services\",\"\\u002Fapi\\u002Fcompany\\u002Fprice\\u002FAAPL\",\"inventory\",4,-2,-1,\"operatingIncome\",\"netIncomeRatio\",4386.75,34443.22,57265.758,1.15966,81.502,\"Internet Content & Information\",\"\\u002F\"));</script><script src=\"https://d14ccuzudddlhp.cloudfront.net/_nuxt/ebb3ec4.js\" defer></script><script src=\"https://d14ccuzudddlhp.cloudfront.net/_nuxt/aa833b4.js\" defer></script><script src=\"https://d14ccuzudddlhp.cloudfront.net/_nuxt/f7a5752.js\" defer></script><script src=\"https://d14ccuzudddlhp.cloudfront.net/_nuxt/cbb8f8b.js\" defer></script></body></html>\n",
            "404\n"
          ]
        }
      ]
    },
    {
      "cell_type": "code",
      "metadata": {
        "colab": {
          "base_uri": "https://localhost:8080/"
        },
        "id": "2zzvtlF8_ndj",
        "outputId": "667f07dd-4fae-4154-f1dd-c49edec96135"
      },
      "source": [
        "import json\n",
        "\n",
        "data = '{\"var1\":\"harry\", \"var2\":56}'\n",
        "print(data)\n",
        "\n",
        "parsed = json.loads(data)\n",
        "print(parsed)\n",
        "print(parsed['var1'])\n",
        "print(type(parsed))\n",
        "\n",
        "#Task 1 - json.load?\n",
        "\n",
        "data2 = {\n",
        "    \"channel_name\": \"CodeWithHarry\",\n",
        "    \"cars\": ['bmw', 'audi a8', 'ferrari'],\n",
        "    \"fridge\": ('roti', 540),\n",
        "    \"isbad\": False\n",
        "}\n",
        "\n",
        "jscomp = json.dumps(data2)\n",
        "print(jscomp)\n",
        "\n",
        "# Task 2 = what is sort_keys parameter in dumps\n"
      ],
      "execution_count": null,
      "outputs": [
        {
          "output_type": "stream",
          "name": "stdout",
          "text": [
            "{\"var1\":\"harry\", \"var2\":56}\n",
            "{'var1': 'harry', 'var2': 56}\n",
            "harry\n",
            "<class 'dict'>\n",
            "{\"channel_name\": \"CodeWithHarry\", \"cars\": [\"bmw\", \"audi a8\", \"ferrari\"], \"fridge\": [\"roti\", 540], \"isbad\": false}\n"
          ]
        }
      ]
    },
    {
      "cell_type": "markdown",
      "metadata": {
        "id": "GYlRMwDiIPrr"
      },
      "source": [
        "##pickle module"
      ]
    },
    {
      "cell_type": "code",
      "metadata": {
        "id": "UtzZYOBcHmUN"
      },
      "source": [
        "import pickle\n",
        "\n",
        "# Pickling a python object\n",
        "# cars = [\"Audi\", \"BMW\", \"Maruti Suzuki\", \"Harryti Tuzuki\"]\n",
        "# file = \"mycar.pkl\"\n",
        "# fileobj = open(file, 'wb')\n",
        "# pickle.dump(cars, fileobj)\n",
        "# fileobj.close()\n",
        "\n",
        "file = \"mycar.pkl\"\n",
        "fileobj = open(file, 'rb')\n",
        "mycar = pickle.load(fileobj)\n",
        "print(mycar)\n",
        "print(type(mycar))\n",
        "\n",
        "\n",
        "# pickle.loads = ?\n",
        "\n",
        "\n",
        "\n",
        "\n"
      ],
      "execution_count": null,
      "outputs": []
    }
  ]
}