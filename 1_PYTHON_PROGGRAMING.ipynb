{
  "nbformat": 4,
  "nbformat_minor": 0,
  "metadata": {
    "colab": {
      "name": "1 PYTHON PROGGRAMING.ipynb",
      "provenance": [],
      "authorship_tag": "ABX9TyOhwlbRzFEEb2auKueK3iJt",
      "include_colab_link": true
    },
    "kernelspec": {
      "display_name": "Python 3",
      "name": "python3"
    },
    "language_info": {
      "name": "python"
    },
    "accelerator": "GPU"
  },
  "cells": [
    {
      "cell_type": "markdown",
      "metadata": {
        "id": "view-in-github",
        "colab_type": "text"
      },
      "source": [
        "<a href=\"https://colab.research.google.com/github/shubhankardey1999/PROGRAMMING/blob/main/1_PYTHON_PROGGRAMING.ipynb\" target=\"_parent\"><img src=\"https://colab.research.google.com/assets/colab-badge.svg\" alt=\"Open In Colab\"/></a>"
      ]
    },
    {
      "cell_type": "markdown",
      "metadata": {
        "id": "GwUz2FI1uZWF"
      },
      "source": [
        "## REMOVAL LINE (SINGLE LINE - '#' AND MULTIPLE LINE - \"\"\" \"\"\" )"
      ]
    },
    {
      "cell_type": "code",
      "metadata": {
        "colab": {
          "base_uri": "https://localhost:8080/"
        },
        "id": "2DCBV2lbLOUc",
        "outputId": "b4faac46-e37f-443a-e70e-b3861147d329"
      },
      "source": [
        "#Please dont remove this line\n",
        "\"\"\"\n",
        "This is a\n",
        "Multiline Comment\n",
        "\"\"\"\n",
        "\"\"\"\n",
        "This is a comment\n",
        "\"\"\"\n",
        "print (\"Subscribe CodeWithHarry now\") "
      ],
      "execution_count": null,
      "outputs": [
        {
          "name": "stdout",
          "output_type": "stream",
          "text": [
            "Subscribe CodeWithHarry now\n"
          ]
        }
      ]
    },
    {
      "cell_type": "markdown",
      "metadata": {
        "id": "AOWvqRRNMf_M"
      },
      "source": [
        "##ONLY PRINT"
      ]
    },
    {
      "cell_type": "code",
      "metadata": {
        "colab": {
          "base_uri": "https://localhost:8080/"
        },
        "id": "uDT8YfQXMXlj",
        "outputId": "97780678-90a0-46fc-f9bd-db08c65932eb"
      },
      "source": [
        "print (\"Subscribe CodeWithHarry now\") \n",
        "print (\"Bhai video bhi like kar dena\")"
      ],
      "execution_count": null,
      "outputs": [
        {
          "name": "stdout",
          "output_type": "stream",
          "text": [
            "Subscribe CodeWithHarry now\n",
            "Bhai video bhi like kar dena\n"
          ]
        }
      ]
    },
    {
      "cell_type": "markdown",
      "metadata": {
        "id": "BKTU7oB5N3bK"
      },
      "source": [
        "##PRINT A SINGLE LINE...........  HERE \" , \" = SPACE"
      ]
    },
    {
      "cell_type": "code",
      "metadata": {
        "colab": {
          "base_uri": "https://localhost:8080/"
        },
        "id": "S9MFcWNkMX6q",
        "outputId": "b0dc7730-cc25-4fb3-d7f9-b1cb842b08df"
      },
      "source": [
        "print (\"Subscribe CodeWithHarry now\", end=\"\") \n",
        "print (\"Bhai video bhi like kar dena\")\n",
        "\n",
        "print (\"Subscribe CodeWithHarry now\", end=\"JOKER\") \n",
        "print (\"Bhai video bhi like kar dena\")\n",
        "\n",
        "print (\"Subscribe CodeWithHarry now\", end=\" \") \n",
        "print (\"Bhai video bhi like kar dena\")\n",
        "\n",
        "print (\"Subscribe CodeWithHarry now\",\"Bhai video bhi like kar dena\")\n",
        " \n",
        "print (\"Subscribe CodeWithHarry now\",\"Bhai video bhi like kar dena\",end=\"\") \n"
      ],
      "execution_count": null,
      "outputs": [
        {
          "name": "stdout",
          "output_type": "stream",
          "text": [
            "Subscribe CodeWithHarry nowBhai video bhi like kar dena\n",
            "Subscribe CodeWithHarry nowJOKERBhai video bhi like kar dena\n",
            "Subscribe CodeWithHarry now Bhai video bhi like kar dena\n",
            "Subscribe CodeWithHarry now Bhai video bhi like kar dena\n",
            "Subscribe CodeWithHarry now Bhai video bhi like kar dena"
          ]
        }
      ]
    },
    {
      "cell_type": "markdown",
      "metadata": {
        "id": "GDJaDkzzN6uI"
      },
      "source": [
        "##ESCAPE SEQUENCE CHARACTERS      \\"
      ]
    },
    {
      "cell_type": "code",
      "metadata": {
        "colab": {
          "base_uri": "https://localhost:8080/"
        },
        "id": "SH80BlkMUg8k",
        "outputId": "633f016a-7c3e-4422-a75b-177d966d637c"
      },
      "source": [
        "print(\"C: \\\\harry\")\n",
        "print(\"C: \\\"harry\")\n",
        "print(\"C: \\,harry\")\n",
        "\n",
        "print(\"HARRY IS A \\n GOOD BOY \\t1\")"
      ],
      "execution_count": null,
      "outputs": [
        {
          "output_type": "stream",
          "name": "stdout",
          "text": [
            "C: \\harry\n",
            "C: \"harry\n",
            "C: \\,harry\n",
            "HARRY IS A \n",
            " GOOD BOY \t1\n"
          ]
        }
      ]
    },
    {
      "cell_type": "markdown",
      "metadata": {
        "id": "vBzX7pWlUj0r"
      },
      "source": [
        "##VARIABLE AND DATA TYPE"
      ]
    },
    {
      "cell_type": "code",
      "metadata": {
        "colab": {
          "base_uri": "https://localhost:8080/"
        },
        "id": "12q_UhQbYE3T",
        "outputId": "4599686a-6e44-4526-f044-a6b732dd32bf"
      },
      "source": [
        "var1=\"HELLO WORLD\"\n",
        "print(var1)\n",
        "\n",
        "var1=\"HELLO WORLD\"  #string = \" \"\n",
        "var2= 10\n",
        "var3= 56.31\n",
        "print(type(var1))\n",
        "print(type(var2))\n",
        "print(type(var3))\n",
        "\n",
        "print(var3 + var2)"
      ],
      "execution_count": null,
      "outputs": [
        {
          "name": "stdout",
          "output_type": "stream",
          "text": [
            "HELLO WORLD\n",
            "<class 'str'>\n",
            "<class 'int'>\n",
            "<class 'float'>\n",
            "66.31\n"
          ]
        }
      ]
    },
    {
      "cell_type": "markdown",
      "metadata": {
        "id": "8TotLpCtY8vH"
      },
      "source": [
        "##TYPE CASTING"
      ]
    },
    {
      "cell_type": "code",
      "metadata": {
        "colab": {
          "base_uri": "https://localhost:8080/"
        },
        "id": "XIIUO9iwYE_q",
        "outputId": "582db2be-693f-4c23-8e36-cba00c67385a"
      },
      "source": [
        "var1=\"30\"\n",
        "var4=\"50\"  #string = \" \"\n",
        "var2= 10\n",
        "var3= 56.31\n",
        "print(var1 + var4)\n",
        "print(int(var1) + int(var4))\n",
        "\n",
        "print(5*\"shubhankar\")\n",
        "print(5*\"shubhankar\\n\")\n",
        "\n",
        "print(5*int(var1) + int(var4))\n",
        "print(5*str(int(var1) + int(var4)))\n",
        "\n"
      ],
      "execution_count": null,
      "outputs": [
        {
          "output_type": "stream",
          "name": "stdout",
          "text": [
            "3050\n",
            "80\n",
            "shubhankarshubhankarshubhankarshubhankarshubhankar\n",
            "shubhankar\n",
            "shubhankar\n",
            "shubhankar\n",
            "shubhankar\n",
            "shubhankar\n",
            "\n",
            "200\n",
            "8080808080\n"
          ]
        }
      ]
    },
    {
      "cell_type": "markdown",
      "metadata": {
        "id": "WGGgPc50bOKk"
      },
      "source": [
        "##USER DEFINE"
      ]
    },
    {
      "cell_type": "code",
      "metadata": {
        "colab": {
          "base_uri": "https://localhost:8080/"
        },
        "id": "rYfx2k2gYFFU",
        "outputId": "c2db7ed5-3465-431f-a850-4773ee0a0690"
      },
      "source": [
        "print(\"ENTER YOUR NAME \")\n",
        "inpnum = input()\n",
        "print(\"YOUR NAME IS\",inpnum)\n",
        "\n",
        "print(\"ENTER YOUR NUMBER \")\n",
        "inpnum = input()\n",
        "print(\"YOUR NUMBER IS\",int(inpnum)+10)"
      ],
      "execution_count": null,
      "outputs": [
        {
          "name": "stdout",
          "output_type": "stream",
          "text": [
            "ENTER YOUR NAME \n",
            "shubhankar\n",
            "YOUR NAME IS shubhankar\n",
            "ENTER YOUR NUMBER \n",
            "100\n",
            "YOUR NUMBER IS 110\n"
          ]
        }
      ]
    },
    {
      "cell_type": "markdown",
      "metadata": {
        "id": "8vEYFU1XfUJ8"
      },
      "source": [
        "##String Slicing"
      ]
    },
    {
      "cell_type": "code",
      "metadata": {
        "colab": {
          "base_uri": "https://localhost:8080/"
        },
        "id": "7LKs58-kYFH_",
        "outputId": "43facf69-746a-4274-d4fc-eb15da391bf3"
      },
      "source": [
        "mystr=\"my name is shubhankar\"\n",
        "print(mystr[1])     #[n], here n is 0,1,2,3,4,5...\n",
        "print(mystr[0:5])   #[a:b+1] here a is a lower term and b is a upper term. a is including bt b excluding.\n",
        "print(mystr[:])     #a is blank then 0. b is blank then b=full length. for negetive value its count backword\n",
        "print(len(mystr))   #length of the string\n",
        "print(mystr[0:21])\n",
        "print(mystr[0:21:2])  # :2 means jump . if it is blank then its automatic 1.\n",
        "print(mystr[::-1])    # negetive means it is reverse."
      ],
      "execution_count": null,
      "outputs": [
        {
          "name": "stdout",
          "output_type": "stream",
          "text": [
            "y\n",
            "my na\n",
            "my name is shubhankar\n",
            "21\n",
            "my name is shubhankar\n",
            "m aei hbakr\n",
            "raknahbuhs si eman ym\n"
          ]
        }
      ]
    },
    {
      "cell_type": "markdown",
      "metadata": {
        "id": "Ku_CgvTCF0UT"
      },
      "source": [
        "##SOME OTHER FUNCTIONS"
      ]
    },
    {
      "cell_type": "code",
      "metadata": {
        "colab": {
          "base_uri": "https://localhost:8080/"
        },
        "id": "lqoHP7onYFMb",
        "outputId": "ed109cb5-d826-4b62-a2cf-df010aa0a3f6"
      },
      "source": [
        "mystr=\"shubhankar is a Good boy\"\n",
        "print(mystr.isalnum())      # boolean characters. there is a space so it is false.\n",
        "print(mystr.isalpha())\n",
        "print(mystr.endswith(\"boy\"))\n",
        "print(mystr.count(\"a\"))\n",
        "print(mystr.capitalize())\n",
        "print(mystr.find(\"is\"))\n",
        "print(mystr.lower())\n",
        "print(mystr.upper())\n",
        "print(mystr.replace(\"Good\",\"bad\"))"
      ],
      "execution_count": null,
      "outputs": [
        {
          "output_type": "stream",
          "name": "stdout",
          "text": [
            "False\n",
            "False\n",
            "True\n",
            "3\n",
            "Shubhankar is a good boy\n",
            "11\n",
            "shubhankar is a good boy\n",
            "SHUBHANKAR IS A GOOD BOY\n",
            "shubhankar is a bad boy\n"
          ]
        }
      ]
    },
    {
      "cell_type": "markdown",
      "metadata": {
        "id": "1nByrLCvL0q3"
      },
      "source": [
        "##PYTHON LIST AND LIST FUNCTION"
      ]
    },
    {
      "cell_type": "code",
      "metadata": {
        "colab": {
          "base_uri": "https://localhost:8080/"
        },
        "id": "khY6J7fpYFVM",
        "outputId": "ff5b7ff7-bfca-4622-8479-5f9f340d351b"
      },
      "source": [
        "grocery=[\"Muri\",\"Chire\",\"honey,\",\"Masala\",56]\n",
        "print(grocery)\n",
        "print(grocery[4])\n",
        "\n",
        "numbers=[6,3,7,2,9,1]\n",
        "numbers.sort()\n",
        "print(numbers)\n",
        "numbers.reverse()\n",
        "print(numbers)\n",
        "print(numbers[::-2])\n",
        "print(max(numbers))       #max/min\n",
        "\n",
        "numbers=[6,3,7,2,9,1]\n",
        "numbers.append(100)       #append= adding last\n",
        "print(numbers)\n",
        "\n",
        "numbers=[6,3,7,2,9,1]\n",
        "numbers.insert(0,200)       #insert(a,b)= adding b at a position \n",
        "print(numbers)\n",
        "\n",
        "#numbers=[6,3,7,2,9,1]\n",
        "numbers.remove(9)           #remove element\n",
        "print(numbers)\n",
        "\n",
        "#numbers=[6,3,7,2,9,1]\n",
        "numbers.pop(2)           #remove position.\n",
        "print(numbers)\n"
      ],
      "execution_count": null,
      "outputs": [
        {
          "name": "stdout",
          "output_type": "stream",
          "text": [
            "['Muri', 'Chire', 'honey,', 'Masala', 56]\n",
            "56\n",
            "[1, 2, 3, 6, 7, 9]\n",
            "[9, 7, 6, 3, 2, 1]\n",
            "[1, 3, 7]\n",
            "9\n",
            "[6, 3, 7, 2, 9, 1, 100]\n",
            "[200, 6, 3, 7, 2, 9, 1]\n",
            "[200, 6, 3, 7, 2, 1]\n",
            "[200, 6, 7, 2, 1]\n"
          ]
        }
      ]
    },
    {
      "cell_type": "code",
      "metadata": {
        "colab": {
          "base_uri": "https://localhost:8080/"
        },
        "id": "Z2emJ4tLYFZD",
        "outputId": "6c189146-d00e-4a28-eac9-c0f1ef5031b0"
      },
      "source": [
        "numbers=[6,3,7,2,9,1]\n",
        "numbers[2]=100\n",
        "print(numbers)\n",
        "#numbers.insert(2,100)       #insert(a,b)= adding b at a position \n",
        "print(numbers)"
      ],
      "execution_count": null,
      "outputs": [
        {
          "name": "stdout",
          "output_type": "stream",
          "text": [
            "[6, 3, 100, 2, 9, 1]\n",
            "[6, 3, 100, 2, 9, 1]\n"
          ]
        }
      ]
    },
    {
      "cell_type": "markdown",
      "metadata": {
        "id": "TVKvwsFSzqNS"
      },
      "source": [
        "## TUPPLE FUNCTION\n",
        "It's define ( )"
      ]
    },
    {
      "cell_type": "code",
      "metadata": {
        "colab": {
          "base_uri": "https://localhost:8080/"
        },
        "id": "olSl-80QYFbp",
        "outputId": "00ac98cd-0616-4069-fdc0-d2da34b30841"
      },
      "source": [
        "# mutable - can change\n",
        "# immutable - can not change \n",
        "tp = (1,2,3,4,5)              #tupple cannot change\n",
        "print(tp)                     #its showing  ()\n",
        "tp = (1)                      #no paranthesis cz single value with no comma\n",
        "print(tp) \n",
        "tp = (1,)\n",
        "print(tp) \n",
        "\n",
        "a=1\n",
        "b=8\n",
        "\"\"\" temp=a\n",
        "    a=b\n",
        "    b=temp\n",
        "    print(a,b) \"\"\"\n",
        "a,b=b,a\n",
        "print(a,b)          # in python"
      ],
      "execution_count": null,
      "outputs": [
        {
          "name": "stdout",
          "output_type": "stream",
          "text": [
            "(1, 2, 3, 4, 5)\n",
            "1\n",
            "(1,)\n",
            "8 1\n"
          ]
        }
      ]
    },
    {
      "cell_type": "markdown",
      "metadata": {
        "id": "-Sipcun-wVdC"
      },
      "source": [
        "##DICTIONARY FUNCTION\n",
        "dictionary is nothing but key value pairs. it's define { }"
      ]
    },
    {
      "cell_type": "code",
      "metadata": {
        "colab": {
          "base_uri": "https://localhost:8080/"
        },
        "id": "KyIg60jQYFgN",
        "outputId": "a2227e0b-f4fb-4eea-e26a-836e941a60cd"
      },
      "source": [
        "d1={}\n",
        "print(type(d1))\n",
        "\n",
        "d2={\"shubhankar\":\"mutton\",\"swarnali\":\"chicken\",\"anjali\":\"egg\",\"keshab\":\"fish\"}\n",
        "print(d2)\n",
        "print(d2[\"swarnali\"])                    #print a simple dictionary\n",
        "print(d2.get(\"swarnali\"))                # both are correct\n",
        "\n",
        "d2={\"shubhankar\":\"mutton\",\"swarnali\":\"chicken\",\"anjali\":\"egg\",\"keshab\":\"fish\",\"guddu\":{\"B\":\"bread\",\"L\":\"rice\",\"D\":\"ruti\"}}\n",
        "print(d2)\n",
        "print(d2[\"guddu\"])\n",
        "print(d2[\"guddu\"][\"B\"])             #dictionary under a dictionary\n",
        "\n",
        "d2[\"sagar\"]=\"junk food\"             # add dictionary\n",
        "d2[\"piyali\"]=\"street food\"\n",
        "print(d2)\n",
        "\n",
        "d2.update({\"maa\":\"abc\"})            # add dictionary\n",
        "print(d2)\n",
        "\n",
        "del d2[\"sagar\"]                     # remove from d2\n",
        "print(d2)\n",
        "\n",
        "d3=d2                             \n",
        "del d3[\"piyali\"]                    #del from direct d2\n",
        "print(d2)\n",
        "\n",
        "d3=d2.copy()                       #copy d2 in d3\n",
        "del d3[\"keshab\"]                   #del from d3 not d2\n",
        "print(d3)\n",
        "\n",
        "print(d2.keys())\n",
        "print(d2.items())"
      ],
      "execution_count": null,
      "outputs": [
        {
          "name": "stdout",
          "output_type": "stream",
          "text": [
            "<class 'dict'>\n",
            "{'shubhankar': 'mutton', 'swarnali': 'chicken', 'anjali': 'egg', 'keshab': 'fish'}\n",
            "chicken\n",
            "chicken\n",
            "{'shubhankar': 'mutton', 'swarnali': 'chicken', 'anjali': 'egg', 'keshab': 'fish', 'guddu': {'B': 'bread', 'L': 'rice', 'D': 'ruti'}}\n",
            "{'B': 'bread', 'L': 'rice', 'D': 'ruti'}\n",
            "bread\n",
            "{'shubhankar': 'mutton', 'swarnali': 'chicken', 'anjali': 'egg', 'keshab': 'fish', 'guddu': {'B': 'bread', 'L': 'rice', 'D': 'ruti'}, 'sagar': 'junk food', 'piyali': 'street food'}\n",
            "{'shubhankar': 'mutton', 'swarnali': 'chicken', 'anjali': 'egg', 'keshab': 'fish', 'guddu': {'B': 'bread', 'L': 'rice', 'D': 'ruti'}, 'sagar': 'junk food', 'piyali': 'street food', 'maa': 'abc'}\n",
            "{'shubhankar': 'mutton', 'swarnali': 'chicken', 'anjali': 'egg', 'keshab': 'fish', 'guddu': {'B': 'bread', 'L': 'rice', 'D': 'ruti'}, 'piyali': 'street food', 'maa': 'abc'}\n",
            "{'shubhankar': 'mutton', 'swarnali': 'chicken', 'anjali': 'egg', 'keshab': 'fish', 'guddu': {'B': 'bread', 'L': 'rice', 'D': 'ruti'}, 'maa': 'abc'}\n",
            "{'shubhankar': 'mutton', 'swarnali': 'chicken', 'anjali': 'egg', 'guddu': {'B': 'bread', 'L': 'rice', 'D': 'ruti'}, 'maa': 'abc'}\n",
            "dict_keys(['shubhankar', 'swarnali', 'anjali', 'keshab', 'guddu', 'maa'])\n",
            "dict_items([('shubhankar', 'mutton'), ('swarnali', 'chicken'), ('anjali', 'egg'), ('keshab', 'fish'), ('guddu', {'B': 'bread', 'L': 'rice', 'D': 'ruti'}), ('maa', 'abc')])\n"
          ]
        }
      ]
    },
    {
      "cell_type": "markdown",
      "metadata": {
        "id": "g8k93dMoyXHG"
      },
      "source": [
        "##SETS IN PYTHON"
      ]
    },
    {
      "cell_type": "code",
      "metadata": {
        "colab": {
          "base_uri": "https://localhost:8080/"
        },
        "id": "tOdsxn18BZL9",
        "outputId": "2387e595-6283-4959-e459-9d570122d458"
      },
      "source": [
        "s=set()\n",
        "print(type(s))\n",
        "\n",
        "#s=set([1,2,3,4,5])\n",
        "print(s)\n",
        "\n",
        "s.add(6)      # add value\n",
        "s.add(6)      # print one 6\n",
        "s.add(7)\n",
        "#print(s)\n",
        "\n",
        "s.union({7,8})     \n",
        "print(s)\n",
        "\n",
        "s1=s.union({7,8}) \n",
        "print(s,s1)\n",
        "\n",
        "s2=s.intersection({7,8}) \n",
        "print(s,s2)\n",
        "\n",
        "print(len(s))\n",
        "print(max(s))\n",
        "\n",
        "s3={11,12}\n",
        "print(s.isdisjoint(s3))\n",
        "\n",
        "s3.remove(11)\n",
        "print(s3)"
      ],
      "execution_count": null,
      "outputs": [
        {
          "name": "stdout",
          "output_type": "stream",
          "text": [
            "<class 'set'>\n",
            "set()\n",
            "{6, 7}\n",
            "{6, 7} {8, 6, 7}\n",
            "{6, 7} {7}\n",
            "2\n",
            "7\n",
            "True\n",
            "{12}\n"
          ]
        }
      ]
    },
    {
      "cell_type": "markdown",
      "metadata": {
        "id": "bIKZpp1XyWCa"
      },
      "source": [
        "##IF ELSE & ELIF CONDITIONS"
      ]
    },
    {
      "cell_type": "code",
      "metadata": {
        "colab": {
          "base_uri": "https://localhost:8080/"
        },
        "id": "pvJ-_4V-6A3z",
        "outputId": "03965053-7683-40a6-9d7d-3fcf5ffe5e45"
      },
      "source": [
        "varl = 6\n",
        "var2 = 56\n",
        "var3= int(input ())\n",
        "if var3>var2:\n",
        "  print (\"Greater\")\n",
        "elif var3==var2: \n",
        "  print (\"Equal\")\n",
        "else:\n",
        "  print (\"Lesser\")\n",
        "\n",
        "list1=[5,6,7]\n",
        "print(5 in list1)\n",
        "if 5 in list1:\n",
        "  print(\"yes,its in the list\")\n",
        "\n",
        "list1=[5,6,7]\n",
        "print(3 not in list1)\n",
        "if 8 not in list1:\n",
        "  print(\"not ,its not in the list\")\n",
        "\n",
        "a=10                          #SHORT HAND IF ELSE NOTATION\n",
        "b=20\n",
        "print(\"a>b\") if a>b else print(\"b>a\")\n",
        "\n"
      ],
      "execution_count": null,
      "outputs": [
        {
          "output_type": "stream",
          "name": "stdout",
          "text": [
            "10\n",
            "Lesser\n",
            "True\n",
            "yes,its in the list\n",
            "True\n",
            "not ,its not in the list\n",
            "b>a\n"
          ]
        }
      ]
    },
    {
      "cell_type": "markdown",
      "metadata": {
        "id": "Hl69LIxmme70"
      },
      "source": [
        "##FOR LOOP IN PYTHON"
      ]
    },
    {
      "cell_type": "code",
      "metadata": {
        "colab": {
          "base_uri": "https://localhost:8080/"
        },
        "id": "Lw8MZ9-Mbr2p",
        "outputId": "9b2a46da-2f46-48e5-ff73-26066e89c4ce"
      },
      "source": [
        "list1= [\"Harry\",\"Larry\",\"Carry\",\"Marry\"]      \n",
        "print(list1[0],list1[2])          #print 0 and 2\n",
        "\n",
        "for item in list1:                #print every item\n",
        "  print(item)  \n",
        "\n",
        "list2= [[\"Harry\",1],[\"Larry\",22],[\"Carry\",66],[\"Marry\",100]]\n",
        "\n",
        "for item in list2:\n",
        "  print(item)\n",
        "\n",
        "for item, abc in list2:\n",
        "  print(item, abc)\n",
        "for item, abc in list2:\n",
        "  print(item,\"and lollypop is\", abc)"
      ],
      "execution_count": null,
      "outputs": [
        {
          "name": "stdout",
          "output_type": "stream",
          "text": [
            "Harry Carry\n",
            "Harry\n",
            "Larry\n",
            "Carry\n",
            "Marry\n",
            "['Harry', 1]\n",
            "['Larry', 22]\n",
            "['Carry', 66]\n",
            "['Marry', 100]\n",
            "Harry 1\n",
            "Larry 22\n",
            "Carry 66\n",
            "Marry 100\n",
            "Harry and lollypop is 1\n",
            "Larry and lollypop is 22\n",
            "Carry and lollypop is 66\n",
            "Marry and lollypop is 100\n"
          ]
        }
      ]
    },
    {
      "cell_type": "markdown",
      "metadata": {
        "id": "i1OaszMGmk_E"
      },
      "source": [
        "##WHILE LOOP IN PYTHON"
      ]
    },
    {
      "cell_type": "code",
      "metadata": {
        "colab": {
          "base_uri": "https://localhost:8080/"
        },
        "id": "VAaNJtwYbsKX",
        "outputId": "5faa2333-3199-4412-b460-e7691c8aa449"
      },
      "source": [
        "i=0\n",
        "while(i<5):           #condition\n",
        "  print(i,end=\" \")     # horizontal\n",
        "  #print(i)            # vertical\n",
        "  i=i+1"
      ],
      "execution_count": null,
      "outputs": [
        {
          "output_type": "stream",
          "name": "stdout",
          "text": [
            "0 1 2 3 4 "
          ]
        }
      ]
    },
    {
      "cell_type": "markdown",
      "metadata": {
        "id": "KMRnOF99n4pt"
      },
      "source": [
        "##BREAK & CONTINUE STATEMENT"
      ]
    },
    {
      "cell_type": "code",
      "metadata": {
        "id": "g64g6LYfbsOH"
      },
      "source": [
        "i = 0\n",
        "while (True) :\n",
        "  if i+1<5:\n",
        "    i=i+1\n",
        "    continue\n",
        "  print(i+1, end=\" \")\n",
        "  if(i==44):\n",
        "    break           #stop the loop\n",
        "  i=i+1             #yaha par"
      ],
      "execution_count": null,
      "outputs": []
    },
    {
      "cell_type": "code",
      "metadata": {
        "colab": {
          "base_uri": "https://localhost:8080/"
        },
        "id": "C_2BLfwkbsYH",
        "outputId": "369d5967-5d7f-474c-d488-b16af6cc8af6"
      },
      "source": [
        "while(True):\n",
        "  a=int(input(\"enter a number\"))\n",
        "  if a>100:\n",
        "    print(\"congratulaion! \")\n",
        "    break\n",
        "  else:\n",
        "    print(\"try again\")\n",
        "    continue"
      ],
      "execution_count": null,
      "outputs": [
        {
          "name": "stdout",
          "output_type": "stream",
          "text": [
            "enter a number45\n",
            "try again\n",
            "enter a number650\n",
            "congratulaion! \n"
          ]
        }
      ]
    },
    {
      "cell_type": "markdown",
      "metadata": {
        "id": "AKfETdNndalc"
      },
      "source": [
        "##PROBLEM 3: GUESS A NUMBER"
      ]
    },
    {
      "cell_type": "code",
      "metadata": {
        "id": "F8lI8EU2dZQt",
        "colab": {
          "base_uri": "https://localhost:8080/"
        },
        "outputId": "3793aa73-21de-4251-8d01-dd9926a1566d"
      },
      "source": [
        "print(\"\\t\\t\\t\\t HELLO, WELCOME TO THE GAME\\n\")\n",
        "X=input(\"\\t\\t\\t\\tENTER YOUR NAME \")\n",
        "print (\"\\t\\t\\t(NUMBER TO GUESS IS LIMITED ITS ONLY 4)\\n\")\n",
        "n=1\n",
        "while(n<=4):\n",
        "  a=int(input(\"guess a number upto 50 : \"))\n",
        "  if a>13:\n",
        "    print(\"\\t\\t\\toops! this is a large number\\nplease try again!!\\n\")\n",
        "  elif a<13:\n",
        "    print(\"\\t\\t\\toops! this is a small number\\nplease try again!!\\n\")\n",
        "  else:\n",
        "    print(\"\\n\\t \\t CONGRATULATION!! YOU WON THE GAME\")\n",
        "    break\n",
        "  print(\"only \",4-n,\" chance left\")\n",
        "\n",
        "  n=n+1\n",
        "if n>4:\n",
        "  print(\"\\t\\t\\2tGAME OVER!! \\n\\t\\tBETTER LUCK NEXT TIME!!!\")"
      ],
      "execution_count": null,
      "outputs": [
        {
          "output_type": "stream",
          "name": "stdout",
          "text": [
            "\t\t\t\t HELLO, WELCOME TO THE GAME\n",
            "\n",
            "\t\t\t\tENTER YOUR NAME  shunhankar\n",
            "\t\t\t(NUMBER TO GUESS IS LIMITED ITS ONLY 4)\n",
            "\n",
            "guess a number upto 50 : 13\n",
            "\n",
            "\t \t CONGRATULATION!! YOU WON THE GAME\n"
          ]
        }
      ]
    },
    {
      "cell_type": "markdown",
      "metadata": {
        "id": "w2A2rgnTf9u-"
      },
      "source": [
        "##OPERATORS IN PYTHON"
      ]
    },
    {
      "cell_type": "code",
      "metadata": {
        "colab": {
          "base_uri": "https://localhost:8080/"
        },
        "id": "PWEapse2f9ME",
        "outputId": "bc51afc7-14a0-4fce-8f32-2274d58b0b04"
      },
      "source": [
        "## ARITHMETIC OPERATOR\n",
        "print(\"5+6 is\",5+6)\n",
        "print(\"59//4 is\",59//4)       # // = divide and print integer value \n",
        "print(\"2**4 is\",2**4)         # ** = power\n",
        "print(\"10%3 is\",10%3)         # % = reminder\n",
        "\n",
        "print(\"\\n\")\n",
        "## ASSINGMENT OPERATOR\n",
        "x=5\n",
        "print(x)\n",
        "x +=7                         # add 7\n",
        "print(x)\n",
        "\n",
        "print(\"\\n\")\n",
        "## COMPARISON OPERATOR \n",
        "i=5\n",
        "print(i==5)\n",
        "print(i<=5)\n",
        "print(i>=5)\n",
        "print(i<5)\n",
        "print(i>5)\n",
        "print(i!=5)\n",
        "\n",
        "print(\"\\n\")\n",
        "## LOGICAL OPERATOR\n",
        "a=True\n",
        "b=False\n",
        "print(a and b)\n",
        "print(a or b)\n",
        "\n",
        "print(\"\\n\")\n",
        "## IDENTITY OPERATOR\n",
        "a=True\n",
        "b=False\n",
        "print(a is b)\n",
        "print(a is not b)\n",
        "\n",
        "print(\"\\n\")\n",
        "## MEMBERSHIP OPERATOR\n",
        "list=[1,2,3,4,5,6,7]\n",
        "print(2 in list)\n",
        "print(10 not in list)\n",
        "\n",
        "print(\"\\n\")\n",
        "## BITWISE OPERATOR\n",
        "print(5 | 6)           # | = or, &=and\n",
        "print(5 & 6)           # 5=101, 6=110 "
      ],
      "execution_count": null,
      "outputs": [
        {
          "output_type": "stream",
          "name": "stdout",
          "text": [
            "5+6 is 11\n",
            "59//4 is 14\n",
            "2**4 is 16\n",
            "10%3 is 1\n",
            "\n",
            "\n",
            "5\n",
            "12\n",
            "\n",
            "\n",
            "True\n",
            "True\n",
            "True\n",
            "False\n",
            "False\n",
            "False\n",
            "\n",
            "\n",
            "False\n",
            "True\n",
            "\n",
            "\n",
            "False\n",
            "True\n",
            "\n",
            "\n",
            "True\n",
            "True\n",
            "\n",
            "\n",
            "7\n",
            "4\n"
          ]
        }
      ]
    },
    {
      "cell_type": "markdown",
      "metadata": {
        "id": "pe15HdPLTEhL"
      },
      "source": [
        "##FUNCTIONS AND DOCSTRINGS"
      ]
    },
    {
      "cell_type": "code",
      "metadata": {
        "colab": {
          "base_uri": "https://localhost:8080/"
        },
        "id": "DMv-Bs6G-N8N",
        "outputId": "25eec83e-3e35-4f37-bbed-045f247a7a58"
      },
      "source": [
        "def function1():\n",
        "  print(\"hello you are in fumction 1\")\n",
        "function1()\n",
        "#print(function1())       # print extra none\n",
        "\n",
        "def function1(a,b):\n",
        "  print(\"hello you are in fumction 1\", (a+b))\n",
        "function1(5,7)\n",
        "\n",
        "def f(a,b):\n",
        "  average=(a+b)/2\n",
        "  print(average)\n",
        "f(5,7)\n",
        "\n",
        "print(\"\\n\")\n",
        "def f(a,b):\n",
        "  \"\"\"my name is shubhankar\"\"\"\n",
        "  average=(a+b)/2\n",
        "  #print(average)\n",
        "  return average        #for this return average is stored in v.\n",
        "v=f(5,7)\n",
        "print(v)\n",
        "print(f.__doc__)        # doc function its print only the 1st comment line to the func"
      ],
      "execution_count": null,
      "outputs": [
        {
          "output_type": "stream",
          "name": "stdout",
          "text": [
            "hello you are in fumction 1\n",
            "hello you are in fumction 1 12\n",
            "6.0\n",
            "\n",
            "\n",
            "6.0\n",
            "my name is shubhankar\n"
          ]
        }
      ]
    },
    {
      "cell_type": "markdown",
      "metadata": {
        "id": "dNYpH0FXclHP"
      },
      "source": [
        "##TRY EXCEPT EXCEPTION HANDLING"
      ]
    },
    {
      "cell_type": "code",
      "metadata": {
        "colab": {
          "base_uri": "https://localhost:8080/"
        },
        "id": "QZw4C8oR-O_u",
        "outputId": "51852c40-24dc-4946-b392-f21d6ff4e628"
      },
      "source": [
        "print(\"enter num 1\")\n",
        "num1=input()\n",
        "print(\"enter num 2\")\n",
        "num2=input()\n",
        "try:                       # jump the error\n",
        "  print(\"the sum of two numbers is\",\n",
        "  int(num1)+int(num2))\n",
        "except Exception as R:\n",
        "  print(R)\n",
        "\n",
        "print(\"this line is very important\")"
      ],
      "execution_count": null,
      "outputs": [
        {
          "output_type": "stream",
          "name": "stdout",
          "text": [
            "enter num 1\n",
            "12\n",
            "enter num 2\n",
            "10\n",
            "the sum of two numbers is 22\n",
            "this line is very important\n"
          ]
        }
      ]
    },
    {
      "cell_type": "markdown",
      "metadata": {
        "id": "mor0Cma5g--1"
      },
      "source": [
        "##PYTHON FILES IO BASICS"
      ]
    },
    {
      "cell_type": "markdown",
      "metadata": {
        "id": "XaAtsa0uhANj"
      },
      "source": [
        "FILES IO BASICS\n",
        "\n",
        "\"r\" - Open file for reading          ( default)   \n",
        "\"w\" - Open file for writing      \n",
        "\"x\" - Creates file if not exists     \n",
        "\"a\" - Add more content to a file     \n",
        "\"t\" - text mode     (default)   \n",
        "\"b\" - binary mode    \n",
        "\"+\" - read and write"
      ]
    }
  ]
}